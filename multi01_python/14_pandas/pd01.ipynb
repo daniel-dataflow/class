{
 "cells": [
  {
   "cell_type": "code",
   "id": "initial_id",
   "metadata": {
    "collapsed": true,
    "ExecuteTime": {
     "end_time": "2025-09-29T00:08:09.864421Z",
     "start_time": "2025-09-29T00:08:09.354747Z"
    }
   },
   "source": "%pip install pandas",
   "outputs": [
    {
     "name": "stdout",
     "output_type": "stream",
     "text": [
      "Requirement already satisfied: pandas in /Users/handaeseong/dev/data-engineer/miniconda3/envs/multi01/lib/python3.13/site-packages (2.3.2)\r\n",
      "Requirement already satisfied: numpy>=1.26.0 in /Users/handaeseong/dev/data-engineer/miniconda3/envs/multi01/lib/python3.13/site-packages (from pandas) (2.2.6)\r\n",
      "Requirement already satisfied: python-dateutil>=2.8.2 in /Users/handaeseong/dev/data-engineer/miniconda3/envs/multi01/lib/python3.13/site-packages (from pandas) (2.9.0.post0)\r\n",
      "Requirement already satisfied: pytz>=2020.1 in /Users/handaeseong/dev/data-engineer/miniconda3/envs/multi01/lib/python3.13/site-packages (from pandas) (2025.2)\r\n",
      "Requirement already satisfied: tzdata>=2022.7 in /Users/handaeseong/dev/data-engineer/miniconda3/envs/multi01/lib/python3.13/site-packages (from pandas) (2025.2)\r\n",
      "Requirement already satisfied: six>=1.5 in /Users/handaeseong/dev/data-engineer/miniconda3/envs/multi01/lib/python3.13/site-packages (from python-dateutil>=2.8.2->pandas) (1.17.0)\r\n",
      "Note: you may need to restart the kernel to use updated packages.\n"
     ]
    }
   ],
   "execution_count": 1
  },
  {
   "metadata": {
    "ExecuteTime": {
     "end_time": "2025-09-29T00:12:39.549626Z",
     "start_time": "2025-09-29T00:12:39.241201Z"
    }
   },
   "cell_type": "code",
   "source": [
    "import numpy as np\n",
    "import pandas as pd"
   ],
   "id": "efff2da36025b0a9",
   "outputs": [],
   "execution_count": 2
  },
  {
   "metadata": {
    "ExecuteTime": {
     "end_time": "2025-09-29T00:14:37.272568Z",
     "start_time": "2025-09-29T00:14:37.264387Z"
    }
   },
   "cell_type": "code",
   "source": [
    "numbers = [19, 2, 8, 22, 42, 32, 39]\n",
    "lotto = pd.ndim : 차원의 갯수(data=numbers)\n",
    "lotto"
   ],
   "id": "debff56c5c5e2128",
   "outputs": [
    {
     "data": {
      "text/plain": [
       "0    19\n",
       "1     2\n",
       "2     8\n",
       "3    22\n",
       "4    42\n",
       "5    32\n",
       "6    39\n",
       "dtype: int64"
      ]
     },
     "execution_count": 4,
     "metadata": {},
     "output_type": "execute_result"
    }
   ],
   "execution_count": 4
  },
  {
   "metadata": {
    "ExecuteTime": {
     "end_time": "2025-09-29T00:16:09.375954Z",
     "start_time": "2025-09-29T00:16:09.369548Z"
    }
   },
   "cell_type": "code",
   "source": [
    "index = ['1', '2', '3', '4', '5', '6', 'bouns']\n",
    "lotto = pd.Series(data=numbers, index=index)\n",
    "lotto"
   ],
   "id": "a81798241018564e",
   "outputs": [
    {
     "data": {
      "text/plain": [
       "1        19\n",
       "2         2\n",
       "3         8\n",
       "4        22\n",
       "5        42\n",
       "6        32\n",
       "bouns    39\n",
       "dtype: int64"
      ]
     },
     "execution_count": 5,
     "metadata": {},
     "output_type": "execute_result"
    }
   ],
   "execution_count": 5
  },
  {
   "metadata": {
    "ExecuteTime": {
     "end_time": "2025-09-29T00:17:47.795378Z",
     "start_time": "2025-09-29T00:17:47.790790Z"
    }
   },
   "cell_type": "code",
   "source": [
    "print(lotto.index)\n",
    "print(type(lotto.index))"
   ],
   "id": "a13670e70430d6b6",
   "outputs": [
    {
     "name": "stdout",
     "output_type": "stream",
     "text": [
      "Index(['1', '2', '3', '4', '5', '6', 'bouns'], dtype='object')\n",
      "<class 'pandas.core.indexes.base.Index'>\n"
     ]
    }
   ],
   "execution_count": 6
  },
  {
   "metadata": {
    "ExecuteTime": {
     "end_time": "2025-09-29T00:18:30.458408Z",
     "start_time": "2025-09-29T00:18:30.455154Z"
    }
   },
   "cell_type": "code",
   "source": [
    "print(lotto.values)\n",
    "print(type(lotto.values))"
   ],
   "id": "48cd813b1bc2cd40",
   "outputs": [
    {
     "name": "stdout",
     "output_type": "stream",
     "text": [
      "[19  2  8 22 42 32 39]\n",
      "<class 'numpy.ndarray'>\n"
     ]
    }
   ],
   "execution_count": 7
  },
  {
   "metadata": {
    "ExecuteTime": {
     "end_time": "2025-09-29T00:20:06.575046Z",
     "start_time": "2025-09-29T00:20:06.570745Z"
    }
   },
   "cell_type": "code",
   "source": [
    "random_num = np.random.randint(1, 45, 6)\n",
    "random_num"
   ],
   "id": "b62edff94ec96755",
   "outputs": [
    {
     "data": {
      "text/plain": [
       "array([ 1, 21, 20, 43, 17, 17])"
      ]
     },
     "execution_count": 8,
     "metadata": {},
     "output_type": "execute_result"
    }
   ],
   "execution_count": 8
  },
  {
   "metadata": {
    "ExecuteTime": {
     "end_time": "2025-09-29T00:20:57.550066Z",
     "start_time": "2025-09-29T00:20:57.544400Z"
    }
   },
   "cell_type": "code",
   "source": [
    "today_lotto = pd.Series(random_num, dtype='float')\n",
    "today_lotto"
   ],
   "id": "f48de8925ba959cf",
   "outputs": [
    {
     "data": {
      "text/plain": [
       "0     1.0\n",
       "1    21.0\n",
       "2    20.0\n",
       "3    43.0\n",
       "4    17.0\n",
       "5    17.0\n",
       "dtype: float64"
      ]
     },
     "execution_count": 9,
     "metadata": {},
     "output_type": "execute_result"
    }
   ],
   "execution_count": 9
  },
  {
   "metadata": {
    "ExecuteTime": {
     "end_time": "2025-09-29T00:21:26.564693Z",
     "start_time": "2025-09-29T00:21:26.560601Z"
    }
   },
   "cell_type": "code",
   "source": "today_lotto.is_unique",
   "id": "3d06a4305e519bbd",
   "outputs": [
    {
     "data": {
      "text/plain": [
       "False"
      ]
     },
     "execution_count": 10,
     "metadata": {},
     "output_type": "execute_result"
    }
   ],
   "execution_count": 10
  },
  {
   "metadata": {
    "ExecuteTime": {
     "end_time": "2025-09-29T00:23:50.309493Z",
     "start_time": "2025-09-29T00:23:50.304711Z"
    }
   },
   "cell_type": "code",
   "source": [
    "# 값이 연속해서 증가하니?\n",
    "today_lotto.is_monotonic_increasing"
   ],
   "id": "fcdb4cd937470d9a",
   "outputs": [
    {
     "data": {
      "text/plain": [
       "False"
      ]
     },
     "execution_count": 11,
     "metadata": {},
     "output_type": "execute_result"
    }
   ],
   "execution_count": 11
  },
  {
   "metadata": {
    "ExecuteTime": {
     "end_time": "2025-09-29T00:24:27.156607Z",
     "start_time": "2025-09-29T00:24:27.151006Z"
    }
   },
   "cell_type": "code",
   "source": "pd.Series([1, 4, 6, 7, 9, 100]).is_monotonic_increasing",
   "id": "fc9163e56f80ce6d",
   "outputs": [
    {
     "data": {
      "text/plain": [
       "True"
      ]
     },
     "execution_count": 12,
     "metadata": {},
     "output_type": "execute_result"
    }
   ],
   "execution_count": 12
  },
  {
   "metadata": {
    "ExecuteTime": {
     "end_time": "2025-09-29T00:25:36.406419Z",
     "start_time": "2025-09-29T00:25:36.403973Z"
    }
   },
   "cell_type": "code",
   "source": "pd.Series([10, 7, 6, 5, 1]).is_monotonic_decreasing",
   "id": "1b76d8d6d7de52a3",
   "outputs": [
    {
     "data": {
      "text/plain": [
       "True"
      ]
     },
     "execution_count": 13,
     "metadata": {},
     "output_type": "execute_result"
    }
   ],
   "execution_count": 13
  },
  {
   "metadata": {
    "ExecuteTime": {
     "end_time": "2025-09-29T00:27:19.284951Z",
     "start_time": "2025-09-29T00:27:19.282270Z"
    }
   },
   "cell_type": "code",
   "source": "nums = pd.Series(range(100, 1001, 100))",
   "id": "846a4532dd7aeedb",
   "outputs": [],
   "execution_count": 14
  },
  {
   "metadata": {
    "ExecuteTime": {
     "end_time": "2025-09-29T00:27:46.052946Z",
     "start_time": "2025-09-29T00:27:46.049771Z"
    }
   },
   "cell_type": "code",
   "source": [
    "print(nums)\n",
    "print(type(nums))"
   ],
   "id": "4203a91d739f074",
   "outputs": [
    {
     "name": "stdout",
     "output_type": "stream",
     "text": [
      "0     100\n",
      "1     200\n",
      "2     300\n",
      "3     400\n",
      "4     500\n",
      "5     600\n",
      "6     700\n",
      "7     800\n",
      "8     900\n",
      "9    1000\n",
      "dtype: int64\n",
      "<class 'pandas.core.series.Series'>\n"
     ]
    }
   ],
   "execution_count": 15
  },
  {
   "metadata": {
    "ExecuteTime": {
     "end_time": "2025-09-29T00:27:58.307971Z",
     "start_time": "2025-09-29T00:27:58.303624Z"
    }
   },
   "cell_type": "code",
   "source": [
    "nums.head()\n",
    "# 지정 안하면 5개가 기본"
   ],
   "id": "3427c450757d93cd",
   "outputs": [
    {
     "data": {
      "text/plain": [
       "0    100\n",
       "1    200\n",
       "2    300\n",
       "3    400\n",
       "4    500\n",
       "dtype: int64"
      ]
     },
     "execution_count": 16,
     "metadata": {},
     "output_type": "execute_result"
    }
   ],
   "execution_count": 16
  },
  {
   "metadata": {
    "ExecuteTime": {
     "end_time": "2025-09-29T00:29:35.666264Z",
     "start_time": "2025-09-29T00:29:35.662422Z"
    }
   },
   "cell_type": "code",
   "source": [
    "nums.head(3)\n",
    "# nums.head(n=3)"
   ],
   "id": "809f56383d7a93f",
   "outputs": [
    {
     "data": {
      "text/plain": [
       "0    100\n",
       "1    200\n",
       "2    300\n",
       "dtype: int64"
      ]
     },
     "execution_count": 17,
     "metadata": {},
     "output_type": "execute_result"
    }
   ],
   "execution_count": 17
  },
  {
   "metadata": {
    "ExecuteTime": {
     "end_time": "2025-09-29T00:30:27.766193Z",
     "start_time": "2025-09-29T00:30:27.761339Z"
    }
   },
   "cell_type": "code",
   "source": [
    "nums.tail()\n",
    "# 기본적으로 끝에서 5개가 나옴"
   ],
   "id": "fb7b4946ef74e2e7",
   "outputs": [
    {
     "data": {
      "text/plain": [
       "5     600\n",
       "6     700\n",
       "7     800\n",
       "8     900\n",
       "9    1000\n",
       "dtype: int64"
      ]
     },
     "execution_count": 18,
     "metadata": {},
     "output_type": "execute_result"
    }
   ],
   "execution_count": 18
  },
  {
   "metadata": {
    "ExecuteTime": {
     "end_time": "2025-09-29T00:31:00.042956Z",
     "start_time": "2025-09-29T00:31:00.037474Z"
    }
   },
   "cell_type": "code",
   "source": "nums.tail(2)",
   "id": "a50c2f2518d61f1e",
   "outputs": [
    {
     "data": {
      "text/plain": [
       "8     900\n",
       "9    1000\n",
       "dtype: int64"
      ]
     },
     "execution_count": 19,
     "metadata": {},
     "output_type": "execute_result"
    }
   ],
   "execution_count": 19
  },
  {
   "metadata": {
    "ExecuteTime": {
     "end_time": "2025-09-29T00:31:40.010623Z",
     "start_time": "2025-09-29T00:31:40.007038Z"
    }
   },
   "cell_type": "code",
   "source": [
    "print(nums.count())\n",
    "print(nums.sum())"
   ],
   "id": "4c0b1fd793c945a8",
   "outputs": [
    {
     "name": "stdout",
     "output_type": "stream",
     "text": [
      "10\n",
      "5500\n"
     ]
    }
   ],
   "execution_count": 20
  },
  {
   "metadata": {
    "ExecuteTime": {
     "end_time": "2025-09-29T00:36:20.958154Z",
     "start_time": "2025-09-29T00:36:20.950575Z"
    }
   },
   "cell_type": "code",
   "source": [
    "# nan = Not A Number\n",
    "nums[1] = np.nan\n",
    "nums\n",
    "print(nums)"
   ],
   "id": "f053c9521c5c1572",
   "outputs": [
    {
     "name": "stdout",
     "output_type": "stream",
     "text": [
      "0     100.0\n",
      "1       NaN\n",
      "2     300.0\n",
      "3     400.0\n",
      "4     500.0\n",
      "5     600.0\n",
      "6     700.0\n",
      "7     800.0\n",
      "8     900.0\n",
      "9    1000.0\n",
      "dtype: float64\n"
     ]
    }
   ],
   "execution_count": 26
  },
  {
   "metadata": {
    "ExecuteTime": {
     "end_time": "2025-09-29T00:33:09.057023Z",
     "start_time": "2025-09-29T00:33:09.053084Z"
    }
   },
   "cell_type": "code",
   "source": "nums.sum()",
   "id": "9388fd21669cba3a",
   "outputs": [
    {
     "data": {
      "text/plain": [
       "np.float64(5300.0)"
      ]
     },
     "execution_count": 22,
     "metadata": {},
     "output_type": "execute_result"
    }
   ],
   "execution_count": 22
  },
  {
   "metadata": {
    "ExecuteTime": {
     "end_time": "2025-09-29T00:34:15.953120Z",
     "start_time": "2025-09-29T00:34:15.948901Z"
    }
   },
   "cell_type": "code",
   "source": [
    "nums.sum(skipna=False)\n",
    "# 중간에 숫자가 아닌 것이 있어서 계산 할 수 없다."
   ],
   "id": "6fa3aa1a1f83d4fc",
   "outputs": [
    {
     "data": {
      "text/plain": [
       "np.float64(nan)"
      ]
     },
     "execution_count": 25,
     "metadata": {},
     "output_type": "execute_result"
    }
   ],
   "execution_count": 25
  },
  {
   "metadata": {
    "ExecuteTime": {
     "end_time": "2025-09-29T00:39:12.131893Z",
     "start_time": "2025-09-29T00:39:12.120040Z"
    }
   },
   "cell_type": "code",
   "source": [
    "# 누적합\n",
    "print(nums.cumsum())\n",
    "# 평균\n",
    "print(nums.mean())\n",
    "# 중위값\n",
    "print(nums.median())\n",
    "# 표준편차\n",
    "print(nums.std())\n",
    "# max, min\n",
    "print(nums.max())\n",
    "print(nums.min())\n",
    "# describe\n",
    "print(nums.describe())"
   ],
   "id": "47562081b5009bb4",
   "outputs": [
    {
     "name": "stdout",
     "output_type": "stream",
     "text": [
      "0     100.0\n",
      "1       NaN\n",
      "2     400.0\n",
      "3     800.0\n",
      "4    1300.0\n",
      "5    1900.0\n",
      "6    2600.0\n",
      "7    3400.0\n",
      "8    4300.0\n",
      "9    5300.0\n",
      "dtype: float64\n",
      "588.8888888888889\n",
      "600.0\n",
      "293.4469476943168\n",
      "1000.0\n",
      "100.0\n",
      "count       9.000000\n",
      "mean      588.888889\n",
      "std       293.446948\n",
      "min       100.000000\n",
      "25%       400.000000\n",
      "50%       600.000000\n",
      "75%       800.000000\n",
      "max      1000.000000\n",
      "dtype: float64\n"
     ]
    }
   ],
   "execution_count": 27
  },
  {
   "metadata": {
    "ExecuteTime": {
     "end_time": "2025-09-29T00:41:30.442793Z",
     "start_time": "2025-09-29T00:41:30.437004Z"
    }
   },
   "cell_type": "code",
   "source": [
    "num_list = [\n",
    "    [19, 2, 8, 22, 42, 32, 39],\n",
    "    [ 6, 10, 12, 14, 20, 42, 15]\n",
    "]\n",
    "lotto_list = pd.Series(num_list, index =['1000회', '1001회'])\n",
    "lotto_list\n"
   ],
   "id": "ada7090d309b0c6d",
   "outputs": [
    {
     "data": {
      "text/plain": [
       "1000회     [19, 2, 8, 22, 42, 32, 39]\n",
       "1001회    [6, 10, 12, 14, 20, 42, 15]\n",
       "dtype: object"
      ]
     },
     "execution_count": 28,
     "metadata": {},
     "output_type": "execute_result"
    }
   ],
   "execution_count": 28
  },
  {
   "metadata": {
    "ExecuteTime": {
     "end_time": "2025-09-29T00:42:18.563937Z",
     "start_time": "2025-09-29T00:42:18.560394Z"
    }
   },
   "cell_type": "code",
   "source": "lotto_list['1000회']",
   "id": "72f67fc5c9c2e726",
   "outputs": [
    {
     "data": {
      "text/plain": [
       "[19, 2, 8, 22, 42, 32, 39]"
      ]
     },
     "execution_count": 29,
     "metadata": {},
     "output_type": "execute_result"
    }
   ],
   "execution_count": 29
  },
  {
   "metadata": {
    "ExecuteTime": {
     "end_time": "2025-09-29T00:44:14.363901Z",
     "start_time": "2025-09-29T00:44:14.358524Z"
    }
   },
   "cell_type": "code",
   "source": [
    "num_dist = {\"1000회\" : [19, 2, 8, 22, 42, 32, 39],\n",
    "            \"1001회\" : [6, 10, 12, 14, 20, 42, 15]}\n",
    "lotto_dist = pd.Series(num_dist)\n",
    "lotto_dist"
   ],
   "id": "57e405e2aa8985b0",
   "outputs": [
    {
     "data": {
      "text/plain": [
       "1000회     [19, 2, 8, 22, 42, 32, 39]\n",
       "1001회    [6, 10, 12, 14, 20, 42, 15]\n",
       "dtype: object"
      ]
     },
     "execution_count": 30,
     "metadata": {},
     "output_type": "execute_result"
    }
   ],
   "execution_count": 30
  },
  {
   "metadata": {
    "ExecuteTime": {
     "end_time": "2025-09-29T00:46:44.389919Z",
     "start_time": "2025-09-29T00:46:44.383682Z"
    }
   },
   "cell_type": "code",
   "source": [
    "heros = [\"CaptainAmerica\", \"Thor\", \"Hulk\", \"IronMan\",\"BlackWidow\", \"HawkEye\", \"Hulk\"]\n",
    "avengers = pd.Series(heros)\n",
    "avengers"
   ],
   "id": "fe41998488d5eb78",
   "outputs": [
    {
     "data": {
      "text/plain": [
       "0    CaptainAmerica\n",
       "1              Thor\n",
       "2              Hulk\n",
       "3           IronMan\n",
       "4        BlackWidow\n",
       "5           HawkEye\n",
       "6              Hulk\n",
       "dtype: object"
      ]
     },
     "execution_count": 31,
     "metadata": {},
     "output_type": "execute_result"
    }
   ],
   "execution_count": 31
  },
  {
   "metadata": {
    "ExecuteTime": {
     "end_time": "2025-09-29T00:47:14.165298Z",
     "start_time": "2025-09-29T00:47:14.158808Z"
    }
   },
   "cell_type": "code",
   "source": "avengers.is_unique",
   "id": "74b6c7a80f1094f",
   "outputs": [
    {
     "data": {
      "text/plain": [
       "False"
      ]
     },
     "execution_count": 32,
     "metadata": {},
     "output_type": "execute_result"
    }
   ],
   "execution_count": 32
  },
  {
   "metadata": {
    "ExecuteTime": {
     "end_time": "2025-09-29T00:47:29.131500Z",
     "start_time": "2025-09-29T00:47:29.126817Z"
    }
   },
   "cell_type": "code",
   "source": "avengers.unique()",
   "id": "1f2fe06140a0ceec",
   "outputs": [
    {
     "data": {
      "text/plain": [
       "array(['CaptainAmerica', 'Thor', 'Hulk', 'IronMan', 'BlackWidow',\n",
       "       'HawkEye'], dtype=object)"
      ]
     },
     "execution_count": 33,
     "metadata": {},
     "output_type": "execute_result"
    }
   ],
   "execution_count": 33
  },
  {
   "metadata": {
    "ExecuteTime": {
     "end_time": "2025-09-29T00:48:04.305312Z",
     "start_time": "2025-09-29T00:48:04.301635Z"
    }
   },
   "cell_type": "code",
   "source": "avengers.nunique()",
   "id": "a7423ce1aad21d56",
   "outputs": [
    {
     "data": {
      "text/plain": [
       "6"
      ]
     },
     "execution_count": 34,
     "metadata": {},
     "output_type": "execute_result"
    }
   ],
   "execution_count": 34
  },
  {
   "metadata": {
    "ExecuteTime": {
     "end_time": "2025-09-29T00:48:31.438626Z",
     "start_time": "2025-09-29T00:48:31.434892Z"
    }
   },
   "cell_type": "code",
   "source": "avengers.max()",
   "id": "fe590db429932618",
   "outputs": [
    {
     "data": {
      "text/plain": [
       "'Thor'"
      ]
     },
     "execution_count": 35,
     "metadata": {},
     "output_type": "execute_result"
    }
   ],
   "execution_count": 35
  },
  {
   "metadata": {
    "ExecuteTime": {
     "end_time": "2025-09-29T00:48:43.524217Z",
     "start_time": "2025-09-29T00:48:43.520579Z"
    }
   },
   "cell_type": "code",
   "source": "avengers.min()",
   "id": "e709f573ebe2efb4",
   "outputs": [
    {
     "data": {
      "text/plain": [
       "'BlackWidow'"
      ]
     },
     "execution_count": 36,
     "metadata": {},
     "output_type": "execute_result"
    }
   ],
   "execution_count": 36
  },
  {
   "metadata": {
    "ExecuteTime": {
     "end_time": "2025-09-29T00:49:02.746259Z",
     "start_time": "2025-09-29T00:49:02.739857Z"
    }
   },
   "cell_type": "code",
   "source": "avengers.sort_values()",
   "id": "b9bd51d62d315c75",
   "outputs": [
    {
     "data": {
      "text/plain": [
       "4        BlackWidow\n",
       "0    CaptainAmerica\n",
       "5           HawkEye\n",
       "2              Hulk\n",
       "6              Hulk\n",
       "3           IronMan\n",
       "1              Thor\n",
       "dtype: object"
      ]
     },
     "execution_count": 37,
     "metadata": {},
     "output_type": "execute_result"
    }
   ],
   "execution_count": 37
  },
  {
   "metadata": {
    "ExecuteTime": {
     "end_time": "2025-09-29T01:01:31.288915Z",
     "start_time": "2025-09-29T01:01:31.283695Z"
    }
   },
   "cell_type": "code",
   "source": "list(avengers)",
   "id": "faef90c0e2e94308",
   "outputs": [
    {
     "data": {
      "text/plain": [
       "['CaptainAmerica', 'Thor', 'Hulk', 'IronMan', 'BlackWidow', 'HawkEye', 'Hulk']"
      ]
     },
     "execution_count": 38,
     "metadata": {},
     "output_type": "execute_result"
    }
   ],
   "execution_count": 38
  },
  {
   "metadata": {
    "ExecuteTime": {
     "end_time": "2025-09-29T01:01:41.133773Z",
     "start_time": "2025-09-29T01:01:41.129832Z"
    }
   },
   "cell_type": "code",
   "source": "dict(avengers)",
   "id": "7a721dc0224b67c3",
   "outputs": [
    {
     "data": {
      "text/plain": [
       "{0: 'CaptainAmerica',\n",
       " 1: 'Thor',\n",
       " 2: 'Hulk',\n",
       " 3: 'IronMan',\n",
       " 4: 'BlackWidow',\n",
       " 5: 'HawkEye',\n",
       " 6: 'Hulk'}"
      ]
     },
     "execution_count": 39,
     "metadata": {},
     "output_type": "execute_result"
    }
   ],
   "execution_count": 39
  },
  {
   "metadata": {
    "ExecuteTime": {
     "end_time": "2025-09-29T01:03:18.747503Z",
     "start_time": "2025-09-29T01:03:18.743792Z"
    }
   },
   "cell_type": "code",
   "source": "'CaptainAmerica' in avengers",
   "id": "da338884486bc224",
   "outputs": [
    {
     "data": {
      "text/plain": [
       "False"
      ]
     },
     "execution_count": 40,
     "metadata": {},
     "output_type": "execute_result"
    }
   ],
   "execution_count": 40
  },
  {
   "metadata": {
    "ExecuteTime": {
     "end_time": "2025-09-29T01:04:00.625454Z",
     "start_time": "2025-09-29T01:04:00.622039Z"
    }
   },
   "cell_type": "code",
   "source": "0 in avengers",
   "id": "fc32678438eafdec",
   "outputs": [
    {
     "data": {
      "text/plain": [
       "True"
      ]
     },
     "execution_count": 41,
     "metadata": {},
     "output_type": "execute_result"
    }
   ],
   "execution_count": 41
  },
  {
   "metadata": {
    "ExecuteTime": {
     "end_time": "2025-09-29T01:05:27.013531Z",
     "start_time": "2025-09-29T01:05:27.010028Z"
    }
   },
   "cell_type": "code",
   "source": [
    "series01 = pd.Series([1, 2, 3, 4, 5])\n",
    "series02 = pd.Series([1, 3, 5, 7, 9])"
   ],
   "id": "60a3423b27b335c7",
   "outputs": [],
   "execution_count": 42
  },
  {
   "metadata": {
    "ExecuteTime": {
     "end_time": "2025-09-29T01:16:35.762447Z",
     "start_time": "2025-09-29T01:16:35.758172Z"
    }
   },
   "cell_type": "code",
   "source": "series01 + 5",
   "id": "c90328019d1353e8",
   "outputs": [
    {
     "data": {
      "text/plain": [
       "0    26\n",
       "1    27\n",
       "2    28\n",
       "3    29\n",
       "4    30\n",
       "dtype: int64"
      ]
     },
     "execution_count": 58,
     "metadata": {},
     "output_type": "execute_result"
    }
   ],
   "execution_count": 58
  },
  {
   "metadata": {
    "ExecuteTime": {
     "end_time": "2025-09-29T01:06:00.614710Z",
     "start_time": "2025-09-29T01:06:00.611630Z"
    }
   },
   "cell_type": "code",
   "source": "series01.add(5)",
   "id": "b1412187538d637c",
   "outputs": [
    {
     "data": {
      "text/plain": [
       "0     6\n",
       "1     7\n",
       "2     8\n",
       "3     9\n",
       "4    10\n",
       "dtype: int64"
      ]
     },
     "execution_count": 44,
     "metadata": {},
     "output_type": "execute_result"
    }
   ],
   "execution_count": 44
  },
  {
   "metadata": {
    "ExecuteTime": {
     "end_time": "2025-09-29T01:06:13.597018Z",
     "start_time": "2025-09-29T01:06:13.592855Z"
    }
   },
   "cell_type": "code",
   "source": "series02 - 5",
   "id": "7885bf2f314cbbf6",
   "outputs": [
    {
     "data": {
      "text/plain": [
       "0   -4\n",
       "1   -2\n",
       "2    0\n",
       "3    2\n",
       "4    4\n",
       "dtype: int64"
      ]
     },
     "execution_count": 45,
     "metadata": {},
     "output_type": "execute_result"
    }
   ],
   "execution_count": 45
  },
  {
   "metadata": {
    "ExecuteTime": {
     "end_time": "2025-09-29T01:06:41.483271Z",
     "start_time": "2025-09-29T01:06:41.478837Z"
    }
   },
   "cell_type": "code",
   "source": "series02.sub(5)",
   "id": "644c1ccdff78854d",
   "outputs": [
    {
     "data": {
      "text/plain": [
       "0   -4\n",
       "1   -2\n",
       "2    0\n",
       "3    2\n",
       "4    4\n",
       "dtype: int64"
      ]
     },
     "execution_count": 47,
     "metadata": {},
     "output_type": "execute_result"
    }
   ],
   "execution_count": 47
  },
  {
   "metadata": {
    "ExecuteTime": {
     "end_time": "2025-09-29T01:07:01.522555Z",
     "start_time": "2025-09-29T01:07:01.519510Z"
    }
   },
   "cell_type": "code",
   "source": "series02.subtract(5)",
   "id": "ab5904158f261025",
   "outputs": [
    {
     "data": {
      "text/plain": [
       "0   -4\n",
       "1   -2\n",
       "2    0\n",
       "3    2\n",
       "4    4\n",
       "dtype: int64"
      ]
     },
     "execution_count": 48,
     "metadata": {},
     "output_type": "execute_result"
    }
   ],
   "execution_count": 48
  },
  {
   "metadata": {
    "ExecuteTime": {
     "end_time": "2025-09-29T01:16:46.003073Z",
     "start_time": "2025-09-29T01:16:45.998332Z"
    }
   },
   "cell_type": "code",
   "source": "series01 == series02",
   "id": "101be615b10304ac",
   "outputs": [
    {
     "data": {
      "text/plain": [
       "0    False\n",
       "1    False\n",
       "2    False\n",
       "3    False\n",
       "4    False\n",
       "dtype: bool"
      ]
     },
     "execution_count": 59,
     "metadata": {},
     "output_type": "execute_result"
    }
   ],
   "execution_count": 59
  },
  {
   "metadata": {
    "ExecuteTime": {
     "end_time": "2025-09-29T01:16:53.863232Z",
     "start_time": "2025-09-29T01:16:53.859547Z"
    }
   },
   "cell_type": "code",
   "source": [
    "print(series01 != series02 )\n",
    "print(series01.ne(series02))"
   ],
   "id": "395df865d43f65e",
   "outputs": [
    {
     "name": "stdout",
     "output_type": "stream",
     "text": [
      "0    True\n",
      "1    True\n",
      "2    True\n",
      "3    True\n",
      "4    True\n",
      "dtype: bool\n",
      "0    True\n",
      "1    True\n",
      "2    True\n",
      "3    True\n",
      "4    True\n",
      "dtype: bool\n"
     ]
    }
   ],
   "execution_count": 60
  },
  {
   "metadata": {
    "ExecuteTime": {
     "end_time": "2025-09-29T01:15:07.193806Z",
     "start_time": "2025-09-29T01:15:07.190375Z"
    }
   },
   "cell_type": "code",
   "source": [
    "series03 = pd.Series([1, 2, 3, 4, 5], index=['a', 'b', 'c', 'd', 'e'])\n",
    "serise04 = pd.Series([6, 7, 8, 9, 10], index = ['c', 'd', 'e', 'f', 'g'])"
   ],
   "id": "8a65caa694a7b68a",
   "outputs": [],
   "execution_count": 53
  },
  {
   "metadata": {
    "ExecuteTime": {
     "end_time": "2025-09-29T01:17:40.763317Z",
     "start_time": "2025-09-29T01:17:40.759229Z"
    }
   },
   "cell_type": "code",
   "source": [
    "series03 + serise04\n",
    "# 인덱스끼리 더하기 때문에 같은 인덱스가 없는 값과 더하면 Nan이라고 표시되는 것이다.\n",
    "# 올바르게 나올려면 같은 인덱스의 값을 맞춰야 한다."
   ],
   "id": "c20f9902d0d85fe1",
   "outputs": [
    {
     "data": {
      "text/plain": [
       "a     NaN\n",
       "b     NaN\n",
       "c     9.0\n",
       "d    11.0\n",
       "e    13.0\n",
       "f     NaN\n",
       "g     NaN\n",
       "dtype: float64"
      ]
     },
     "execution_count": 61,
     "metadata": {},
     "output_type": "execute_result"
    }
   ],
   "execution_count": 61
  },
  {
   "metadata": {},
   "cell_type": "code",
   "outputs": [],
   "execution_count": null,
   "source": "",
   "id": "482c52abd99aedaf"
  }
 ],
 "metadata": {
  "kernelspec": {
   "display_name": "Python 3",
   "language": "python",
   "name": "python3"
  },
  "language_info": {
   "codemirror_mode": {
    "name": "ipython",
    "version": 2
   },
   "file_extension": ".py",
   "mimetype": "text/x-python",
   "name": "python",
   "nbconvert_exporter": "python",
   "pygments_lexer": "ipython2",
   "version": "2.7.6"
  }
 },
 "nbformat": 4,
 "nbformat_minor": 5
}
