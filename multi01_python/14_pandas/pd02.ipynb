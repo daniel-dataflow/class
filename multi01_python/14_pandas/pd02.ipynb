{
 "cells": [
  {
   "cell_type": "code",
   "id": "initial_id",
   "metadata": {
    "collapsed": true,
    "ExecuteTime": {
     "end_time": "2025-09-29T01:20:38.125089Z",
     "start_time": "2025-09-29T01:20:38.122956Z"
    }
   },
   "source": [
    "from random import random\n",
    "\n",
    "from IPython.core.interactiveshell import InteractiveShell\n",
    "InteractiveShell.ast_node_interactivity = \"all\""
   ],
   "outputs": [],
   "execution_count": 1
  },
  {
   "metadata": {
    "ExecuteTime": {
     "end_time": "2025-09-29T01:20:58.158624Z",
     "start_time": "2025-09-29T01:20:57.892464Z"
    }
   },
   "cell_type": "code",
   "source": [
    "import numpy as np\n",
    "import pandas as pd"
   ],
   "id": "d0922fa3a748a445",
   "outputs": [],
   "execution_count": 2
  },
  {
   "metadata": {
    "ExecuteTime": {
     "end_time": "2025-09-29T01:31:24.649327Z",
     "start_time": "2025-09-29T01:31:24.643876Z"
    }
   },
   "cell_type": "code",
   "source": [
    "random_num = np.random.randint(1, 101, [3, 3])\n",
    "random_num\n",
    "print(random_num)"
   ],
   "id": "80cadfe4f208e4dd",
   "outputs": [
    {
     "data": {
      "text/plain": [
       "array([[49, 69, 31],\n",
       "       [21,  2, 79],\n",
       "       [45, 41,  9]])"
      ]
     },
     "execution_count": 9,
     "metadata": {},
     "output_type": "execute_result"
    },
    {
     "name": "stdout",
     "output_type": "stream",
     "text": [
      "[[49 69 31]\n",
      " [21  2 79]\n",
      " [45 41  9]]\n"
     ]
    }
   ],
   "execution_count": 9
  },
  {
   "metadata": {
    "ExecuteTime": {
     "end_time": "2025-09-29T01:31:30.070895Z",
     "start_time": "2025-09-29T01:31:30.063880Z"
    }
   },
   "cell_type": "code",
   "source": [
    "df_num = pd.DataFrame(random_num)\n",
    "df_num\n",
    "print(df_num)"
   ],
   "id": "ba1d3995839b43b1",
   "outputs": [
    {
     "data": {
      "text/plain": [
       "    0   1   2\n",
       "0  49  69  31\n",
       "1  21   2  79\n",
       "2  45  41   9"
      ],
      "text/html": [
       "<div>\n",
       "<style scoped>\n",
       "    .dataframe tbody tr th:only-of-type {\n",
       "        vertical-align: middle;\n",
       "    }\n",
       "\n",
       "    .dataframe tbody tr th {\n",
       "        vertical-align: top;\n",
       "    }\n",
       "\n",
       "    .dataframe thead th {\n",
       "        text-align: right;\n",
       "    }\n",
       "</style>\n",
       "<table border=\"1\" class=\"dataframe\">\n",
       "  <thead>\n",
       "    <tr style=\"text-align: right;\">\n",
       "      <th></th>\n",
       "      <th>0</th>\n",
       "      <th>1</th>\n",
       "      <th>2</th>\n",
       "    </tr>\n",
       "  </thead>\n",
       "  <tbody>\n",
       "    <tr>\n",
       "      <th>0</th>\n",
       "      <td>49</td>\n",
       "      <td>69</td>\n",
       "      <td>31</td>\n",
       "    </tr>\n",
       "    <tr>\n",
       "      <th>1</th>\n",
       "      <td>21</td>\n",
       "      <td>2</td>\n",
       "      <td>79</td>\n",
       "    </tr>\n",
       "    <tr>\n",
       "      <th>2</th>\n",
       "      <td>45</td>\n",
       "      <td>41</td>\n",
       "      <td>9</td>\n",
       "    </tr>\n",
       "  </tbody>\n",
       "</table>\n",
       "</div>"
      ]
     },
     "execution_count": 10,
     "metadata": {},
     "output_type": "execute_result"
    },
    {
     "name": "stdout",
     "output_type": "stream",
     "text": [
      "    0   1   2\n",
      "0  49  69  31\n",
      "1  21   2  79\n",
      "2  45  41   9\n"
     ]
    }
   ],
   "execution_count": 10
  },
  {
   "metadata": {
    "ExecuteTime": {
     "end_time": "2025-09-29T01:25:11.451793Z",
     "start_time": "2025-09-29T01:25:11.444363Z"
    }
   },
   "cell_type": "code",
   "source": [
    "df_num = pd.DataFrame(random_num, index=['row1', 'row2', 'row3'])\n",
    "df_num"
   ],
   "id": "97a52a04e4fe0ee9",
   "outputs": [
    {
     "data": {
      "text/plain": [
       "       0   1   2\n",
       "row1  84  47  52\n",
       "row2  97  89  72\n",
       "row3  33  74   7"
      ],
      "text/html": [
       "<div>\n",
       "<style scoped>\n",
       "    .dataframe tbody tr th:only-of-type {\n",
       "        vertical-align: middle;\n",
       "    }\n",
       "\n",
       "    .dataframe tbody tr th {\n",
       "        vertical-align: top;\n",
       "    }\n",
       "\n",
       "    .dataframe thead th {\n",
       "        text-align: right;\n",
       "    }\n",
       "</style>\n",
       "<table border=\"1\" class=\"dataframe\">\n",
       "  <thead>\n",
       "    <tr style=\"text-align: right;\">\n",
       "      <th></th>\n",
       "      <th>0</th>\n",
       "      <th>1</th>\n",
       "      <th>2</th>\n",
       "    </tr>\n",
       "  </thead>\n",
       "  <tbody>\n",
       "    <tr>\n",
       "      <th>row1</th>\n",
       "      <td>84</td>\n",
       "      <td>47</td>\n",
       "      <td>52</td>\n",
       "    </tr>\n",
       "    <tr>\n",
       "      <th>row2</th>\n",
       "      <td>97</td>\n",
       "      <td>89</td>\n",
       "      <td>72</td>\n",
       "    </tr>\n",
       "    <tr>\n",
       "      <th>row3</th>\n",
       "      <td>33</td>\n",
       "      <td>74</td>\n",
       "      <td>7</td>\n",
       "    </tr>\n",
       "  </tbody>\n",
       "</table>\n",
       "</div>"
      ]
     },
     "execution_count": 5,
     "metadata": {},
     "output_type": "execute_result"
    }
   ],
   "execution_count": 5
  },
  {
   "metadata": {
    "ExecuteTime": {
     "end_time": "2025-09-29T01:27:31.111451Z",
     "start_time": "2025-09-29T01:27:31.104443Z"
    }
   },
   "cell_type": "code",
   "source": [
    "df_num = pd.DataFrame(data=random_num,\n",
    "                      index=['row1', 'row2', 'row3'],\n",
    "                      columns=['col1', 'col2', 'col3'])\n",
    "df_num"
   ],
   "id": "a65c8af5a260463",
   "outputs": [
    {
     "data": {
      "text/plain": [
       "      col1  col2  col3\n",
       "row1    84    47    52\n",
       "row2    97    89    72\n",
       "row3    33    74     7"
      ],
      "text/html": [
       "<div>\n",
       "<style scoped>\n",
       "    .dataframe tbody tr th:only-of-type {\n",
       "        vertical-align: middle;\n",
       "    }\n",
       "\n",
       "    .dataframe tbody tr th {\n",
       "        vertical-align: top;\n",
       "    }\n",
       "\n",
       "    .dataframe thead th {\n",
       "        text-align: right;\n",
       "    }\n",
       "</style>\n",
       "<table border=\"1\" class=\"dataframe\">\n",
       "  <thead>\n",
       "    <tr style=\"text-align: right;\">\n",
       "      <th></th>\n",
       "      <th>col1</th>\n",
       "      <th>col2</th>\n",
       "      <th>col3</th>\n",
       "    </tr>\n",
       "  </thead>\n",
       "  <tbody>\n",
       "    <tr>\n",
       "      <th>row1</th>\n",
       "      <td>84</td>\n",
       "      <td>47</td>\n",
       "      <td>52</td>\n",
       "    </tr>\n",
       "    <tr>\n",
       "      <th>row2</th>\n",
       "      <td>97</td>\n",
       "      <td>89</td>\n",
       "      <td>72</td>\n",
       "    </tr>\n",
       "    <tr>\n",
       "      <th>row3</th>\n",
       "      <td>33</td>\n",
       "      <td>74</td>\n",
       "      <td>7</td>\n",
       "    </tr>\n",
       "  </tbody>\n",
       "</table>\n",
       "</div>"
      ]
     },
     "execution_count": 8,
     "metadata": {},
     "output_type": "execute_result"
    }
   ],
   "execution_count": 8
  },
  {
   "metadata": {
    "ExecuteTime": {
     "end_time": "2025-09-29T01:36:42.695565Z",
     "start_time": "2025-09-29T01:36:42.689302Z"
    }
   },
   "cell_type": "code",
   "source": [
    "books = {\n",
    "    \"title\" : [\"개미\", \"고구려\", \"드래곤라자\", \"퇴마록\"],\n",
    "    \"writer\" : [\"베르나르 베르베르\", \" 김진명\", \"이영도\", \"이우혁\"],\n",
    "    \"publisher\" : [\"열린책들\", \"이타북스\", \"황금가지\", \"들녘\"],\n",
    "    \"1st-edition\" : [\"2013-05-30\", \"2011-02-28\", \"1998-05-30\", \"1994-01-01\"],\n",
    "    \"price\" : [15000, 15000, 6300, 8550]\n",
    "}\n",
    "books"
   ],
   "id": "159d7239bc39525b",
   "outputs": [
    {
     "data": {
      "text/plain": [
       "{'title': ['개미', '고구려', '드래곤라자', '퇴마록'],\n",
       " 'writer': ['베르나르 베르베르', ' 김진명', '이영도', '이우혁'],\n",
       " 'publisher': ['열린책들', '이타북스', '황금가지', '들녘'],\n",
       " '1st-edition': ['2013-05-30', '2011-02-28', '1998-05-30', '1994-01-01'],\n",
       " 'price': [15000, 15000, 6300, 8550]}"
      ]
     },
     "execution_count": 11,
     "metadata": {},
     "output_type": "execute_result"
    }
   ],
   "execution_count": 11
  },
  {
   "metadata": {
    "ExecuteTime": {
     "end_time": "2025-09-29T01:38:29.163380Z",
     "start_time": "2025-09-29T01:38:29.155598Z"
    }
   },
   "cell_type": "code",
   "source": [
    "df_books = pd.DataFrame(books)\n",
    "df_books"
   ],
   "id": "5c757204c69a0b45",
   "outputs": [
    {
     "data": {
      "text/plain": [
       "   title     writer publisher 1st-edition  price\n",
       "0     개미  베르나르 베르베르      열린책들  2013-05-30  15000\n",
       "1    고구려        김진명      이타북스  2011-02-28  15000\n",
       "2  드래곤라자        이영도      황금가지  1998-05-30   6300\n",
       "3    퇴마록        이우혁        들녘  1994-01-01   8550"
      ],
      "text/html": [
       "<div>\n",
       "<style scoped>\n",
       "    .dataframe tbody tr th:only-of-type {\n",
       "        vertical-align: middle;\n",
       "    }\n",
       "\n",
       "    .dataframe tbody tr th {\n",
       "        vertical-align: top;\n",
       "    }\n",
       "\n",
       "    .dataframe thead th {\n",
       "        text-align: right;\n",
       "    }\n",
       "</style>\n",
       "<table border=\"1\" class=\"dataframe\">\n",
       "  <thead>\n",
       "    <tr style=\"text-align: right;\">\n",
       "      <th></th>\n",
       "      <th>title</th>\n",
       "      <th>writer</th>\n",
       "      <th>publisher</th>\n",
       "      <th>1st-edition</th>\n",
       "      <th>price</th>\n",
       "    </tr>\n",
       "  </thead>\n",
       "  <tbody>\n",
       "    <tr>\n",
       "      <th>0</th>\n",
       "      <td>개미</td>\n",
       "      <td>베르나르 베르베르</td>\n",
       "      <td>열린책들</td>\n",
       "      <td>2013-05-30</td>\n",
       "      <td>15000</td>\n",
       "    </tr>\n",
       "    <tr>\n",
       "      <th>1</th>\n",
       "      <td>고구려</td>\n",
       "      <td>김진명</td>\n",
       "      <td>이타북스</td>\n",
       "      <td>2011-02-28</td>\n",
       "      <td>15000</td>\n",
       "    </tr>\n",
       "    <tr>\n",
       "      <th>2</th>\n",
       "      <td>드래곤라자</td>\n",
       "      <td>이영도</td>\n",
       "      <td>황금가지</td>\n",
       "      <td>1998-05-30</td>\n",
       "      <td>6300</td>\n",
       "    </tr>\n",
       "    <tr>\n",
       "      <th>3</th>\n",
       "      <td>퇴마록</td>\n",
       "      <td>이우혁</td>\n",
       "      <td>들녘</td>\n",
       "      <td>1994-01-01</td>\n",
       "      <td>8550</td>\n",
       "    </tr>\n",
       "  </tbody>\n",
       "</table>\n",
       "</div>"
      ]
     },
     "execution_count": 13,
     "metadata": {},
     "output_type": "execute_result"
    }
   ],
   "execution_count": 13
  },
  {
   "metadata": {
    "ExecuteTime": {
     "end_time": "2025-09-29T01:41:46.576909Z",
     "start_time": "2025-09-29T01:41:46.565933Z"
    }
   },
   "cell_type": "code",
   "source": [
    "df_books.index\n",
    "df_books.columns\n",
    "df_books.shape\n",
    "df_books.size\n",
    "print(df_books.dtypes)\n",
    "type(df_books.dtypes)\n",
    "print(df_books.count())"
   ],
   "id": "f5801010b413a751",
   "outputs": [
    {
     "data": {
      "text/plain": [
       "RangeIndex(start=0, stop=4, step=1)"
      ]
     },
     "execution_count": 18,
     "metadata": {},
     "output_type": "execute_result"
    },
    {
     "data": {
      "text/plain": [
       "Index(['title', 'writer', 'publisher', '1st-edition', 'price'], dtype='object')"
      ]
     },
     "execution_count": 18,
     "metadata": {},
     "output_type": "execute_result"
    },
    {
     "data": {
      "text/plain": [
       "(4, 5)"
      ]
     },
     "execution_count": 18,
     "metadata": {},
     "output_type": "execute_result"
    },
    {
     "data": {
      "text/plain": [
       "20"
      ]
     },
     "execution_count": 18,
     "metadata": {},
     "output_type": "execute_result"
    },
    {
     "name": "stdout",
     "output_type": "stream",
     "text": [
      "title          object\n",
      "writer         object\n",
      "publisher      object\n",
      "1st-edition    object\n",
      "price           int64\n",
      "dtype: object\n"
     ]
    },
    {
     "data": {
      "text/plain": [
       "pandas.core.series.Series"
      ]
     },
     "execution_count": 18,
     "metadata": {},
     "output_type": "execute_result"
    },
    {
     "name": "stdout",
     "output_type": "stream",
     "text": [
      "title          4\n",
      "writer         4\n",
      "publisher      4\n",
      "1st-edition    4\n",
      "price          4\n",
      "dtype: int64\n"
     ]
    }
   ],
   "execution_count": 18
  },
  {
   "metadata": {
    "ExecuteTime": {
     "end_time": "2025-09-29T01:43:06.944674Z",
     "start_time": "2025-09-29T01:43:06.930964Z"
    }
   },
   "cell_type": "code",
   "source": [
    "df_books.info\n",
    "df_books.info()"
   ],
   "id": "b87f221fbc2c4bfc",
   "outputs": [
    {
     "data": {
      "text/plain": [
       "<bound method DataFrame.info of    title     writer publisher 1st-edition  price\n",
       "0     개미  베르나르 베르베르      열린책들  2013-05-30  15000\n",
       "1    고구려        김진명      이타북스  2011-02-28  15000\n",
       "2  드래곤라자        이영도      황금가지  1998-05-30   6300\n",
       "3    퇴마록        이우혁        들녘  1994-01-01   8550>"
      ]
     },
     "execution_count": 19,
     "metadata": {},
     "output_type": "execute_result"
    },
    {
     "name": "stdout",
     "output_type": "stream",
     "text": [
      "<class 'pandas.core.frame.DataFrame'>\n",
      "RangeIndex: 4 entries, 0 to 3\n",
      "Data columns (total 5 columns):\n",
      " #   Column       Non-Null Count  Dtype \n",
      "---  ------       --------------  ----- \n",
      " 0   title        4 non-null      object\n",
      " 1   writer       4 non-null      object\n",
      " 2   publisher    4 non-null      object\n",
      " 3   1st-edition  4 non-null      object\n",
      " 4   price        4 non-null      int64 \n",
      "dtypes: int64(1), object(4)\n",
      "memory usage: 292.0+ bytes\n"
     ]
    }
   ],
   "execution_count": 19
  },
  {
   "metadata": {
    "ExecuteTime": {
     "end_time": "2025-09-29T01:44:12.709009Z",
     "start_time": "2025-09-29T01:44:12.705532Z"
    }
   },
   "cell_type": "code",
   "source": "df_books['title'][0]",
   "id": "eb33887af0ec371c",
   "outputs": [
    {
     "data": {
      "text/plain": [
       "'개미'"
      ]
     },
     "execution_count": 20,
     "metadata": {},
     "output_type": "execute_result"
    }
   ],
   "execution_count": 20
  },
  {
   "metadata": {
    "ExecuteTime": {
     "end_time": "2025-09-29T01:44:55.059723Z",
     "start_time": "2025-09-29T01:44:55.055976Z"
    }
   },
   "cell_type": "code",
   "source": "type(df_books['title'])",
   "id": "e6acfcd34292c87b",
   "outputs": [
    {
     "data": {
      "text/plain": [
       "pandas.core.series.Series"
      ]
     },
     "execution_count": 21,
     "metadata": {},
     "output_type": "execute_result"
    }
   ],
   "execution_count": 21
  },
  {
   "metadata": {
    "ExecuteTime": {
     "end_time": "2025-09-29T01:46:55.367137Z",
     "start_time": "2025-09-29T01:46:55.363337Z"
    }
   },
   "cell_type": "code",
   "source": [
    "df_books['price'].max()\n",
    "# series 의 max 이다"
   ],
   "id": "88a5f16103bf1ef",
   "outputs": [
    {
     "data": {
      "text/plain": [
       "np.int64(15000)"
      ]
     },
     "execution_count": 23,
     "metadata": {},
     "output_type": "execute_result"
    }
   ],
   "execution_count": 23
  },
  {
   "metadata": {
    "ExecuteTime": {
     "end_time": "2025-09-29T01:48:31.981942Z",
     "start_time": "2025-09-29T01:48:31.974079Z"
    }
   },
   "cell_type": "code",
   "source": "df_books.sort_values(by=\"price\")",
   "id": "84c5ead349619143",
   "outputs": [
    {
     "data": {
      "text/plain": [
       "   title     writer publisher 1st-edition  price\n",
       "2  드래곤라자        이영도      황금가지  1998-05-30   6300\n",
       "3    퇴마록        이우혁        들녘  1994-01-01   8550\n",
       "0     개미  베르나르 베르베르      열린책들  2013-05-30  15000\n",
       "1    고구려        김진명      이타북스  2011-02-28  15000"
      ],
      "text/html": [
       "<div>\n",
       "<style scoped>\n",
       "    .dataframe tbody tr th:only-of-type {\n",
       "        vertical-align: middle;\n",
       "    }\n",
       "\n",
       "    .dataframe tbody tr th {\n",
       "        vertical-align: top;\n",
       "    }\n",
       "\n",
       "    .dataframe thead th {\n",
       "        text-align: right;\n",
       "    }\n",
       "</style>\n",
       "<table border=\"1\" class=\"dataframe\">\n",
       "  <thead>\n",
       "    <tr style=\"text-align: right;\">\n",
       "      <th></th>\n",
       "      <th>title</th>\n",
       "      <th>writer</th>\n",
       "      <th>publisher</th>\n",
       "      <th>1st-edition</th>\n",
       "      <th>price</th>\n",
       "    </tr>\n",
       "  </thead>\n",
       "  <tbody>\n",
       "    <tr>\n",
       "      <th>2</th>\n",
       "      <td>드래곤라자</td>\n",
       "      <td>이영도</td>\n",
       "      <td>황금가지</td>\n",
       "      <td>1998-05-30</td>\n",
       "      <td>6300</td>\n",
       "    </tr>\n",
       "    <tr>\n",
       "      <th>3</th>\n",
       "      <td>퇴마록</td>\n",
       "      <td>이우혁</td>\n",
       "      <td>들녘</td>\n",
       "      <td>1994-01-01</td>\n",
       "      <td>8550</td>\n",
       "    </tr>\n",
       "    <tr>\n",
       "      <th>0</th>\n",
       "      <td>개미</td>\n",
       "      <td>베르나르 베르베르</td>\n",
       "      <td>열린책들</td>\n",
       "      <td>2013-05-30</td>\n",
       "      <td>15000</td>\n",
       "    </tr>\n",
       "    <tr>\n",
       "      <th>1</th>\n",
       "      <td>고구려</td>\n",
       "      <td>김진명</td>\n",
       "      <td>이타북스</td>\n",
       "      <td>2011-02-28</td>\n",
       "      <td>15000</td>\n",
       "    </tr>\n",
       "  </tbody>\n",
       "</table>\n",
       "</div>"
      ]
     },
     "execution_count": 24,
     "metadata": {},
     "output_type": "execute_result"
    }
   ],
   "execution_count": 24
  },
  {
   "metadata": {
    "ExecuteTime": {
     "end_time": "2025-09-29T01:51:36.559184Z",
     "start_time": "2025-09-29T01:51:36.551769Z"
    }
   },
   "cell_type": "code",
   "source": [
    "df_books.sort_values([\"price\"], ascending=False)\n",
    "# ascending=False 높은 차순부터 정렬해주세요"
   ],
   "id": "1898e4f1f355287a",
   "outputs": [
    {
     "data": {
      "text/plain": [
       "   title     writer publisher 1st-edition  price\n",
       "0     개미  베르나르 베르베르      열린책들  2013-05-30  15000\n",
       "1    고구려        김진명      이타북스  2011-02-28  15000\n",
       "3    퇴마록        이우혁        들녘  1994-01-01   8550\n",
       "2  드래곤라자        이영도      황금가지  1998-05-30   6300"
      ],
      "text/html": [
       "<div>\n",
       "<style scoped>\n",
       "    .dataframe tbody tr th:only-of-type {\n",
       "        vertical-align: middle;\n",
       "    }\n",
       "\n",
       "    .dataframe tbody tr th {\n",
       "        vertical-align: top;\n",
       "    }\n",
       "\n",
       "    .dataframe thead th {\n",
       "        text-align: right;\n",
       "    }\n",
       "</style>\n",
       "<table border=\"1\" class=\"dataframe\">\n",
       "  <thead>\n",
       "    <tr style=\"text-align: right;\">\n",
       "      <th></th>\n",
       "      <th>title</th>\n",
       "      <th>writer</th>\n",
       "      <th>publisher</th>\n",
       "      <th>1st-edition</th>\n",
       "      <th>price</th>\n",
       "    </tr>\n",
       "  </thead>\n",
       "  <tbody>\n",
       "    <tr>\n",
       "      <th>0</th>\n",
       "      <td>개미</td>\n",
       "      <td>베르나르 베르베르</td>\n",
       "      <td>열린책들</td>\n",
       "      <td>2013-05-30</td>\n",
       "      <td>15000</td>\n",
       "    </tr>\n",
       "    <tr>\n",
       "      <th>1</th>\n",
       "      <td>고구려</td>\n",
       "      <td>김진명</td>\n",
       "      <td>이타북스</td>\n",
       "      <td>2011-02-28</td>\n",
       "      <td>15000</td>\n",
       "    </tr>\n",
       "    <tr>\n",
       "      <th>3</th>\n",
       "      <td>퇴마록</td>\n",
       "      <td>이우혁</td>\n",
       "      <td>들녘</td>\n",
       "      <td>1994-01-01</td>\n",
       "      <td>8550</td>\n",
       "    </tr>\n",
       "    <tr>\n",
       "      <th>2</th>\n",
       "      <td>드래곤라자</td>\n",
       "      <td>이영도</td>\n",
       "      <td>황금가지</td>\n",
       "      <td>1998-05-30</td>\n",
       "      <td>6300</td>\n",
       "    </tr>\n",
       "  </tbody>\n",
       "</table>\n",
       "</div>"
      ]
     },
     "execution_count": 28,
     "metadata": {},
     "output_type": "execute_result"
    }
   ],
   "execution_count": 28
  },
  {
   "metadata": {
    "ExecuteTime": {
     "end_time": "2025-09-29T01:50:20.180072Z",
     "start_time": "2025-09-29T01:50:20.169356Z"
    }
   },
   "cell_type": "code",
   "source": "df_books.sort_values([\"price\",\"1st-edition\"], ascending=False)",
   "id": "f95c022e79306d39",
   "outputs": [
    {
     "data": {
      "text/plain": [
       "   title     writer publisher 1st-edition  price\n",
       "0     개미  베르나르 베르베르      열린책들  2013-05-30  15000\n",
       "1    고구려        김진명      이타북스  2011-02-28  15000\n",
       "3    퇴마록        이우혁        들녘  1994-01-01   8550\n",
       "2  드래곤라자        이영도      황금가지  1998-05-30   6300"
      ],
      "text/html": [
       "<div>\n",
       "<style scoped>\n",
       "    .dataframe tbody tr th:only-of-type {\n",
       "        vertical-align: middle;\n",
       "    }\n",
       "\n",
       "    .dataframe tbody tr th {\n",
       "        vertical-align: top;\n",
       "    }\n",
       "\n",
       "    .dataframe thead th {\n",
       "        text-align: right;\n",
       "    }\n",
       "</style>\n",
       "<table border=\"1\" class=\"dataframe\">\n",
       "  <thead>\n",
       "    <tr style=\"text-align: right;\">\n",
       "      <th></th>\n",
       "      <th>title</th>\n",
       "      <th>writer</th>\n",
       "      <th>publisher</th>\n",
       "      <th>1st-edition</th>\n",
       "      <th>price</th>\n",
       "    </tr>\n",
       "  </thead>\n",
       "  <tbody>\n",
       "    <tr>\n",
       "      <th>0</th>\n",
       "      <td>개미</td>\n",
       "      <td>베르나르 베르베르</td>\n",
       "      <td>열린책들</td>\n",
       "      <td>2013-05-30</td>\n",
       "      <td>15000</td>\n",
       "    </tr>\n",
       "    <tr>\n",
       "      <th>1</th>\n",
       "      <td>고구려</td>\n",
       "      <td>김진명</td>\n",
       "      <td>이타북스</td>\n",
       "      <td>2011-02-28</td>\n",
       "      <td>15000</td>\n",
       "    </tr>\n",
       "    <tr>\n",
       "      <th>3</th>\n",
       "      <td>퇴마록</td>\n",
       "      <td>이우혁</td>\n",
       "      <td>들녘</td>\n",
       "      <td>1994-01-01</td>\n",
       "      <td>8550</td>\n",
       "    </tr>\n",
       "    <tr>\n",
       "      <th>2</th>\n",
       "      <td>드래곤라자</td>\n",
       "      <td>이영도</td>\n",
       "      <td>황금가지</td>\n",
       "      <td>1998-05-30</td>\n",
       "      <td>6300</td>\n",
       "    </tr>\n",
       "  </tbody>\n",
       "</table>\n",
       "</div>"
      ]
     },
     "execution_count": 26,
     "metadata": {},
     "output_type": "execute_result"
    }
   ],
   "execution_count": 26
  },
  {
   "metadata": {
    "ExecuteTime": {
     "end_time": "2025-09-29T01:50:44.687688Z",
     "start_time": "2025-09-29T01:50:44.680296Z"
    }
   },
   "cell_type": "code",
   "source": "df_books.sort_values([\"price\",\"1st-edition\"], ascending=[False,True])",
   "id": "6e73a2a6d8e38b35",
   "outputs": [
    {
     "data": {
      "text/plain": [
       "   title     writer publisher 1st-edition  price\n",
       "1    고구려        김진명      이타북스  2011-02-28  15000\n",
       "0     개미  베르나르 베르베르      열린책들  2013-05-30  15000\n",
       "3    퇴마록        이우혁        들녘  1994-01-01   8550\n",
       "2  드래곤라자        이영도      황금가지  1998-05-30   6300"
      ],
      "text/html": [
       "<div>\n",
       "<style scoped>\n",
       "    .dataframe tbody tr th:only-of-type {\n",
       "        vertical-align: middle;\n",
       "    }\n",
       "\n",
       "    .dataframe tbody tr th {\n",
       "        vertical-align: top;\n",
       "    }\n",
       "\n",
       "    .dataframe thead th {\n",
       "        text-align: right;\n",
       "    }\n",
       "</style>\n",
       "<table border=\"1\" class=\"dataframe\">\n",
       "  <thead>\n",
       "    <tr style=\"text-align: right;\">\n",
       "      <th></th>\n",
       "      <th>title</th>\n",
       "      <th>writer</th>\n",
       "      <th>publisher</th>\n",
       "      <th>1st-edition</th>\n",
       "      <th>price</th>\n",
       "    </tr>\n",
       "  </thead>\n",
       "  <tbody>\n",
       "    <tr>\n",
       "      <th>1</th>\n",
       "      <td>고구려</td>\n",
       "      <td>김진명</td>\n",
       "      <td>이타북스</td>\n",
       "      <td>2011-02-28</td>\n",
       "      <td>15000</td>\n",
       "    </tr>\n",
       "    <tr>\n",
       "      <th>0</th>\n",
       "      <td>개미</td>\n",
       "      <td>베르나르 베르베르</td>\n",
       "      <td>열린책들</td>\n",
       "      <td>2013-05-30</td>\n",
       "      <td>15000</td>\n",
       "    </tr>\n",
       "    <tr>\n",
       "      <th>3</th>\n",
       "      <td>퇴마록</td>\n",
       "      <td>이우혁</td>\n",
       "      <td>들녘</td>\n",
       "      <td>1994-01-01</td>\n",
       "      <td>8550</td>\n",
       "    </tr>\n",
       "    <tr>\n",
       "      <th>2</th>\n",
       "      <td>드래곤라자</td>\n",
       "      <td>이영도</td>\n",
       "      <td>황금가지</td>\n",
       "      <td>1998-05-30</td>\n",
       "      <td>6300</td>\n",
       "    </tr>\n",
       "  </tbody>\n",
       "</table>\n",
       "</div>"
      ]
     },
     "execution_count": 27,
     "metadata": {},
     "output_type": "execute_result"
    }
   ],
   "execution_count": 27
  },
  {
   "metadata": {
    "ExecuteTime": {
     "end_time": "2025-09-29T02:03:04.173616Z",
     "start_time": "2025-09-29T02:03:04.166617Z"
    }
   },
   "cell_type": "code",
   "source": "df_books.sort_index()",
   "id": "2d39f37fe312a170",
   "outputs": [
    {
     "data": {
      "text/plain": [
       "   title     writer publisher 1st-edition  price\n",
       "0     개미  베르나르 베르베르      열린책들  2013-05-30  15000\n",
       "1    고구려        김진명      이타북스  2011-02-28  15000\n",
       "2  드래곤라자        이영도      황금가지  1998-05-30   6300\n",
       "3    퇴마록        이우혁        들녘  1994-01-01   8550"
      ],
      "text/html": [
       "<div>\n",
       "<style scoped>\n",
       "    .dataframe tbody tr th:only-of-type {\n",
       "        vertical-align: middle;\n",
       "    }\n",
       "\n",
       "    .dataframe tbody tr th {\n",
       "        vertical-align: top;\n",
       "    }\n",
       "\n",
       "    .dataframe thead th {\n",
       "        text-align: right;\n",
       "    }\n",
       "</style>\n",
       "<table border=\"1\" class=\"dataframe\">\n",
       "  <thead>\n",
       "    <tr style=\"text-align: right;\">\n",
       "      <th></th>\n",
       "      <th>title</th>\n",
       "      <th>writer</th>\n",
       "      <th>publisher</th>\n",
       "      <th>1st-edition</th>\n",
       "      <th>price</th>\n",
       "    </tr>\n",
       "  </thead>\n",
       "  <tbody>\n",
       "    <tr>\n",
       "      <th>0</th>\n",
       "      <td>개미</td>\n",
       "      <td>베르나르 베르베르</td>\n",
       "      <td>열린책들</td>\n",
       "      <td>2013-05-30</td>\n",
       "      <td>15000</td>\n",
       "    </tr>\n",
       "    <tr>\n",
       "      <th>1</th>\n",
       "      <td>고구려</td>\n",
       "      <td>김진명</td>\n",
       "      <td>이타북스</td>\n",
       "      <td>2011-02-28</td>\n",
       "      <td>15000</td>\n",
       "    </tr>\n",
       "    <tr>\n",
       "      <th>2</th>\n",
       "      <td>드래곤라자</td>\n",
       "      <td>이영도</td>\n",
       "      <td>황금가지</td>\n",
       "      <td>1998-05-30</td>\n",
       "      <td>6300</td>\n",
       "    </tr>\n",
       "    <tr>\n",
       "      <th>3</th>\n",
       "      <td>퇴마록</td>\n",
       "      <td>이우혁</td>\n",
       "      <td>들녘</td>\n",
       "      <td>1994-01-01</td>\n",
       "      <td>8550</td>\n",
       "    </tr>\n",
       "  </tbody>\n",
       "</table>\n",
       "</div>"
      ]
     },
     "execution_count": 29,
     "metadata": {},
     "output_type": "execute_result"
    }
   ],
   "execution_count": 29
  },
  {
   "metadata": {
    "ExecuteTime": {
     "end_time": "2025-09-29T02:03:50.900512Z",
     "start_time": "2025-09-29T02:03:50.891591Z"
    }
   },
   "cell_type": "code",
   "source": "df_books.sort_index(axis=1)",
   "id": "38f1371ec3163c2e",
   "outputs": [
    {
     "data": {
      "text/plain": [
       "  1st-edition  price publisher  title     writer\n",
       "0  2013-05-30  15000      열린책들     개미  베르나르 베르베르\n",
       "1  2011-02-28  15000      이타북스    고구려        김진명\n",
       "2  1998-05-30   6300      황금가지  드래곤라자        이영도\n",
       "3  1994-01-01   8550        들녘    퇴마록        이우혁"
      ],
      "text/html": [
       "<div>\n",
       "<style scoped>\n",
       "    .dataframe tbody tr th:only-of-type {\n",
       "        vertical-align: middle;\n",
       "    }\n",
       "\n",
       "    .dataframe tbody tr th {\n",
       "        vertical-align: top;\n",
       "    }\n",
       "\n",
       "    .dataframe thead th {\n",
       "        text-align: right;\n",
       "    }\n",
       "</style>\n",
       "<table border=\"1\" class=\"dataframe\">\n",
       "  <thead>\n",
       "    <tr style=\"text-align: right;\">\n",
       "      <th></th>\n",
       "      <th>1st-edition</th>\n",
       "      <th>price</th>\n",
       "      <th>publisher</th>\n",
       "      <th>title</th>\n",
       "      <th>writer</th>\n",
       "    </tr>\n",
       "  </thead>\n",
       "  <tbody>\n",
       "    <tr>\n",
       "      <th>0</th>\n",
       "      <td>2013-05-30</td>\n",
       "      <td>15000</td>\n",
       "      <td>열린책들</td>\n",
       "      <td>개미</td>\n",
       "      <td>베르나르 베르베르</td>\n",
       "    </tr>\n",
       "    <tr>\n",
       "      <th>1</th>\n",
       "      <td>2011-02-28</td>\n",
       "      <td>15000</td>\n",
       "      <td>이타북스</td>\n",
       "      <td>고구려</td>\n",
       "      <td>김진명</td>\n",
       "    </tr>\n",
       "    <tr>\n",
       "      <th>2</th>\n",
       "      <td>1998-05-30</td>\n",
       "      <td>6300</td>\n",
       "      <td>황금가지</td>\n",
       "      <td>드래곤라자</td>\n",
       "      <td>이영도</td>\n",
       "    </tr>\n",
       "    <tr>\n",
       "      <th>3</th>\n",
       "      <td>1994-01-01</td>\n",
       "      <td>8550</td>\n",
       "      <td>들녘</td>\n",
       "      <td>퇴마록</td>\n",
       "      <td>이우혁</td>\n",
       "    </tr>\n",
       "  </tbody>\n",
       "</table>\n",
       "</div>"
      ]
     },
     "execution_count": 30,
     "metadata": {},
     "output_type": "execute_result"
    }
   ],
   "execution_count": 30
  },
  {
   "metadata": {
    "ExecuteTime": {
     "end_time": "2025-09-29T02:05:32.941169Z",
     "start_time": "2025-09-29T02:05:32.932088Z"
    }
   },
   "cell_type": "code",
   "source": "df_books.sort_index(axis=\"columns\")",
   "id": "865f6fdb6371c90c",
   "outputs": [
    {
     "data": {
      "text/plain": [
       "  1st-edition  price publisher  title     writer\n",
       "0  2013-05-30  15000      열린책들     개미  베르나르 베르베르\n",
       "1  2011-02-28  15000      이타북스    고구려        김진명\n",
       "2  1998-05-30   6300      황금가지  드래곤라자        이영도\n",
       "3  1994-01-01   8550        들녘    퇴마록        이우혁"
      ],
      "text/html": [
       "<div>\n",
       "<style scoped>\n",
       "    .dataframe tbody tr th:only-of-type {\n",
       "        vertical-align: middle;\n",
       "    }\n",
       "\n",
       "    .dataframe tbody tr th {\n",
       "        vertical-align: top;\n",
       "    }\n",
       "\n",
       "    .dataframe thead th {\n",
       "        text-align: right;\n",
       "    }\n",
       "</style>\n",
       "<table border=\"1\" class=\"dataframe\">\n",
       "  <thead>\n",
       "    <tr style=\"text-align: right;\">\n",
       "      <th></th>\n",
       "      <th>1st-edition</th>\n",
       "      <th>price</th>\n",
       "      <th>publisher</th>\n",
       "      <th>title</th>\n",
       "      <th>writer</th>\n",
       "    </tr>\n",
       "  </thead>\n",
       "  <tbody>\n",
       "    <tr>\n",
       "      <th>0</th>\n",
       "      <td>2013-05-30</td>\n",
       "      <td>15000</td>\n",
       "      <td>열린책들</td>\n",
       "      <td>개미</td>\n",
       "      <td>베르나르 베르베르</td>\n",
       "    </tr>\n",
       "    <tr>\n",
       "      <th>1</th>\n",
       "      <td>2011-02-28</td>\n",
       "      <td>15000</td>\n",
       "      <td>이타북스</td>\n",
       "      <td>고구려</td>\n",
       "      <td>김진명</td>\n",
       "    </tr>\n",
       "    <tr>\n",
       "      <th>2</th>\n",
       "      <td>1998-05-30</td>\n",
       "      <td>6300</td>\n",
       "      <td>황금가지</td>\n",
       "      <td>드래곤라자</td>\n",
       "      <td>이영도</td>\n",
       "    </tr>\n",
       "    <tr>\n",
       "      <th>3</th>\n",
       "      <td>1994-01-01</td>\n",
       "      <td>8550</td>\n",
       "      <td>들녘</td>\n",
       "      <td>퇴마록</td>\n",
       "      <td>이우혁</td>\n",
       "    </tr>\n",
       "  </tbody>\n",
       "</table>\n",
       "</div>"
      ]
     },
     "execution_count": 31,
     "metadata": {},
     "output_type": "execute_result"
    }
   ],
   "execution_count": 31
  },
  {
   "metadata": {
    "ExecuteTime": {
     "end_time": "2025-09-29T02:06:45.954637Z",
     "start_time": "2025-09-29T02:06:45.945655Z"
    }
   },
   "cell_type": "code",
   "source": [
    "df_title = df_books.set_index(\"title\")\n",
    "df_title"
   ],
   "id": "ee9e02affa24adb5",
   "outputs": [
    {
     "data": {
      "text/plain": [
       "          writer publisher 1st-edition  price\n",
       "title                                        \n",
       "개미     베르나르 베르베르      열린책들  2013-05-30  15000\n",
       "고구려          김진명      이타북스  2011-02-28  15000\n",
       "드래곤라자        이영도      황금가지  1998-05-30   6300\n",
       "퇴마록          이우혁        들녘  1994-01-01   8550"
      ],
      "text/html": [
       "<div>\n",
       "<style scoped>\n",
       "    .dataframe tbody tr th:only-of-type {\n",
       "        vertical-align: middle;\n",
       "    }\n",
       "\n",
       "    .dataframe tbody tr th {\n",
       "        vertical-align: top;\n",
       "    }\n",
       "\n",
       "    .dataframe thead th {\n",
       "        text-align: right;\n",
       "    }\n",
       "</style>\n",
       "<table border=\"1\" class=\"dataframe\">\n",
       "  <thead>\n",
       "    <tr style=\"text-align: right;\">\n",
       "      <th></th>\n",
       "      <th>writer</th>\n",
       "      <th>publisher</th>\n",
       "      <th>1st-edition</th>\n",
       "      <th>price</th>\n",
       "    </tr>\n",
       "    <tr>\n",
       "      <th>title</th>\n",
       "      <th></th>\n",
       "      <th></th>\n",
       "      <th></th>\n",
       "      <th></th>\n",
       "    </tr>\n",
       "  </thead>\n",
       "  <tbody>\n",
       "    <tr>\n",
       "      <th>개미</th>\n",
       "      <td>베르나르 베르베르</td>\n",
       "      <td>열린책들</td>\n",
       "      <td>2013-05-30</td>\n",
       "      <td>15000</td>\n",
       "    </tr>\n",
       "    <tr>\n",
       "      <th>고구려</th>\n",
       "      <td>김진명</td>\n",
       "      <td>이타북스</td>\n",
       "      <td>2011-02-28</td>\n",
       "      <td>15000</td>\n",
       "    </tr>\n",
       "    <tr>\n",
       "      <th>드래곤라자</th>\n",
       "      <td>이영도</td>\n",
       "      <td>황금가지</td>\n",
       "      <td>1998-05-30</td>\n",
       "      <td>6300</td>\n",
       "    </tr>\n",
       "    <tr>\n",
       "      <th>퇴마록</th>\n",
       "      <td>이우혁</td>\n",
       "      <td>들녘</td>\n",
       "      <td>1994-01-01</td>\n",
       "      <td>8550</td>\n",
       "    </tr>\n",
       "  </tbody>\n",
       "</table>\n",
       "</div>"
      ]
     },
     "execution_count": 32,
     "metadata": {},
     "output_type": "execute_result"
    }
   ],
   "execution_count": 32
  },
  {
   "metadata": {
    "ExecuteTime": {
     "end_time": "2025-09-29T02:07:50.082564Z",
     "start_time": "2025-09-29T02:07:50.079080Z"
    }
   },
   "cell_type": "code",
   "source": "df_title.index",
   "id": "e21ae845afd668e9",
   "outputs": [
    {
     "data": {
      "text/plain": [
       "Index(['개미', '고구려', '드래곤라자', '퇴마록'], dtype='object', name='title')"
      ]
     },
     "execution_count": 33,
     "metadata": {},
     "output_type": "execute_result"
    }
   ],
   "execution_count": 33
  },
  {
   "metadata": {
    "ExecuteTime": {
     "end_time": "2025-09-29T02:08:03.035143Z",
     "start_time": "2025-09-29T02:08:03.030569Z"
    }
   },
   "cell_type": "code",
   "source": "df_title.values",
   "id": "3300f390a69812a",
   "outputs": [
    {
     "data": {
      "text/plain": [
       "array([['베르나르 베르베르', '열린책들', '2013-05-30', 15000],\n",
       "       [' 김진명', '이타북스', '2011-02-28', 15000],\n",
       "       ['이영도', '황금가지', '1998-05-30', 6300],\n",
       "       ['이우혁', '들녘', '1994-01-01', 8550]], dtype=object)"
      ]
     },
     "execution_count": 34,
     "metadata": {},
     "output_type": "execute_result"
    }
   ],
   "execution_count": 34
  },
  {
   "metadata": {
    "ExecuteTime": {
     "end_time": "2025-09-29T02:10:09.751176Z",
     "start_time": "2025-09-29T02:10:09.747371Z"
    }
   },
   "cell_type": "code",
   "source": "df_title.sort_index(ascending=False)",
   "id": "7be021ed007b0e66",
   "outputs": [
    {
     "data": {
      "text/plain": [
       "          writer publisher 1st-edition  price\n",
       "title                                        \n",
       "퇴마록          이우혁        들녘  1994-01-01   8550\n",
       "드래곤라자        이영도      황금가지  1998-05-30   6300\n",
       "고구려          김진명      이타북스  2011-02-28  15000\n",
       "개미     베르나르 베르베르      열린책들  2013-05-30  15000"
      ],
      "text/html": [
       "<div>\n",
       "<style scoped>\n",
       "    .dataframe tbody tr th:only-of-type {\n",
       "        vertical-align: middle;\n",
       "    }\n",
       "\n",
       "    .dataframe tbody tr th {\n",
       "        vertical-align: top;\n",
       "    }\n",
       "\n",
       "    .dataframe thead th {\n",
       "        text-align: right;\n",
       "    }\n",
       "</style>\n",
       "<table border=\"1\" class=\"dataframe\">\n",
       "  <thead>\n",
       "    <tr style=\"text-align: right;\">\n",
       "      <th></th>\n",
       "      <th>writer</th>\n",
       "      <th>publisher</th>\n",
       "      <th>1st-edition</th>\n",
       "      <th>price</th>\n",
       "    </tr>\n",
       "    <tr>\n",
       "      <th>title</th>\n",
       "      <th></th>\n",
       "      <th></th>\n",
       "      <th></th>\n",
       "      <th></th>\n",
       "    </tr>\n",
       "  </thead>\n",
       "  <tbody>\n",
       "    <tr>\n",
       "      <th>퇴마록</th>\n",
       "      <td>이우혁</td>\n",
       "      <td>들녘</td>\n",
       "      <td>1994-01-01</td>\n",
       "      <td>8550</td>\n",
       "    </tr>\n",
       "    <tr>\n",
       "      <th>드래곤라자</th>\n",
       "      <td>이영도</td>\n",
       "      <td>황금가지</td>\n",
       "      <td>1998-05-30</td>\n",
       "      <td>6300</td>\n",
       "    </tr>\n",
       "    <tr>\n",
       "      <th>고구려</th>\n",
       "      <td>김진명</td>\n",
       "      <td>이타북스</td>\n",
       "      <td>2011-02-28</td>\n",
       "      <td>15000</td>\n",
       "    </tr>\n",
       "    <tr>\n",
       "      <th>개미</th>\n",
       "      <td>베르나르 베르베르</td>\n",
       "      <td>열린책들</td>\n",
       "      <td>2013-05-30</td>\n",
       "      <td>15000</td>\n",
       "    </tr>\n",
       "  </tbody>\n",
       "</table>\n",
       "</div>"
      ]
     },
     "execution_count": 35,
     "metadata": {},
     "output_type": "execute_result"
    }
   ],
   "execution_count": 35
  },
  {
   "metadata": {
    "ExecuteTime": {
     "end_time": "2025-09-29T02:10:24.783997Z",
     "start_time": "2025-09-29T02:10:24.779792Z"
    }
   },
   "cell_type": "code",
   "source": [
    "# type(df_books.sort_index())\n",
    "df_title[\"price\"]"
   ],
   "id": "c0ba1dc119efc929",
   "outputs": [
    {
     "data": {
      "text/plain": [
       "title\n",
       "개미       15000\n",
       "고구려      15000\n",
       "드래곤라자     6300\n",
       "퇴마록       8550\n",
       "Name: price, dtype: int64"
      ]
     },
     "execution_count": 36,
     "metadata": {},
     "output_type": "execute_result"
    }
   ],
   "execution_count": 36
  },
  {
   "metadata": {
    "ExecuteTime": {
     "end_time": "2025-09-29T02:11:57.628722Z",
     "start_time": "2025-09-29T02:11:57.618866Z"
    }
   },
   "cell_type": "code",
   "source": "df_title.nlargest(3, columns=\"price\")",
   "id": "9b011fa02ad9af49",
   "outputs": [
    {
     "data": {
      "text/plain": [
       "          writer publisher 1st-edition  price\n",
       "title                                        \n",
       "개미     베르나르 베르베르      열린책들  2013-05-30  15000\n",
       "고구려          김진명      이타북스  2011-02-28  15000\n",
       "퇴마록          이우혁        들녘  1994-01-01   8550"
      ],
      "text/html": [
       "<div>\n",
       "<style scoped>\n",
       "    .dataframe tbody tr th:only-of-type {\n",
       "        vertical-align: middle;\n",
       "    }\n",
       "\n",
       "    .dataframe tbody tr th {\n",
       "        vertical-align: top;\n",
       "    }\n",
       "\n",
       "    .dataframe thead th {\n",
       "        text-align: right;\n",
       "    }\n",
       "</style>\n",
       "<table border=\"1\" class=\"dataframe\">\n",
       "  <thead>\n",
       "    <tr style=\"text-align: right;\">\n",
       "      <th></th>\n",
       "      <th>writer</th>\n",
       "      <th>publisher</th>\n",
       "      <th>1st-edition</th>\n",
       "      <th>price</th>\n",
       "    </tr>\n",
       "    <tr>\n",
       "      <th>title</th>\n",
       "      <th></th>\n",
       "      <th></th>\n",
       "      <th></th>\n",
       "      <th></th>\n",
       "    </tr>\n",
       "  </thead>\n",
       "  <tbody>\n",
       "    <tr>\n",
       "      <th>개미</th>\n",
       "      <td>베르나르 베르베르</td>\n",
       "      <td>열린책들</td>\n",
       "      <td>2013-05-30</td>\n",
       "      <td>15000</td>\n",
       "    </tr>\n",
       "    <tr>\n",
       "      <th>고구려</th>\n",
       "      <td>김진명</td>\n",
       "      <td>이타북스</td>\n",
       "      <td>2011-02-28</td>\n",
       "      <td>15000</td>\n",
       "    </tr>\n",
       "    <tr>\n",
       "      <th>퇴마록</th>\n",
       "      <td>이우혁</td>\n",
       "      <td>들녘</td>\n",
       "      <td>1994-01-01</td>\n",
       "      <td>8550</td>\n",
       "    </tr>\n",
       "  </tbody>\n",
       "</table>\n",
       "</div>"
      ]
     },
     "execution_count": 37,
     "metadata": {},
     "output_type": "execute_result"
    }
   ],
   "execution_count": 37
  },
  {
   "metadata": {
    "ExecuteTime": {
     "end_time": "2025-09-29T02:12:13.906531Z",
     "start_time": "2025-09-29T02:12:13.901171Z"
    }
   },
   "cell_type": "code",
   "source": "df_title.nsmallest(2, columns=\"price\")",
   "id": "4b26f8f1c24e7df4",
   "outputs": [
    {
     "data": {
      "text/plain": [
       "      writer publisher 1st-edition  price\n",
       "title                                    \n",
       "드래곤라자    이영도      황금가지  1998-05-30   6300\n",
       "퇴마록      이우혁        들녘  1994-01-01   8550"
      ],
      "text/html": [
       "<div>\n",
       "<style scoped>\n",
       "    .dataframe tbody tr th:only-of-type {\n",
       "        vertical-align: middle;\n",
       "    }\n",
       "\n",
       "    .dataframe tbody tr th {\n",
       "        vertical-align: top;\n",
       "    }\n",
       "\n",
       "    .dataframe thead th {\n",
       "        text-align: right;\n",
       "    }\n",
       "</style>\n",
       "<table border=\"1\" class=\"dataframe\">\n",
       "  <thead>\n",
       "    <tr style=\"text-align: right;\">\n",
       "      <th></th>\n",
       "      <th>writer</th>\n",
       "      <th>publisher</th>\n",
       "      <th>1st-edition</th>\n",
       "      <th>price</th>\n",
       "    </tr>\n",
       "    <tr>\n",
       "      <th>title</th>\n",
       "      <th></th>\n",
       "      <th></th>\n",
       "      <th></th>\n",
       "      <th></th>\n",
       "    </tr>\n",
       "  </thead>\n",
       "  <tbody>\n",
       "    <tr>\n",
       "      <th>드래곤라자</th>\n",
       "      <td>이영도</td>\n",
       "      <td>황금가지</td>\n",
       "      <td>1998-05-30</td>\n",
       "      <td>6300</td>\n",
       "    </tr>\n",
       "    <tr>\n",
       "      <th>퇴마록</th>\n",
       "      <td>이우혁</td>\n",
       "      <td>들녘</td>\n",
       "      <td>1994-01-01</td>\n",
       "      <td>8550</td>\n",
       "    </tr>\n",
       "  </tbody>\n",
       "</table>\n",
       "</div>"
      ]
     },
     "execution_count": 38,
     "metadata": {},
     "output_type": "execute_result"
    }
   ],
   "execution_count": 38
  },
  {
   "metadata": {
    "ExecuteTime": {
     "end_time": "2025-09-29T02:13:07.393799Z",
     "start_time": "2025-09-29T02:13:07.389263Z"
    }
   },
   "cell_type": "code",
   "source": [
    "df_title.sum()\n",
    "# 컬럼별로 더하더라"
   ],
   "id": "a77f996a423ac9e3",
   "outputs": [
    {
     "data": {
      "text/plain": [
       "writer                              베르나르 베르베르 김진명이영도이우혁\n",
       "publisher                                열린책들이타북스황금가지들녘\n",
       "1st-edition    2013-05-302011-02-281998-05-301994-01-01\n",
       "price                                             44850\n",
       "dtype: object"
      ]
     },
     "execution_count": 39,
     "metadata": {},
     "output_type": "execute_result"
    }
   ],
   "execution_count": 39
  },
  {
   "metadata": {
    "ExecuteTime": {
     "end_time": "2025-09-29T02:14:07.652488Z",
     "start_time": "2025-09-29T02:14:07.647655Z"
    }
   },
   "cell_type": "code",
   "source": "df_title[\"price\"].sum()",
   "id": "866896602252f7bf",
   "outputs": [
    {
     "data": {
      "text/plain": [
       "np.int64(44850)"
      ]
     },
     "execution_count": 40,
     "metadata": {},
     "output_type": "execute_result"
    }
   ],
   "execution_count": 40
  },
  {
   "metadata": {
    "ExecuteTime": {
     "end_time": "2025-09-29T02:14:34.120878Z",
     "start_time": "2025-09-29T02:14:34.116193Z"
    }
   },
   "cell_type": "code",
   "source": "df_title.sum(numeric_only=True)",
   "id": "8b5b1289674d6369",
   "outputs": [
    {
     "data": {
      "text/plain": [
       "price    44850\n",
       "dtype: int64"
      ]
     },
     "execution_count": 41,
     "metadata": {},
     "output_type": "execute_result"
    }
   ],
   "execution_count": 41
  },
  {
   "metadata": {
    "ExecuteTime": {
     "end_time": "2025-09-29T02:16:39.888154Z",
     "start_time": "2025-09-29T02:16:39.884544Z"
    }
   },
   "cell_type": "code",
   "source": [
    "print(df_title.mean(numeric_only=True))\n",
    "print(df_title.median(numeric_only=True))\n",
    "print(df_title.std(numeric_only=True))"
   ],
   "id": "52203539e2e3b72c",
   "outputs": [
    {
     "name": "stdout",
     "output_type": "stream",
     "text": [
      "price    11212.5\n",
      "dtype: float64\n",
      "price    11775.0\n",
      "dtype: float64\n",
      "price    4468.850523\n",
      "dtype: float64\n"
     ]
    }
   ],
   "execution_count": 42
  },
  {
   "metadata": {
    "ExecuteTime": {
     "end_time": "2025-09-29T02:17:07.305624Z",
     "start_time": "2025-09-29T02:17:07.301140Z"
    }
   },
   "cell_type": "code",
   "source": "df_title.info()",
   "id": "9f4a31c97142db7a",
   "outputs": [
    {
     "name": "stdout",
     "output_type": "stream",
     "text": [
      "<class 'pandas.core.frame.DataFrame'>\n",
      "Index: 4 entries, 개미 to 퇴마록\n",
      "Data columns (total 4 columns):\n",
      " #   Column       Non-Null Count  Dtype \n",
      "---  ------       --------------  ----- \n",
      " 0   writer       4 non-null      object\n",
      " 1   publisher    4 non-null      object\n",
      " 2   1st-edition  4 non-null      object\n",
      " 3   price        4 non-null      int64 \n",
      "dtypes: int64(1), object(3)\n",
      "memory usage: 332.0+ bytes\n"
     ]
    }
   ],
   "execution_count": 43
  },
  {
   "metadata": {
    "ExecuteTime": {
     "end_time": "2025-09-29T02:17:34.511325Z",
     "start_time": "2025-09-29T02:17:34.506560Z"
    }
   },
   "cell_type": "code",
   "source": "df_title.info",
   "id": "43285224725cf4e1",
   "outputs": [
    {
     "data": {
      "text/plain": [
       "<bound method DataFrame.info of           writer publisher 1st-edition  price\n",
       "title                                        \n",
       "개미     베르나르 베르베르      열린책들  2013-05-30  15000\n",
       "고구려          김진명      이타북스  2011-02-28  15000\n",
       "드래곤라자        이영도      황금가지  1998-05-30   6300\n",
       "퇴마록          이우혁        들녘  1994-01-01   8550>"
      ]
     },
     "execution_count": 44,
     "metadata": {},
     "output_type": "execute_result"
    }
   ],
   "execution_count": 44
  },
  {
   "metadata": {
    "ExecuteTime": {
     "end_time": "2025-09-29T02:18:44.490529Z",
     "start_time": "2025-09-29T02:18:44.484414Z"
    }
   },
   "cell_type": "code",
   "source": [
    "df_title.select_dtypes(\"object\")\n",
    "# object 만 보여줘"
   ],
   "id": "93ec91d32eb66a99",
   "outputs": [
    {
     "data": {
      "text/plain": [
       "          writer publisher 1st-edition\n",
       "title                                 \n",
       "개미     베르나르 베르베르      열린책들  2013-05-30\n",
       "고구려          김진명      이타북스  2011-02-28\n",
       "드래곤라자        이영도      황금가지  1998-05-30\n",
       "퇴마록          이우혁        들녘  1994-01-01"
      ],
      "text/html": [
       "<div>\n",
       "<style scoped>\n",
       "    .dataframe tbody tr th:only-of-type {\n",
       "        vertical-align: middle;\n",
       "    }\n",
       "\n",
       "    .dataframe tbody tr th {\n",
       "        vertical-align: top;\n",
       "    }\n",
       "\n",
       "    .dataframe thead th {\n",
       "        text-align: right;\n",
       "    }\n",
       "</style>\n",
       "<table border=\"1\" class=\"dataframe\">\n",
       "  <thead>\n",
       "    <tr style=\"text-align: right;\">\n",
       "      <th></th>\n",
       "      <th>writer</th>\n",
       "      <th>publisher</th>\n",
       "      <th>1st-edition</th>\n",
       "    </tr>\n",
       "    <tr>\n",
       "      <th>title</th>\n",
       "      <th></th>\n",
       "      <th></th>\n",
       "      <th></th>\n",
       "    </tr>\n",
       "  </thead>\n",
       "  <tbody>\n",
       "    <tr>\n",
       "      <th>개미</th>\n",
       "      <td>베르나르 베르베르</td>\n",
       "      <td>열린책들</td>\n",
       "      <td>2013-05-30</td>\n",
       "    </tr>\n",
       "    <tr>\n",
       "      <th>고구려</th>\n",
       "      <td>김진명</td>\n",
       "      <td>이타북스</td>\n",
       "      <td>2011-02-28</td>\n",
       "    </tr>\n",
       "    <tr>\n",
       "      <th>드래곤라자</th>\n",
       "      <td>이영도</td>\n",
       "      <td>황금가지</td>\n",
       "      <td>1998-05-30</td>\n",
       "    </tr>\n",
       "    <tr>\n",
       "      <th>퇴마록</th>\n",
       "      <td>이우혁</td>\n",
       "      <td>들녘</td>\n",
       "      <td>1994-01-01</td>\n",
       "    </tr>\n",
       "  </tbody>\n",
       "</table>\n",
       "</div>"
      ]
     },
     "execution_count": 45,
     "metadata": {},
     "output_type": "execute_result"
    }
   ],
   "execution_count": 45
  },
  {
   "metadata": {
    "ExecuteTime": {
     "end_time": "2025-09-29T02:19:44.997522Z",
     "start_time": "2025-09-29T02:19:44.988744Z"
    }
   },
   "cell_type": "code",
   "source": "df_title[\"1st-edition\"] = pd.to_datetime(df_title[\"1st-edition\"])",
   "id": "9383a642a4476330",
   "outputs": [],
   "execution_count": 46
  },
  {
   "metadata": {
    "ExecuteTime": {
     "end_time": "2025-09-29T02:19:59.922354Z",
     "start_time": "2025-09-29T02:19:59.916153Z"
    }
   },
   "cell_type": "code",
   "source": [
    "df_title.select_dtypes(\"object\")\n",
    "# 날짜 타입으로 바껴서 오브젝트에서 빠진다"
   ],
   "id": "7b4d133e34ec5a2",
   "outputs": [
    {
     "data": {
      "text/plain": [
       "          writer publisher\n",
       "title                     \n",
       "개미     베르나르 베르베르      열린책들\n",
       "고구려          김진명      이타북스\n",
       "드래곤라자        이영도      황금가지\n",
       "퇴마록          이우혁        들녘"
      ],
      "text/html": [
       "<div>\n",
       "<style scoped>\n",
       "    .dataframe tbody tr th:only-of-type {\n",
       "        vertical-align: middle;\n",
       "    }\n",
       "\n",
       "    .dataframe tbody tr th {\n",
       "        vertical-align: top;\n",
       "    }\n",
       "\n",
       "    .dataframe thead th {\n",
       "        text-align: right;\n",
       "    }\n",
       "</style>\n",
       "<table border=\"1\" class=\"dataframe\">\n",
       "  <thead>\n",
       "    <tr style=\"text-align: right;\">\n",
       "      <th></th>\n",
       "      <th>writer</th>\n",
       "      <th>publisher</th>\n",
       "    </tr>\n",
       "    <tr>\n",
       "      <th>title</th>\n",
       "      <th></th>\n",
       "      <th></th>\n",
       "    </tr>\n",
       "  </thead>\n",
       "  <tbody>\n",
       "    <tr>\n",
       "      <th>개미</th>\n",
       "      <td>베르나르 베르베르</td>\n",
       "      <td>열린책들</td>\n",
       "    </tr>\n",
       "    <tr>\n",
       "      <th>고구려</th>\n",
       "      <td>김진명</td>\n",
       "      <td>이타북스</td>\n",
       "    </tr>\n",
       "    <tr>\n",
       "      <th>드래곤라자</th>\n",
       "      <td>이영도</td>\n",
       "      <td>황금가지</td>\n",
       "    </tr>\n",
       "    <tr>\n",
       "      <th>퇴마록</th>\n",
       "      <td>이우혁</td>\n",
       "      <td>들녘</td>\n",
       "    </tr>\n",
       "  </tbody>\n",
       "</table>\n",
       "</div>"
      ]
     },
     "execution_count": 47,
     "metadata": {},
     "output_type": "execute_result"
    }
   ],
   "execution_count": 47
  },
  {
   "metadata": {
    "ExecuteTime": {
     "end_time": "2025-09-29T02:21:36.371612Z",
     "start_time": "2025-09-29T02:21:36.365123Z"
    }
   },
   "cell_type": "code",
   "source": "df_title.select_dtypes(include=\"object\")",
   "id": "61ca253b695c76a8",
   "outputs": [
    {
     "data": {
      "text/plain": [
       "          writer publisher\n",
       "title                     \n",
       "개미     베르나르 베르베르      열린책들\n",
       "고구려          김진명      이타북스\n",
       "드래곤라자        이영도      황금가지\n",
       "퇴마록          이우혁        들녘"
      ],
      "text/html": [
       "<div>\n",
       "<style scoped>\n",
       "    .dataframe tbody tr th:only-of-type {\n",
       "        vertical-align: middle;\n",
       "    }\n",
       "\n",
       "    .dataframe tbody tr th {\n",
       "        vertical-align: top;\n",
       "    }\n",
       "\n",
       "    .dataframe thead th {\n",
       "        text-align: right;\n",
       "    }\n",
       "</style>\n",
       "<table border=\"1\" class=\"dataframe\">\n",
       "  <thead>\n",
       "    <tr style=\"text-align: right;\">\n",
       "      <th></th>\n",
       "      <th>writer</th>\n",
       "      <th>publisher</th>\n",
       "    </tr>\n",
       "    <tr>\n",
       "      <th>title</th>\n",
       "      <th></th>\n",
       "      <th></th>\n",
       "    </tr>\n",
       "  </thead>\n",
       "  <tbody>\n",
       "    <tr>\n",
       "      <th>개미</th>\n",
       "      <td>베르나르 베르베르</td>\n",
       "      <td>열린책들</td>\n",
       "    </tr>\n",
       "    <tr>\n",
       "      <th>고구려</th>\n",
       "      <td>김진명</td>\n",
       "      <td>이타북스</td>\n",
       "    </tr>\n",
       "    <tr>\n",
       "      <th>드래곤라자</th>\n",
       "      <td>이영도</td>\n",
       "      <td>황금가지</td>\n",
       "    </tr>\n",
       "    <tr>\n",
       "      <th>퇴마록</th>\n",
       "      <td>이우혁</td>\n",
       "      <td>들녘</td>\n",
       "    </tr>\n",
       "  </tbody>\n",
       "</table>\n",
       "</div>"
      ]
     },
     "execution_count": 48,
     "metadata": {},
     "output_type": "execute_result"
    }
   ],
   "execution_count": 48
  },
  {
   "metadata": {
    "ExecuteTime": {
     "end_time": "2025-09-29T02:21:54.017934Z",
     "start_time": "2025-09-29T02:21:54.012114Z"
    }
   },
   "cell_type": "code",
   "source": "df_title.select_dtypes(exclude=\"object\")",
   "id": "7a9abf1f756a0a8f",
   "outputs": [
    {
     "data": {
      "text/plain": [
       "      1st-edition  price\n",
       "title                   \n",
       "개미     2013-05-30  15000\n",
       "고구려    2011-02-28  15000\n",
       "드래곤라자  1998-05-30   6300\n",
       "퇴마록    1994-01-01   8550"
      ],
      "text/html": [
       "<div>\n",
       "<style scoped>\n",
       "    .dataframe tbody tr th:only-of-type {\n",
       "        vertical-align: middle;\n",
       "    }\n",
       "\n",
       "    .dataframe tbody tr th {\n",
       "        vertical-align: top;\n",
       "    }\n",
       "\n",
       "    .dataframe thead th {\n",
       "        text-align: right;\n",
       "    }\n",
       "</style>\n",
       "<table border=\"1\" class=\"dataframe\">\n",
       "  <thead>\n",
       "    <tr style=\"text-align: right;\">\n",
       "      <th></th>\n",
       "      <th>1st-edition</th>\n",
       "      <th>price</th>\n",
       "    </tr>\n",
       "    <tr>\n",
       "      <th>title</th>\n",
       "      <th></th>\n",
       "      <th></th>\n",
       "    </tr>\n",
       "  </thead>\n",
       "  <tbody>\n",
       "    <tr>\n",
       "      <th>개미</th>\n",
       "      <td>2013-05-30</td>\n",
       "      <td>15000</td>\n",
       "    </tr>\n",
       "    <tr>\n",
       "      <th>고구려</th>\n",
       "      <td>2011-02-28</td>\n",
       "      <td>15000</td>\n",
       "    </tr>\n",
       "    <tr>\n",
       "      <th>드래곤라자</th>\n",
       "      <td>1998-05-30</td>\n",
       "      <td>6300</td>\n",
       "    </tr>\n",
       "    <tr>\n",
       "      <th>퇴마록</th>\n",
       "      <td>1994-01-01</td>\n",
       "      <td>8550</td>\n",
       "    </tr>\n",
       "  </tbody>\n",
       "</table>\n",
       "</div>"
      ]
     },
     "execution_count": 49,
     "metadata": {},
     "output_type": "execute_result"
    }
   ],
   "execution_count": 49
  },
  {
   "metadata": {
    "ExecuteTime": {
     "end_time": "2025-09-29T02:24:23.589688Z",
     "start_time": "2025-09-29T02:24:23.585506Z"
    }
   },
   "cell_type": "code",
   "source": "df_title[\"price\"]",
   "id": "e40c57808e106b3c",
   "outputs": [
    {
     "data": {
      "text/plain": [
       "title\n",
       "개미       15000\n",
       "고구려      15000\n",
       "드래곤라자     6300\n",
       "퇴마록       8550\n",
       "Name: price, dtype: int64"
      ]
     },
     "execution_count": 50,
     "metadata": {},
     "output_type": "execute_result"
    }
   ],
   "execution_count": 50
  },
  {
   "metadata": {
    "ExecuteTime": {
     "end_time": "2025-09-29T02:24:35.625954Z",
     "start_time": "2025-09-29T02:24:35.623243Z"
    }
   },
   "cell_type": "code",
   "source": "df_title[\"publisher\"]",
   "id": "e66fc25c29c0e2a2",
   "outputs": [
    {
     "data": {
      "text/plain": [
       "title\n",
       "개미       열린책들\n",
       "고구려      이타북스\n",
       "드래곤라자    황금가지\n",
       "퇴마록        들녘\n",
       "Name: publisher, dtype: object"
      ]
     },
     "execution_count": 51,
     "metadata": {},
     "output_type": "execute_result"
    }
   ],
   "execution_count": 51
  },
  {
   "metadata": {
    "ExecuteTime": {
     "end_time": "2025-09-29T02:25:25.153044Z",
     "start_time": "2025-09-29T02:25:25.146882Z"
    }
   },
   "cell_type": "code",
   "source": [
    "df_title[[\"price\",\"publisher\"]]\n",
    "# 두 항목을 같이 보고 싶을 때 []를 한번 더 감싸서 출력해야 한다."
   ],
   "id": "c1a30c84dfebae37",
   "outputs": [
    {
     "data": {
      "text/plain": [
       "       price publisher\n",
       "title                 \n",
       "개미     15000      열린책들\n",
       "고구려    15000      이타북스\n",
       "드래곤라자   6300      황금가지\n",
       "퇴마록     8550        들녘"
      ],
      "text/html": [
       "<div>\n",
       "<style scoped>\n",
       "    .dataframe tbody tr th:only-of-type {\n",
       "        vertical-align: middle;\n",
       "    }\n",
       "\n",
       "    .dataframe tbody tr th {\n",
       "        vertical-align: top;\n",
       "    }\n",
       "\n",
       "    .dataframe thead th {\n",
       "        text-align: right;\n",
       "    }\n",
       "</style>\n",
       "<table border=\"1\" class=\"dataframe\">\n",
       "  <thead>\n",
       "    <tr style=\"text-align: right;\">\n",
       "      <th></th>\n",
       "      <th>price</th>\n",
       "      <th>publisher</th>\n",
       "    </tr>\n",
       "    <tr>\n",
       "      <th>title</th>\n",
       "      <th></th>\n",
       "      <th></th>\n",
       "    </tr>\n",
       "  </thead>\n",
       "  <tbody>\n",
       "    <tr>\n",
       "      <th>개미</th>\n",
       "      <td>15000</td>\n",
       "      <td>열린책들</td>\n",
       "    </tr>\n",
       "    <tr>\n",
       "      <th>고구려</th>\n",
       "      <td>15000</td>\n",
       "      <td>이타북스</td>\n",
       "    </tr>\n",
       "    <tr>\n",
       "      <th>드래곤라자</th>\n",
       "      <td>6300</td>\n",
       "      <td>황금가지</td>\n",
       "    </tr>\n",
       "    <tr>\n",
       "      <th>퇴마록</th>\n",
       "      <td>8550</td>\n",
       "      <td>들녘</td>\n",
       "    </tr>\n",
       "  </tbody>\n",
       "</table>\n",
       "</div>"
      ]
     },
     "execution_count": 53,
     "metadata": {},
     "output_type": "execute_result"
    }
   ],
   "execution_count": 53
  },
  {
   "metadata": {
    "ExecuteTime": {
     "end_time": "2025-09-29T02:29:51.864699Z",
     "start_time": "2025-09-29T02:29:51.861211Z"
    }
   },
   "cell_type": "code",
   "source": [
    "# location에 있는 인덱스 하나를 가지고 오는 것 loc\n",
    "print(df_title.loc[\"드래곤라자\"])\n"
   ],
   "id": "afbb2586ad0ff872",
   "outputs": [
    {
     "name": "stdout",
     "output_type": "stream",
     "text": [
      "writer                         이영도\n",
      "publisher                     황금가지\n",
      "1st-edition    1998-05-30 00:00:00\n",
      "price                         6300\n",
      "Name: 드래곤라자, dtype: object\n"
     ]
    }
   ],
   "execution_count": 57
  },
  {
   "metadata": {
    "ExecuteTime": {
     "end_time": "2025-09-29T02:31:49.604459Z",
     "start_time": "2025-09-29T02:31:49.600551Z"
    }
   },
   "cell_type": "code",
   "source": [
    "# 인티저 locatoion\n",
    "print(df_title.iloc[2])"
   ],
   "id": "931a23fa8abae711",
   "outputs": [
    {
     "name": "stdout",
     "output_type": "stream",
     "text": [
      "writer                         이영도\n",
      "publisher                     황금가지\n",
      "1st-edition    1998-05-30 00:00:00\n",
      "price                         6300\n",
      "Name: 드래곤라자, dtype: object\n"
     ]
    }
   ],
   "execution_count": 60
  },
  {
   "metadata": {
    "ExecuteTime": {
     "end_time": "2025-09-29T02:32:22.889890Z",
     "start_time": "2025-09-29T02:32:22.883901Z"
    }
   },
   "cell_type": "code",
   "source": "df_title.loc[[\"고구려\",\"드래곤라자\"]]",
   "id": "3bda7d8f222345ed",
   "outputs": [
    {
     "data": {
      "text/plain": [
       "      writer publisher 1st-edition  price\n",
       "title                                    \n",
       "고구려      김진명      이타북스  2011-02-28  15000\n",
       "드래곤라자    이영도      황금가지  1998-05-30   6300"
      ],
      "text/html": [
       "<div>\n",
       "<style scoped>\n",
       "    .dataframe tbody tr th:only-of-type {\n",
       "        vertical-align: middle;\n",
       "    }\n",
       "\n",
       "    .dataframe tbody tr th {\n",
       "        vertical-align: top;\n",
       "    }\n",
       "\n",
       "    .dataframe thead th {\n",
       "        text-align: right;\n",
       "    }\n",
       "</style>\n",
       "<table border=\"1\" class=\"dataframe\">\n",
       "  <thead>\n",
       "    <tr style=\"text-align: right;\">\n",
       "      <th></th>\n",
       "      <th>writer</th>\n",
       "      <th>publisher</th>\n",
       "      <th>1st-edition</th>\n",
       "      <th>price</th>\n",
       "    </tr>\n",
       "    <tr>\n",
       "      <th>title</th>\n",
       "      <th></th>\n",
       "      <th></th>\n",
       "      <th></th>\n",
       "      <th></th>\n",
       "    </tr>\n",
       "  </thead>\n",
       "  <tbody>\n",
       "    <tr>\n",
       "      <th>고구려</th>\n",
       "      <td>김진명</td>\n",
       "      <td>이타북스</td>\n",
       "      <td>2011-02-28</td>\n",
       "      <td>15000</td>\n",
       "    </tr>\n",
       "    <tr>\n",
       "      <th>드래곤라자</th>\n",
       "      <td>이영도</td>\n",
       "      <td>황금가지</td>\n",
       "      <td>1998-05-30</td>\n",
       "      <td>6300</td>\n",
       "    </tr>\n",
       "  </tbody>\n",
       "</table>\n",
       "</div>"
      ]
     },
     "execution_count": 63,
     "metadata": {},
     "output_type": "execute_result"
    }
   ],
   "execution_count": 63
  },
  {
   "metadata": {
    "ExecuteTime": {
     "end_time": "2025-09-29T02:32:51.061724Z",
     "start_time": "2025-09-29T02:32:51.056829Z"
    }
   },
   "cell_type": "code",
   "source": "df_title.iloc[2:4]",
   "id": "beef90df5f1775e6",
   "outputs": [
    {
     "data": {
      "text/plain": [
       "      writer publisher 1st-edition  price\n",
       "title                                    \n",
       "드래곤라자    이영도      황금가지  1998-05-30   6300\n",
       "퇴마록      이우혁        들녘  1994-01-01   8550"
      ],
      "text/html": [
       "<div>\n",
       "<style scoped>\n",
       "    .dataframe tbody tr th:only-of-type {\n",
       "        vertical-align: middle;\n",
       "    }\n",
       "\n",
       "    .dataframe tbody tr th {\n",
       "        vertical-align: top;\n",
       "    }\n",
       "\n",
       "    .dataframe thead th {\n",
       "        text-align: right;\n",
       "    }\n",
       "</style>\n",
       "<table border=\"1\" class=\"dataframe\">\n",
       "  <thead>\n",
       "    <tr style=\"text-align: right;\">\n",
       "      <th></th>\n",
       "      <th>writer</th>\n",
       "      <th>publisher</th>\n",
       "      <th>1st-edition</th>\n",
       "      <th>price</th>\n",
       "    </tr>\n",
       "    <tr>\n",
       "      <th>title</th>\n",
       "      <th></th>\n",
       "      <th></th>\n",
       "      <th></th>\n",
       "      <th></th>\n",
       "    </tr>\n",
       "  </thead>\n",
       "  <tbody>\n",
       "    <tr>\n",
       "      <th>드래곤라자</th>\n",
       "      <td>이영도</td>\n",
       "      <td>황금가지</td>\n",
       "      <td>1998-05-30</td>\n",
       "      <td>6300</td>\n",
       "    </tr>\n",
       "    <tr>\n",
       "      <th>퇴마록</th>\n",
       "      <td>이우혁</td>\n",
       "      <td>들녘</td>\n",
       "      <td>1994-01-01</td>\n",
       "      <td>8550</td>\n",
       "    </tr>\n",
       "  </tbody>\n",
       "</table>\n",
       "</div>"
      ]
     },
     "execution_count": 65,
     "metadata": {},
     "output_type": "execute_result"
    }
   ],
   "execution_count": 65
  },
  {
   "metadata": {},
   "cell_type": "code",
   "outputs": [],
   "execution_count": null,
   "source": "",
   "id": "61369005d1d3fd9c"
  }
 ],
 "metadata": {
  "kernelspec": {
   "display_name": "Python 3",
   "language": "python",
   "name": "python3"
  },
  "language_info": {
   "codemirror_mode": {
    "name": "ipython",
    "version": 2
   },
   "file_extension": ".py",
   "mimetype": "text/x-python",
   "name": "python",
   "nbconvert_exporter": "python",
   "pygments_lexer": "ipython2",
   "version": "2.7.6"
  }
 },
 "nbformat": 4,
 "nbformat_minor": 5
}
