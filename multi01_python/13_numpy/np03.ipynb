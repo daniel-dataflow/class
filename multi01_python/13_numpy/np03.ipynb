{
 "cells": [
  {
   "cell_type": "code",
   "id": "initial_id",
   "metadata": {
    "collapsed": true,
    "ExecuteTime": {
     "end_time": "2025-09-26T05:42:15.917071Z",
     "start_time": "2025-09-26T05:42:15.914900Z"
    }
   },
   "source": [
    "from IPython.core.interactiveshell import InteractiveShell\n",
    "InteractiveShell.ast_node_interactivity = \"all\"\n"
   ],
   "outputs": [],
   "execution_count": 1
  },
  {
   "metadata": {
    "ExecuteTime": {
     "end_time": "2025-09-26T05:42:26.730661Z",
     "start_time": "2025-09-26T05:42:26.680076Z"
    }
   },
   "cell_type": "code",
   "source": "import numpy as np",
   "id": "bcf325a8d5aa96d9",
   "outputs": [],
   "execution_count": 2
  },
  {
   "metadata": {
    "ExecuteTime": {
     "end_time": "2025-09-26T05:43:06.170780Z",
     "start_time": "2025-09-26T05:43:06.154715Z"
    }
   },
   "cell_type": "code",
   "source": [
    "a = np.random.randint(1, 100, (3, 3))\n",
    "a\n"
   ],
   "id": "8010ea1419a894d",
   "outputs": [
    {
     "data": {
      "text/plain": [
       "array([[49, 92, 72],\n",
       "       [84, 35, 70],\n",
       "       [71, 93, 97]])"
      ]
     },
     "execution_count": 3,
     "metadata": {},
     "output_type": "execute_result"
    }
   ],
   "execution_count": 3
  },
  {
   "metadata": {
    "ExecuteTime": {
     "end_time": "2025-09-26T05:43:32.610299Z",
     "start_time": "2025-09-26T05:43:32.605969Z"
    }
   },
   "cell_type": "code",
   "source": [
    "b = a.copy()\n",
    "b"
   ],
   "id": "770475046923b332",
   "outputs": [
    {
     "data": {
      "text/plain": [
       "array([[49, 92, 72],\n",
       "       [84, 35, 70],\n",
       "       [71, 93, 97]])"
      ]
     },
     "execution_count": 6,
     "metadata": {},
     "output_type": "execute_result"
    }
   ],
   "execution_count": 6
  },
  {
   "metadata": {
    "ExecuteTime": {
     "end_time": "2025-09-26T05:43:43.680490Z",
     "start_time": "2025-09-26T05:43:43.675667Z"
    }
   },
   "cell_type": "code",
   "source": [
    "b.sort()\n",
    "b"
   ],
   "id": "664baa0eb8ee7da7",
   "outputs": [
    {
     "data": {
      "text/plain": [
       "array([[49, 72, 92],\n",
       "       [35, 70, 84],\n",
       "       [71, 93, 97]])"
      ]
     },
     "execution_count": 7,
     "metadata": {},
     "output_type": "execute_result"
    }
   ],
   "execution_count": 7
  },
  {
   "metadata": {
    "ExecuteTime": {
     "end_time": "2025-09-26T05:43:57.529003Z",
     "start_time": "2025-09-26T05:43:57.525078Z"
    }
   },
   "cell_type": "code",
   "source": [
    "c = a.copy()\n",
    "c"
   ],
   "id": "ba79575c1e6aff2a",
   "outputs": [
    {
     "data": {
      "text/plain": [
       "array([[49, 92, 72],\n",
       "       [84, 35, 70],\n",
       "       [71, 93, 97]])"
      ]
     },
     "execution_count": 8,
     "metadata": {},
     "output_type": "execute_result"
    }
   ],
   "execution_count": 8
  },
  {
   "metadata": {
    "ExecuteTime": {
     "end_time": "2025-09-26T05:44:13.541668Z",
     "start_time": "2025-09-26T05:44:13.537228Z"
    }
   },
   "cell_type": "code",
   "source": [
    "c.sort(axis=0)\n",
    "c"
   ],
   "id": "7e01aa21c79219c4",
   "outputs": [
    {
     "data": {
      "text/plain": [
       "array([[49, 35, 70],\n",
       "       [71, 92, 72],\n",
       "       [84, 93, 97]])"
      ]
     },
     "execution_count": 9,
     "metadata": {},
     "output_type": "execute_result"
    }
   ],
   "execution_count": 9
  },
  {
   "metadata": {
    "ExecuteTime": {
     "end_time": "2025-09-26T05:44:28.383862Z",
     "start_time": "2025-09-26T05:44:28.379415Z"
    }
   },
   "cell_type": "code",
   "source": [
    "d = a.copy()\n",
    "d"
   ],
   "id": "bf4975b533c923ed",
   "outputs": [
    {
     "data": {
      "text/plain": [
       "array([[49, 92, 72],\n",
       "       [84, 35, 70],\n",
       "       [71, 93, 97]])"
      ]
     },
     "execution_count": 10,
     "metadata": {},
     "output_type": "execute_result"
    }
   ],
   "execution_count": 10
  },
  {
   "metadata": {
    "ExecuteTime": {
     "end_time": "2025-09-26T05:44:47.299510Z",
     "start_time": "2025-09-26T05:44:47.296623Z"
    }
   },
   "cell_type": "code",
   "source": [
    "d.sort(axis=1)\n",
    "d"
   ],
   "id": "c1e61ed6122920ac",
   "outputs": [
    {
     "data": {
      "text/plain": [
       "array([[49, 72, 92],\n",
       "       [35, 70, 84],\n",
       "       [71, 93, 97]])"
      ]
     },
     "execution_count": 11,
     "metadata": {},
     "output_type": "execute_result"
    }
   ],
   "execution_count": 11
  },
  {
   "metadata": {
    "ExecuteTime": {
     "end_time": "2025-09-26T05:45:59.419230Z",
     "start_time": "2025-09-26T05:45:59.415013Z"
    }
   },
   "cell_type": "code",
   "source": [
    "e = np.arange(25).reshape(5, 5)\n",
    "e"
   ],
   "id": "c3d02268b70e8272",
   "outputs": [
    {
     "data": {
      "text/plain": [
       "array([[ 0,  1,  2,  3,  4],\n",
       "       [ 5,  6,  7,  8,  9],\n",
       "       [10, 11, 12, 13, 14],\n",
       "       [15, 16, 17, 18, 19],\n",
       "       [20, 21, 22, 23, 24]])"
      ]
     },
     "execution_count": 12,
     "metadata": {},
     "output_type": "execute_result"
    }
   ],
   "execution_count": 12
  },
  {
   "metadata": {
    "ExecuteTime": {
     "end_time": "2025-09-26T05:46:36.113654Z",
     "start_time": "2025-09-26T05:46:36.109807Z"
    }
   },
   "cell_type": "code",
   "source": "e[0]",
   "id": "5f5c2fca4316a106",
   "outputs": [
    {
     "data": {
      "text/plain": [
       "array([0, 1, 2, 3, 4])"
      ]
     },
     "execution_count": 13,
     "metadata": {},
     "output_type": "execute_result"
    }
   ],
   "execution_count": 13
  },
  {
   "metadata": {
    "ExecuteTime": {
     "end_time": "2025-09-26T05:47:35.614993Z",
     "start_time": "2025-09-26T05:47:35.611337Z"
    }
   },
   "cell_type": "code",
   "source": "e[0][0]",
   "id": "2a2bac8bfda23a79",
   "outputs": [
    {
     "data": {
      "text/plain": [
       "np.int64(0)"
      ]
     },
     "execution_count": 14,
     "metadata": {},
     "output_type": "execute_result"
    }
   ],
   "execution_count": 14
  },
  {
   "metadata": {
    "ExecuteTime": {
     "end_time": "2025-09-26T05:47:52.704366Z",
     "start_time": "2025-09-26T05:47:52.700853Z"
    }
   },
   "cell_type": "code",
   "source": [
    "# famcy indexing\n",
    "e[0, 0]"
   ],
   "id": "d4efca1e0dc5db53",
   "outputs": [
    {
     "data": {
      "text/plain": [
       "np.int64(0)"
      ]
     },
     "execution_count": 15,
     "metadata": {},
     "output_type": "execute_result"
    }
   ],
   "execution_count": 15
  },
  {
   "metadata": {
    "ExecuteTime": {
     "end_time": "2025-09-26T05:50:12.205063Z",
     "start_time": "2025-09-26T05:50:12.201069Z"
    }
   },
   "cell_type": "code",
   "source": [
    "e[1:][1:]\n",
    "# e[행:열][행:열]"
   ],
   "id": "8700401632330eb3",
   "outputs": [
    {
     "data": {
      "text/plain": [
       "array([[10, 11, 12, 13, 14],\n",
       "       [15, 16, 17, 18, 19],\n",
       "       [20, 21, 22, 23, 24]])"
      ]
     },
     "execution_count": 16,
     "metadata": {},
     "output_type": "execute_result"
    }
   ],
   "execution_count": 16
  },
  {
   "metadata": {
    "ExecuteTime": {
     "end_time": "2025-09-26T06:02:39.494983Z",
     "start_time": "2025-09-26T06:02:39.485638Z"
    }
   },
   "cell_type": "code",
   "source": "e[1:, 1:]",
   "id": "659aa5d11e60e8a1",
   "outputs": [
    {
     "data": {
      "text/plain": [
       "array([[ 6,  7,  8,  9],\n",
       "       [11, 12, 13, 14],\n",
       "       [16, 17, 18, 19],\n",
       "       [21, 22, 23, 24]])"
      ]
     },
     "execution_count": 17,
     "metadata": {},
     "output_type": "execute_result"
    }
   ],
   "execution_count": 17
  },
  {
   "metadata": {
    "ExecuteTime": {
     "end_time": "2025-09-26T06:03:24.162852Z",
     "start_time": "2025-09-26T06:03:24.159122Z"
    }
   },
   "cell_type": "code",
   "source": "e[1:-1, 1: -1]",
   "id": "226411e8d3742ffc",
   "outputs": [
    {
     "data": {
      "text/plain": [
       "array([[ 6,  7,  8],\n",
       "       [11, 12, 13],\n",
       "       [16, 17, 18]])"
      ]
     },
     "execution_count": 18,
     "metadata": {},
     "output_type": "execute_result"
    }
   ],
   "execution_count": 18
  },
  {
   "metadata": {
    "ExecuteTime": {
     "end_time": "2025-09-26T06:05:21.927941Z",
     "start_time": "2025-09-26T06:05:21.925216Z"
    }
   },
   "cell_type": "code",
   "source": [
    "# 행의 0열과 1열을 가져오라\n",
    "e[np.array([0, 1])]"
   ],
   "id": "d360e77459de667c",
   "outputs": [
    {
     "data": {
      "text/plain": [
       "array([[0, 1, 2, 3, 4],\n",
       "       [5, 6, 7, 8, 9]])"
      ]
     },
     "execution_count": 19,
     "metadata": {},
     "output_type": "execute_result"
    }
   ],
   "execution_count": 19
  },
  {
   "metadata": {
    "ExecuteTime": {
     "end_time": "2025-09-26T06:06:27.046855Z",
     "start_time": "2025-09-26T06:06:27.042562Z"
    }
   },
   "cell_type": "code",
   "source": [
    "# e[[행], [열]]\n",
    "# e[[0,0],[1,1]]\n",
    "e[np.array([0, 1]), np.array([0, 1])]"
   ],
   "id": "55abd3e11baea58c",
   "outputs": [
    {
     "data": {
      "text/plain": [
       "array([0, 6])"
      ]
     },
     "execution_count": 20,
     "metadata": {},
     "output_type": "execute_result"
    }
   ],
   "execution_count": 20
  },
  {
   "metadata": {
    "ExecuteTime": {
     "end_time": "2025-09-26T06:11:08.507166Z",
     "start_time": "2025-09-26T06:11:08.503347Z"
    }
   },
   "cell_type": "code",
   "source": [
    "# e [[0,0],[1,1],[2,2]]\n",
    "e[(0,1,2), (0,1,2)]"
   ],
   "id": "6269ae4f558b7d44",
   "outputs": [
    {
     "data": {
      "text/plain": [
       "array([ 0,  6, 12])"
      ]
     },
     "execution_count": 21,
     "metadata": {},
     "output_type": "execute_result"
    }
   ],
   "execution_count": 21
  },
  {
   "metadata": {
    "ExecuteTime": {
     "end_time": "2025-09-26T06:12:23.216132Z",
     "start_time": "2025-09-26T06:12:23.211229Z"
    }
   },
   "cell_type": "code",
   "source": [
    "# 짝수만 행렬을 만들어라\n",
    "e[e%2 ==0]"
   ],
   "id": "e7cba49945fbeb3f",
   "outputs": [
    {
     "data": {
      "text/plain": [
       "array([ 0,  2,  4,  6,  8, 10, 12, 14, 16, 18, 20, 22, 24])"
      ]
     },
     "execution_count": 22,
     "metadata": {},
     "output_type": "execute_result"
    }
   ],
   "execution_count": 22
  },
  {
   "metadata": {
    "ExecuteTime": {
     "end_time": "2025-09-26T06:19:59.744388Z",
     "start_time": "2025-09-26T06:19:59.740800Z"
    }
   },
   "cell_type": "code",
   "source": [
    "# 안에 있는 조건이 참인 것만 가져오라\n",
    "e[e < 5]"
   ],
   "id": "6a97d31e612dd351",
   "outputs": [
    {
     "data": {
      "text/plain": [
       "array([0, 1, 2, 3, 4])"
      ]
     },
     "execution_count": 23,
     "metadata": {},
     "output_type": "execute_result"
    }
   ],
   "execution_count": 23
  },
  {
   "metadata": {
    "ExecuteTime": {
     "end_time": "2025-09-26T06:20:38.667503Z",
     "start_time": "2025-09-26T06:20:38.663781Z"
    }
   },
   "cell_type": "code",
   "source": [
    "# 논리값으로 가져오라\n",
    "e < 5"
   ],
   "id": "bb4409bd2fe7bbf8",
   "outputs": [
    {
     "data": {
      "text/plain": [
       "array([[ True,  True,  True,  True,  True],\n",
       "       [False, False, False, False, False],\n",
       "       [False, False, False, False, False],\n",
       "       [False, False, False, False, False],\n",
       "       [False, False, False, False, False]])"
      ]
     },
     "execution_count": 24,
     "metadata": {},
     "output_type": "execute_result"
    }
   ],
   "execution_count": 24
  },
  {
   "metadata": {},
   "cell_type": "code",
   "outputs": [],
   "execution_count": null,
   "source": "",
   "id": "2304a75df7381d99"
  }
 ],
 "metadata": {
  "kernelspec": {
   "display_name": "Python 3",
   "language": "python",
   "name": "python3"
  },
  "language_info": {
   "codemirror_mode": {
    "name": "ipython",
    "version": 2
   },
   "file_extension": ".py",
   "mimetype": "text/x-python",
   "name": "python",
   "nbconvert_exporter": "python",
   "pygments_lexer": "ipython2",
   "version": "2.7.6"
  }
 },
 "nbformat": 4,
 "nbformat_minor": 5
}
