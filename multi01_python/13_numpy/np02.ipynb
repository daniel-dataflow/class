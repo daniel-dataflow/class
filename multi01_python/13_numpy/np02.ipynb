{
 "cells": [
  {
   "cell_type": "code",
   "id": "initial_id",
   "metadata": {
    "collapsed": true,
    "ExecuteTime": {
     "end_time": "2025-09-26T04:50:03.147186Z",
     "start_time": "2025-09-26T04:50:03.086618Z"
    }
   },
   "source": "import numpy as np",
   "outputs": [],
   "execution_count": 2
  },
  {
   "metadata": {
    "ExecuteTime": {
     "end_time": "2025-09-26T04:50:06.425549Z",
     "start_time": "2025-09-26T04:50:06.418676Z"
    }
   },
   "cell_type": "code",
   "source": "np.arange(10)",
   "id": "2ad10a4da40ce0ba",
   "outputs": [
    {
     "data": {
      "text/plain": [
       "array([0, 1, 2, 3, 4, 5, 6, 7, 8, 9])"
      ]
     },
     "execution_count": 3,
     "metadata": {},
     "output_type": "execute_result"
    }
   ],
   "execution_count": 3
  },
  {
   "metadata": {
    "ExecuteTime": {
     "end_time": "2025-09-26T05:01:24.767109Z",
     "start_time": "2025-09-26T05:01:24.762091Z"
    }
   },
   "cell_type": "code",
   "source": [
    "a = np.arange(1, 10).reshape(3, 3)\n",
    "a"
   ],
   "id": "6c8fca5e0b199e96",
   "outputs": [
    {
     "data": {
      "text/plain": [
       "array([[1, 2, 3],\n",
       "       [4, 5, 6],\n",
       "       [7, 8, 9]])"
      ]
     },
     "execution_count": 5,
     "metadata": {},
     "output_type": "execute_result"
    }
   ],
   "execution_count": 5
  },
  {
   "metadata": {
    "ExecuteTime": {
     "end_time": "2025-09-26T05:02:36.969672Z",
     "start_time": "2025-09-26T05:02:36.963805Z"
    }
   },
   "cell_type": "code",
   "source": [
    "# scalar 연산\n",
    "print(a + 1)\n",
    "print(a - 2)\n",
    "print(a * 3)\n",
    "print(a / 4)\n",
    "print(a % 5)\n"
   ],
   "id": "d81a7a27aab37fc7",
   "outputs": [
    {
     "name": "stdout",
     "output_type": "stream",
     "text": [
      "[[ 2  3  4]\n",
      " [ 5  6  7]\n",
      " [ 8  9 10]]\n",
      "[[-1  0  1]\n",
      " [ 2  3  4]\n",
      " [ 5  6  7]]\n",
      "[[ 3  6  9]\n",
      " [12 15 18]\n",
      " [21 24 27]]\n",
      "[[0.25 0.5  0.75]\n",
      " [1.   1.25 1.5 ]\n",
      " [1.75 2.   2.25]]\n",
      "[[1 2 3]\n",
      " [4 0 1]\n",
      " [2 3 4]]\n"
     ]
    }
   ],
   "execution_count": 6
  },
  {
   "metadata": {
    "ExecuteTime": {
     "end_time": "2025-09-26T05:06:47.588699Z",
     "start_time": "2025-09-26T05:06:47.586237Z"
    }
   },
   "cell_type": "code",
   "source": [
    "from IPython.core.interactiveshell import  InteractiveShell\n",
    "InteractiveShell.ast_node_interactivity = \"all\""
   ],
   "id": "ba6d065af64fdf2c",
   "outputs": [],
   "execution_count": 7
  },
  {
   "metadata": {
    "ExecuteTime": {
     "end_time": "2025-09-26T05:07:00.593479Z",
     "start_time": "2025-09-26T05:07:00.583019Z"
    }
   },
   "cell_type": "code",
   "source": [
    "a + 1\n",
    "a - 2\n",
    "a * 3\n",
    "a / 4\n",
    "a % 5"
   ],
   "id": "20971390e110170",
   "outputs": [
    {
     "data": {
      "text/plain": [
       "array([[ 2,  3,  4],\n",
       "       [ 5,  6,  7],\n",
       "       [ 8,  9, 10]])"
      ]
     },
     "execution_count": 8,
     "metadata": {},
     "output_type": "execute_result"
    },
    {
     "data": {
      "text/plain": [
       "array([[-1,  0,  1],\n",
       "       [ 2,  3,  4],\n",
       "       [ 5,  6,  7]])"
      ]
     },
     "execution_count": 8,
     "metadata": {},
     "output_type": "execute_result"
    },
    {
     "data": {
      "text/plain": [
       "array([[ 3,  6,  9],\n",
       "       [12, 15, 18],\n",
       "       [21, 24, 27]])"
      ]
     },
     "execution_count": 8,
     "metadata": {},
     "output_type": "execute_result"
    },
    {
     "data": {
      "text/plain": [
       "array([[0.25, 0.5 , 0.75],\n",
       "       [1.  , 1.25, 1.5 ],\n",
       "       [1.75, 2.  , 2.25]])"
      ]
     },
     "execution_count": 8,
     "metadata": {},
     "output_type": "execute_result"
    },
    {
     "data": {
      "text/plain": [
       "array([[1, 2, 3],\n",
       "       [4, 0, 1],\n",
       "       [2, 3, 4]])"
      ]
     },
     "execution_count": 8,
     "metadata": {},
     "output_type": "execute_result"
    }
   ],
   "execution_count": 8
  },
  {
   "metadata": {
    "ExecuteTime": {
     "end_time": "2025-09-26T05:14:49.203134Z",
     "start_time": "2025-09-26T05:14:49.200647Z"
    }
   },
   "cell_type": "code",
   "source": "a =  a + 1",
   "id": "7c61053051c3e331",
   "outputs": [],
   "execution_count": 9
  },
  {
   "metadata": {
    "ExecuteTime": {
     "end_time": "2025-09-26T05:14:55.255550Z",
     "start_time": "2025-09-26T05:14:55.251412Z"
    }
   },
   "cell_type": "code",
   "source": "a",
   "id": "5e4ee3616dfcd9e6",
   "outputs": [
    {
     "data": {
      "text/plain": [
       "array([[ 2,  3,  4],\n",
       "       [ 5,  6,  7],\n",
       "       [ 8,  9, 10]])"
      ]
     },
     "execution_count": 10,
     "metadata": {},
     "output_type": "execute_result"
    }
   ],
   "execution_count": 10
  },
  {
   "metadata": {
    "ExecuteTime": {
     "end_time": "2025-09-26T05:15:27.328999Z",
     "start_time": "2025-09-26T05:15:27.325520Z"
    }
   },
   "cell_type": "code",
   "source": "a.sum()",
   "id": "d94cdcebe4426b9",
   "outputs": [
    {
     "data": {
      "text/plain": [
       "np.int64(54)"
      ]
     },
     "execution_count": 11,
     "metadata": {},
     "output_type": "execute_result"
    }
   ],
   "execution_count": 11
  },
  {
   "metadata": {
    "ExecuteTime": {
     "end_time": "2025-09-26T05:15:45.068962Z",
     "start_time": "2025-09-26T05:15:45.063833Z"
    }
   },
   "cell_type": "code",
   "source": [
    "# axis 0 :  \"행 기준으로\" 열 index sum\n",
    "# axis 1 :  \"열 기준으로\" 행 index sum\n",
    "a.sum(axis=0)\n",
    "a.sum(axis=1)"
   ],
   "id": "80082d0b1b06190b",
   "outputs": [
    {
     "data": {
      "text/plain": [
       "array([15, 18, 21])"
      ]
     },
     "execution_count": 12,
     "metadata": {},
     "output_type": "execute_result"
    },
    {
     "data": {
      "text/plain": [
       "array([ 9, 18, 27])"
      ]
     },
     "execution_count": 12,
     "metadata": {},
     "output_type": "execute_result"
    }
   ],
   "execution_count": 12
  },
  {
   "metadata": {
    "ExecuteTime": {
     "end_time": "2025-09-26T05:27:01.976158Z",
     "start_time": "2025-09-26T05:27:01.968031Z"
    }
   },
   "cell_type": "code",
   "source": [
    "a.max()\n",
    "np.max(a)\n",
    "np.max(a, axis=0)\n",
    "np.max(a, axis=1)"
   ],
   "id": "c170a274aeff31d3",
   "outputs": [
    {
     "data": {
      "text/plain": [
       "np.int64(10)"
      ]
     },
     "execution_count": 16,
     "metadata": {},
     "output_type": "execute_result"
    },
    {
     "data": {
      "text/plain": [
       "np.int64(10)"
      ]
     },
     "execution_count": 16,
     "metadata": {},
     "output_type": "execute_result"
    },
    {
     "data": {
      "text/plain": [
       "array([ 8,  9, 10])"
      ]
     },
     "execution_count": 16,
     "metadata": {},
     "output_type": "execute_result"
    },
    {
     "data": {
      "text/plain": [
       "array([ 4,  7, 10])"
      ]
     },
     "execution_count": 16,
     "metadata": {},
     "output_type": "execute_result"
    }
   ],
   "execution_count": 16
  },
  {
   "metadata": {
    "ExecuteTime": {
     "end_time": "2025-09-26T05:26:58.632423Z",
     "start_time": "2025-09-26T05:26:58.623949Z"
    }
   },
   "cell_type": "code",
   "source": [
    "a.min()\n",
    "np.min(a)\n",
    "np.min(a, axis=0)\n",
    "np.min(a, axis=1)"
   ],
   "id": "34455b46c23c2bda",
   "outputs": [
    {
     "data": {
      "text/plain": [
       "np.int64(2)"
      ]
     },
     "execution_count": 15,
     "metadata": {},
     "output_type": "execute_result"
    },
    {
     "data": {
      "text/plain": [
       "np.int64(2)"
      ]
     },
     "execution_count": 15,
     "metadata": {},
     "output_type": "execute_result"
    },
    {
     "data": {
      "text/plain": [
       "array([2, 3, 4])"
      ]
     },
     "execution_count": 15,
     "metadata": {},
     "output_type": "execute_result"
    },
    {
     "data": {
      "text/plain": [
       "array([2, 5, 8])"
      ]
     },
     "execution_count": 15,
     "metadata": {},
     "output_type": "execute_result"
    }
   ],
   "execution_count": 15
  },
  {
   "metadata": {
    "ExecuteTime": {
     "end_time": "2025-09-26T05:29:40.671941Z",
     "start_time": "2025-09-26T05:29:40.667075Z"
    }
   },
   "cell_type": "code",
   "source": [
    "# mean : 평균\n",
    "a.mean()\n",
    "np.mean(a)\n",
    "np.mean(a,axis=0)\n",
    "np.mean(a,axis=1)"
   ],
   "id": "71455dd45cef49b0",
   "outputs": [
    {
     "data": {
      "text/plain": [
       "np.float64(6.0)"
      ]
     },
     "execution_count": 18,
     "metadata": {},
     "output_type": "execute_result"
    },
    {
     "data": {
      "text/plain": [
       "np.float64(6.0)"
      ]
     },
     "execution_count": 18,
     "metadata": {},
     "output_type": "execute_result"
    },
    {
     "data": {
      "text/plain": [
       "array([5., 6., 7.])"
      ]
     },
     "execution_count": 18,
     "metadata": {},
     "output_type": "execute_result"
    },
    {
     "data": {
      "text/plain": [
       "array([3., 6., 9.])"
      ]
     },
     "execution_count": 18,
     "metadata": {},
     "output_type": "execute_result"
    }
   ],
   "execution_count": 18
  },
  {
   "metadata": {
    "ExecuteTime": {
     "end_time": "2025-09-26T05:30:46.106895Z",
     "start_time": "2025-09-26T05:30:46.098153Z"
    }
   },
   "cell_type": "code",
   "source": [
    "# 중앙값 (중위값)\n",
    "# a.median()\n",
    "np.median(a)\n",
    "np.median(a, axis=0)\n",
    "np.median(a, axis=1)"
   ],
   "id": "49ca57d95c6318fe",
   "outputs": [
    {
     "data": {
      "text/plain": [
       "np.float64(6.0)"
      ]
     },
     "execution_count": 19,
     "metadata": {},
     "output_type": "execute_result"
    },
    {
     "data": {
      "text/plain": [
       "array([5., 6., 7.])"
      ]
     },
     "execution_count": 19,
     "metadata": {},
     "output_type": "execute_result"
    },
    {
     "data": {
      "text/plain": [
       "array([3., 6., 9.])"
      ]
     },
     "execution_count": 19,
     "metadata": {},
     "output_type": "execute_result"
    }
   ],
   "execution_count": 19
  },
  {
   "metadata": {
    "ExecuteTime": {
     "end_time": "2025-09-26T05:32:26.344850Z",
     "start_time": "2025-09-26T05:32:26.336022Z"
    }
   },
   "cell_type": "code",
   "source": [
    "# 표준편차\n",
    "a.std()\n",
    "np.std(a)\n",
    "np.std(a, axis=0)\n",
    "np.std(a, axis=1)"
   ],
   "id": "cdf719949de5300d",
   "outputs": [
    {
     "data": {
      "text/plain": [
       "np.float64(2.581988897471611)"
      ]
     },
     "execution_count": 21,
     "metadata": {},
     "output_type": "execute_result"
    },
    {
     "data": {
      "text/plain": [
       "np.float64(2.581988897471611)"
      ]
     },
     "execution_count": 21,
     "metadata": {},
     "output_type": "execute_result"
    },
    {
     "data": {
      "text/plain": [
       "array([2.44948974, 2.44948974, 2.44948974])"
      ]
     },
     "execution_count": 21,
     "metadata": {},
     "output_type": "execute_result"
    },
    {
     "data": {
      "text/plain": [
       "array([0.81649658, 0.81649658, 0.81649658])"
      ]
     },
     "execution_count": 21,
     "metadata": {},
     "output_type": "execute_result"
    }
   ],
   "execution_count": 21
  },
  {
   "metadata": {
    "ExecuteTime": {
     "end_time": "2025-09-26T05:32:55.648512Z",
     "start_time": "2025-09-26T05:32:55.644846Z"
    }
   },
   "cell_type": "code",
   "source": [
    "# 제곱근\n",
    "np.sqrt(a)"
   ],
   "id": "83a7d46a03df531d",
   "outputs": [
    {
     "data": {
      "text/plain": [
       "array([[1.41421356, 1.73205081, 2.        ],\n",
       "       [2.23606798, 2.44948974, 2.64575131],\n",
       "       [2.82842712, 3.        , 3.16227766]])"
      ]
     },
     "execution_count": 22,
     "metadata": {},
     "output_type": "execute_result"
    }
   ],
   "execution_count": 22
  },
  {
   "metadata": {
    "ExecuteTime": {
     "end_time": "2025-09-26T05:34:06.180659Z",
     "start_time": "2025-09-26T05:34:06.176751Z"
    }
   },
   "cell_type": "code",
   "source": [
    "# 지수함수 (e^x)\n",
    "# e : 자연상수, 오릴러 상수(euler's number)\n",
    "np.exp(a)\n"
   ],
   "id": "b35764c44bf26349",
   "outputs": [
    {
     "data": {
      "text/plain": [
       "array([[7.38905610e+00, 2.00855369e+01, 5.45981500e+01],\n",
       "       [1.48413159e+02, 4.03428793e+02, 1.09663316e+03],\n",
       "       [2.98095799e+03, 8.10308393e+03, 2.20264658e+04]])"
      ]
     },
     "execution_count": 23,
     "metadata": {},
     "output_type": "execute_result"
    }
   ],
   "execution_count": 23
  },
  {
   "metadata": {
    "ExecuteTime": {
     "end_time": "2025-09-26T05:35:14.716929Z",
     "start_time": "2025-09-26T05:35:14.710990Z"
    }
   },
   "cell_type": "code",
   "source": [
    "np.sin(a)\n",
    "np.cos(a)\n",
    "np.tan(a)"
   ],
   "id": "3bdccde573d40ccd",
   "outputs": [
    {
     "data": {
      "text/plain": [
       "array([[ 0.90929743,  0.14112001, -0.7568025 ],\n",
       "       [-0.95892427, -0.2794155 ,  0.6569866 ],\n",
       "       [ 0.98935825,  0.41211849, -0.54402111]])"
      ]
     },
     "execution_count": 24,
     "metadata": {},
     "output_type": "execute_result"
    },
    {
     "data": {
      "text/plain": [
       "array([[-0.41614684, -0.9899925 , -0.65364362],\n",
       "       [ 0.28366219,  0.96017029,  0.75390225],\n",
       "       [-0.14550003, -0.91113026, -0.83907153]])"
      ]
     },
     "execution_count": 24,
     "metadata": {},
     "output_type": "execute_result"
    },
    {
     "data": {
      "text/plain": [
       "array([[-2.18503986, -0.14254654,  1.15782128],\n",
       "       [-3.38051501, -0.29100619,  0.87144798],\n",
       "       [-6.79971146, -0.45231566,  0.64836083]])"
      ]
     },
     "execution_count": 24,
     "metadata": {},
     "output_type": "execute_result"
    }
   ],
   "execution_count": 24
  },
  {
   "metadata": {
    "ExecuteTime": {
     "end_time": "2025-09-26T05:36:54.943146Z",
     "start_time": "2025-09-26T05:36:54.938352Z"
    }
   },
   "cell_type": "code",
   "source": [
    "b = np.arange(3, 30, 3).reshape(3, 3)\n",
    "c = np.arange(20, 2, -2).reshape(3, 3)\n",
    "b"
   ],
   "id": "baa2ab216428df49",
   "outputs": [
    {
     "data": {
      "text/plain": [
       "array([[ 3,  6,  9],\n",
       "       [12, 15, 18],\n",
       "       [21, 24, 27]])"
      ]
     },
     "execution_count": 25,
     "metadata": {},
     "output_type": "execute_result"
    }
   ],
   "execution_count": 25
  },
  {
   "metadata": {
    "ExecuteTime": {
     "end_time": "2025-09-26T05:36:56.843427Z",
     "start_time": "2025-09-26T05:36:56.839939Z"
    }
   },
   "cell_type": "code",
   "source": "c",
   "id": "d769946c8b7eabfc",
   "outputs": [
    {
     "data": {
      "text/plain": [
       "array([[20, 18, 16],\n",
       "       [14, 12, 10],\n",
       "       [ 8,  6,  4]])"
      ]
     },
     "execution_count": 26,
     "metadata": {},
     "output_type": "execute_result"
    }
   ],
   "execution_count": 26
  },
  {
   "metadata": {
    "ExecuteTime": {
     "end_time": "2025-09-26T05:37:26.176276Z",
     "start_time": "2025-09-26T05:37:26.172203Z"
    }
   },
   "cell_type": "code",
   "source": "b + c",
   "id": "2d06d7258817c64a",
   "outputs": [
    {
     "data": {
      "text/plain": [
       "array([[23, 24, 25],\n",
       "       [26, 27, 28],\n",
       "       [29, 30, 31]])"
      ]
     },
     "execution_count": 27,
     "metadata": {},
     "output_type": "execute_result"
    }
   ],
   "execution_count": 27
  },
  {
   "metadata": {
    "ExecuteTime": {
     "end_time": "2025-09-26T05:37:34.283024Z",
     "start_time": "2025-09-26T05:37:34.280842Z"
    }
   },
   "cell_type": "code",
   "source": "b - c",
   "id": "533b2c350c9e4b7c",
   "outputs": [
    {
     "data": {
      "text/plain": [
       "array([[-17, -12,  -7],\n",
       "       [ -2,   3,   8],\n",
       "       [ 13,  18,  23]])"
      ]
     },
     "execution_count": 28,
     "metadata": {},
     "output_type": "execute_result"
    }
   ],
   "execution_count": 28
  },
  {
   "metadata": {
    "ExecuteTime": {
     "end_time": "2025-09-26T05:37:42.812541Z",
     "start_time": "2025-09-26T05:37:42.808720Z"
    }
   },
   "cell_type": "code",
   "source": "b * c",
   "id": "6c02da34e1e8c306",
   "outputs": [
    {
     "data": {
      "text/plain": [
       "array([[ 60, 108, 144],\n",
       "       [168, 180, 180],\n",
       "       [168, 144, 108]])"
      ]
     },
     "execution_count": 29,
     "metadata": {},
     "output_type": "execute_result"
    }
   ],
   "execution_count": 29
  },
  {
   "metadata": {
    "ExecuteTime": {
     "end_time": "2025-09-26T05:37:48.279291Z",
     "start_time": "2025-09-26T05:37:48.275578Z"
    }
   },
   "cell_type": "code",
   "source": "b / c",
   "id": "d1b64c853eba0b20",
   "outputs": [
    {
     "data": {
      "text/plain": [
       "array([[0.15      , 0.33333333, 0.5625    ],\n",
       "       [0.85714286, 1.25      , 1.8       ],\n",
       "       [2.625     , 4.        , 6.75      ]])"
      ]
     },
     "execution_count": 30,
     "metadata": {},
     "output_type": "execute_result"
    }
   ],
   "execution_count": 30
  },
  {
   "metadata": {
    "ExecuteTime": {
     "end_time": "2025-09-26T05:38:18.287770Z",
     "start_time": "2025-09-26T05:38:18.284265Z"
    }
   },
   "cell_type": "code",
   "source": "np.add(b, c)\n",
   "id": "d4614f76619e9c5c",
   "outputs": [
    {
     "data": {
      "text/plain": [
       "array([[23, 24, 25],\n",
       "       [26, 27, 28],\n",
       "       [29, 30, 31]])"
      ]
     },
     "execution_count": 31,
     "metadata": {},
     "output_type": "execute_result"
    }
   ],
   "execution_count": 31
  },
  {
   "metadata": {
    "ExecuteTime": {
     "end_time": "2025-09-26T05:38:20.963562Z",
     "start_time": "2025-09-26T05:38:20.959347Z"
    }
   },
   "cell_type": "code",
   "source": "np.subtract(b, c)",
   "id": "33aa83cf557732d8",
   "outputs": [
    {
     "data": {
      "text/plain": [
       "array([[-17, -12,  -7],\n",
       "       [ -2,   3,   8],\n",
       "       [ 13,  18,  23]])"
      ]
     },
     "execution_count": 32,
     "metadata": {},
     "output_type": "execute_result"
    }
   ],
   "execution_count": 32
  },
  {
   "metadata": {
    "ExecuteTime": {
     "end_time": "2025-09-26T05:38:35.770347Z",
     "start_time": "2025-09-26T05:38:35.766806Z"
    }
   },
   "cell_type": "code",
   "source": "np.multiply(b, c)",
   "id": "f945013eb6bb89e1",
   "outputs": [
    {
     "data": {
      "text/plain": [
       "array([[ 60, 108, 144],\n",
       "       [168, 180, 180],\n",
       "       [168, 144, 108]])"
      ]
     },
     "execution_count": 33,
     "metadata": {},
     "output_type": "execute_result"
    }
   ],
   "execution_count": 33
  },
  {
   "metadata": {
    "ExecuteTime": {
     "end_time": "2025-09-26T05:38:52.303435Z",
     "start_time": "2025-09-26T05:38:52.299683Z"
    }
   },
   "cell_type": "code",
   "source": "np.divide(b, c)",
   "id": "e059b08138c3af73",
   "outputs": [
    {
     "data": {
      "text/plain": [
       "array([[0.15      , 0.33333333, 0.5625    ],\n",
       "       [0.85714286, 1.25      , 1.8       ],\n",
       "       [2.625     , 4.        , 6.75      ]])"
      ]
     },
     "execution_count": 34,
     "metadata": {},
     "output_type": "execute_result"
    }
   ],
   "execution_count": 34
  },
  {
   "metadata": {
    "ExecuteTime": {
     "end_time": "2025-09-26T05:39:09.211681Z",
     "start_time": "2025-09-26T05:39:09.208426Z"
    }
   },
   "cell_type": "code",
   "source": [
    "# 나머지 연산\n",
    "np.divmod(b, c)"
   ],
   "id": "bac05dffbeacec3",
   "outputs": [
    {
     "data": {
      "text/plain": [
       "(array([[0, 0, 0],\n",
       "        [0, 1, 1],\n",
       "        [2, 4, 6]]),\n",
       " array([[ 3,  6,  9],\n",
       "        [12,  3,  8],\n",
       "        [ 5,  0,  3]]))"
      ]
     },
     "execution_count": 35,
     "metadata": {},
     "output_type": "execute_result"
    }
   ],
   "execution_count": 35
  },
  {
   "metadata": {
    "ExecuteTime": {
     "end_time": "2025-09-26T05:40:09.270518Z",
     "start_time": "2025-09-26T05:40:09.265453Z"
    }
   },
   "cell_type": "code",
   "source": [
    "# 내적\n",
    "b @ c"
   ],
   "id": "3ccfe7e75c1f3aea",
   "outputs": [
    {
     "data": {
      "text/plain": [
       "array([[216, 180, 144],\n",
       "       [594, 504, 414],\n",
       "       [972, 828, 684]])"
      ]
     },
     "execution_count": 36,
     "metadata": {},
     "output_type": "execute_result"
    }
   ],
   "execution_count": 36
  },
  {
   "metadata": {
    "ExecuteTime": {
     "end_time": "2025-09-26T05:40:51.208790Z",
     "start_time": "2025-09-26T05:40:51.205107Z"
    }
   },
   "cell_type": "code",
   "source": "np.matmul(b, c)\n",
   "id": "d43357653f5433",
   "outputs": [
    {
     "data": {
      "text/plain": [
       "array([[216, 180, 144],\n",
       "       [594, 504, 414],\n",
       "       [972, 828, 684]])"
      ]
     },
     "execution_count": 37,
     "metadata": {},
     "output_type": "execute_result"
    }
   ],
   "execution_count": 37
  },
  {
   "metadata": {
    "ExecuteTime": {
     "end_time": "2025-09-26T05:41:11.063897Z",
     "start_time": "2025-09-26T05:41:11.060981Z"
    }
   },
   "cell_type": "code",
   "source": "np.dot(b,c)",
   "id": "7ccf95f134aed855",
   "outputs": [
    {
     "data": {
      "text/plain": [
       "array([[216, 180, 144],\n",
       "       [594, 504, 414],\n",
       "       [972, 828, 684]])"
      ]
     },
     "execution_count": 39,
     "metadata": {},
     "output_type": "execute_result"
    }
   ],
   "execution_count": 39
  },
  {
   "metadata": {},
   "cell_type": "code",
   "outputs": [],
   "execution_count": null,
   "source": "",
   "id": "3a383b5e709f4bce"
  }
 ],
 "metadata": {
  "kernelspec": {
   "display_name": "Python 3",
   "language": "python",
   "name": "python3"
  },
  "language_info": {
   "codemirror_mode": {
    "name": "ipython",
    "version": 2
   },
   "file_extension": ".py",
   "mimetype": "text/x-python",
   "name": "python",
   "nbconvert_exporter": "python",
   "pygments_lexer": "ipython2",
   "version": "2.7.6"
  }
 },
 "nbformat": 4,
 "nbformat_minor": 5
}
