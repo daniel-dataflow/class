{
 "cells": [
  {
   "cell_type": "markdown",
   "id": "587bf7e2-7e8a-4e44-a16f-98daace2c62a",
   "metadata": {},
   "source": [
    "# MarkDown"
   ]
  },
  {
   "metadata": {},
   "cell_type": "markdown",
   "source": [
    "**명령어**\n",
    "\n",
    "enter : edit mode\n",
    "\n",
    "esc : command mode\n",
    "\n",
    "[edit mode] ctrl + enter : 실행\n",
    "\n",
    "[edit mode] shift + enter :  실행 및 다음 cell 선택\n",
    "\n",
    "[edit mode] alt + enter : 실행 및 새로운 cell 생성"
   ],
   "id": "777d5cf75a9dd5a0"
  },
  {
   "metadata": {},
   "cell_type": "markdown",
   "source": [
    "[command mode] + a : 현재 cell 위에 cell 추가\n",
    "\n",
    "[command mode] + b : 현재 cell  아래에 cell 추가\n",
    "\n",
    "[command mode] + y : 현재 cell을 code cell로 변경\n",
    "\n",
    "[command mode] + m : 현재 cell을 markdown cell로 변경\n",
    "\n",
    "! : shell 명령어 사용\n",
    "\n",
    "%  : magic function  사용 (!와 거의 동일하지만, python 명령어이다!!!)"
   ],
   "id": "4f277b16dcd47d42"
  },
  {
   "metadata": {
    "ExecuteTime": {
     "end_time": "2025-09-26T01:28:56.603823Z",
     "start_time": "2025-09-26T01:28:56.098107Z"
    }
   },
   "cell_type": "code",
   "source": "%pip install numpy",
   "id": "bb527be2ceff5a72",
   "outputs": [
    {
     "name": "stdout",
     "output_type": "stream",
     "text": [
      "Requirement already satisfied: numpy in /Users/handaeseong/dev/data-engineer/miniconda3/envs/multi01/lib/python3.13/site-packages (2.2.6)\r\n",
      "Note: you may need to restart the kernel to use updated packages.\n"
     ]
    }
   ],
   "execution_count": 1
  },
  {
   "metadata": {
    "ExecuteTime": {
     "end_time": "2025-09-26T01:35:47.115726Z",
     "start_time": "2025-09-26T01:35:46.964847Z"
    }
   },
   "cell_type": "code",
   "source": "import numpy as np",
   "id": "2acc798f67c41878",
   "outputs": [],
   "execution_count": 2
  },
  {
   "metadata": {
    "ExecuteTime": {
     "end_time": "2025-09-26T01:35:56.955748Z",
     "start_time": "2025-09-26T01:35:56.949695Z"
    }
   },
   "cell_type": "code",
   "source": "np.__version__",
   "id": "6e3792cdac8ec20",
   "outputs": [
    {
     "data": {
      "text/plain": [
       "'2.2.6'"
      ]
     },
     "execution_count": 3,
     "metadata": {},
     "output_type": "execute_result"
    }
   ],
   "execution_count": 3
  },
  {
   "metadata": {
    "ExecuteTime": {
     "end_time": "2025-09-26T01:37:47.206158Z",
     "start_time": "2025-09-26T01:37:47.203409Z"
    }
   },
   "cell_type": "code",
   "source": "print(np.__version__)",
   "id": "6dc246c6fb927dd4",
   "outputs": [
    {
     "name": "stdout",
     "output_type": "stream",
     "text": [
      "2.2.6\n"
     ]
    }
   ],
   "execution_count": 4
  },
  {
   "metadata": {
    "ExecuteTime": {
     "end_time": "2025-09-26T01:39:49.067770Z",
     "start_time": "2025-09-26T01:39:49.064209Z"
    }
   },
   "cell_type": "code",
   "source": [
    "# 자동완성 : tab\n",
    "# docstring (설명) : shift + tab\n",
    "np.array"
   ],
   "id": "6549cad3ccfcfcfe",
   "outputs": [
    {
     "data": {
      "text/plain": [
       "<function numpy.array>"
      ]
     },
     "execution_count": 5,
     "metadata": {},
     "output_type": "execute_result"
    }
   ],
   "execution_count": 5
  },
  {
   "metadata": {
    "ExecuteTime": {
     "end_time": "2025-09-26T01:40:27.322914Z",
     "start_time": "2025-09-26T01:40:27.317618Z"
    }
   },
   "cell_type": "code",
   "source": [
    "arr01 = np.array([1, 2, 3, 4, 5])\n",
    "arr01"
   ],
   "id": "f25d61c56dfd6525",
   "outputs": [
    {
     "data": {
      "text/plain": [
       "array([1, 2, 3, 4, 5])"
      ]
     },
     "execution_count": 6,
     "metadata": {},
     "output_type": "execute_result"
    }
   ],
   "execution_count": 6
  },
  {
   "metadata": {
    "ExecuteTime": {
     "end_time": "2025-09-26T01:41:38.967156Z",
     "start_time": "2025-09-26T01:41:38.963358Z"
    }
   },
   "cell_type": "code",
   "source": [
    "type(arr01)\n",
    "# ndarray : n dimensional array (n차원 배열)"
   ],
   "id": "3e0622b742351edc",
   "outputs": [
    {
     "data": {
      "text/plain": [
       "numpy.ndarray"
      ]
     },
     "execution_count": 8,
     "metadata": {},
     "output_type": "execute_result"
    }
   ],
   "execution_count": 8
  },
  {
   "metadata": {
    "ExecuteTime": {
     "end_time": "2025-09-26T01:44:21.207628Z",
     "start_time": "2025-09-26T01:44:21.204757Z"
    }
   },
   "cell_type": "code",
   "source": [
    "arr02 = np.array([\n",
    "    [1.1, 2.2, 3.3],\n",
    "    [4, 5, 6,]\n",
    "])\n",
    "arr02"
   ],
   "id": "3f10eea8d9e7c448",
   "outputs": [
    {
     "data": {
      "text/plain": [
       "array([[1.1, 2.2, 3.3],\n",
       "       [4. , 5. , 6. ]])"
      ]
     },
     "execution_count": 10,
     "metadata": {},
     "output_type": "execute_result"
    }
   ],
   "execution_count": 10
  },
  {
   "metadata": {
    "ExecuteTime": {
     "end_time": "2025-09-26T01:49:20.361714Z",
     "start_time": "2025-09-26T01:49:20.356170Z"
    }
   },
   "cell_type": "code",
   "source": [
    "list_dim3 = [\n",
    "    [[\"1\"],[\"2\"],[\"3\"]],\n",
    "    [[4],[5],[6]],\n",
    "    [[7],[8],[9]],\n",
    "    [[\"10\"],[\"11\"],[\"12\"]]\n",
    "]\n",
    "arr03 = np.array(list_dim3)\n",
    "arr03"
   ],
   "id": "85e3f97eb9ff4f09",
   "outputs": [
    {
     "data": {
      "text/plain": [
       "array([[['1'],\n",
       "        ['2'],\n",
       "        ['3']],\n",
       "\n",
       "       [['4'],\n",
       "        ['5'],\n",
       "        ['6']],\n",
       "\n",
       "       [['7'],\n",
       "        ['8'],\n",
       "        ['9']],\n",
       "\n",
       "       [['10'],\n",
       "        ['11'],\n",
       "        ['12']]], dtype='<U21')"
      ]
     },
     "execution_count": 11,
     "metadata": {},
     "output_type": "execute_result"
    }
   ],
   "execution_count": 11
  },
  {
   "metadata": {
    "ExecuteTime": {
     "end_time": "2025-09-26T02:01:32.833862Z",
     "start_time": "2025-09-26T02:01:32.830523Z"
    }
   },
   "cell_type": "code",
   "source": [
    "# shape :  차원 출력 (1, 2, 3, ... n차원)\n",
    "\n",
    "# (5, ) 1차원 데이터 5개\n",
    "print(arr01.shape)\n",
    "# (2, 3) 2차원 , 2행 3열\n",
    "print(arr02.shape)\n",
    "# (4, 3, 1) 3차원, 4개의 2차원 -> (3, 1) : 3행 1열\n",
    "print(arr03.shape)"
   ],
   "id": "dbf7daae3d674725",
   "outputs": [
    {
     "name": "stdout",
     "output_type": "stream",
     "text": [
      "(5,)\n",
      "(2, 3)\n",
      "(4, 3, 1)\n"
     ]
    }
   ],
   "execution_count": 12
  },
  {
   "metadata": {
    "ExecuteTime": {
     "end_time": "2025-09-26T02:06:33.204786Z",
     "start_time": "2025-09-26T02:06:33.201667Z"
    }
   },
   "cell_type": "code",
   "source": [
    "# ndim : 차원의 갯수\n",
    "print(arr01.ndim)\n",
    "print(arr02.ndim)\n",
    "print(arr03.ndim)"
   ],
   "id": "bc2d450dca83baa9",
   "outputs": [
    {
     "name": "stdout",
     "output_type": "stream",
     "text": [
      "1\n",
      "2\n",
      "3\n"
     ]
    }
   ],
   "execution_count": 13
  },
  {
   "metadata": {
    "ExecuteTime": {
     "end_time": "2025-09-26T02:07:51.786462Z",
     "start_time": "2025-09-26T02:07:51.783257Z"
    }
   },
   "cell_type": "code",
   "source": [
    "# dtyoe : ndarray 내부의 값들이 어떤 type인지. 64 비트\n",
    "print(arr01.dtype)\n",
    "print(arr02.dtype)\n",
    "print(arr03.dtype)"
   ],
   "id": "5fc104d767132eea",
   "outputs": [
    {
     "name": "stdout",
     "output_type": "stream",
     "text": [
      "int64\n",
      "float64\n",
      "<U21\n"
     ]
    }
   ],
   "execution_count": 14
  },
  {
   "metadata": {
    "ExecuteTime": {
     "end_time": "2025-09-26T02:10:02.327508Z",
     "start_time": "2025-09-26T02:10:02.324116Z"
    }
   },
   "cell_type": "code",
   "source": [
    "# size : 행 * 열\n",
    "print(arr01.size)\n",
    "print(arr02.size)\n",
    "print(arr03.size)"
   ],
   "id": "93cc799af665b2b4",
   "outputs": [
    {
     "name": "stdout",
     "output_type": "stream",
     "text": [
      "5\n",
      "6\n",
      "12\n"
     ]
    }
   ],
   "execution_count": 15
  },
  {
   "metadata": {
    "ExecuteTime": {
     "end_time": "2025-09-26T02:14:42.955246Z",
     "start_time": "2025-09-26T02:14:42.952629Z"
    }
   },
   "cell_type": "code",
   "source": [
    "from IPython.core.interactiveshell import InteractiveShell\n",
    "InteractiveShell.ast_node_interactivity = \"all\"\n",
    "\n",
    "# print 없이 여러 개의 변수를 모두 출력!"
   ],
   "id": "7678dcbeb19ed1cb",
   "outputs": [],
   "execution_count": 16
  },
  {
   "metadata": {
    "ExecuteTime": {
     "end_time": "2025-09-26T02:14:57.686238Z",
     "start_time": "2025-09-26T02:14:57.679593Z"
    }
   },
   "cell_type": "code",
   "source": [
    "arr01.size\n",
    "arr02.size\n",
    "arr03.size"
   ],
   "id": "117218e231e50879",
   "outputs": [
    {
     "data": {
      "text/plain": [
       "5"
      ]
     },
     "execution_count": 17,
     "metadata": {},
     "output_type": "execute_result"
    },
    {
     "data": {
      "text/plain": [
       "6"
      ]
     },
     "execution_count": 17,
     "metadata": {},
     "output_type": "execute_result"
    },
    {
     "data": {
      "text/plain": [
       "12"
      ]
     },
     "execution_count": 17,
     "metadata": {},
     "output_type": "execute_result"
    }
   ],
   "execution_count": 17
  },
  {
   "metadata": {},
   "cell_type": "code",
   "outputs": [],
   "execution_count": null,
   "source": "",
   "id": "1edbab3419eb656"
  },
  {
   "metadata": {
    "ExecuteTime": {
     "end_time": "2025-09-26T02:17:41.448052Z",
     "start_time": "2025-09-26T02:17:41.443922Z"
    }
   },
   "cell_type": "code",
   "source": "np.arange(3)",
   "id": "72a7559097c87ac9",
   "outputs": [
    {
     "data": {
      "text/plain": [
       "array([0, 1, 2])"
      ]
     },
     "execution_count": 18,
     "metadata": {},
     "output_type": "execute_result"
    }
   ],
   "execution_count": 18
  },
  {
   "metadata": {
    "ExecuteTime": {
     "end_time": "2025-09-26T02:17:57.964049Z",
     "start_time": "2025-09-26T02:17:57.960001Z"
    }
   },
   "cell_type": "code",
   "source": "np.arange(1, 5)",
   "id": "7c8539efd3f826e7",
   "outputs": [
    {
     "data": {
      "text/plain": [
       "array([1, 2, 3, 4])"
      ]
     },
     "execution_count": 19,
     "metadata": {},
     "output_type": "execute_result"
    }
   ],
   "execution_count": 19
  },
  {
   "metadata": {
    "ExecuteTime": {
     "end_time": "2025-09-26T02:18:35.714466Z",
     "start_time": "2025-09-26T02:18:35.708600Z"
    }
   },
   "cell_type": "code",
   "source": [
    "arr04 = np.arange(0, 11, 2)\n",
    "arr04\n",
    "arr04.shape # 몇 차원 몇 열"
   ],
   "id": "967705e3a4c02a28",
   "outputs": [
    {
     "data": {
      "text/plain": [
       "array([ 0,  2,  4,  6,  8, 10])"
      ]
     },
     "execution_count": 21,
     "metadata": {},
     "output_type": "execute_result"
    },
    {
     "data": {
      "text/plain": [
       "(6,)"
      ]
     },
     "execution_count": 21,
     "metadata": {},
     "output_type": "execute_result"
    }
   ],
   "execution_count": 21
  },
  {
   "metadata": {
    "ExecuteTime": {
     "end_time": "2025-09-26T02:21:49.379049Z",
     "start_time": "2025-09-26T02:21:49.373318Z"
    }
   },
   "cell_type": "code",
   "source": [
    "arr04 = arr04.reshape(2, 3)\n",
    "arr04.shape\n",
    "arr04"
   ],
   "id": "b90fe7d932366673",
   "outputs": [
    {
     "data": {
      "text/plain": [
       "(2, 3)"
      ]
     },
     "execution_count": 24,
     "metadata": {},
     "output_type": "execute_result"
    },
    {
     "data": {
      "text/plain": [
       "array([[ 0,  2,  4],\n",
       "       [ 6,  8, 10]])"
      ]
     },
     "execution_count": 24,
     "metadata": {},
     "output_type": "execute_result"
    }
   ],
   "execution_count": 24
  },
  {
   "metadata": {
    "ExecuteTime": {
     "end_time": "2025-09-26T02:25:32.265526Z",
     "start_time": "2025-09-26T02:25:32.261078Z"
    }
   },
   "cell_type": "code",
   "source": [
    "arr05 = np.arange(100)\n",
    "arr05"
   ],
   "id": "b76fb6f5612a1b99",
   "outputs": [
    {
     "data": {
      "text/plain": [
       "array([ 0,  1,  2,  3,  4,  5,  6,  7,  8,  9, 10, 11, 12, 13, 14, 15, 16,\n",
       "       17, 18, 19, 20, 21, 22, 23, 24, 25, 26, 27, 28, 29, 30, 31, 32, 33,\n",
       "       34, 35, 36, 37, 38, 39, 40, 41, 42, 43, 44, 45, 46, 47, 48, 49, 50,\n",
       "       51, 52, 53, 54, 55, 56, 57, 58, 59, 60, 61, 62, 63, 64, 65, 66, 67,\n",
       "       68, 69, 70, 71, 72, 73, 74, 75, 76, 77, 78, 79, 80, 81, 82, 83, 84,\n",
       "       85, 86, 87, 88, 89, 90, 91, 92, 93, 94, 95, 96, 97, 98, 99])"
      ]
     },
     "execution_count": 25,
     "metadata": {},
     "output_type": "execute_result"
    }
   ],
   "execution_count": 25
  },
  {
   "metadata": {
    "ExecuteTime": {
     "end_time": "2025-09-26T02:26:46.973863Z",
     "start_time": "2025-09-26T02:26:46.860775Z"
    }
   },
   "cell_type": "code",
   "source": [
    "arr05.reshape(2,3)\n",
    "# ValueError: cannot reshape array of size 100 into shape (2,3)"
   ],
   "id": "712ef783976560ae",
   "outputs": [
    {
     "ename": "ValueError",
     "evalue": "cannot reshape array of size 100 into shape (2,3)",
     "output_type": "error",
     "traceback": [
      "\u001B[31m---------------------------------------------------------------------------\u001B[39m",
      "\u001B[31mValueError\u001B[39m                                Traceback (most recent call last)",
      "\u001B[36mCell\u001B[39m\u001B[36m \u001B[39m\u001B[32mIn[26]\u001B[39m\u001B[32m, line 1\u001B[39m\n\u001B[32m----> \u001B[39m\u001B[32m1\u001B[39m \u001B[43marr05\u001B[49m\u001B[43m.\u001B[49m\u001B[43mreshape\u001B[49m\u001B[43m(\u001B[49m\u001B[32;43m2\u001B[39;49m\u001B[43m,\u001B[49m\u001B[32;43m3\u001B[39;49m\u001B[43m)\u001B[49m\n",
      "\u001B[31mValueError\u001B[39m: cannot reshape array of size 100 into shape (2,3)"
     ]
    }
   ],
   "execution_count": 26
  },
  {
   "metadata": {
    "ExecuteTime": {
     "end_time": "2025-09-26T02:29:45.486773Z",
     "start_time": "2025-09-26T02:29:45.481087Z"
    }
   },
   "cell_type": "code",
   "source": [
    "# -1 : numpy가 알아서 추론\n",
    "arr05 = arr05.reshape(2, -1)\n",
    "arr05"
   ],
   "id": "91e9c2c659fbc7b7",
   "outputs": [
    {
     "data": {
      "text/plain": [
       "array([[ 0,  1,  2,  3,  4,  5,  6,  7,  8,  9, 10, 11, 12, 13, 14, 15,\n",
       "        16, 17, 18, 19, 20, 21, 22, 23, 24, 25, 26, 27, 28, 29, 30, 31,\n",
       "        32, 33, 34, 35, 36, 37, 38, 39, 40, 41, 42, 43, 44, 45, 46, 47,\n",
       "        48, 49],\n",
       "       [50, 51, 52, 53, 54, 55, 56, 57, 58, 59, 60, 61, 62, 63, 64, 65,\n",
       "        66, 67, 68, 69, 70, 71, 72, 73, 74, 75, 76, 77, 78, 79, 80, 81,\n",
       "        82, 83, 84, 85, 86, 87, 88, 89, 90, 91, 92, 93, 94, 95, 96, 97,\n",
       "        98, 99]])"
      ]
     },
     "execution_count": 28,
     "metadata": {},
     "output_type": "execute_result"
    }
   ],
   "execution_count": 28
  },
  {
   "metadata": {
    "ExecuteTime": {
     "end_time": "2025-09-26T02:31:16.580583Z",
     "start_time": "2025-09-26T02:31:16.575676Z"
    }
   },
   "cell_type": "code",
   "source": [
    "arr05 = arr05.reshape(-1, 2)\n",
    "arr05.shape\n",
    "arr05"
   ],
   "id": "3b7d3ac0a8a4cd56",
   "outputs": [
    {
     "data": {
      "text/plain": [
       "(50, 2)"
      ]
     },
     "execution_count": 31,
     "metadata": {},
     "output_type": "execute_result"
    },
    {
     "data": {
      "text/plain": [
       "array([[ 0,  1],\n",
       "       [ 2,  3],\n",
       "       [ 4,  5],\n",
       "       [ 6,  7],\n",
       "       [ 8,  9],\n",
       "       [10, 11],\n",
       "       [12, 13],\n",
       "       [14, 15],\n",
       "       [16, 17],\n",
       "       [18, 19],\n",
       "       [20, 21],\n",
       "       [22, 23],\n",
       "       [24, 25],\n",
       "       [26, 27],\n",
       "       [28, 29],\n",
       "       [30, 31],\n",
       "       [32, 33],\n",
       "       [34, 35],\n",
       "       [36, 37],\n",
       "       [38, 39],\n",
       "       [40, 41],\n",
       "       [42, 43],\n",
       "       [44, 45],\n",
       "       [46, 47],\n",
       "       [48, 49],\n",
       "       [50, 51],\n",
       "       [52, 53],\n",
       "       [54, 55],\n",
       "       [56, 57],\n",
       "       [58, 59],\n",
       "       [60, 61],\n",
       "       [62, 63],\n",
       "       [64, 65],\n",
       "       [66, 67],\n",
       "       [68, 69],\n",
       "       [70, 71],\n",
       "       [72, 73],\n",
       "       [74, 75],\n",
       "       [76, 77],\n",
       "       [78, 79],\n",
       "       [80, 81],\n",
       "       [82, 83],\n",
       "       [84, 85],\n",
       "       [86, 87],\n",
       "       [88, 89],\n",
       "       [90, 91],\n",
       "       [92, 93],\n",
       "       [94, 95],\n",
       "       [96, 97],\n",
       "       [98, 99]])"
      ]
     },
     "execution_count": 31,
     "metadata": {},
     "output_type": "execute_result"
    }
   ],
   "execution_count": 31
  },
  {
   "metadata": {
    "ExecuteTime": {
     "end_time": "2025-09-26T02:31:48.350184Z",
     "start_time": "2025-09-26T02:31:48.344913Z"
    }
   },
   "cell_type": "code",
   "source": [
    "arr05 = arr05.reshape(2, -1, 5)\n",
    "arr05.shape\n",
    "arr05"
   ],
   "id": "95e8777c96107483",
   "outputs": [
    {
     "data": {
      "text/plain": [
       "(2, 10, 5)"
      ]
     },
     "execution_count": 32,
     "metadata": {},
     "output_type": "execute_result"
    },
    {
     "data": {
      "text/plain": [
       "array([[[ 0,  1,  2,  3,  4],\n",
       "        [ 5,  6,  7,  8,  9],\n",
       "        [10, 11, 12, 13, 14],\n",
       "        [15, 16, 17, 18, 19],\n",
       "        [20, 21, 22, 23, 24],\n",
       "        [25, 26, 27, 28, 29],\n",
       "        [30, 31, 32, 33, 34],\n",
       "        [35, 36, 37, 38, 39],\n",
       "        [40, 41, 42, 43, 44],\n",
       "        [45, 46, 47, 48, 49]],\n",
       "\n",
       "       [[50, 51, 52, 53, 54],\n",
       "        [55, 56, 57, 58, 59],\n",
       "        [60, 61, 62, 63, 64],\n",
       "        [65, 66, 67, 68, 69],\n",
       "        [70, 71, 72, 73, 74],\n",
       "        [75, 76, 77, 78, 79],\n",
       "        [80, 81, 82, 83, 84],\n",
       "        [85, 86, 87, 88, 89],\n",
       "        [90, 91, 92, 93, 94],\n",
       "        [95, 96, 97, 98, 99]]])"
      ]
     },
     "execution_count": 32,
     "metadata": {},
     "output_type": "execute_result"
    }
   ],
   "execution_count": 32
  },
  {
   "metadata": {
    "ExecuteTime": {
     "end_time": "2025-09-26T02:36:11.402914Z",
     "start_time": "2025-09-26T02:36:11.399789Z"
    }
   },
   "cell_type": "code",
   "source": [
    "arr06 = np.zeros(5)\n",
    "arr07 = np.ones(10)\n",
    "arr08 = np.empty(5)"
   ],
   "id": "c3cb8b8caa156634",
   "outputs": [],
   "execution_count": 41
  },
  {
   "metadata": {
    "ExecuteTime": {
     "end_time": "2025-09-26T02:36:18.424898Z",
     "start_time": "2025-09-26T02:36:18.418474Z"
    }
   },
   "cell_type": "code",
   "source": [
    "arr06\n",
    "arr07\n",
    "arr08"
   ],
   "id": "d90928195bf3111f",
   "outputs": [
    {
     "data": {
      "text/plain": [
       "array([0., 0., 0., 0., 0.])"
      ]
     },
     "execution_count": 43,
     "metadata": {},
     "output_type": "execute_result"
    },
    {
     "data": {
      "text/plain": [
       "array([1., 1., 1., 1., 1., 1., 1., 1., 1., 1.])"
      ]
     },
     "execution_count": 43,
     "metadata": {},
     "output_type": "execute_result"
    },
    {
     "data": {
      "text/plain": [
       "array([ 1.  ,  2.75,  6.  , 10.75, 17.  ])"
      ]
     },
     "execution_count": 43,
     "metadata": {},
     "output_type": "execute_result"
    }
   ],
   "execution_count": 43
  },
  {
   "metadata": {
    "ExecuteTime": {
     "end_time": "2025-09-26T02:46:05.712317Z",
     "start_time": "2025-09-26T02:46:05.705547Z"
    }
   },
   "cell_type": "code",
   "source": [
    "np.linspace(0, 10, num=5)\n",
    "np.linspace(0, 12, num=5)\n",
    "np.linspace(0, 12, num=3)"
   ],
   "id": "ed67c77477518acc",
   "outputs": [
    {
     "data": {
      "text/plain": [
       "array([ 0. ,  2.5,  5. ,  7.5, 10. ])"
      ]
     },
     "execution_count": 45,
     "metadata": {},
     "output_type": "execute_result"
    },
    {
     "data": {
      "text/plain": [
       "array([ 0.,  3.,  6.,  9., 12.])"
      ]
     },
     "execution_count": 45,
     "metadata": {},
     "output_type": "execute_result"
    },
    {
     "data": {
      "text/plain": [
       "array([ 0.,  6., 12.])"
      ]
     },
     "execution_count": 45,
     "metadata": {},
     "output_type": "execute_result"
    }
   ],
   "execution_count": 45
  },
  {
   "metadata": {
    "ExecuteTime": {
     "end_time": "2025-09-26T02:50:18.932267Z",
     "start_time": "2025-09-26T02:50:18.928335Z"
    }
   },
   "cell_type": "code",
   "source": "np.full((2, 3), 4)",
   "id": "210eda500d3a06fd",
   "outputs": [
    {
     "data": {
      "text/plain": [
       "array([[4, 4, 4],\n",
       "       [4, 4, 4]])"
      ]
     },
     "execution_count": 50,
     "metadata": {},
     "output_type": "execute_result"
    }
   ],
   "execution_count": 50
  },
  {
   "metadata": {
    "ExecuteTime": {
     "end_time": "2025-09-26T04:05:37.943525Z",
     "start_time": "2025-09-26T04:05:37.933135Z"
    }
   },
   "cell_type": "code",
   "source": [
    "# 단위행렬 :  곱셈에 대한 항등원 : 행렬을 곱하기 해서 자기 자신이 나오는 값\n",
    "# 3행에 대한 단위행렬\n",
    "np.eye(3)"
   ],
   "id": "ed2c419f1c6b7325",
   "outputs": [
    {
     "data": {
      "text/plain": [
       "array([[1., 0., 0.],\n",
       "       [0., 1., 0.],\n",
       "       [0., 0., 1.]])"
      ]
     },
     "execution_count": 51,
     "metadata": {},
     "output_type": "execute_result"
    }
   ],
   "execution_count": 51
  },
  {
   "metadata": {
    "ExecuteTime": {
     "end_time": "2025-09-26T04:12:33.533866Z",
     "start_time": "2025-09-26T04:12:33.526896Z"
    }
   },
   "cell_type": "code",
   "source": [
    "np.random.random() # 0<= n <1 의 난수를 만든다.\n",
    "np.random.random(5)\n",
    "np.random.random((2, 3))"
   ],
   "id": "82e2ab3cded4ed67",
   "outputs": [
    {
     "data": {
      "text/plain": [
       "0.44423676794805567"
      ]
     },
     "execution_count": 54,
     "metadata": {},
     "output_type": "execute_result"
    },
    {
     "data": {
      "text/plain": [
       "array([0.09118973, 0.05487309, 0.02159387, 0.78083452, 0.19445733])"
      ]
     },
     "execution_count": 54,
     "metadata": {},
     "output_type": "execute_result"
    },
    {
     "data": {
      "text/plain": [
       "array([[0.67012183, 0.96829124, 0.6324519 ],\n",
       "       [0.05298201, 0.83500149, 0.86335344]])"
      ]
     },
     "execution_count": 54,
     "metadata": {},
     "output_type": "execute_result"
    }
   ],
   "execution_count": 54
  },
  {
   "metadata": {
    "ExecuteTime": {
     "end_time": "2025-09-26T04:18:13.450019Z",
     "start_time": "2025-09-26T04:18:13.446036Z"
    }
   },
   "cell_type": "code",
   "source": "list(np.random.random(5))",
   "id": "33d5228f49eec821",
   "outputs": [
    {
     "data": {
      "text/plain": [
       "[np.float64(0.5614038527795673),\n",
       " np.float64(0.1776334200639439),\n",
       " np.float64(0.5291753115218769),\n",
       " np.float64(0.43904795726632295),\n",
       " np.float64(0.12829606739857746)]"
      ]
     },
     "execution_count": 55,
     "metadata": {},
     "output_type": "execute_result"
    }
   ],
   "execution_count": 55
  },
  {
   "metadata": {
    "ExecuteTime": {
     "end_time": "2025-09-26T04:29:06.626854Z",
     "start_time": "2025-09-26T04:29:06.622053Z"
    }
   },
   "cell_type": "code",
   "source": [
    "np.random.seed(1) # random을 고정해준다. 싱글론 2**32-1 이내의 random와 계산식을 통해 특정 값을 전달해준다.\n",
    "np.random.randint(0, 10, (2, 3))"
   ],
   "id": "2d3bdf7a9b8e8728",
   "outputs": [
    {
     "data": {
      "text/plain": [
       "array([[5, 8, 9],\n",
       "       [5, 0, 0]])"
      ]
     },
     "execution_count": 62,
     "metadata": {},
     "output_type": "execute_result"
    }
   ],
   "execution_count": 62
  },
  {
   "metadata": {
    "ExecuteTime": {
     "end_time": "2025-09-26T04:33:52.874297Z",
     "start_time": "2025-09-26T04:33:52.868286Z"
    }
   },
   "cell_type": "code",
   "source": [
    "# 표준 정규분포에 맞게 설정된 난수\n",
    "np.random.randn(5)\n",
    "np.random.randn(2, 3)"
   ],
   "id": "e4c0b2c66ba64afd",
   "outputs": [
    {
     "data": {
      "text/plain": [
       "array([-1.601721  , -1.47782957,  0.48349585,  0.18843661, -0.46468632])"
      ]
     },
     "execution_count": 63,
     "metadata": {},
     "output_type": "execute_result"
    },
    {
     "data": {
      "text/plain": [
       "array([[ 0.86182712, -2.65426198,  1.15226492],\n",
       "       [ 0.19664341, -1.54521415, -0.08810409]])"
      ]
     },
     "execution_count": 63,
     "metadata": {},
     "output_type": "execute_result"
    }
   ],
   "execution_count": 63
  },
  {
   "metadata": {
    "ExecuteTime": {
     "end_time": "2025-09-26T04:46:46.578077Z",
     "start_time": "2025-09-26T04:46:46.572430Z"
    }
   },
   "cell_type": "code",
   "source": [
    "np.arange(1, 101)\n",
    "np.arange(1, 101).dtype"
   ],
   "id": "67718565ff0a8620",
   "outputs": [
    {
     "data": {
      "text/plain": [
       "array([  1,   2,   3,   4,   5,   6,   7,   8,   9,  10,  11,  12,  13,\n",
       "        14,  15,  16,  17,  18,  19,  20,  21,  22,  23,  24,  25,  26,\n",
       "        27,  28,  29,  30,  31,  32,  33,  34,  35,  36,  37,  38,  39,\n",
       "        40,  41,  42,  43,  44,  45,  46,  47,  48,  49,  50,  51,  52,\n",
       "        53,  54,  55,  56,  57,  58,  59,  60,  61,  62,  63,  64,  65,\n",
       "        66,  67,  68,  69,  70,  71,  72,  73,  74,  75,  76,  77,  78,\n",
       "        79,  80,  81,  82,  83,  84,  85,  86,  87,  88,  89,  90,  91,\n",
       "        92,  93,  94,  95,  96,  97,  98,  99, 100])"
      ]
     },
     "execution_count": 66,
     "metadata": {},
     "output_type": "execute_result"
    },
    {
     "data": {
      "text/plain": [
       "dtype('int64')"
      ]
     },
     "execution_count": 66,
     "metadata": {},
     "output_type": "execute_result"
    }
   ],
   "execution_count": 66
  },
  {
   "metadata": {
    "ExecuteTime": {
     "end_time": "2025-09-26T04:46:59.484978Z",
     "start_time": "2025-09-26T04:46:59.480241Z"
    }
   },
   "cell_type": "code",
   "source": "np.arange(1, 101, dtype=float)",
   "id": "59c0e1c4bc930614",
   "outputs": [
    {
     "data": {
      "text/plain": [
       "array([  1.,   2.,   3.,   4.,   5.,   6.,   7.,   8.,   9.,  10.,  11.,\n",
       "        12.,  13.,  14.,  15.,  16.,  17.,  18.,  19.,  20.,  21.,  22.,\n",
       "        23.,  24.,  25.,  26.,  27.,  28.,  29.,  30.,  31.,  32.,  33.,\n",
       "        34.,  35.,  36.,  37.,  38.,  39.,  40.,  41.,  42.,  43.,  44.,\n",
       "        45.,  46.,  47.,  48.,  49.,  50.,  51.,  52.,  53.,  54.,  55.,\n",
       "        56.,  57.,  58.,  59.,  60.,  61.,  62.,  63.,  64.,  65.,  66.,\n",
       "        67.,  68.,  69.,  70.,  71.,  72.,  73.,  74.,  75.,  76.,  77.,\n",
       "        78.,  79.,  80.,  81.,  82.,  83.,  84.,  85.,  86.,  87.,  88.,\n",
       "        89.,  90.,  91.,  92.,  93.,  94.,  95.,  96.,  97.,  98.,  99.,\n",
       "       100.])"
      ]
     },
     "execution_count": 67,
     "metadata": {},
     "output_type": "execute_result"
    }
   ],
   "execution_count": 67
  },
  {
   "metadata": {},
   "cell_type": "code",
   "outputs": [],
   "execution_count": null,
   "source": "",
   "id": "354c6f22554a4c7f"
  }
 ],
 "metadata": {
  "kernelspec": {
   "display_name": "Python 3 (ipykernel)",
   "language": "python",
   "name": "python3"
  },
  "language_info": {
   "codemirror_mode": {
    "name": "ipython",
    "version": 3
   },
   "file_extension": ".py",
   "mimetype": "text/x-python",
   "name": "python",
   "nbconvert_exporter": "python",
   "pygments_lexer": "ipython3",
   "version": "3.13.7"
  }
 },
 "nbformat": 4,
 "nbformat_minor": 5
}
