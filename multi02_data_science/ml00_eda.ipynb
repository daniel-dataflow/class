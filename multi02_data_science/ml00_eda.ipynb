{
 "cells": [
  {
   "cell_type": "markdown",
   "id": "f852f643",
   "metadata": {},
   "source": [
    "# EDA (Exploratory Data Analysis) : 탐색적 데이터 분석"
   ]
  },
  {
   "cell_type": "code",
   "execution_count": 1,
   "id": "aaca8c48",
   "metadata": {},
   "outputs": [
    {
     "name": "stdout",
     "output_type": "stream",
     "text": [
      "Collecting scipy\n",
      "  Downloading scipy-1.16.2-cp314-cp314-macosx_12_0_arm64.whl.metadata (62 kB)\n",
      "Collecting numpy<2.6,>=1.25.2 (from scipy)\n",
      "  Downloading numpy-2.3.3-cp314-cp314-macosx_11_0_arm64.whl.metadata (62 kB)\n",
      "Downloading scipy-1.16.2-cp314-cp314-macosx_12_0_arm64.whl (28.9 MB)\n",
      "\u001b[2K   \u001b[90m━━━━━━━━━━━━━━━━━━━━━━━━━━━━━━━━━━━━━━━━\u001b[0m \u001b[32m28.9/28.9 MB\u001b[0m \u001b[31m46.1 MB/s\u001b[0m  \u001b[33m0:00:00\u001b[0mm0:00:01\u001b[0m00:01\u001b[0m\n",
      "\u001b[?25hDownloading numpy-2.3.3-cp314-cp314-macosx_11_0_arm64.whl (14.2 MB)\n",
      "\u001b[2K   \u001b[90m━━━━━━━━━━━━━━━━━━━━━━━━━━━━━━━━━━━━━━━━\u001b[0m \u001b[32m14.2/14.2 MB\u001b[0m \u001b[31m40.2 MB/s\u001b[0m  \u001b[33m0:00:00\u001b[0meta \u001b[36m0:00:01\u001b[0m\n",
      "\u001b[?25hInstalling collected packages: numpy, scipy\n",
      "\u001b[2K   \u001b[90m━━━━━━━━━━━━━━━━━━━━━━━━━━━━━━━━━━━━━━━━\u001b[0m \u001b[32m2/2\u001b[0m [scipy]32m1/2\u001b[0m [scipy]\n",
      "\u001b[1A\u001b[2KSuccessfully installed numpy-2.3.3 scipy-1.16.2\n",
      "Note: you may need to restart the kernel to use updated packages.\n"
     ]
    }
   ],
   "source": [
    "%pip install scipy"
   ]
  },
  {
   "cell_type": "code",
   "execution_count": 2,
   "id": "cf0ecd29",
   "metadata": {},
   "outputs": [
    {
     "name": "stdout",
     "output_type": "stream",
     "text": [
      "Collecting pandas\n",
      "  Downloading pandas-2.3.3-cp314-cp314-macosx_11_0_arm64.whl.metadata (91 kB)\n",
      "Requirement already satisfied: numpy>=1.26.0 in /Users/handaeseong/dev/data-engineer/miniconda3/envs/multi02/lib/python3.14/site-packages (from pandas) (2.3.3)\n",
      "Requirement already satisfied: python-dateutil>=2.8.2 in /Users/handaeseong/dev/data-engineer/miniconda3/envs/multi02/lib/python3.14/site-packages (from pandas) (2.9.0.post0)\n",
      "Collecting pytz>=2020.1 (from pandas)\n",
      "  Using cached pytz-2025.2-py2.py3-none-any.whl.metadata (22 kB)\n",
      "Collecting tzdata>=2022.7 (from pandas)\n",
      "  Using cached tzdata-2025.2-py2.py3-none-any.whl.metadata (1.4 kB)\n",
      "Requirement already satisfied: six>=1.5 in /Users/handaeseong/dev/data-engineer/miniconda3/envs/multi02/lib/python3.14/site-packages (from python-dateutil>=2.8.2->pandas) (1.17.0)\n",
      "Downloading pandas-2.3.3-cp314-cp314-macosx_11_0_arm64.whl (10.8 MB)\n",
      "\u001b[2K   \u001b[90m━━━━━━━━━━━━━━━━━━━━━━━━━━━━━━━━━━━━━━━━\u001b[0m \u001b[32m10.8/10.8 MB\u001b[0m \u001b[31m19.3 MB/s\u001b[0m  \u001b[33m0:00:00\u001b[0meta \u001b[36m0:00:01\u001b[0m\n",
      "\u001b[?25hUsing cached pytz-2025.2-py2.py3-none-any.whl (509 kB)\n",
      "Using cached tzdata-2025.2-py2.py3-none-any.whl (347 kB)\n",
      "Installing collected packages: pytz, tzdata, pandas\n",
      "\u001b[2K   \u001b[90m━━━━━━━━━━━━━━━━━━━━━━━━━━━━━━━━━━━━━━━━\u001b[0m \u001b[32m3/3\u001b[0m [pandas]2m2/3\u001b[0m [pandas]\n",
      "\u001b[1A\u001b[2KSuccessfully installed pandas-2.3.3 pytz-2025.2 tzdata-2025.2\n",
      "Note: you may need to restart the kernel to use updated packages.\n"
     ]
    }
   ],
   "source": [
    "%pip install pandas"
   ]
  },
  {
   "cell_type": "code",
   "execution_count": 4,
   "id": "5efaf580",
   "metadata": {},
   "outputs": [],
   "source": [
    "import numpy as np\n",
    "import pandas as pd\n",
    "from scipy .stats import *"
   ]
  },
  {
   "cell_type": "code",
   "execution_count": 5,
   "id": "d5d3b4a4",
   "metadata": {},
   "outputs": [
    {
     "data": {
      "text/plain": [
       "np.float64(3.0)"
      ]
     },
     "execution_count": 5,
     "metadata": {},
     "output_type": "execute_result"
    },
    {
     "data": {
      "text/plain": [
       "np.float64(3.0)"
      ]
     },
     "execution_count": 5,
     "metadata": {},
     "output_type": "execute_result"
    },
    {
     "data": {
      "text/plain": [
       "np.float64(3.0)"
      ]
     },
     "execution_count": 5,
     "metadata": {},
     "output_type": "execute_result"
    }
   ],
   "source": [
    "x = [1, 2, 3, 4, 5]\n",
    "\n",
    "# 산술 평균\n",
    "np.mean(x)\n",
    "np.array(x).mean()\n",
    "pd.Series(x).mean()"
   ]
  },
  {
   "cell_type": "code",
   "execution_count": 2,
   "id": "18e3907e",
   "metadata": {},
   "outputs": [],
   "source": [
    "from IPython.core.interactiveshell import InteractiveShell\n",
    "InteractiveShell.ast_node_interactivity = \"all\""
   ]
  },
  {
   "cell_type": "code",
   "execution_count": 6,
   "id": "8d96a4f2",
   "metadata": {},
   "outputs": [
    {
     "data": {
      "text/html": [
       "<div>\n",
       "<style scoped>\n",
       "    .dataframe tbody tr th:only-of-type {\n",
       "        vertical-align: middle;\n",
       "    }\n",
       "\n",
       "    .dataframe tbody tr th {\n",
       "        vertical-align: top;\n",
       "    }\n",
       "\n",
       "    .dataframe thead th {\n",
       "        text-align: right;\n",
       "    }\n",
       "</style>\n",
       "<table border=\"1\" class=\"dataframe\">\n",
       "  <thead>\n",
       "    <tr style=\"text-align: right;\">\n",
       "      <th></th>\n",
       "      <th>english</th>\n",
       "      <th>mathematics</th>\n",
       "    </tr>\n",
       "    <tr>\n",
       "      <th>student number</th>\n",
       "      <th></th>\n",
       "      <th></th>\n",
       "    </tr>\n",
       "  </thead>\n",
       "  <tbody>\n",
       "    <tr>\n",
       "      <th>1</th>\n",
       "      <td>42</td>\n",
       "      <td>65</td>\n",
       "    </tr>\n",
       "    <tr>\n",
       "      <th>2</th>\n",
       "      <td>69</td>\n",
       "      <td>80</td>\n",
       "    </tr>\n",
       "    <tr>\n",
       "      <th>3</th>\n",
       "      <td>56</td>\n",
       "      <td>63</td>\n",
       "    </tr>\n",
       "    <tr>\n",
       "      <th>4</th>\n",
       "      <td>41</td>\n",
       "      <td>63</td>\n",
       "    </tr>\n",
       "    <tr>\n",
       "      <th>5</th>\n",
       "      <td>57</td>\n",
       "      <td>76</td>\n",
       "    </tr>\n",
       "    <tr>\n",
       "      <th>6</th>\n",
       "      <td>48</td>\n",
       "      <td>60</td>\n",
       "    </tr>\n",
       "    <tr>\n",
       "      <th>7</th>\n",
       "      <td>65</td>\n",
       "      <td>81</td>\n",
       "    </tr>\n",
       "    <tr>\n",
       "      <th>8</th>\n",
       "      <td>49</td>\n",
       "      <td>66</td>\n",
       "    </tr>\n",
       "    <tr>\n",
       "      <th>9</th>\n",
       "      <td>65</td>\n",
       "      <td>78</td>\n",
       "    </tr>\n",
       "    <tr>\n",
       "      <th>10</th>\n",
       "      <td>58</td>\n",
       "      <td>82</td>\n",
       "    </tr>\n",
       "    <tr>\n",
       "      <th>11</th>\n",
       "      <td>70</td>\n",
       "      <td>94</td>\n",
       "    </tr>\n",
       "    <tr>\n",
       "      <th>12</th>\n",
       "      <td>47</td>\n",
       "      <td>75</td>\n",
       "    </tr>\n",
       "    <tr>\n",
       "      <th>13</th>\n",
       "      <td>51</td>\n",
       "      <td>70</td>\n",
       "    </tr>\n",
       "    <tr>\n",
       "      <th>14</th>\n",
       "      <td>64</td>\n",
       "      <td>77</td>\n",
       "    </tr>\n",
       "    <tr>\n",
       "      <th>15</th>\n",
       "      <td>62</td>\n",
       "      <td>84</td>\n",
       "    </tr>\n",
       "    <tr>\n",
       "      <th>16</th>\n",
       "      <td>70</td>\n",
       "      <td>84</td>\n",
       "    </tr>\n",
       "    <tr>\n",
       "      <th>17</th>\n",
       "      <td>71</td>\n",
       "      <td>82</td>\n",
       "    </tr>\n",
       "    <tr>\n",
       "      <th>18</th>\n",
       "      <td>68</td>\n",
       "      <td>85</td>\n",
       "    </tr>\n",
       "    <tr>\n",
       "      <th>19</th>\n",
       "      <td>73</td>\n",
       "      <td>90</td>\n",
       "    </tr>\n",
       "    <tr>\n",
       "      <th>20</th>\n",
       "      <td>37</td>\n",
       "      <td>70</td>\n",
       "    </tr>\n",
       "    <tr>\n",
       "      <th>21</th>\n",
       "      <td>65</td>\n",
       "      <td>78</td>\n",
       "    </tr>\n",
       "    <tr>\n",
       "      <th>22</th>\n",
       "      <td>65</td>\n",
       "      <td>93</td>\n",
       "    </tr>\n",
       "    <tr>\n",
       "      <th>23</th>\n",
       "      <td>61</td>\n",
       "      <td>77</td>\n",
       "    </tr>\n",
       "    <tr>\n",
       "      <th>24</th>\n",
       "      <td>52</td>\n",
       "      <td>88</td>\n",
       "    </tr>\n",
       "    <tr>\n",
       "      <th>25</th>\n",
       "      <td>57</td>\n",
       "      <td>82</td>\n",
       "    </tr>\n",
       "    <tr>\n",
       "      <th>26</th>\n",
       "      <td>57</td>\n",
       "      <td>76</td>\n",
       "    </tr>\n",
       "    <tr>\n",
       "      <th>27</th>\n",
       "      <td>75</td>\n",
       "      <td>87</td>\n",
       "    </tr>\n",
       "    <tr>\n",
       "      <th>28</th>\n",
       "      <td>61</td>\n",
       "      <td>84</td>\n",
       "    </tr>\n",
       "    <tr>\n",
       "      <th>29</th>\n",
       "      <td>47</td>\n",
       "      <td>77</td>\n",
       "    </tr>\n",
       "    <tr>\n",
       "      <th>30</th>\n",
       "      <td>54</td>\n",
       "      <td>82</td>\n",
       "    </tr>\n",
       "    <tr>\n",
       "      <th>31</th>\n",
       "      <td>66</td>\n",
       "      <td>91</td>\n",
       "    </tr>\n",
       "    <tr>\n",
       "      <th>32</th>\n",
       "      <td>54</td>\n",
       "      <td>75</td>\n",
       "    </tr>\n",
       "    <tr>\n",
       "      <th>33</th>\n",
       "      <td>54</td>\n",
       "      <td>76</td>\n",
       "    </tr>\n",
       "    <tr>\n",
       "      <th>34</th>\n",
       "      <td>42</td>\n",
       "      <td>78</td>\n",
       "    </tr>\n",
       "    <tr>\n",
       "      <th>35</th>\n",
       "      <td>37</td>\n",
       "      <td>57</td>\n",
       "    </tr>\n",
       "    <tr>\n",
       "      <th>36</th>\n",
       "      <td>79</td>\n",
       "      <td>89</td>\n",
       "    </tr>\n",
       "    <tr>\n",
       "      <th>37</th>\n",
       "      <td>56</td>\n",
       "      <td>83</td>\n",
       "    </tr>\n",
       "    <tr>\n",
       "      <th>38</th>\n",
       "      <td>62</td>\n",
       "      <td>69</td>\n",
       "    </tr>\n",
       "    <tr>\n",
       "      <th>39</th>\n",
       "      <td>62</td>\n",
       "      <td>86</td>\n",
       "    </tr>\n",
       "    <tr>\n",
       "      <th>40</th>\n",
       "      <td>55</td>\n",
       "      <td>81</td>\n",
       "    </tr>\n",
       "    <tr>\n",
       "      <th>41</th>\n",
       "      <td>63</td>\n",
       "      <td>81</td>\n",
       "    </tr>\n",
       "    <tr>\n",
       "      <th>42</th>\n",
       "      <td>57</td>\n",
       "      <td>80</td>\n",
       "    </tr>\n",
       "    <tr>\n",
       "      <th>43</th>\n",
       "      <td>57</td>\n",
       "      <td>79</td>\n",
       "    </tr>\n",
       "    <tr>\n",
       "      <th>44</th>\n",
       "      <td>67</td>\n",
       "      <td>87</td>\n",
       "    </tr>\n",
       "    <tr>\n",
       "      <th>45</th>\n",
       "      <td>55</td>\n",
       "      <td>84</td>\n",
       "    </tr>\n",
       "    <tr>\n",
       "      <th>46</th>\n",
       "      <td>45</td>\n",
       "      <td>71</td>\n",
       "    </tr>\n",
       "    <tr>\n",
       "      <th>47</th>\n",
       "      <td>66</td>\n",
       "      <td>80</td>\n",
       "    </tr>\n",
       "    <tr>\n",
       "      <th>48</th>\n",
       "      <td>55</td>\n",
       "      <td>77</td>\n",
       "    </tr>\n",
       "    <tr>\n",
       "      <th>49</th>\n",
       "      <td>64</td>\n",
       "      <td>83</td>\n",
       "    </tr>\n",
       "    <tr>\n",
       "      <th>50</th>\n",
       "      <td>66</td>\n",
       "      <td>88</td>\n",
       "    </tr>\n",
       "  </tbody>\n",
       "</table>\n",
       "</div>"
      ],
      "text/plain": [
       "                english  mathematics\n",
       "student number                      \n",
       "1                    42           65\n",
       "2                    69           80\n",
       "3                    56           63\n",
       "4                    41           63\n",
       "5                    57           76\n",
       "6                    48           60\n",
       "7                    65           81\n",
       "8                    49           66\n",
       "9                    65           78\n",
       "10                   58           82\n",
       "11                   70           94\n",
       "12                   47           75\n",
       "13                   51           70\n",
       "14                   64           77\n",
       "15                   62           84\n",
       "16                   70           84\n",
       "17                   71           82\n",
       "18                   68           85\n",
       "19                   73           90\n",
       "20                   37           70\n",
       "21                   65           78\n",
       "22                   65           93\n",
       "23                   61           77\n",
       "24                   52           88\n",
       "25                   57           82\n",
       "26                   57           76\n",
       "27                   75           87\n",
       "28                   61           84\n",
       "29                   47           77\n",
       "30                   54           82\n",
       "31                   66           91\n",
       "32                   54           75\n",
       "33                   54           76\n",
       "34                   42           78\n",
       "35                   37           57\n",
       "36                   79           89\n",
       "37                   56           83\n",
       "38                   62           69\n",
       "39                   62           86\n",
       "40                   55           81\n",
       "41                   63           81\n",
       "42                   57           80\n",
       "43                   57           79\n",
       "44                   67           87\n",
       "45                   55           84\n",
       "46                   45           71\n",
       "47                   66           80\n",
       "48                   55           77\n",
       "49                   64           83\n",
       "50                   66           88"
      ]
     },
     "execution_count": 6,
     "metadata": {},
     "output_type": "execute_result"
    }
   ],
   "source": [
    "df = pd.read_csv(\"students.csv\", index_col=\"student number\")\n",
    "df"
   ]
  },
  {
   "cell_type": "code",
   "execution_count": 7,
   "id": "97f1889e",
   "metadata": {},
   "outputs": [
    {
     "data": {
      "text/plain": [
       "(50, 2)"
      ]
     },
     "execution_count": 7,
     "metadata": {},
     "output_type": "execute_result"
    }
   ],
   "source": [
    "df.shape"
   ]
  },
  {
   "cell_type": "code",
   "execution_count": 8,
   "id": "9600f5a0",
   "metadata": {},
   "outputs": [
    {
     "data": {
      "text/plain": [
       "58.38"
      ]
     },
     "execution_count": 8,
     "metadata": {},
     "output_type": "execute_result"
    }
   ],
   "source": [
    "sum(df[\"english\"]) / len(df[\"english\"])"
   ]
  },
  {
   "cell_type": "code",
   "execution_count": 9,
   "id": "66405fe4",
   "metadata": {},
   "outputs": [
    {
     "data": {
      "text/plain": [
       "np.float64(58.38)"
      ]
     },
     "execution_count": 9,
     "metadata": {},
     "output_type": "execute_result"
    }
   ],
   "source": [
    "np.mean(df[\"english\"])"
   ]
  },
  {
   "cell_type": "code",
   "execution_count": 10,
   "id": "638e0823",
   "metadata": {},
   "outputs": [],
   "source": [
    "data = [2, 8, 3]"
   ]
  },
  {
   "cell_type": "code",
   "execution_count": 11,
   "id": "7f605e42",
   "metadata": {},
   "outputs": [],
   "source": [
    "import math"
   ]
  },
  {
   "cell_type": "code",
   "execution_count": 13,
   "id": "2707211a",
   "metadata": {},
   "outputs": [
    {
     "data": {
      "text/plain": [
       "3.634241185664279"
      ]
     },
     "execution_count": 13,
     "metadata": {},
     "output_type": "execute_result"
    }
   ],
   "source": [
    "# 기하 평균 :  특정 구간에서의 평균 변화율\n",
    "math.prod(data) ** (1 / len(data))"
   ]
  },
  {
   "cell_type": "code",
   "execution_count": null,
   "id": "52ea55f8",
   "metadata": {},
   "outputs": [
    {
     "data": {
      "text/plain": [
       "np.float64(95.99999999999999)"
      ]
     },
     "execution_count": 15,
     "metadata": {},
     "output_type": "execute_result"
    }
   ],
   "source": [
    "# 조화 평균\n",
    "data = np.array([80, 120])\n",
    "len(data) / np.sum(1 / data)"
   ]
  },
  {
   "cell_type": "code",
   "execution_count": 16,
   "id": "48da8fb1",
   "metadata": {},
   "outputs": [
    {
     "data": {
      "text/plain": [
       "np.float64(95.99999999999999)"
      ]
     },
     "execution_count": 16,
     "metadata": {},
     "output_type": "execute_result"
    }
   ],
   "source": [
    "hmean(data)"
   ]
  },
  {
   "cell_type": "code",
   "execution_count": 17,
   "id": "5d4164bc",
   "metadata": {},
   "outputs": [
    {
     "data": {
      "text/plain": [
       "np.float64(5.5)"
      ]
     },
     "execution_count": 17,
     "metadata": {},
     "output_type": "execute_result"
    }
   ],
   "source": [
    "np.average(np.arange(1, 11))"
   ]
  },
  {
   "cell_type": "code",
   "execution_count": 18,
   "id": "d1d3e78d",
   "metadata": {},
   "outputs": [
    {
     "data": {
      "text/plain": [
       "np.float64(4.0)"
      ]
     },
     "execution_count": 18,
     "metadata": {},
     "output_type": "execute_result"
    }
   ],
   "source": [
    "# 가중 평균\n",
    "np.average(np.arange(1, 11), weights=np.arange(10, 0, -1))"
   ]
  },
  {
   "cell_type": "code",
   "execution_count": 19,
   "id": "53a7e0c5",
   "metadata": {},
   "outputs": [
    {
     "data": {
      "text/plain": [
       "student number\n",
       "1     42\n",
       "2     69\n",
       "3     56\n",
       "4     41\n",
       "5     57\n",
       "6     48\n",
       "7     65\n",
       "8     49\n",
       "9     65\n",
       "10    58\n",
       "11    70\n",
       "12    47\n",
       "13    51\n",
       "14    64\n",
       "15    62\n",
       "16    70\n",
       "17    71\n",
       "18    68\n",
       "19    73\n",
       "20    37\n",
       "21    65\n",
       "22    65\n",
       "23    61\n",
       "24    52\n",
       "25    57\n",
       "26    57\n",
       "27    75\n",
       "28    61\n",
       "29    47\n",
       "30    54\n",
       "31    66\n",
       "32    54\n",
       "33    54\n",
       "34    42\n",
       "35    37\n",
       "36    79\n",
       "37    56\n",
       "38    62\n",
       "39    62\n",
       "40    55\n",
       "41    63\n",
       "42    57\n",
       "43    57\n",
       "44    67\n",
       "45    55\n",
       "46    45\n",
       "47    66\n",
       "48    55\n",
       "49    64\n",
       "50    66\n",
       "Name: english, dtype: int64"
      ]
     },
     "execution_count": 19,
     "metadata": {},
     "output_type": "execute_result"
    }
   ],
   "source": [
    "# 중앙값 (중위값)\n",
    "scores = df[\"english\"]\n",
    "scores"
   ]
  },
  {
   "cell_type": "code",
   "execution_count": 20,
   "id": "098a9024",
   "metadata": {},
   "outputs": [
    {
     "data": {
      "text/plain": [
       "array([37, 37, 41, 42, 42, 45, 47, 47, 48, 49, 51, 52, 54, 54, 54, 55, 55,\n",
       "       55, 56, 56, 57, 57, 57, 57, 57, 58, 61, 61, 62, 62, 62, 63, 64, 64,\n",
       "       65, 65, 65, 65, 66, 66, 66, 67, 68, 69, 70, 70, 71, 73, 75, 79])"
      ]
     },
     "execution_count": 20,
     "metadata": {},
     "output_type": "execute_result"
    }
   ],
   "source": [
    "sorted_scores = np.sort(scores)\n",
    "sorted_scores"
   ]
  },
  {
   "cell_type": "code",
   "execution_count": null,
   "id": "ec5c5c19",
   "metadata": {},
   "outputs": [
    {
     "data": {
      "text/plain": [
       "np.float64(57.5)"
      ]
     },
     "execution_count": 21,
     "metadata": {},
     "output_type": "execute_result"
    }
   ],
   "source": [
    "n = len(sorted_scores)\n",
    "\n",
    "if n % 2 == 0:\n",
    "    x1 = sorted_scores[n // 2 - 1]\n",
    "    x2 = sorted_scores[n // 2]\n",
    "\n",
    "    median = (x1 + x2) / 2 \n",
    "else:\n",
    "    median = sorted_scores[(n+1) // 2 - 1] \n",
    "median   "
   ]
  },
  {
   "cell_type": "code",
   "execution_count": 22,
   "id": "bb3a82ac",
   "metadata": {},
   "outputs": [
    {
     "data": {
      "text/plain": [
       "(np.int64(57), np.int64(58))"
      ]
     },
     "execution_count": 22,
     "metadata": {},
     "output_type": "execute_result"
    }
   ],
   "source": [
    "sorted_scores[24], sorted_scores[25]"
   ]
  },
  {
   "cell_type": "code",
   "execution_count": 23,
   "id": "4e6c9151",
   "metadata": {},
   "outputs": [
    {
     "data": {
      "text/plain": [
       "np.float64(57.5)"
      ]
     },
     "execution_count": 23,
     "metadata": {},
     "output_type": "execute_result"
    }
   ],
   "source": [
    "np.median(scores)"
   ]
  },
  {
   "cell_type": "code",
   "execution_count": 24,
   "id": "34b7f672",
   "metadata": {},
   "outputs": [
    {
     "data": {
      "text/plain": [
       "np.float64(57.5)"
      ]
     },
     "execution_count": 24,
     "metadata": {},
     "output_type": "execute_result"
    }
   ],
   "source": [
    "df[\"english\"].median()"
   ]
  },
  {
   "cell_type": "code",
   "execution_count": 26,
   "id": "09fc4322",
   "metadata": {},
   "outputs": [
    {
     "data": {
      "text/plain": [
       "array([2894314.23671516, 2218254.92525599, 2048248.734036  ,\n",
       "       1068253.64831775, 1861305.8987428 , 1822620.51036551,\n",
       "       1958629.25925877, 1686499.66158808, 1978090.91551204,\n",
       "       1761390.98482025, 1343067.62331866, 2442311.19024979,\n",
       "       2440659.02110376, 2854786.53182647, 2025016.82108843,\n",
       "       1797661.29269955, 1727320.02619023, 1226761.34220852,\n",
       "       2491183.71712908, 1449466.18494426, 1407476.73648991,\n",
       "       1897175.05028873, 2743074.1775373 , 2118358.13361346,\n",
       "       1488107.43003677, 1643503.39994398, 2312622.48308141,\n",
       "       1919743.31840654, 1615581.82484039, 1884984.63886103,\n",
       "       2372528.13320269, 2988055.39156315, 1377938.33552203,\n",
       "       1686791.54440582, 1598116.95271171,  790458.41341067,\n",
       "       1538103.98915211, 1488062.11957858, 2561988.97947873,\n",
       "       1934042.88359955, 1188357.27708238, 2323337.72613509,\n",
       "       1821864.62027663, 1128429.48152327, 1701675.1791579 ,\n",
       "       1705702.81015588, 1563058.85111885, 2014856.90768051,\n",
       "        875871.1162117 , 1866119.06757697, 2506591.72094325,\n",
       "       2426398.92047707, 2554093.7499675 , 2559695.32765945,\n",
       "       2743771.56599627, 1440849.65779982, 2422916.70352859,\n",
       "       1069555.23552894, 1698557.44799639, 1042763.97829709,\n",
       "       2524073.75612313, 2666868.90972124, 1901292.66042088,\n",
       "       2887322.51570297, 1662636.24484414, 2075308.43268251,\n",
       "       2076472.85138124, 1467902.36303174, 2218973.30564004,\n",
       "       2969489.23020025, 1487534.56269596, 2449669.22292041,\n",
       "       1922746.57405036, 2884813.65164687, 2241894.17380026,\n",
       "       2338108.19993153, 2321581.64029786, 2124543.35336292,\n",
       "       1302118.24867966, 2695831.4538724 , 1314665.49372399,\n",
       "       2119281.59620295, 2307038.54387705, 1581043.86364885,\n",
       "       2072531.60705176, 2583941.14315082, 1987947.76496438,\n",
       "       1555671.29107353,  542131.12410364, 1514079.7487137 ,\n",
       "       1704460.63075706, 1741791.31610576, 1520001.90988639,\n",
       "       2188647.6170566 , 1712645.78975365, 1945272.8330597 ,\n",
       "       2339535.79991275, 1572281.41567006, 1849896.96274022,\n",
       "       3079074.67102846])"
      ]
     },
     "execution_count": 26,
     "metadata": {},
     "output_type": "execute_result"
    }
   ],
   "source": [
    "# 정규분포 확률밀도 함수\n",
    "np.random.seed(3)\n",
    "\n",
    "# 평균 200만, 표준편차 50만, 100개\n",
    "income = np.random.normal(2000000, 500000, 100)\n",
    "income"
   ]
  },
  {
   "cell_type": "code",
   "execution_count": 27,
   "id": "4e874ecb",
   "metadata": {},
   "outputs": [
    {
     "data": {
      "text/plain": [
       "(np.float64(1945681.4627969689), np.float64(1910517.9894137066))"
      ]
     },
     "execution_count": 27,
     "metadata": {},
     "output_type": "execute_result"
    }
   ],
   "source": [
    "np.mean(income), np.median(income)"
   ]
  },
  {
   "cell_type": "code",
   "execution_count": null,
   "id": "146122e0",
   "metadata": {},
   "outputs": [],
   "source": [
    "income = np.append(income, 10**9) # 이상치 추가(이상한 값을 추가함)"
   ]
  },
  {
   "cell_type": "code",
   "execution_count": 29,
   "id": "05874e6c",
   "metadata": {},
   "outputs": [
    {
     "data": {
      "text/plain": [
       "(np.float64(11827407.38890789), np.float64(1919743.318406538))"
      ]
     },
     "execution_count": 29,
     "metadata": {},
     "output_type": "execute_result"
    }
   ],
   "source": [
    "np.mean(income), np.median(income)"
   ]
  },
  {
   "cell_type": "code",
   "execution_count": null,
   "id": "75defc97",
   "metadata": {},
   "outputs": [
    {
     "data": {
      "text/plain": [
       "np.float64(1941471.0812132563)"
      ]
     },
     "execution_count": 30,
     "metadata": {},
     "output_type": "execute_result"
    }
   ],
   "source": [
    "# 절사 평균 (가장 높은이와 낮은이의 0.2%를 제외한)\n",
    "trim_mean(income, 0.2)"
   ]
  },
  {
   "cell_type": "code",
   "execution_count": 31,
   "id": "16230792",
   "metadata": {},
   "outputs": [
    {
     "data": {
      "text/plain": [
       "array(['C', 'A', 'B', 'A', 'A', 'A', 'B', 'B', 'C', 'B', 'B', 'C', 'B',\n",
       "       'C', 'A', 'A', 'A', 'B', 'C', 'A', 'C', 'B', 'C', 'C', 'C', 'C',\n",
       "       'A', 'B', 'C', 'B', 'A', 'C', 'B', 'B', 'C', 'A', 'C', 'A', 'B',\n",
       "       'A', 'B', 'A', 'C', 'B', 'B', 'C', 'A', 'A', 'C', 'A', 'A', 'B',\n",
       "       'C', 'A', 'B', 'A', 'A', 'B', 'B', 'C', 'B', 'B', 'B', 'B', 'B',\n",
       "       'C', 'A', 'A', 'A', 'A', 'A', 'A', 'C', 'C', 'A', 'B', 'B', 'C',\n",
       "       'A', 'B', 'B', 'A', 'B', 'A', 'C', 'C', 'A', 'A', 'C', 'A', 'A',\n",
       "       'A', 'C', 'C', 'A', 'A', 'B', 'B', 'B', 'A', 'A', 'B', 'A', 'A',\n",
       "       'B', 'B', 'A', 'A', 'A', 'C', 'A', 'A', 'A', 'A', 'A', 'A', 'A',\n",
       "       'A', 'C', 'C', 'B', 'B', 'C', 'A', 'B', 'C', 'C', 'A', 'C', 'B',\n",
       "       'C', 'A', 'B', 'B', 'A', 'A', 'A', 'A', 'A', 'B', 'A', 'A', 'A',\n",
       "       'A', 'C', 'A', 'A', 'B', 'C', 'C', 'A', 'B', 'A', 'B', 'C', 'B',\n",
       "       'B', 'A', 'B', 'C', 'A', 'A', 'A', 'B', 'C', 'A', 'A', 'C', 'A',\n",
       "       'A', 'C', 'A', 'C', 'B', 'A', 'A', 'B', 'C', 'A', 'A', 'A', 'B',\n",
       "       'A', 'B', 'C', 'A', 'C', 'B', 'A', 'B', 'B', 'A', 'C', 'B', 'B',\n",
       "       'B', 'A', 'A', 'A', 'A', 'C', 'A', 'B', 'C', 'A', 'A', 'A', 'C',\n",
       "       'C', 'B', 'A', 'B', 'A', 'B', 'C', 'B', 'A', 'B', 'A', 'B', 'B',\n",
       "       'A', 'A', 'C', 'B', 'B', 'C', 'B', 'C', 'C', 'C', 'B', 'C', 'C',\n",
       "       'C', 'A', 'C', 'B', 'B', 'B', 'A', 'A', 'B', 'C', 'B', 'A', 'C',\n",
       "       'C', 'B', 'A', 'A', 'C', 'A', 'B', 'A', 'B', 'C', 'A', 'C', 'A',\n",
       "       'A', 'C', 'C', 'C', 'A', 'C', 'B', 'A', 'C', 'C', 'C', 'B', 'B',\n",
       "       'C', 'A', 'C', 'B', 'A', 'C', 'C', 'A', 'C', 'C', 'A', 'B', 'C',\n",
       "       'B', 'A', 'A', 'A', 'A', 'B', 'A', 'C', 'B', 'A', 'B', 'C', 'C',\n",
       "       'B', 'A', 'A', 'B', 'B', 'A', 'C', 'B', 'B', 'B', 'B', 'B', 'C',\n",
       "       'B', 'A', 'B', 'A', 'B', 'B', 'C', 'C', 'B', 'C', 'A', 'C', 'B',\n",
       "       'B', 'C', 'C', 'A', 'C', 'B', 'C', 'A', 'A', 'C', 'B', 'C', 'C',\n",
       "       'C', 'B', 'B', 'C', 'A', 'B', 'C', 'A', 'C', 'B', 'B', 'C', 'C',\n",
       "       'B', 'B', 'A', 'C', 'B', 'C', 'C', 'C', 'A', 'A', 'B', 'C', 'C',\n",
       "       'A', 'B', 'C', 'A', 'A', 'B', 'A', 'B', 'C', 'C', 'B', 'B', 'C',\n",
       "       'B', 'B', 'A', 'C', 'A', 'C', 'C', 'C', 'C', 'A', 'B', 'A', 'A',\n",
       "       'C', 'C', 'B', 'C', 'C', 'A', 'B', 'B', 'A', 'A', 'C', 'C', 'A',\n",
       "       'B', 'A', 'A', 'A', 'C', 'A', 'B', 'C', 'A', 'C', 'A', 'A', 'A',\n",
       "       'A', 'A', 'C', 'B', 'B', 'C', 'A', 'B', 'C', 'B', 'A', 'C', 'A',\n",
       "       'A', 'C', 'B', 'A', 'C', 'C', 'B', 'B', 'B', 'A', 'B', 'A', 'A',\n",
       "       'B', 'A', 'A', 'B', 'A', 'A', 'B', 'B', 'A', 'A', 'C', 'A', 'C',\n",
       "       'B', 'B', 'B', 'B', 'C', 'A', 'C', 'A', 'B', 'A', 'A', 'B', 'B',\n",
       "       'C', 'C', 'C', 'B', 'C', 'A', 'A', 'C', 'A', 'C', 'A', 'C', 'C',\n",
       "       'A', 'B', 'B', 'C', 'A', 'A', 'C', 'A', 'C', 'A', 'A', 'A', 'A',\n",
       "       'A', 'C', 'A', 'C', 'A', 'C', 'A', 'A', 'A', 'A', 'B', 'A', 'B',\n",
       "       'C', 'C', 'C', 'C', 'C', 'C', 'A', 'C', 'A', 'B', 'B', 'B', 'C',\n",
       "       'B', 'B', 'B', 'B', 'B', 'C', 'A', 'B', 'C', 'C', 'C', 'C', 'B',\n",
       "       'B', 'A', 'A', 'A', 'B', 'B', 'A', 'C', 'B', 'B', 'A', 'B', 'C',\n",
       "       'C', 'C', 'B', 'B', 'B', 'C', 'A', 'A', 'C', 'B', 'B', 'C', 'A',\n",
       "       'A', 'A', 'A', 'A', 'C', 'C', 'B', 'C', 'A', 'C', 'A', 'A', 'A',\n",
       "       'A', 'A', 'B', 'B', 'C', 'A', 'C', 'B', 'C', 'C', 'B', 'C', 'B',\n",
       "       'A', 'A', 'A', 'C', 'B', 'B', 'A', 'A', 'B', 'B', 'C', 'B', 'C',\n",
       "       'C', 'B', 'B', 'A', 'C', 'A', 'A', 'C', 'C', 'C', 'C', 'A', 'A',\n",
       "       'B', 'C', 'A', 'B', 'C', 'A', 'B', 'C', 'A', 'B', 'C', 'B', 'A',\n",
       "       'A', 'C', 'B', 'A', 'B', 'A', 'A', 'C', 'A', 'A', 'A', 'B', 'C',\n",
       "       'B', 'A', 'B', 'C', 'A', 'A', 'B', 'B', 'B', 'B', 'B', 'A', 'B',\n",
       "       'C', 'C', 'A', 'C', 'A', 'C', 'B', 'B', 'B', 'A', 'A', 'A', 'B',\n",
       "       'A', 'C', 'C', 'C', 'B', 'C', 'A', 'C', 'C', 'A', 'B', 'B', 'B',\n",
       "       'C', 'B', 'B', 'A', 'B', 'B', 'C', 'A', 'A', 'A', 'C', 'B', 'B',\n",
       "       'C', 'B', 'B', 'B', 'B', 'C', 'A', 'C', 'C', 'A', 'C', 'C', 'B',\n",
       "       'B', 'B', 'B', 'C', 'B', 'C', 'B', 'C', 'B', 'B', 'A', 'B', 'A',\n",
       "       'B', 'A', 'C', 'C', 'A', 'B', 'C', 'C', 'A', 'A', 'B', 'B', 'A',\n",
       "       'C', 'A', 'B', 'C', 'B', 'B', 'B', 'C', 'A', 'B', 'B', 'C', 'C',\n",
       "       'B', 'C', 'B', 'A', 'C', 'A', 'A', 'C', 'C', 'A', 'B', 'A', 'C',\n",
       "       'C', 'A', 'C', 'B', 'C', 'A', 'A', 'B', 'A', 'C', 'C', 'B', 'C',\n",
       "       'B', 'A', 'C', 'C', 'B', 'A', 'B', 'C', 'A', 'B', 'B', 'C', 'B',\n",
       "       'C', 'C', 'B', 'A', 'B', 'B', 'C', 'C', 'C', 'A', 'B', 'C', 'B',\n",
       "       'C', 'C', 'B', 'A', 'A', 'C', 'C', 'B', 'B', 'C', 'A', 'B', 'C',\n",
       "       'A', 'A', 'C', 'C', 'A', 'B', 'A', 'C', 'B', 'C', 'B', 'A', 'C',\n",
       "       'C', 'C', 'B', 'B', 'A', 'C', 'C', 'C', 'C', 'B', 'B', 'C', 'C',\n",
       "       'A', 'B', 'C', 'A', 'A', 'B', 'B', 'A', 'B', 'C', 'C', 'A', 'A',\n",
       "       'C', 'B', 'C', 'C', 'B', 'C', 'B', 'C', 'B', 'B', 'C', 'A', 'B',\n",
       "       'C', 'A', 'B', 'B', 'A', 'C', 'A', 'C', 'B', 'A', 'A', 'C', 'A',\n",
       "       'B', 'A', 'A', 'A', 'B', 'A', 'B', 'B', 'C', 'A', 'C', 'C', 'C',\n",
       "       'A', 'A', 'B', 'A', 'A', 'A', 'A', 'C', 'B', 'A', 'A', 'C', 'A',\n",
       "       'B', 'B', 'B', 'C', 'B', 'B', 'C', 'B', 'A', 'A', 'B', 'A', 'B',\n",
       "       'C', 'B', 'B', 'A', 'B', 'A', 'B', 'C', 'C', 'B', 'A', 'A', 'A',\n",
       "       'B', 'B', 'B', 'C', 'C', 'C', 'A', 'C', 'A', 'B', 'C', 'A', 'B',\n",
       "       'C', 'B', 'B', 'A', 'C', 'C', 'C', 'A', 'B', 'B', 'A', 'C', 'A',\n",
       "       'A', 'B', 'B', 'B', 'C', 'C', 'A', 'B', 'C', 'A', 'B', 'A', 'A',\n",
       "       'A', 'B', 'B', 'C', 'A', 'C', 'B', 'B', 'A', 'C', 'C', 'A', 'C',\n",
       "       'C', 'B', 'A', 'B', 'A', 'C', 'B', 'A', 'C', 'A', 'A', 'C', 'B',\n",
       "       'B', 'C', 'B', 'A', 'B', 'C', 'C', 'B', 'B', 'B', 'C', 'C'],\n",
       "      dtype='<U1')"
      ]
     },
     "execution_count": 31,
     "metadata": {},
     "output_type": "execute_result"
    }
   ],
   "source": [
    "np.random.seed(3)\n",
    "data = np.random.choice([\"A\", \"B\", \"C\"], 1000)\n",
    "data"
   ]
  },
  {
   "cell_type": "code",
   "execution_count": 32,
   "id": "2f52e4e2",
   "metadata": {},
   "outputs": [
    {
     "data": {
      "text/plain": [
       "A    350\n",
       "B    328\n",
       "C    322\n",
       "Name: count, dtype: int64"
      ]
     },
     "execution_count": 32,
     "metadata": {},
     "output_type": "execute_result"
    }
   ],
   "source": [
    "# 최빈값( 최대빈도수)\n",
    "pd.Series(data).value_counts()\n"
   ]
  },
  {
   "cell_type": "code",
   "execution_count": 34,
   "id": "8bd9014e",
   "metadata": {},
   "outputs": [
    {
     "data": {
      "text/plain": [
       "'A'"
      ]
     },
     "execution_count": 34,
     "metadata": {},
     "output_type": "execute_result"
    }
   ],
   "source": [
    "# 최빈값 : A\n",
    "pd.Series(data).value_counts().index[0]"
   ]
  },
  {
   "cell_type": "code",
   "execution_count": null,
   "id": "78a367b0",
   "metadata": {},
   "outputs": [
    {
     "name": "stderr",
     "output_type": "stream",
     "text": [
      "/var/folders/s3/2n7b_c090wn9dg5gvs55lrtr0000gn/T/ipykernel_18098/2373495134.py:1: FutureWarning: Series.__getitem__ treating keys as positions is deprecated. In a future version, integer keys will always be treated as labels (consistent with DataFrame behavior). To access a value by position, use `ser.iloc[pos]`\n",
      "  pd.Series(data).value_counts()[0]\n"
     ]
    },
    {
     "data": {
      "text/plain": [
       "np.int64(350)"
      ]
     },
     "execution_count": 35,
     "metadata": {},
     "output_type": "execute_result"
    }
   ],
   "source": [
    "# A의 빈도수\n",
    "pd.Series(data).value_counts()[0]"
   ]
  },
  {
   "cell_type": "code",
   "execution_count": 36,
   "id": "749f5fd2",
   "metadata": {},
   "outputs": [
    {
     "data": {
      "text/plain": [
       "array([ 78.28738793, 119.94690893, 105.65956996,  69.87410572,\n",
       "        88.42799496, 133.02873074,  51.46641513,  91.42174742,\n",
       "       125.31872517,  82.66519195,  86.42227697,  98.10582062,\n",
       "       129.82779252,  87.22196007,  91.12036081,  91.31297449,\n",
       "       144.11860165, 143.73572178, 120.08107796, 107.72372798,\n",
       "       114.74737152, 129.81464056,  81.28332263, 123.5165809 ,\n",
       "        74.92238665,  87.24496995, 118.14210392,  71.426386  ,\n",
       "        97.1986256 ,  82.76490208,  94.88761259,  44.02821789,\n",
       "        64.56933791,  86.00245531, 118.54924864,  96.52728634,\n",
       "       100.05691832, 113.76445422,  82.40927314, 105.67254648,\n",
       "        83.89266964,  65.44661012,  92.18200412, 111.47611725,\n",
       "       106.77178102,  99.76339011, 147.84730532, 108.25824321,\n",
       "       119.57472012, 144.76286677,  74.11829354,  79.2242358 ,\n",
       "       134.8742445 ,  84.0387453 , 100.59366461, 121.38631939,\n",
       "       117.81412783, 135.09772364, 129.91288274, 121.38785339,\n",
       "        84.54582572, 115.89725336, 106.28543989,  73.4746908 ,\n",
       "       128.34598093, 116.14473069, 100.90980161,  95.33815878,\n",
       "        76.03397711, 103.99048147, 109.36878239,  83.37690032,\n",
       "       123.24408098,  78.05593907,  57.537993  , 120.79454182,\n",
       "        91.93267924,  97.47940829,  83.24966554,  67.88074479,\n",
       "       125.10474749,  86.22262032, 133.21904976, 116.14616372,\n",
       "        93.70483707,  78.28195198,  85.35076027,  75.74953738,\n",
       "       141.74226719, 103.2888246 , 123.00411085,  74.65295902,\n",
       "       103.62070259, 123.55723878,  93.29978476, 120.62228918,\n",
       "        78.30864176,  72.73056911, 107.58801224,  92.41647131,\n",
       "       112.84109379,  60.44224137, 114.24529271, 151.96607855,\n",
       "        99.50748037, 100.68284258, 103.59098969,  62.76048578,\n",
       "       108.52293279,  67.89180512,  91.44640804, 124.85739099,\n",
       "        85.29566088, 110.02497979, 120.25478108, 105.57481712,\n",
       "        72.5810306 ,  93.35049449, 139.18822685,  59.49908474,\n",
       "        94.48427972,  88.95783857, 102.41494726, 114.96431234,\n",
       "       132.17381936,  94.59535216, 116.2468266 , 109.9948029 ,\n",
       "       109.48694596,  88.72152137,  80.05357062,  77.99913775,\n",
       "        84.87125581, 106.43373152, 115.21898786, 106.46937696,\n",
       "        89.02089808, 136.1194022 , 130.37731247,  92.91999774,\n",
       "        83.53137188, 102.60429908, 125.3459729 , 106.65529955,\n",
       "       111.1309741 ,  95.75839755, 109.1254179 , 130.89088903,\n",
       "        95.20662437, 102.86615465, 105.07632953, 105.67450712,\n",
       "        71.76222248,  62.46262688,  79.60689858, 103.35884591,\n",
       "       111.07712332,  89.3865088 , 127.54514966,  97.13648051,\n",
       "       100.40631996,  96.12072259, 102.68053585, 114.08948148,\n",
       "       113.31306876,  82.03154119, 130.47327553,  78.09947085,\n",
       "       101.58454028,  94.51206853,  79.02016645,  98.49758824,\n",
       "        85.18372453, 101.45814487, 108.06171922, 129.43858738,\n",
       "       106.14768437,  87.77549319,  92.16760379, 102.79956212,\n",
       "       101.86921659, 129.19178536, 127.9070586 ,  92.82128148,\n",
       "        89.02715744,  48.85890792,  89.02159173,  80.43884588,\n",
       "        92.90351084, 107.83168485, 103.54384658,  99.40063986,\n",
       "       103.99164222,  97.47764454, 103.94037865,  35.37889984,\n",
       "        94.6141302 ,  97.78298558,  93.17476568,  95.64107476,\n",
       "       114.06620236,  88.03789337, 144.01404198, 113.7659386 ,\n",
       "        99.87385498,  95.86675394,  98.26955427,  81.6938586 ,\n",
       "        98.09594921, 105.57367033, 111.59083231, 111.59379558,\n",
       "        94.50244907,  71.67835495,  86.61794748, 132.24386086,\n",
       "       117.92116627, 107.39239173,  84.7741151 , 100.0729031 ,\n",
       "        74.88662629,  88.96126249,  95.09593317,  92.76720136,\n",
       "       119.13203862,  71.62548172,  82.69135457,  72.50624058,\n",
       "        75.25293575, 102.48111793,  67.99118934, 115.07737558,\n",
       "        95.06368446, 101.37576665, 106.45153476,  91.31666959,\n",
       "       120.64959432,  96.11314547, 111.8814051 ,  96.01775234,\n",
       "       105.81748775, 105.5932534 , 104.99939879,  80.51384301,\n",
       "       108.71751541,  93.62086022, 112.60976061,  56.95013111,\n",
       "        70.69767556, 107.26891124, 137.2585517 , 116.70117494,\n",
       "        86.35098132,  66.15895169, 114.85372442,  98.38833556,\n",
       "       111.81408436, 102.30597444, 100.5928585 , 159.17250892,\n",
       "        99.87740078,  96.81509581,  97.57102649,  88.32926567,\n",
       "       119.80265789,  92.92491332, 112.71885411, 105.6920606 ,\n",
       "       124.37971724, 108.40359194,  75.73230438,  73.4702443 ,\n",
       "       128.16738292,  87.82578393,  73.5879484 ,  86.607628  ,\n",
       "       125.29250574,  71.59574002,  82.67009592,  86.66384982,\n",
       "        74.97620253,  76.31345323,  69.63784049,  90.77625174,\n",
       "        92.90182337,  86.34923692,  66.92604322, 125.06671894,\n",
       "        73.41842342, 105.56067424,  78.50466814, 113.36633733,\n",
       "       119.1166471 ,  82.44772827,  61.52568541, 113.91574638,\n",
       "       137.51601093, 108.3138908 , 103.21088843, 116.39521219,\n",
       "       115.30109692,  83.42022332,  86.81697379, 112.222471  ,\n",
       "        97.11973305, 126.33211192,  85.91315706, 115.01219834,\n",
       "       106.85275963,  97.47124873, 123.51821544, 113.60143066,\n",
       "        79.90065693, 112.80437361, 127.49981263,  97.39110622,\n",
       "        95.02688299,  86.60705705,  99.72792229, 113.72401372,\n",
       "        83.64663401,  73.07284879,  92.48500178,  72.40550043,\n",
       "       110.46436883,  91.4662046 ,  64.89196311,  93.02784971,\n",
       "        96.14770028, 108.98271227,  97.09272914, 137.37452914,\n",
       "        89.62592297,  98.75202903,  97.94178771,  94.34743231,\n",
       "       102.8485117 , 110.82462594, 126.80197407,  68.61487745,\n",
       "        89.79314252,  91.04457149, 118.75700595,  92.86673878,\n",
       "        62.09648814, 101.75460928,  99.32621537, 103.59503132,\n",
       "        79.19674238, 134.38069362,  93.52280432,  96.23406283,\n",
       "        81.9998286 ,  81.37995992,  75.54526081,  92.13378296,\n",
       "        80.84836322, 141.12934682,  62.23015239,  77.43338904,\n",
       "        91.97171143, 113.46982556,  91.72486237, 113.51926786,\n",
       "        80.26392221, 101.18582268, 134.88082174,  80.64511209,\n",
       "       108.39135352, 104.13855039,  54.96930028,  88.22058907,\n",
       "       122.62303811, 102.70155345,  75.75462074, 113.81554546,\n",
       "        90.41754109, 107.20101456, 107.53840229,  77.62608798,\n",
       "       115.79656069,  79.84982398,  73.88428267,  82.34342025,\n",
       "        93.07819932, 102.18806313,  84.54832535, 114.89638625,\n",
       "       105.02928368,  86.1040357 , 117.77985835, 123.22136715,\n",
       "        98.02630606,  95.7003391 ,  64.52457293,  91.84974815,\n",
       "        94.16986575, 104.90758815,  96.63147137, 104.88053876,\n",
       "       130.68180579,  89.40171803,  90.18055435,  73.81669371,\n",
       "        99.82679067, 119.53625965,  64.97859302,  86.68286066,\n",
       "       100.71881005, 117.00205767, 107.65740478, 106.50927256,\n",
       "        95.51374428, 109.63748514, 120.28607767,  65.82016447,\n",
       "       114.57070802,  98.02480388,  89.40022272,  51.13848428,\n",
       "        72.39297353, 133.96117984,  86.22902935,  78.30462457,\n",
       "        90.87148088,  85.09705556, 102.48717265, 130.33947356,\n",
       "        88.26768098, 103.08580101,  77.05525718, 130.40332884,\n",
       "       103.78086885,  78.36361753, 118.0861244 , 123.99975297,\n",
       "       103.22912727,  67.21206065, 135.70337627, 106.20245041,\n",
       "       123.40908595,  88.9821359 ,  92.02752151, 102.20906219,\n",
       "       122.26803356, 102.85980056,  74.86332375, 105.23978394,\n",
       "       132.59068389, 101.31612565, 102.58771048,  74.74912514,\n",
       "        71.94021825,  87.24615722,  93.46964707, 102.0812147 ,\n",
       "       103.31913949, 132.03815302, 101.17374877, 121.28845377,\n",
       "        99.21341331, 128.97807223,  62.59205043,  88.02536467,\n",
       "       119.66066793,  96.56807989, 118.63059227, 107.70132206,\n",
       "       118.91753967, 112.26135456, 113.47297868, 129.84910774,\n",
       "       119.72948037, 119.87613414, 100.40837518,  88.3629958 ,\n",
       "        86.80879823, 115.01889194,  51.23078872,  73.85643623,\n",
       "        80.73492628,  95.04757243,  47.37123926, 125.17442605,\n",
       "       112.00350473, 139.69164797, 121.24428938, 120.60758662,\n",
       "       145.01352062,  88.58083826,  69.93083202,  95.35285207,\n",
       "        83.50015892,  94.86309278,  78.99562019, 111.35760135,\n",
       "       110.25965699,  99.46154819, 106.23163007,  97.15898546,\n",
       "       115.04067337, 101.39281499,  94.6910875 , 118.5916894 ,\n",
       "       125.21642538, 126.74907651,  80.19450621,  89.31105584,\n",
       "        65.97007811,  95.22869964, 108.32247629,  97.34397651,\n",
       "       138.61701734,  91.8831325 ,  78.22982889, 111.37008413,\n",
       "       102.99867657, 110.99285192, 106.07575862, 104.87531521,\n",
       "        57.55402234,  85.47771945,  88.19350164,  93.04071324,\n",
       "        91.03216723, 108.25637523, 112.01765017,  77.36718146,\n",
       "       113.73608814, 111.71536277, 109.31540132,  71.64211024,\n",
       "       108.81164601, 101.65190839, 119.2176015 , 135.68713591,\n",
       "       131.76135771, 102.25288344,  99.96250617, 112.63896568,\n",
       "        77.69920093,  70.98633717,  90.54938816, 124.41137827,\n",
       "        93.37743403, 130.05161812,  44.23774234,  68.25587146,\n",
       "        97.52622534, 117.76389083,  98.60753803,  98.08694511,\n",
       "        97.56517009,  64.74204531, 123.16137749,  86.3447056 ,\n",
       "       121.79065314,  98.58953164, 121.36320775, 106.86515962,\n",
       "        97.86651019, 104.52523294,  70.54044782, 100.12058654,\n",
       "       134.32080644, 126.16387128,  80.29952835, 110.11371703,\n",
       "       104.95959769, 116.3437656 , 101.88305771,  95.32992014,\n",
       "       126.61261553, 104.32793137, 125.10928644, 119.48772407,\n",
       "        93.51025517,  96.65999451, 138.59664868, 103.82964651,\n",
       "        84.82743153,  75.99913444, 119.48264871, 103.20587442,\n",
       "        84.15816099, 113.49169662, 103.1949739 ,  66.79049858,\n",
       "       111.77371109, 126.66381406, 151.19700461, 100.69805128,\n",
       "       104.65299316, 132.1319361 , 103.37444534, 105.50683726,\n",
       "        87.38763217,  72.11249775, 118.25375872,  74.52859526,\n",
       "       122.81312486,  84.23668882, 105.30467917,  92.55456537,\n",
       "       123.49200476, 106.01692804, 139.18190705,  78.32644641,\n",
       "       108.27726163, 100.94683762, 105.59887143, 131.91842343,\n",
       "       111.7063606 ,  77.04949183, 110.67021637,  91.68761248,\n",
       "        90.5329006 , 120.91714656,  87.95320034,  92.40539345,\n",
       "       100.64814509, 118.92371793, 111.63179606,  95.31170176,\n",
       "        94.55647069,  76.79740677,  84.80329823,  86.91237828,\n",
       "        97.01418117, 139.73526074,  86.49061132,  94.08341864,\n",
       "        58.9520319 , 112.01142189,  68.45102412,  81.86820956,\n",
       "       120.84670737,  57.90143141, 101.91840825, 116.01859293,\n",
       "       130.50888473,  81.59813783,  87.519503  , 136.08872647,\n",
       "        99.49879711,  85.27472131,  85.65028325,  80.54887353,\n",
       "        91.20655589, 121.76440953, 117.75532137,  76.51459394,\n",
       "       104.29172149,  91.9568053 , 115.64880808,  96.87280546,\n",
       "       107.43049364,  96.82789586,  56.25828139, 100.94004891,\n",
       "        74.56506101, 114.94256823,  86.40344215,  87.89974688,\n",
       "        99.8219435 , 111.55587908,  96.60512364, 132.84365544,\n",
       "       132.97635723, 134.30937184,  95.31362551,  70.36083088,\n",
       "       124.40157028,  91.67309429, 100.76332624, 112.56640206,\n",
       "        67.91127199, 132.58242411, 117.49924658, 107.04543164,\n",
       "       117.81833501, 111.13905079, 102.33656231,  93.84451356,\n",
       "        85.21715451, 105.74428562, 107.2240612 , 121.66397605,\n",
       "       104.01320017,  82.93596968,  68.47534305,  97.44875676,\n",
       "        99.45083247,  98.03816834,  69.38974205, 121.48930281,\n",
       "       121.45259492,  83.53429671, 116.11964223, 119.05661724,\n",
       "       100.76894153,  81.03002748, 132.26763071, 107.61842868,\n",
       "        94.9792509 , 115.45690791, 132.44416976,  90.05679707,\n",
       "       113.82845091, 138.86320341,  77.66870332,  89.01492823,\n",
       "        88.04289839,  96.83345726,  95.80052528, 106.01590879,\n",
       "        83.5924896 ,  87.54673022, 106.02580968, 103.09823719,\n",
       "       117.48159618, 108.1871005 , 115.43693271,  77.14095921,\n",
       "        92.33167378, 136.96759902, 107.84156093, 114.94785923,\n",
       "       105.45469474, 108.50671714,  95.38191897, 171.43158436,\n",
       "        92.07688155,  99.23357565,  51.50327349, 122.12533315,\n",
       "        88.95494101,  98.78411788,  89.43918898,  97.22634109,\n",
       "        94.31505803,  99.13916448,  98.94397035,  96.91589377,\n",
       "        96.64245547, 126.17036905, 117.6283384 , 117.74884637,\n",
       "        85.35102238, 125.13641664, 122.63289018,  88.93191342,\n",
       "       130.47704034,  86.33548114,  63.15936323, 122.03051972,\n",
       "        97.60962439, 119.53843129,  84.91595675,  74.76459977,\n",
       "       124.63743577,  71.85462873,  68.77938977,  61.48826218,\n",
       "        44.11055403,  79.21791233,  56.61184083,  99.28789031,\n",
       "        55.27165299,  78.11453162, 146.64123992, 106.90248481,\n",
       "       101.05611351,  67.58496039,  95.08804668, 100.96217126,\n",
       "        67.89638408, 102.52361362, 123.82464914,  93.03483762,\n",
       "        96.05527263,  59.15807169,  72.01532263, 121.15390203,\n",
       "        86.76898707,  81.40576731,  86.14833768,  98.85067746,\n",
       "        76.83168178, 102.53033012,  72.79984646, 115.48000004,\n",
       "        78.85888445, 126.40536638,  99.79934694,  83.08711143,\n",
       "       118.22921219,  72.51006242,  89.0586871 ,  99.99848947,\n",
       "        97.57666393,  59.82829063,  81.58706915, 103.36468685,\n",
       "        73.60216881, 125.32858597, 109.90361778,  89.71519219,\n",
       "        95.59415069, 137.23128248, 118.71976902, 107.6043829 ,\n",
       "        71.68962459, 132.59222637, 121.04802138,  97.03189225,\n",
       "        89.00603862,  96.24192122,  75.96126638,  90.58428885,\n",
       "       115.26321028,  63.84757446,  93.71851252, 102.27511946,\n",
       "       102.07136075,  76.42126092,  76.35694217, 121.78330765,\n",
       "        75.50941814, 120.17301913,  90.3526937 , 121.59592701,\n",
       "        91.57842989,  76.67057359, 117.13109713,  99.65217556,\n",
       "       128.97153171, 117.8440017 ,  95.41146742,  91.00664797,\n",
       "       100.46744687, 103.80420036,  82.36502947, 116.83879146,\n",
       "        92.05273016,  91.5394451 ,  89.18623325, 104.62034535,\n",
       "        86.15894797, 102.6994022 , 155.33206142,  98.9278108 ,\n",
       "        91.31990523,  66.64621544, 101.0044385 ,  77.81538114,\n",
       "        92.48883762, 103.03215187,  65.380211  , 103.14925505,\n",
       "       106.09030351,  74.05799961,  92.15381616,  63.38667276,\n",
       "       131.51001872, 106.61126553,  96.40822998,  96.73128339,\n",
       "       122.62887216,  98.11668896, 106.61633543, 130.37259121,\n",
       "        93.07665704,  78.14729351,  83.5099885 , 128.57327669,\n",
       "       101.82856617,  89.95337423, 119.4728876 , 119.95914771,\n",
       "        90.48704464,  80.56126326,  68.58942798,  64.12222158,\n",
       "        94.70027096,  82.13608106, 137.1694882 , 101.17075509,\n",
       "        61.15700913, 128.37458551, 103.23420619, 114.09958961,\n",
       "       113.64069554, 105.93113135, 110.46685261, 104.77521343,\n",
       "        77.87228188, 107.33464396, 120.4781101 ,  95.79887175,\n",
       "       111.02604436, 108.3917829 , 136.31304128,  94.94499399,\n",
       "        94.15991674,  97.6613652 ,  97.9521785 ,  54.54764578,\n",
       "        87.14780317, 105.99770133,  99.83486971,  84.01321692,\n",
       "        86.70441496,  92.88773743,  83.96856438,  89.73898779,\n",
       "        89.21219761, 117.90741693, 120.32782537, 118.67170189,\n",
       "       108.53403598,  85.83355031, 119.196609  ,  93.71498827,\n",
       "       100.46104417, 126.76441064, 101.67985712, 104.9456806 ,\n",
       "        71.74441028, 109.74018588,  80.39986705, 120.23879313,\n",
       "        96.30801646,  55.27662316,  92.83959795,  95.43930923,\n",
       "       109.70950452, 113.41024781,  93.44471511, 120.2573639 ,\n",
       "        36.65889343,  85.72022004,  77.75271458,  74.91632979,\n",
       "       119.19412743, 116.58340798,  84.48459959, 123.56114008,\n",
       "       102.02933785,  91.56631798,  86.14154407,  84.43456547,\n",
       "       109.45549715, 113.00309802, 104.77002424,  58.99564645,\n",
       "       105.92717312, 111.30793128,  86.61588789, 100.86501086,\n",
       "        62.72231401,  75.40061877,  93.51529304,  93.80497712,\n",
       "       107.03358743,  76.26149227,  93.17587871,  90.20440439,\n",
       "       110.56020948, 128.42085537, 134.4184064 ,  68.63119906,\n",
       "        99.03971616,  77.7494138 ,  98.70510097, 108.45838559,\n",
       "       101.62981797,  99.01976602, 129.6607835 , 114.41978783,\n",
       "        94.54691077, 100.48422722, 117.41795614, 112.19581012,\n",
       "        91.49847793,  64.49514318,  76.30685014, 102.9195845 ,\n",
       "        64.26946295,  96.95211004,  90.92861648, 119.98505606,\n",
       "        73.63912353,  61.36462042,  91.60718517, 112.69526263,\n",
       "       121.39837198,  81.81345967, 109.40527495,  77.77139104])"
      ]
     },
     "execution_count": 36,
     "metadata": {},
     "output_type": "execute_result"
    }
   ],
   "source": [
    "np.random.seed(123)\n",
    "data = np.random.normal(100, 20, size =1000)\n",
    "data"
   ]
  },
  {
   "cell_type": "code",
   "execution_count": 37,
   "id": "20f30db2",
   "metadata": {},
   "outputs": [
    {
     "data": {
      "text/plain": [
       "(np.float64(35.37889984161375), np.float64(171.43158436052622))"
      ]
     },
     "execution_count": 37,
     "metadata": {},
     "output_type": "execute_result"
    }
   ],
   "source": [
    "np.min(data), np.max(data)"
   ]
  },
  {
   "cell_type": "code",
   "execution_count": 38,
   "id": "6e2b5c66",
   "metadata": {},
   "outputs": [
    {
     "data": {
      "text/plain": [
       "(np.float64(35.37889984161375), np.float64(171.43158436052622))"
      ]
     },
     "execution_count": 38,
     "metadata": {},
     "output_type": "execute_result"
    }
   ],
   "source": [
    "sorted(data)[0], sorted(data)[-1]"
   ]
  },
  {
   "cell_type": "code",
   "execution_count": null,
   "id": "0bf03da1",
   "metadata": {},
   "outputs": [
    {
     "data": {
      "text/plain": [
       "np.float64(86.30886819268538)"
      ]
     },
     "execution_count": 39,
     "metadata": {},
     "output_type": "execute_result"
    }
   ],
   "source": [
    "# 백분위수\n",
    "# 제 1사분위수 (하사분위수 Q1)\n",
    "np.percentile(data, 25)"
   ]
  },
  {
   "cell_type": "code",
   "execution_count": 40,
   "id": "1464a87f",
   "metadata": {},
   "outputs": [
    {
     "data": {
      "text/plain": [
       "np.float64(99.17628889574436)"
      ]
     },
     "execution_count": 40,
     "metadata": {},
     "output_type": "execute_result"
    }
   ],
   "source": [
    "# 제 2사분위수 (중위수 Q2)\n",
    "np.percentile(data, 50)"
   ]
  },
  {
   "cell_type": "code",
   "execution_count": 41,
   "id": "fc501c9b",
   "metadata": {},
   "outputs": [
    {
     "data": {
      "text/plain": [
       "np.float64(113.37731495435875)"
      ]
     },
     "execution_count": 41,
     "metadata": {},
     "output_type": "execute_result"
    }
   ],
   "source": [
    "# 제 3사분위수 (상사분위수 Q3)\n",
    "np.percentile(data, 75)"
   ]
  },
  {
   "cell_type": "code",
   "execution_count": 44,
   "id": "1c96cf54",
   "metadata": {},
   "outputs": [],
   "source": [
    "import matplotlib.pyplot as plt"
   ]
  },
  {
   "cell_type": "code",
   "execution_count": 43,
   "id": "cd6e2384",
   "metadata": {},
   "outputs": [
    {
     "name": "stdout",
     "output_type": "stream",
     "text": [
      "Collecting matplotlib\n",
      "  Downloading matplotlib-3.10.7-cp314-cp314-macosx_11_0_arm64.whl.metadata (11 kB)\n",
      "Collecting contourpy>=1.0.1 (from matplotlib)\n",
      "  Downloading contourpy-1.3.3-cp314-cp314-macosx_11_0_arm64.whl.metadata (5.5 kB)\n",
      "Collecting cycler>=0.10 (from matplotlib)\n",
      "  Using cached cycler-0.12.1-py3-none-any.whl.metadata (3.8 kB)\n",
      "Collecting fonttools>=4.22.0 (from matplotlib)\n",
      "  Downloading fonttools-4.60.1-cp314-cp314-macosx_10_13_universal2.whl.metadata (112 kB)\n",
      "Collecting kiwisolver>=1.3.1 (from matplotlib)\n",
      "  Downloading kiwisolver-1.4.9-cp314-cp314-macosx_11_0_arm64.whl.metadata (6.3 kB)\n",
      "Requirement already satisfied: numpy>=1.23 in /Users/handaeseong/dev/data-engineer/miniconda3/envs/multi02/lib/python3.14/site-packages (from matplotlib) (2.3.3)\n",
      "Requirement already satisfied: packaging>=20.0 in /Users/handaeseong/dev/data-engineer/miniconda3/envs/multi02/lib/python3.14/site-packages (from matplotlib) (25.0)\n",
      "Collecting pillow>=8 (from matplotlib)\n",
      "  Downloading pillow-11.3.0-cp314-cp314-macosx_11_0_arm64.whl.metadata (9.0 kB)\n",
      "Collecting pyparsing>=3 (from matplotlib)\n",
      "  Using cached pyparsing-3.2.5-py3-none-any.whl.metadata (5.0 kB)\n",
      "Requirement already satisfied: python-dateutil>=2.7 in /Users/handaeseong/dev/data-engineer/miniconda3/envs/multi02/lib/python3.14/site-packages (from matplotlib) (2.9.0.post0)\n",
      "Requirement already satisfied: six>=1.5 in /Users/handaeseong/dev/data-engineer/miniconda3/envs/multi02/lib/python3.14/site-packages (from python-dateutil>=2.7->matplotlib) (1.17.0)\n",
      "Downloading matplotlib-3.10.7-cp314-cp314-macosx_11_0_arm64.whl (8.1 MB)\n",
      "\u001b[2K   \u001b[90m━━━━━━━━━━━━━━━━━━━━━━━━━━━━━━━━━━━━━━━━\u001b[0m \u001b[32m8.1/8.1 MB\u001b[0m \u001b[31m33.8 MB/s\u001b[0m  \u001b[33m0:00:00\u001b[0m eta \u001b[36m0:00:01\u001b[0m\n",
      "\u001b[?25hDownloading contourpy-1.3.3-cp314-cp314-macosx_11_0_arm64.whl (273 kB)\n",
      "Using cached cycler-0.12.1-py3-none-any.whl (8.3 kB)\n",
      "Downloading fonttools-4.60.1-cp314-cp314-macosx_10_13_universal2.whl (2.8 MB)\n",
      "\u001b[2K   \u001b[90m━━━━━━━━━━━━━━━━━━━━━━━━━━━━━━━━━━━━━━━━\u001b[0m \u001b[32m2.8/2.8 MB\u001b[0m \u001b[31m36.6 MB/s\u001b[0m  \u001b[33m0:00:00\u001b[0m\n",
      "\u001b[?25hDownloading kiwisolver-1.4.9-cp314-cp314-macosx_11_0_arm64.whl (64 kB)\n",
      "Downloading pillow-11.3.0-cp314-cp314-macosx_11_0_arm64.whl (4.7 MB)\n",
      "\u001b[2K   \u001b[90m━━━━━━━━━━━━━━━━━━━━━━━━━━━━━━━━━━━━━━━━\u001b[0m \u001b[32m4.7/4.7 MB\u001b[0m \u001b[31m41.6 MB/s\u001b[0m  \u001b[33m0:00:00\u001b[0m\n",
      "\u001b[?25hUsing cached pyparsing-3.2.5-py3-none-any.whl (113 kB)\n",
      "Installing collected packages: pyparsing, pillow, kiwisolver, fonttools, cycler, contourpy, matplotlib\n",
      "\u001b[2K   \u001b[90m━━━━━━━━━━━━━━━━━━━━━━━━━━━━━━━━━━━━━━━━\u001b[0m \u001b[32m7/7\u001b[0m [matplotlib]7\u001b[0m [matplotlib]\n",
      "\u001b[1A\u001b[2KSuccessfully installed contourpy-1.3.3 cycler-0.12.1 fonttools-4.60.1 kiwisolver-1.4.9 matplotlib-3.10.7 pillow-11.3.0 pyparsing-3.2.5\n",
      "Note: you may need to restart the kernel to use updated packages.\n"
     ]
    }
   ],
   "source": [
    "%pip install matplotlib"
   ]
  },
  {
   "cell_type": "code",
   "execution_count": 45,
   "id": "5648462e",
   "metadata": {},
   "outputs": [
    {
     "data": {
      "text/plain": [
       "{'whiskers': [<matplotlib.lines.Line2D at 0x28637bcb0>,\n",
       "  <matplotlib.lines.Line2D at 0x28637be00>],\n",
       " 'caps': [<matplotlib.lines.Line2D at 0x2863ac050>,\n",
       "  <matplotlib.lines.Line2D at 0x2863ac1a0>],\n",
       " 'boxes': [<matplotlib.lines.Line2D at 0x28637bb60>],\n",
       " 'medians': [<matplotlib.lines.Line2D at 0x2863ac2f0>],\n",
       " 'fliers': [<matplotlib.lines.Line2D at 0x2863ac440>],\n",
       " 'means': []}"
      ]
     },
     "execution_count": 45,
     "metadata": {},
     "output_type": "execute_result"
    },
    {
     "data": {
      "image/png": "[encoded data removed]",
      "text/plain": [
       "<Figure size 640x480 with 1 Axes>"
      ]
     },
     "metadata": {},
     "output_type": "display_data"
    }
   ],
   "source": [
    "plt.boxplot(data)"
   ]
  },
  {
   "cell_type": "code",
   "execution_count": 47,
   "id": "b0415d07",
   "metadata": {},
   "outputs": [
    {
     "data": {
      "text/plain": [
       "DescribeResult(nobs=np.int64(1000), minmax=(np.float64(35.37889984161375), np.float64(171.43158436052622)), mean=np.float64(99.20871727838417), variance=np.float64(401.031309408531), skewness=np.float64(-0.029040113501245697), kurtosis=np.float64(-0.025438528777692593))"
      ]
     },
     "execution_count": 47,
     "metadata": {},
     "output_type": "execute_result"
    }
   ],
   "source": [
    "# 표본데이터 기술통계량\n",
    "describe(data)"
   ]
  },
  {
   "cell_type": "markdown",
   "id": "66b30aa2",
   "metadata": {},
   "source": [
    "nobs : 갯수\n",
    "\n",
    "minmax :  최소최대\n",
    "\n",
    "mean : 평균\n",
    "\n",
    "variance : 비편향 분산\n",
    "\n",
    "skewness : 왜도(그래프가 왼쪽/ 오른쪽으로)\n",
    "\n",
    "kurtosis : 첨도(그래프가 위/ 아래쪽으로)"
   ]
  },
  {
   "cell_type": "markdown",
   "id": "f8839659",
   "metadata": {},
   "source": []
  },
  {
   "cell_type": "code",
   "execution_count": 48,
   "id": "b2ef725d",
   "metadata": {},
   "outputs": [
    {
     "data": {
      "text/plain": [
       "count    50.000000\n",
       "mean     58.380000\n",
       "std       9.799813\n",
       "min      37.000000\n",
       "25%      54.000000\n",
       "50%      57.500000\n",
       "75%      65.000000\n",
       "max      79.000000\n",
       "Name: english, dtype: float64"
      ]
     },
     "execution_count": 48,
     "metadata": {},
     "output_type": "execute_result"
    }
   ],
   "source": [
    "df[\"english\"].describe()"
   ]
  },
  {
   "cell_type": "code",
   "execution_count": 49,
   "id": "2f0cb944",
   "metadata": {},
   "outputs": [
    {
     "data": {
      "text/plain": [
       "DescribeResult(nobs=np.int64(50), minmax=(np.int64(37), np.int64(79)), mean=np.float64(58.38), variance=np.float64(94.1156), skewness=np.float64(-0.3167932532496243), kurtosis=np.float64(-0.38870454364589113))"
      ]
     },
     "execution_count": 49,
     "metadata": {},
     "output_type": "execute_result"
    }
   ],
   "source": [
    "# 모집단 기술통계량\n",
    "describe(df[\"english\"], ddof=0)"
   ]
  },
  {
   "cell_type": "code",
   "execution_count": 50,
   "id": "59f805ca",
   "metadata": {},
   "outputs": [
    {
     "data": {
      "text/plain": [
       "array([ 78.28738793, 119.94690893, 105.65956996,  69.87410572,\n",
       "        88.42799496, 133.02873074,  51.46641513,  91.42174742,\n",
       "       125.31872517,  82.66519195,  86.42227697,  98.10582062,\n",
       "       129.82779252,  87.22196007,  91.12036081,  91.31297449,\n",
       "       144.11860165, 143.73572178, 120.08107796, 107.72372798,\n",
       "       114.74737152, 129.81464056,  81.28332263, 123.5165809 ,\n",
       "        74.92238665,  87.24496995, 118.14210392,  71.426386  ,\n",
       "        97.1986256 ,  82.76490208,  94.88761259,  44.02821789,\n",
       "        64.56933791,  86.00245531, 118.54924864,  96.52728634,\n",
       "       100.05691832, 113.76445422,  82.40927314, 105.67254648,\n",
       "        83.89266964,  65.44661012,  92.18200412, 111.47611725,\n",
       "       106.77178102,  99.76339011, 147.84730532, 108.25824321,\n",
       "       119.57472012, 144.76286677,  74.11829354,  79.2242358 ,\n",
       "       134.8742445 ,  84.0387453 , 100.59366461, 121.38631939,\n",
       "       117.81412783, 135.09772364, 129.91288274, 121.38785339,\n",
       "        84.54582572, 115.89725336, 106.28543989,  73.4746908 ,\n",
       "       128.34598093, 116.14473069, 100.90980161,  95.33815878,\n",
       "        76.03397711, 103.99048147, 109.36878239,  83.37690032,\n",
       "       123.24408098,  78.05593907,  57.537993  , 120.79454182,\n",
       "        91.93267924,  97.47940829,  83.24966554,  67.88074479,\n",
       "       125.10474749,  86.22262032, 133.21904976, 116.14616372,\n",
       "        93.70483707,  78.28195198,  85.35076027,  75.74953738,\n",
       "       141.74226719, 103.2888246 , 123.00411085,  74.65295902,\n",
       "       103.62070259, 123.55723878,  93.29978476, 120.62228918,\n",
       "        78.30864176,  72.73056911, 107.58801224,  92.41647131])"
      ]
     },
     "execution_count": 50,
     "metadata": {},
     "output_type": "execute_result"
    }
   ],
   "source": [
    "np.random.seed(123)\n",
    "data = np.random.normal(100, 20, size=100)\n",
    "data"
   ]
  },
  {
   "cell_type": "code",
   "execution_count": 51,
   "id": "41de339b",
   "metadata": {},
   "outputs": [
    {
     "data": {
      "text/plain": [
       "np.float64(103.819087427969)"
      ]
     },
     "execution_count": 51,
     "metadata": {},
     "output_type": "execute_result"
    }
   ],
   "source": [
    "np.max(data) - np.min(data)"
   ]
  },
  {
   "cell_type": "code",
   "execution_count": 52,
   "id": "5834d521",
   "metadata": {},
   "outputs": [
    {
     "data": {
      "text/plain": [
       "np.float64(103.819087427969)"
      ]
     },
     "execution_count": 52,
     "metadata": {},
     "output_type": "execute_result"
    }
   ],
   "source": [
    "np.ptp(data)"
   ]
  },
  {
   "cell_type": "code",
   "execution_count": 53,
   "id": "566fca9c",
   "metadata": {},
   "outputs": [
    {
     "data": {
      "text/plain": [
       "np.float64(36.322675699752565)"
      ]
     },
     "execution_count": 53,
     "metadata": {},
     "output_type": "execute_result"
    }
   ],
   "source": [
    "# Q3 ~ Q1\n",
    "np.quantile(data, 0.75) - np.quantile(data, 0.25)"
   ]
  },
  {
   "cell_type": "code",
   "execution_count": 54,
   "id": "f6adc10c",
   "metadata": {},
   "outputs": [
    {
     "data": {
      "text/plain": [
       "np.float64(36.322675699752565)"
      ]
     },
     "execution_count": 54,
     "metadata": {},
     "output_type": "execute_result"
    }
   ],
   "source": [
    "iqr(data)"
   ]
  },
  {
   "cell_type": "code",
   "execution_count": 56,
   "id": "5b5d72f2",
   "metadata": {},
   "outputs": [
    {
     "data": {
      "text/plain": [
       "array([-2.22547935e+01,  1.94047275e+01,  5.11738849e+00, -3.06680757e+01,\n",
       "       -1.21141865e+01,  3.24865493e+01, -4.90757663e+01, -9.12043405e+00,\n",
       "        2.47765437e+01, -1.78769895e+01, -1.41199045e+01, -2.43636085e+00,\n",
       "        2.92856111e+01, -1.33202214e+01, -9.42182066e+00, -9.22920698e+00,\n",
       "        4.35764202e+01,  4.31935403e+01,  1.95388965e+01,  7.18154651e+00,\n",
       "        1.42051900e+01,  2.92724591e+01, -1.92588588e+01,  2.29743994e+01,\n",
       "       -2.56197948e+01, -1.32972115e+01,  1.75999224e+01, -2.91157955e+01,\n",
       "       -3.34355587e+00, -1.77772794e+01, -5.65456888e+00, -5.65139636e+01,\n",
       "       -3.59728436e+01, -1.45397262e+01,  1.80070672e+01, -4.01489513e+00,\n",
       "       -4.85263152e-01,  1.32222728e+01, -1.81329083e+01,  5.13036501e+00,\n",
       "       -1.66495118e+01, -3.50955714e+01, -8.36017734e+00,  1.09339358e+01,\n",
       "        6.22959955e+00, -7.78791359e-01,  4.73051238e+01,  7.71606174e+00,\n",
       "        1.90325386e+01,  4.42206853e+01, -2.64238879e+01, -2.13179457e+01,\n",
       "        3.43320630e+01, -1.65034362e+01,  5.14831363e-02,  2.08441379e+01,\n",
       "        1.72719464e+01,  3.45555422e+01,  2.93707013e+01,  2.08456719e+01,\n",
       "       -1.59963558e+01,  1.53550719e+01,  5.74325842e+00, -2.70674907e+01,\n",
       "        2.78037995e+01,  1.56025492e+01,  3.67620143e-01, -5.20402269e+00,\n",
       "       -2.45082044e+01,  3.44830000e+00,  8.82660092e+00, -1.71652812e+01,\n",
       "        2.27018995e+01, -2.24862424e+01, -4.30041885e+01,  2.02523603e+01,\n",
       "       -8.60950223e+00, -3.06277318e+00, -1.72925159e+01, -3.26614367e+01,\n",
       "        2.45625660e+01, -1.43195611e+01,  3.26768683e+01,  1.56039823e+01,\n",
       "       -6.83734440e+00, -2.22602295e+01, -1.51914212e+01, -2.47926441e+01,\n",
       "        4.12000857e+01,  2.74664313e+00,  2.24619294e+01, -2.58892225e+01,\n",
       "        3.07852112e+00,  2.30150573e+01, -7.24239671e+00,  2.00801077e+01,\n",
       "       -2.22335397e+01, -2.78116124e+01,  7.04583077e+00, -8.12571016e+00])"
      ]
     },
     "execution_count": 56,
     "metadata": {},
     "output_type": "execute_result"
    }
   ],
   "source": [
    "# 편차\n",
    "data - np.mean(data)"
   ]
  },
  {
   "cell_type": "code",
   "execution_count": 61,
   "id": "f69e63f8",
   "metadata": {},
   "outputs": [
    {
     "data": {
      "text/plain": [
       "-0.00000"
      ]
     },
     "execution_count": 61,
     "metadata": {},
     "output_type": "execute_result"
    }
   ],
   "source": [
    "# 편차의 합 = 0\n",
    "(data - np.mean(data)).sum()"
   ]
  },
  {
   "cell_type": "code",
   "execution_count": null,
   "id": "d2486c36",
   "metadata": {},
   "outputs": [
    {
     "data": {
      "text/plain": [
       "'%.5f'"
      ]
     },
     "execution_count": 62,
     "metadata": {},
     "output_type": "execute_result"
    }
   ],
   "source": [
    "# 너무 작은수를 0으로 변환\n",
    "%precision 5"
   ]
  },
  {
   "cell_type": "code",
   "execution_count": null,
   "id": "eb7d4288",
   "metadata": {},
   "outputs": [
    {
     "data": {
      "text/plain": [
       "2.50000"
      ]
     },
     "execution_count": 63,
     "metadata": {},
     "output_type": "execute_result"
    },
    {
     "data": {
      "text/plain": [
       "2.00000"
      ]
     },
     "execution_count": 63,
     "metadata": {},
     "output_type": "execute_result"
    },
    {
     "data": {
      "text/plain": [
       "2.00000"
      ]
     },
     "execution_count": 63,
     "metadata": {},
     "output_type": "execute_result"
    },
    {
     "data": {
      "text/plain": [
       "2.00000"
      ]
     },
     "execution_count": 63,
     "metadata": {},
     "output_type": "execute_result"
    }
   ],
   "source": [
    "x = [1, 2, 3, 4, 5]\n",
    "\n",
    "# ddof = 0: 모집단 / 1 : 표본집단\n",
    "\n",
    "# 표본분산\n",
    "np.var(x, ddof=1)\n",
    "\n",
    "# 모분산\n",
    "np.var(x)\n",
    "np.array(x).var()\n",
    "pd.Series(x).var(ddof=0)"
   ]
  },
  {
   "cell_type": "code",
   "execution_count": null,
   "id": "75661dfc",
   "metadata": {},
   "outputs": [
    {
     "data": {
      "text/plain": [
       "1.58114"
      ]
     },
     "execution_count": 64,
     "metadata": {},
     "output_type": "execute_result"
    },
    {
     "data": {
      "text/plain": [
       "1.41421"
      ]
     },
     "execution_count": 64,
     "metadata": {},
     "output_type": "execute_result"
    },
    {
     "data": {
      "text/plain": [
       "1.41421"
      ]
     },
     "execution_count": 64,
     "metadata": {},
     "output_type": "execute_result"
    },
    {
     "data": {
      "text/plain": [
       "1.41421"
      ]
     },
     "execution_count": 64,
     "metadata": {},
     "output_type": "execute_result"
    }
   ],
   "source": [
    "# 표준편차\n",
    "np.std(x, ddof=1)\n",
    "\n",
    "np.std(x)\n",
    "np.array(x).std()\n",
    "pd.Series(x).std(ddof=0)"
   ]
  },
  {
   "cell_type": "code",
   "execution_count": 65,
   "id": "63ae3478",
   "metadata": {},
   "outputs": [
    {
     "data": {
      "text/html": [
       "<div>\n",
       "<style scoped>\n",
       "    .dataframe tbody tr th:only-of-type {\n",
       "        vertical-align: middle;\n",
       "    }\n",
       "\n",
       "    .dataframe tbody tr th {\n",
       "        vertical-align: top;\n",
       "    }\n",
       "\n",
       "    .dataframe thead th {\n",
       "        text-align: right;\n",
       "    }\n",
       "</style>\n",
       "<table border=\"1\" class=\"dataframe\">\n",
       "  <thead>\n",
       "    <tr style=\"text-align: right;\">\n",
       "      <th></th>\n",
       "      <th>english</th>\n",
       "      <th>mathematics</th>\n",
       "    </tr>\n",
       "    <tr>\n",
       "      <th>student number</th>\n",
       "      <th></th>\n",
       "      <th></th>\n",
       "    </tr>\n",
       "  </thead>\n",
       "  <tbody>\n",
       "    <tr>\n",
       "      <th>1</th>\n",
       "      <td>42</td>\n",
       "      <td>65</td>\n",
       "    </tr>\n",
       "    <tr>\n",
       "      <th>2</th>\n",
       "      <td>69</td>\n",
       "      <td>80</td>\n",
       "    </tr>\n",
       "    <tr>\n",
       "      <th>3</th>\n",
       "      <td>56</td>\n",
       "      <td>63</td>\n",
       "    </tr>\n",
       "    <tr>\n",
       "      <th>4</th>\n",
       "      <td>41</td>\n",
       "      <td>63</td>\n",
       "    </tr>\n",
       "    <tr>\n",
       "      <th>5</th>\n",
       "      <td>57</td>\n",
       "      <td>76</td>\n",
       "    </tr>\n",
       "  </tbody>\n",
       "</table>\n",
       "</div>"
      ],
      "text/plain": [
       "                english  mathematics\n",
       "student number                      \n",
       "1                    42           65\n",
       "2                    69           80\n",
       "3                    56           63\n",
       "4                    41           63\n",
       "5                    57           76"
      ]
     },
     "execution_count": 65,
     "metadata": {},
     "output_type": "execute_result"
    }
   ],
   "source": [
    "df.head()"
   ]
  },
  {
   "cell_type": "code",
   "execution_count": 66,
   "id": "66fa69ee",
   "metadata": {},
   "outputs": [
    {
     "data": {
      "text/plain": [
       "count    50.000000\n",
       "mean     58.380000\n",
       "std       9.799813\n",
       "min      37.000000\n",
       "25%      54.000000\n",
       "50%      57.500000\n",
       "75%      65.000000\n",
       "max      79.000000\n",
       "Name: english, dtype: float64"
      ]
     },
     "execution_count": 66,
     "metadata": {},
     "output_type": "execute_result"
    }
   ],
   "source": [
    "df[\"english\"].describe()"
   ]
  },
  {
   "cell_type": "code",
   "execution_count": null,
   "id": "cec87959",
   "metadata": {},
   "outputs": [
    {
     "data": {
      "text/plain": [
       "student number\n",
       "1    -1.671461\n",
       "2     1.083694\n",
       "3    -0.242862\n",
       "4    -1.773503\n",
       "5    -0.140819\n",
       "6    -1.059204\n",
       "7     0.675523\n",
       "8    -0.957161\n",
       "9     0.675523\n",
       "10   -0.038776\n",
       "11    1.185737\n",
       "12   -1.161247\n",
       "13   -0.753076\n",
       "14    0.573480\n",
       "15    0.369395\n",
       "16    1.185737\n",
       "17    1.287780\n",
       "18    0.981651\n",
       "19    1.491865\n",
       "20   -2.181674\n",
       "21    0.675523\n",
       "22    0.675523\n",
       "23    0.267352\n",
       "24   -0.651033\n",
       "25   -0.140819\n",
       "26   -0.140819\n",
       "27    1.695951\n",
       "28    0.267352\n",
       "29   -1.161247\n",
       "30   -0.446947\n",
       "31    0.777566\n",
       "32   -0.446947\n",
       "33   -0.446947\n",
       "34   -1.671461\n",
       "35   -2.181674\n",
       "36    2.104122\n",
       "37   -0.242862\n",
       "38    0.369395\n",
       "39    0.369395\n",
       "40   -0.344905\n",
       "41    0.471438\n",
       "42   -0.140819\n",
       "43   -0.140819\n",
       "44    0.879609\n",
       "45   -0.344905\n",
       "46   -1.365332\n",
       "47    0.777566\n",
       "48   -0.344905\n",
       "49    0.573480\n",
       "50    0.777566\n",
       "Name: english, dtype: float64"
      ]
     },
     "execution_count": 67,
     "metadata": {},
     "output_type": "execute_result"
    }
   ],
   "source": [
    "(df[\"english\"] - df[\"english\"].mean()) / df[\"english\"].std()\n",
    "# 이게 뭘 의미하는걸까?"
   ]
  },
  {
   "cell_type": "code",
   "execution_count": null,
   "id": "86455ccf",
   "metadata": {},
   "outputs": [
    {
     "data": {
      "text/plain": [
       "[1,\n",
       " 1,\n",
       " 1,\n",
       " 1,\n",
       " 1,\n",
       " 1,\n",
       " 1,\n",
       " 1,\n",
       " 1,\n",
       " 1,\n",
       " 1,\n",
       " 1,\n",
       " 1,\n",
       " 1,\n",
       " 1,\n",
       " 1,\n",
       " 1,\n",
       " 1,\n",
       " 1,\n",
       " 1,\n",
       " 1,\n",
       " 1,\n",
       " 1,\n",
       " 1,\n",
       " 1,\n",
       " 1,\n",
       " 1,\n",
       " 1,\n",
       " 1,\n",
       " 1,\n",
       " 2,\n",
       " 2,\n",
       " 2,\n",
       " 2,\n",
       " 2,\n",
       " 2,\n",
       " 2,\n",
       " 2,\n",
       " 2,\n",
       " 2,\n",
       " 2,\n",
       " 2,\n",
       " 2,\n",
       " 2,\n",
       " 2,\n",
       " 2,\n",
       " 2,\n",
       " 2,\n",
       " 2,\n",
       " 2,\n",
       " 3,\n",
       " 3,\n",
       " 3,\n",
       " 3,\n",
       " 3,\n",
       " 3,\n",
       " 3,\n",
       " 3,\n",
       " 3,\n",
       " 3,\n",
       " 3,\n",
       " 3,\n",
       " 3,\n",
       " 3,\n",
       " 3,\n",
       " 3,\n",
       " 3,\n",
       " 3,\n",
       " 3,\n",
       " 3,\n",
       " 4,\n",
       " 4,\n",
       " 4,\n",
       " 4,\n",
       " 4,\n",
       " 4,\n",
       " 4,\n",
       " 4,\n",
       " 4,\n",
       " 4,\n",
       " 4,\n",
       " 4,\n",
       " 4,\n",
       " 4,\n",
       " 4,\n",
       " 5,\n",
       " 5,\n",
       " 5,\n",
       " 5,\n",
       " 5,\n",
       " 5,\n",
       " 5,\n",
       " 5,\n",
       " 5,\n",
       " 5,\n",
       " 5,\n",
       " 5,\n",
       " 5,\n",
       " 5,\n",
       " 5]"
      ]
     },
     "execution_count": 69,
     "metadata": {},
     "output_type": "execute_result"
    }
   ],
   "source": [
    "# 오른쪽으로 꼬리가 긴 분포 (right skewed, positive)\n",
    "x1 = [1] * 30 + [2] * 20 + [3] * 20 + [4] * 15 + [5] * 15\n",
    "x1"
   ]
  },
  {
   "cell_type": "code",
   "execution_count": null,
   "id": "26e24deb",
   "metadata": {},
   "outputs": [
    {
     "data": {
      "text/plain": [
       "[1,\n",
       " 1,\n",
       " 1,\n",
       " 1,\n",
       " 1,\n",
       " 1,\n",
       " 1,\n",
       " 1,\n",
       " 1,\n",
       " 1,\n",
       " 1,\n",
       " 1,\n",
       " 1,\n",
       " 1,\n",
       " 1,\n",
       " 2,\n",
       " 2,\n",
       " 2,\n",
       " 2,\n",
       " 2,\n",
       " 2,\n",
       " 2,\n",
       " 2,\n",
       " 2,\n",
       " 2,\n",
       " 2,\n",
       " 2,\n",
       " 2,\n",
       " 2,\n",
       " 2,\n",
       " 2,\n",
       " 2,\n",
       " 2,\n",
       " 2,\n",
       " 2,\n",
       " 3,\n",
       " 3,\n",
       " 3,\n",
       " 3,\n",
       " 3,\n",
       " 3,\n",
       " 3,\n",
       " 3,\n",
       " 3,\n",
       " 3,\n",
       " 3,\n",
       " 3,\n",
       " 3,\n",
       " 3,\n",
       " 3,\n",
       " 3,\n",
       " 3,\n",
       " 3,\n",
       " 3,\n",
       " 3,\n",
       " 3,\n",
       " 3,\n",
       " 3,\n",
       " 3,\n",
       " 3,\n",
       " 3,\n",
       " 3,\n",
       " 3,\n",
       " 3,\n",
       " 3,\n",
       " 4,\n",
       " 4,\n",
       " 4,\n",
       " 4,\n",
       " 4,\n",
       " 4,\n",
       " 4,\n",
       " 4,\n",
       " 4,\n",
       " 4,\n",
       " 4,\n",
       " 4,\n",
       " 4,\n",
       " 4,\n",
       " 4,\n",
       " 4,\n",
       " 4,\n",
       " 4,\n",
       " 4,\n",
       " 4,\n",
       " 5,\n",
       " 5,\n",
       " 5,\n",
       " 5,\n",
       " 5,\n",
       " 5,\n",
       " 5,\n",
       " 5,\n",
       " 5,\n",
       " 5,\n",
       " 5,\n",
       " 5,\n",
       " 5,\n",
       " 5,\n",
       " 5]"
      ]
     },
     "execution_count": 70,
     "metadata": {},
     "output_type": "execute_result"
    }
   ],
   "source": [
    "# 좌우대칭\n",
    "x2 = [1] * 15 + [2] * 20 + [3] * 30 + [4] * 20 + [5] * 15\n",
    "x2"
   ]
  },
  {
   "cell_type": "code",
   "execution_count": null,
   "id": "b5302840",
   "metadata": {},
   "outputs": [
    {
     "data": {
      "text/plain": [
       "[1,\n",
       " 1,\n",
       " 1,\n",
       " 1,\n",
       " 1,\n",
       " 1,\n",
       " 1,\n",
       " 1,\n",
       " 1,\n",
       " 1,\n",
       " 1,\n",
       " 1,\n",
       " 1,\n",
       " 1,\n",
       " 1,\n",
       " 2,\n",
       " 2,\n",
       " 2,\n",
       " 2,\n",
       " 2,\n",
       " 2,\n",
       " 2,\n",
       " 2,\n",
       " 2,\n",
       " 2,\n",
       " 2,\n",
       " 2,\n",
       " 2,\n",
       " 2,\n",
       " 2,\n",
       " 3,\n",
       " 3,\n",
       " 3,\n",
       " 3,\n",
       " 3,\n",
       " 3,\n",
       " 3,\n",
       " 3,\n",
       " 3,\n",
       " 3,\n",
       " 3,\n",
       " 3,\n",
       " 3,\n",
       " 3,\n",
       " 3,\n",
       " 3,\n",
       " 3,\n",
       " 3,\n",
       " 3,\n",
       " 3,\n",
       " 4,\n",
       " 4,\n",
       " 4,\n",
       " 4,\n",
       " 4,\n",
       " 4,\n",
       " 4,\n",
       " 4,\n",
       " 4,\n",
       " 4,\n",
       " 4,\n",
       " 4,\n",
       " 4,\n",
       " 4,\n",
       " 4,\n",
       " 4,\n",
       " 4,\n",
       " 4,\n",
       " 4,\n",
       " 4,\n",
       " 5,\n",
       " 5,\n",
       " 5,\n",
       " 5,\n",
       " 5,\n",
       " 5,\n",
       " 5,\n",
       " 5,\n",
       " 5,\n",
       " 5,\n",
       " 5,\n",
       " 5,\n",
       " 5,\n",
       " 5,\n",
       " 5,\n",
       " 5,\n",
       " 5,\n",
       " 5,\n",
       " 5,\n",
       " 5,\n",
       " 5,\n",
       " 5,\n",
       " 5,\n",
       " 5,\n",
       " 5,\n",
       " 5,\n",
       " 5,\n",
       " 5,\n",
       " 5,\n",
       " 5]"
      ]
     },
     "execution_count": 71,
     "metadata": {},
     "output_type": "execute_result"
    }
   ],
   "source": [
    "# 왼쪽으로 꼬리가 긴 분포 (left skewed, negative)\n",
    "x3 = [1] * 15 + [2] * 15 + [3] * 20 + [4] * 20 + [5] * 30\n",
    "x3"
   ]
  },
  {
   "cell_type": "code",
   "execution_count": 72,
   "id": "398d3fc7",
   "metadata": {},
   "outputs": [
    {
     "data": {
      "text/plain": [
       "<Axes: >"
      ]
     },
     "execution_count": 72,
     "metadata": {},
     "output_type": "execute_result"
    },
    {
     "data": {
      "image/png": "[encoded data removed]",
      "text/plain": [
       "<Figure size 640x480 with 1 Axes>"
      ]
     },
     "metadata": {},
     "output_type": "display_data"
    }
   ],
   "source": [
    "pd.Series(x1).value_counts(sort=False).plot(kind=\"bar\")"
   ]
  },
  {
   "cell_type": "code",
   "execution_count": 73,
   "id": "f0f25e04",
   "metadata": {},
   "outputs": [
    {
     "data": {
      "text/plain": [
       "<Axes: >"
      ]
     },
     "execution_count": 73,
     "metadata": {},
     "output_type": "execute_result"
    },
    {
     "data": {
      "image/png": "[encoded data removed]",
      "text/plain": [
       "<Figure size 640x480 with 1 Axes>"
      ]
     },
     "metadata": {},
     "output_type": "display_data"
    }
   ],
   "source": [
    "pd.Series(x2).value_counts(sort=False).plot(kind=\"bar\")"
   ]
  },
  {
   "cell_type": "code",
   "execution_count": 74,
   "id": "3a72c655",
   "metadata": {},
   "outputs": [
    {
     "data": {
      "text/plain": [
       "<Axes: >"
      ]
     },
     "execution_count": 74,
     "metadata": {},
     "output_type": "execute_result"
    },
    {
     "data": {
      "image/png": "[encoded data removed]",
      "text/plain": [
       "<Figure size 640x480 with 1 Axes>"
      ]
     },
     "metadata": {},
     "output_type": "display_data"
    }
   ],
   "source": [
    "pd.Series(x3).value_counts(sort=False).plot(kind=\"bar\")"
   ]
  },
  {
   "cell_type": "code",
   "execution_count": null,
   "id": "0a2d1149",
   "metadata": {},
   "outputs": [
    {
     "data": {
      "text/plain": [
       "0.31928"
      ]
     },
     "execution_count": 75,
     "metadata": {},
     "output_type": "execute_result"
    },
    {
     "data": {
      "text/plain": [
       "0.00000"
      ]
     },
     "execution_count": 75,
     "metadata": {},
     "output_type": "execute_result"
    },
    {
     "data": {
      "text/plain": [
       "-0.31928"
      ]
     },
     "execution_count": 75,
     "metadata": {},
     "output_type": "execute_result"
    }
   ],
   "source": [
    "# 정규분포 기준의 차이값\n",
    "skew(x1)\n",
    "skew(x2)\n",
    "skew(x3)"
   ]
  },
  {
   "cell_type": "code",
   "execution_count": 76,
   "id": "e89b115f",
   "metadata": {},
   "outputs": [],
   "source": [
    "# 균일 분포 (uniform dist)\n",
    "x1 = [1] * 20 + [2] * 20 + [3] * 20 + [4] * 20 + [5] * 20\n",
    "\n",
    "# 좌우 대칭 분포\n",
    "x2 = [1] * 10 + [2] * 20 + [3] * 40 + [4] * 20 + [5] * 10\n",
    "\n",
    "# 뾰족한 분포\n",
    "x3 = [1] * 10 + [2] * 15 + [3] * 60 + [4] * 15 + [5] * 10"
   ]
  },
  {
   "cell_type": "code",
   "execution_count": null,
   "id": "e9fbbee1",
   "metadata": {},
   "outputs": [
    {
     "data": {
      "text/plain": [
       "<Axes: >"
      ]
     },
     "execution_count": 78,
     "metadata": {},
     "output_type": "execute_result"
    },
    {
     "data": {
      "image/png": "[encoded data removed]",
      "text/plain": [
       "<Figure size 640x480 with 1 Axes>"
      ]
     },
     "metadata": {},
     "output_type": "display_data"
    }
   ],
   "source": [
    "pd.Series(x1).value_counts(sort=False).plot(kind=\"bar\")"
   ]
  },
  {
   "cell_type": "code",
   "execution_count": 79,
   "id": "dc71fa6c",
   "metadata": {},
   "outputs": [
    {
     "data": {
      "text/plain": [
       "<Axes: >"
      ]
     },
     "execution_count": 79,
     "metadata": {},
     "output_type": "execute_result"
    },
    {
     "data": {
      "image/png": "[encoded data removed]",
      "text/plain": [
       "<Figure size 640x480 with 1 Axes>"
      ]
     },
     "metadata": {},
     "output_type": "display_data"
    }
   ],
   "source": [
    "pd.Series(x2).value_counts(sort=False).plot(kind=\"bar\")"
   ]
  },
  {
   "cell_type": "code",
   "execution_count": 80,
   "id": "faec855d",
   "metadata": {},
   "outputs": [
    {
     "data": {
      "text/plain": [
       "<Axes: >"
      ]
     },
     "execution_count": 80,
     "metadata": {},
     "output_type": "execute_result"
    },
    {
     "data": {
      "image/png": "[encoded data removed]",
      "text/plain": [
       "<Figure size 640x480 with 1 Axes>"
      ]
     },
     "metadata": {},
     "output_type": "display_data"
    }
   ],
   "source": [
    "pd.Series(x3).value_counts(sort=False).plot(kind=\"bar\")"
   ]
  },
  {
   "cell_type": "code",
   "execution_count": null,
   "id": "5cc343a7",
   "metadata": {},
   "outputs": [
    {
     "data": {
      "text/plain": [
       "-1.30000"
      ]
     },
     "execution_count": 81,
     "metadata": {},
     "output_type": "execute_result"
    },
    {
     "data": {
      "text/plain": [
       "-0.50000"
      ]
     },
     "execution_count": 81,
     "metadata": {},
     "output_type": "execute_result"
    },
    {
     "data": {
      "text/plain": [
       "0.18182"
      ]
     },
     "execution_count": 81,
     "metadata": {},
     "output_type": "execute_result"
    }
   ],
   "source": [
    "# 첨도\n",
    "kurtosis(x1)\n",
    "kurtosis(x2)\n",
    "kurtosis(x3)"
   ]
  },
  {
   "cell_type": "code",
   "execution_count": 82,
   "id": "cc6538ac",
   "metadata": {},
   "outputs": [
    {
     "data": {
      "text/plain": [
       "student number\n",
       "1     42\n",
       "2     69\n",
       "3     56\n",
       "4     41\n",
       "5     57\n",
       "6     48\n",
       "7     65\n",
       "8     49\n",
       "9     65\n",
       "10    58\n",
       "11    70\n",
       "12    47\n",
       "13    51\n",
       "14    64\n",
       "15    62\n",
       "16    70\n",
       "17    71\n",
       "18    68\n",
       "19    73\n",
       "20    37\n",
       "21    65\n",
       "22    65\n",
       "23    61\n",
       "24    52\n",
       "25    57\n",
       "26    57\n",
       "27    75\n",
       "28    61\n",
       "29    47\n",
       "30    54\n",
       "31    66\n",
       "32    54\n",
       "33    54\n",
       "34    42\n",
       "35    37\n",
       "36    79\n",
       "37    56\n",
       "38    62\n",
       "39    62\n",
       "40    55\n",
       "41    63\n",
       "42    57\n",
       "43    57\n",
       "44    67\n",
       "45    55\n",
       "46    45\n",
       "47    66\n",
       "48    55\n",
       "49    64\n",
       "50    66\n",
       "Name: english, dtype: int64"
      ]
     },
     "execution_count": 82,
     "metadata": {},
     "output_type": "execute_result"
    }
   ],
   "source": [
    "eng = df[\"english\"]\n",
    "eng"
   ]
  },
  {
   "cell_type": "code",
   "execution_count": 87,
   "id": "dd7c9c7d",
   "metadata": {},
   "outputs": [
    {
     "data": {
      "text/plain": [
       "array([ 0,  0,  0,  2,  8, 16, 18,  6,  0,  0])"
      ]
     },
     "execution_count": 87,
     "metadata": {},
     "output_type": "execute_result"
    }
   ],
   "source": [
    "freq, _ = np.histogram(eng, bins=10, range=(0, 100))\n",
    "freq"
   ]
  },
  {
   "cell_type": "code",
   "execution_count": 88,
   "id": "7660cbfe",
   "metadata": {},
   "outputs": [
    {
     "data": {
      "text/html": [
       "<div>\n",
       "<style scoped>\n",
       "    .dataframe tbody tr th:only-of-type {\n",
       "        vertical-align: middle;\n",
       "    }\n",
       "\n",
       "    .dataframe tbody tr th {\n",
       "        vertical-align: top;\n",
       "    }\n",
       "\n",
       "    .dataframe thead th {\n",
       "        text-align: right;\n",
       "    }\n",
       "</style>\n",
       "<table border=\"1\" class=\"dataframe\">\n",
       "  <thead>\n",
       "    <tr style=\"text-align: right;\">\n",
       "      <th></th>\n",
       "      <th>frequency</th>\n",
       "    </tr>\n",
       "  </thead>\n",
       "  <tbody>\n",
       "    <tr>\n",
       "      <th>0 ~ 10</th>\n",
       "      <td>0</td>\n",
       "    </tr>\n",
       "    <tr>\n",
       "      <th>10 ~ 20</th>\n",
       "      <td>0</td>\n",
       "    </tr>\n",
       "    <tr>\n",
       "      <th>20 ~ 30</th>\n",
       "      <td>0</td>\n",
       "    </tr>\n",
       "    <tr>\n",
       "      <th>30 ~ 40</th>\n",
       "      <td>2</td>\n",
       "    </tr>\n",
       "    <tr>\n",
       "      <th>40 ~ 50</th>\n",
       "      <td>8</td>\n",
       "    </tr>\n",
       "    <tr>\n",
       "      <th>50 ~ 60</th>\n",
       "      <td>16</td>\n",
       "    </tr>\n",
       "    <tr>\n",
       "      <th>60 ~ 70</th>\n",
       "      <td>18</td>\n",
       "    </tr>\n",
       "    <tr>\n",
       "      <th>70 ~ 80</th>\n",
       "      <td>6</td>\n",
       "    </tr>\n",
       "    <tr>\n",
       "      <th>80 ~ 90</th>\n",
       "      <td>0</td>\n",
       "    </tr>\n",
       "    <tr>\n",
       "      <th>90 ~ 100</th>\n",
       "      <td>0</td>\n",
       "    </tr>\n",
       "  </tbody>\n",
       "</table>\n",
       "</div>"
      ],
      "text/plain": [
       "          frequency\n",
       "0 ~ 10            0\n",
       "10 ~ 20           0\n",
       "20 ~ 30           0\n",
       "30 ~ 40           2\n",
       "40 ~ 50           8\n",
       "50 ~ 60          16\n",
       "60 ~ 70          18\n",
       "70 ~ 80           6\n",
       "80 ~ 90           0\n",
       "90 ~ 100          0"
      ]
     },
     "execution_count": 88,
     "metadata": {},
     "output_type": "execute_result"
    }
   ],
   "source": [
    "freq_class = [f\"{i} ~ {i  + 10}\" for i in range(0, 100, 10)]\n",
    "freq_dist_df = pd.DataFrame({\"frequency\" : freq}, index=freq_class)\n",
    "freq_dist_df"
   ]
  },
  {
   "cell_type": "code",
   "execution_count": 93,
   "id": "d747e142",
   "metadata": {},
   "outputs": [
    {
     "data": {
      "text/plain": [
       "[5, 20, 35, 50, 65, 80, 95, 110, 125, 140]"
      ]
     },
     "execution_count": 93,
     "metadata": {},
     "output_type": "execute_result"
    }
   ],
   "source": [
    "class_value = [i + (i + 10) // 2 for i in range(0, 100, 10)]\n",
    "class_value"
   ]
  },
  {
   "cell_type": "code",
   "execution_count": 91,
   "id": "ea4a2216",
   "metadata": {},
   "outputs": [
    {
     "data": {
      "text/plain": [
       "array([0.  , 0.  , 0.  , 0.04, 0.16, 0.32, 0.36, 0.12, 0.  , 0.  ])"
      ]
     },
     "execution_count": 91,
     "metadata": {},
     "output_type": "execute_result"
    }
   ],
   "source": [
    "# 상대 도수\n",
    "rel_freq = freq / freq.sum()\n",
    "rel_freq"
   ]
  },
  {
   "cell_type": "code",
   "execution_count": 92,
   "id": "40f1da2d",
   "metadata": {},
   "outputs": [
    {
     "data": {
      "text/plain": [
       "array([0.  , 0.  , 0.  , 0.04, 0.2 , 0.52, 0.88, 1.  , 1.  , 1.  ])"
      ]
     },
     "execution_count": 92,
     "metadata": {},
     "output_type": "execute_result"
    }
   ],
   "source": [
    "# 누적 상대 도수\n",
    "cum_rel_freq = np.cumsum(rel_freq)\n",
    "cum_rel_freq"
   ]
  },
  {
   "cell_type": "code",
   "execution_count": 94,
   "id": "49ade028",
   "metadata": {},
   "outputs": [
    {
     "data": {
      "text/html": [
       "<div>\n",
       "<style scoped>\n",
       "    .dataframe tbody tr th:only-of-type {\n",
       "        vertical-align: middle;\n",
       "    }\n",
       "\n",
       "    .dataframe tbody tr th {\n",
       "        vertical-align: top;\n",
       "    }\n",
       "\n",
       "    .dataframe thead th {\n",
       "        text-align: right;\n",
       "    }\n",
       "</style>\n",
       "<table border=\"1\" class=\"dataframe\">\n",
       "  <thead>\n",
       "    <tr style=\"text-align: right;\">\n",
       "      <th></th>\n",
       "      <th>frequency</th>\n",
       "      <th>class_value</th>\n",
       "      <th>relative freq.</th>\n",
       "      <th>cum. relative freq.</th>\n",
       "    </tr>\n",
       "  </thead>\n",
       "  <tbody>\n",
       "    <tr>\n",
       "      <th>0 ~ 10</th>\n",
       "      <td>0</td>\n",
       "      <td>5</td>\n",
       "      <td>0.00</td>\n",
       "      <td>0.00</td>\n",
       "    </tr>\n",
       "    <tr>\n",
       "      <th>10 ~ 20</th>\n",
       "      <td>0</td>\n",
       "      <td>20</td>\n",
       "      <td>0.00</td>\n",
       "      <td>0.00</td>\n",
       "    </tr>\n",
       "    <tr>\n",
       "      <th>20 ~ 30</th>\n",
       "      <td>0</td>\n",
       "      <td>35</td>\n",
       "      <td>0.00</td>\n",
       "      <td>0.00</td>\n",
       "    </tr>\n",
       "    <tr>\n",
       "      <th>30 ~ 40</th>\n",
       "      <td>2</td>\n",
       "      <td>50</td>\n",
       "      <td>0.04</td>\n",
       "      <td>0.04</td>\n",
       "    </tr>\n",
       "    <tr>\n",
       "      <th>40 ~ 50</th>\n",
       "      <td>8</td>\n",
       "      <td>65</td>\n",
       "      <td>0.16</td>\n",
       "      <td>0.20</td>\n",
       "    </tr>\n",
       "    <tr>\n",
       "      <th>50 ~ 60</th>\n",
       "      <td>16</td>\n",
       "      <td>80</td>\n",
       "      <td>0.32</td>\n",
       "      <td>0.52</td>\n",
       "    </tr>\n",
       "    <tr>\n",
       "      <th>60 ~ 70</th>\n",
       "      <td>18</td>\n",
       "      <td>95</td>\n",
       "      <td>0.36</td>\n",
       "      <td>0.88</td>\n",
       "    </tr>\n",
       "    <tr>\n",
       "      <th>70 ~ 80</th>\n",
       "      <td>6</td>\n",
       "      <td>110</td>\n",
       "      <td>0.12</td>\n",
       "      <td>1.00</td>\n",
       "    </tr>\n",
       "    <tr>\n",
       "      <th>80 ~ 90</th>\n",
       "      <td>0</td>\n",
       "      <td>125</td>\n",
       "      <td>0.00</td>\n",
       "      <td>1.00</td>\n",
       "    </tr>\n",
       "    <tr>\n",
       "      <th>90 ~ 100</th>\n",
       "      <td>0</td>\n",
       "      <td>140</td>\n",
       "      <td>0.00</td>\n",
       "      <td>1.00</td>\n",
       "    </tr>\n",
       "  </tbody>\n",
       "</table>\n",
       "</div>"
      ],
      "text/plain": [
       "          frequency  class_value  relative freq.  cum. relative freq.\n",
       "0 ~ 10            0            5            0.00                 0.00\n",
       "10 ~ 20           0           20            0.00                 0.00\n",
       "20 ~ 30           0           35            0.00                 0.00\n",
       "30 ~ 40           2           50            0.04                 0.04\n",
       "40 ~ 50           8           65            0.16                 0.20\n",
       "50 ~ 60          16           80            0.32                 0.52\n",
       "60 ~ 70          18           95            0.36                 0.88\n",
       "70 ~ 80           6          110            0.12                 1.00\n",
       "80 ~ 90           0          125            0.00                 1.00\n",
       "90 ~ 100          0          140            0.00                 1.00"
      ]
     },
     "execution_count": 94,
     "metadata": {},
     "output_type": "execute_result"
    }
   ],
   "source": [
    "freq_dist_df[\"class_value\"] = class_value\n",
    "freq_dist_df[\"relative freq.\"] = rel_freq\n",
    "freq_dist_df[\"cum. relative freq.\"] = cum_rel_freq\n",
    "\n",
    "freq_dist_df"
   ]
  },
  {
   "cell_type": "code",
   "execution_count": 95,
   "id": "50833c7a",
   "metadata": {},
   "outputs": [
    {
     "data": {
      "text/plain": [
       "np.int64(95)"
      ]
     },
     "execution_count": 95,
     "metadata": {},
     "output_type": "execute_result"
    }
   ],
   "source": [
    "# 도수 분포표의 최빈값\n",
    "freq_dist_df.loc[freq_dist_df[\"frequency\"].idxmax(), \"class_value\"]"
   ]
  },
  {
   "cell_type": "code",
   "execution_count": 97,
   "id": "e9f2d78d",
   "metadata": {},
   "outputs": [
    {
     "data": {
      "text/plain": [
       "(array([ 0.,  0.,  0.,  0.,  0.,  0.,  0.,  0.,  0.,  2.,  3.,  3.,  3.,\n",
       "         7.,  8.,  6., 10.,  5.,  2.,  1.,  0.,  0.,  0.,  0.,  0.]),\n",
       " array([  0.,   4.,   8.,  12.,  16.,  20.,  24.,  28.,  32.,  36.,  40.,\n",
       "         44.,  48.,  52.,  56.,  60.,  64.,  68.,  72.,  76.,  80.,  84.,\n",
       "         88.,  92.,  96., 100.]),\n",
       " <BarContainer object of 25 artists>)"
      ]
     },
     "execution_count": 97,
     "metadata": {},
     "output_type": "execute_result"
    },
    {
     "data": {
      "image/png": "[encoded data removed]",
      "text/plain": [
       "<Figure size 640x480 with 1 Axes>"
      ]
     },
     "metadata": {},
     "output_type": "display_data"
    }
   ],
   "source": [
    "plt.hist(eng, bins=25, range=(0, 100))"
   ]
  },
  {
   "cell_type": "code",
   "execution_count": 98,
   "id": "5f7cb80f",
   "metadata": {},
   "outputs": [
    {
     "data": {
      "text/plain": [
       "(array([ 0.,  0.,  0.,  2.,  8., 16., 18.,  6.,  0.,  0.]),\n",
       " array([  0.,  10.,  20.,  30.,  40.,  50.,  60.,  70.,  80.,  90., 100.]),\n",
       " <BarContainer object of 10 artists>)"
      ]
     },
     "execution_count": 98,
     "metadata": {},
     "output_type": "execute_result"
    },
    {
     "data": {
      "image/png": "[encoded data removed]",
      "text/plain": [
       "<Figure size 640x480 with 1 Axes>"
      ]
     },
     "metadata": {},
     "output_type": "display_data"
    }
   ],
   "source": [
    "plt.hist(eng, bins=10, range=(0, 100))"
   ]
  },
  {
   "cell_type": "code",
   "execution_count": 101,
   "id": "d38cb3ed",
   "metadata": {},
   "outputs": [
    {
     "data": {
      "text/plain": [
       "{'whiskers': [<matplotlib.lines.Line2D at 0x286dc70e0>,\n",
       "  <matplotlib.lines.Line2D at 0x286dc7230>],\n",
       " 'caps': [<matplotlib.lines.Line2D at 0x286dc7380>,\n",
       "  <matplotlib.lines.Line2D at 0x286dc74d0>],\n",
       " 'boxes': [<matplotlib.lines.Line2D at 0x286dc6f90>],\n",
       " 'medians': [<matplotlib.lines.Line2D at 0x286dc7620>],\n",
       " 'fliers': [<matplotlib.lines.Line2D at 0x286dc7770>],\n",
       " 'means': []}"
      ]
     },
     "execution_count": 101,
     "metadata": {},
     "output_type": "execute_result"
    },
    {
     "data": {
      "image/png": "[encoded data removed]",
      "text/plain": [
       "<Figure size 640x480 with 1 Axes>"
      ]
     },
     "metadata": {},
     "output_type": "display_data"
    }
   ],
   "source": [
    "plt.boxplot(eng, label=[\"english\"])"
   ]
  },
  {
   "cell_type": "code",
   "execution_count": null,
   "id": "6cfe0710",
   "metadata": {},
   "outputs": [],
   "source": []
  }
 ],
 "metadata": {
  "kernelspec": {
   "display_name": "multi02",
   "language": "python",
   "name": "python3"
  },
  "language_info": {
   "codemirror_mode": {
    "name": "ipython",
    "version": 3
   },
   "file_extension": ".py",
   "mimetype": "text/x-python",
   "name": "python",
   "nbconvert_exporter": "python",
   "pygments_lexer": "ipython3",
   "version": "3.14.0"
  }
 },
 "nbformat": 4,
 "nbformat_minor": 5
}
