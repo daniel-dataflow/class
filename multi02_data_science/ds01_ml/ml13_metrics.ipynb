{
 "cells": [
  {
   "cell_type": "markdown",
   "id": "8ebc36b7",
   "metadata": {},
   "source": [
    "metrics (평가지표)\n",
    "\n",
    "MAE (Mean Absolute Error) :  오차 절대값 평균\n",
    "\n",
    "MSE (Mean Squared Error) :  오차 제곱 평균\n",
    "\n",
    "RMSE(Root Mean Squared Error) :  오차 제곱평균의 제곱근\n",
    "\n",
    "R Squared (결종계수) : 예측값 variance / 실제값 variance (1에 가까울수록 정확도가 높음)"
   ]
  },
  {
   "cell_type": "code",
   "execution_count": 7,
   "id": "2050e028",
   "metadata": {},
   "outputs": [],
   "source": [
    "import numpy as np\n",
    "from sklearn.metrics import mean_absolute_error, mean_squared_error, root_mean_squared_error, r2_score"
   ]
  },
  {
   "cell_type": "code",
   "execution_count": 8,
   "id": "d173e9bc",
   "metadata": {},
   "outputs": [],
   "source": [
    "y = np.array([1, 2, 3, 4, 5, 6, 7, 8, 9, 10])\n",
    "h = np.array([1, 1, 3, 4, 8, 6, 7, 8, 7, 10])"
   ]
  },
  {
   "cell_type": "code",
   "execution_count": null,
   "id": "896aa561",
   "metadata": {},
   "outputs": [],
   "source": [
    "# 절대값의 평균\n",
    "def mae(y, h):\n",
    "    return abs(y - h).mean()"
   ]
  },
  {
   "cell_type": "code",
   "execution_count": 10,
   "id": "ddc2ddf8",
   "metadata": {},
   "outputs": [
    {
     "name": "stdout",
     "output_type": "stream",
     "text": [
      "0.6\n",
      "0.6\n"
     ]
    }
   ],
   "source": [
    "print(mae(y, h))\n",
    "print(mean_absolute_error(y, h))"
   ]
  },
  {
   "cell_type": "code",
   "execution_count": 11,
   "id": "6de0408a",
   "metadata": {},
   "outputs": [],
   "source": [
    "def mse(y, h):\n",
    "    return ( (y - h) ** 2 ).mean()"
   ]
  },
  {
   "cell_type": "code",
   "execution_count": 12,
   "id": "90cd0545",
   "metadata": {},
   "outputs": [
    {
     "name": "stdout",
     "output_type": "stream",
     "text": [
      "1.4\n",
      "1.4\n"
     ]
    }
   ],
   "source": [
    "print(mse(y, h))\n",
    "print(mean_squared_error(y, h))"
   ]
  },
  {
   "cell_type": "code",
   "execution_count": 14,
   "id": "c2f652a9",
   "metadata": {},
   "outputs": [],
   "source": [
    "def rmse(y, h):\n",
    "    return np.sqrt(( (y - h) ** 2 ).mean())"
   ]
  },
  {
   "cell_type": "code",
   "execution_count": 15,
   "id": "de620fb4",
   "metadata": {},
   "outputs": [
    {
     "name": "stdout",
     "output_type": "stream",
     "text": [
      "1.1832159566199232\n",
      "1.1832159566199232\n"
     ]
    }
   ],
   "source": [
    "print(rmse(y, h))\n",
    "print(root_mean_squared_error(y, h))"
   ]
  },
  {
   "cell_type": "code",
   "execution_count": 16,
   "id": "4d00dc53",
   "metadata": {},
   "outputs": [],
   "source": [
    "def my_r2_score(y, h):\n",
    "    y_bar = y.mean()\n",
    "    ss_tot = ((y-y_bar)**2).sum()\n",
    "    ss_res = ((y-h)**2).sum()\n",
    "    return 1- (ss_res / ss_tot)"
   ]
  },
  {
   "cell_type": "code",
   "execution_count": 17,
   "id": "b9c8b3f8",
   "metadata": {},
   "outputs": [
    {
     "name": "stdout",
     "output_type": "stream",
     "text": [
      "0.8303030303030303\n",
      "0.8303030303030303\n"
     ]
    }
   ],
   "source": [
    "print(my_r2_score(y, h))\n",
    "print(r2_score(y, h))"
   ]
  },
  {
   "cell_type": "code",
   "execution_count": null,
   "id": "c2605451",
   "metadata": {},
   "outputs": [],
   "source": []
  }
 ],
 "metadata": {
  "kernelspec": {
   "display_name": "multi02",
   "language": "python",
   "name": "python3"
  },
  "language_info": {
   "codemirror_mode": {
    "name": "ipython",
    "version": 3
   },
   "file_extension": ".py",
   "mimetype": "text/x-python",
   "name": "python",
   "nbconvert_exporter": "python",
   "pygments_lexer": "ipython3",
   "version": "3.14.0"
  }
 },
 "nbformat": 4,
 "nbformat_minor": 5
}
