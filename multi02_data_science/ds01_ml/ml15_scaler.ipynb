{
 "cells": [
  {
   "cell_type": "markdown",
   "id": "01c88acc",
   "metadata": {},
   "source": [
    "Feature Scaling  : Feature들의 척도를 통일하여 모델 학습 시 특정 특성이 다른 특성보다 과도하게 영향을 미치는 것을 방지\n",
    "\n",
    "- 표준화 (standardization) : 평균은 0, 분산은 1이 되도록 변환 (StandardScaler)\n",
    "    -> 정규분포가 된다. => 만일, 특성의 값이 정규분포를 따르면, 표준 정규분포가 된다.\n",
    "\n",
    "- 정규화 (normalization) : 특성값을 정규화 ( 분산된 데이터를 어떤 일정한 범위로 가두는것)\n",
    "    - MinMaxScaler : 0~ 1 사이의 값으로 변환\n",
    "      -> 만일, 이상치 값이 존재하면 값의 폭이 좁기 때문에 판단이 모호해진다. (이상치에 민감)"
   ]
  },
  {
   "cell_type": "code",
   "execution_count": 1,
   "id": "108f7c48",
   "metadata": {},
   "outputs": [],
   "source": [
    "import numpy as np\n",
    "import pandas as pd\n",
    "from sklearn.preprocessing import MinMaxScaler"
   ]
  },
  {
   "cell_type": "code",
   "execution_count": 6,
   "id": "773b9b09",
   "metadata": {},
   "outputs": [],
   "source": [
    "np.random.seed(100)\n",
    "data_array = []\n",
    "\n",
    "for i in range(1, 100):\n",
    "    s = np.random.randint(0, i * 10, 10)\n",
    "    data_array.extend(s)\n",
    "\n",
    "data_array.extend(np.zeros(100))"
   ]
  },
  {
   "cell_type": "code",
   "execution_count": 7,
   "id": "a72d5f08",
   "metadata": {},
   "outputs": [
    {
     "data": {
      "text/html": [
       "<div>\n",
       "<style scoped>\n",
       "    .dataframe tbody tr th:only-of-type {\n",
       "        vertical-align: middle;\n",
       "    }\n",
       "\n",
       "    .dataframe tbody tr th {\n",
       "        vertical-align: top;\n",
       "    }\n",
       "\n",
       "    .dataframe thead th {\n",
       "        text-align: right;\n",
       "    }\n",
       "</style>\n",
       "<table border=\"1\" class=\"dataframe\">\n",
       "  <thead>\n",
       "    <tr style=\"text-align: right;\">\n",
       "      <th></th>\n",
       "      <th>scalling_data</th>\n",
       "    </tr>\n",
       "  </thead>\n",
       "  <tbody>\n",
       "    <tr>\n",
       "      <th>0</th>\n",
       "      <td>8.0</td>\n",
       "    </tr>\n",
       "    <tr>\n",
       "      <th>1</th>\n",
       "      <td>8.0</td>\n",
       "    </tr>\n",
       "    <tr>\n",
       "      <th>2</th>\n",
       "      <td>3.0</td>\n",
       "    </tr>\n",
       "    <tr>\n",
       "      <th>3</th>\n",
       "      <td>7.0</td>\n",
       "    </tr>\n",
       "    <tr>\n",
       "      <th>4</th>\n",
       "      <td>7.0</td>\n",
       "    </tr>\n",
       "    <tr>\n",
       "      <th>...</th>\n",
       "      <td>...</td>\n",
       "    </tr>\n",
       "    <tr>\n",
       "      <th>1085</th>\n",
       "      <td>0.0</td>\n",
       "    </tr>\n",
       "    <tr>\n",
       "      <th>1086</th>\n",
       "      <td>0.0</td>\n",
       "    </tr>\n",
       "    <tr>\n",
       "      <th>1087</th>\n",
       "      <td>0.0</td>\n",
       "    </tr>\n",
       "    <tr>\n",
       "      <th>1088</th>\n",
       "      <td>0.0</td>\n",
       "    </tr>\n",
       "    <tr>\n",
       "      <th>1089</th>\n",
       "      <td>0.0</td>\n",
       "    </tr>\n",
       "  </tbody>\n",
       "</table>\n",
       "<p>1090 rows × 1 columns</p>\n",
       "</div>"
      ],
      "text/plain": [
       "      scalling_data\n",
       "0               8.0\n",
       "1               8.0\n",
       "2               3.0\n",
       "3               7.0\n",
       "4               7.0\n",
       "...             ...\n",
       "1085            0.0\n",
       "1086            0.0\n",
       "1087            0.0\n",
       "1088            0.0\n",
       "1089            0.0\n",
       "\n",
       "[1090 rows x 1 columns]"
      ]
     },
     "execution_count": 7,
     "metadata": {},
     "output_type": "execute_result"
    }
   ],
   "source": [
    "data = pd.DataFrame({\"scalling_data\": data_array})\n",
    "data"
   ]
  },
  {
   "cell_type": "code",
   "execution_count": 8,
   "id": "f9d46969",
   "metadata": {},
   "outputs": [
    {
     "data": {
      "text/plain": [
       "(scalling_data    977.0\n",
       " dtype: float64,\n",
       " scalling_data    0.0\n",
       " dtype: float64)"
      ]
     },
     "execution_count": 8,
     "metadata": {},
     "output_type": "execute_result"
    }
   ],
   "source": [
    "data.max(), data.min()"
   ]
  },
  {
   "cell_type": "code",
   "execution_count": 10,
   "id": "7d6b212d",
   "metadata": {},
   "outputs": [],
   "source": [
    "# 0 ~ 1사이의 값으로 변환\n",
    "scaler = MinMaxScaler()"
   ]
  },
  {
   "cell_type": "code",
   "execution_count": 11,
   "id": "9ead4d7f",
   "metadata": {},
   "outputs": [
    {
     "data": {
      "text/plain": [
       "array([[0.00818833],\n",
       "       [0.00818833],\n",
       "       [0.00307062],\n",
       "       ...,\n",
       "       [0.        ],\n",
       "       [0.        ],\n",
       "       [0.        ]], shape=(1090, 1))"
      ]
     },
     "execution_count": 11,
     "metadata": {},
     "output_type": "execute_result"
    }
   ],
   "source": [
    "data_n = scaler.fit_transform(data)\n",
    "data_n"
   ]
  },
  {
   "cell_type": "code",
   "execution_count": 12,
   "id": "f42550b6",
   "metadata": {},
   "outputs": [],
   "source": [
    "from sklearn.preprocessing import StandardScaler"
   ]
  },
  {
   "cell_type": "code",
   "execution_count": 14,
   "id": "c7507d5d",
   "metadata": {},
   "outputs": [],
   "source": [
    "np.random.seed(100)\n",
    "data_array = []\n",
    "\n",
    "for i in range(1, 100):\n",
    "    s = np.random.randint(0, i * 10, 10)\n",
    "    data_array.extend(s)\n",
    "\n",
    "data_array.extend(np.zeros(100))\n",
    "\n",
    "data = pd.DataFrame({\"scaling_data\": data_array})"
   ]
  },
  {
   "cell_type": "code",
   "execution_count": 15,
   "id": "5b771299",
   "metadata": {},
   "outputs": [],
   "source": [
    "scaler = StandardScaler()"
   ]
  },
  {
   "cell_type": "code",
   "execution_count": 19,
   "id": "afdccd00",
   "metadata": {},
   "outputs": [
    {
     "data": {
      "text/plain": [
       "array([[-0.98416062],\n",
       "       [-0.98416062],\n",
       "       [-1.00595372],\n",
       "       ...,\n",
       "       [-1.01902959],\n",
       "       [-1.01902959],\n",
       "       [-1.01902959]], shape=(1090, 1))"
      ]
     },
     "execution_count": 19,
     "metadata": {},
     "output_type": "execute_result"
    }
   ],
   "source": [
    "data_n = scaler.fit_transform(data)\n",
    "data_n"
   ]
  },
  {
   "cell_type": "code",
   "execution_count": 20,
   "id": "29d8208e",
   "metadata": {},
   "outputs": [
    {
     "data": {
      "text/html": [
       "<div>\n",
       "<style scoped>\n",
       "    .dataframe tbody tr th:only-of-type {\n",
       "        vertical-align: middle;\n",
       "    }\n",
       "\n",
       "    .dataframe tbody tr th {\n",
       "        vertical-align: top;\n",
       "    }\n",
       "\n",
       "    .dataframe thead th {\n",
       "        text-align: right;\n",
       "    }\n",
       "</style>\n",
       "<table border=\"1\" class=\"dataframe\">\n",
       "  <thead>\n",
       "    <tr style=\"text-align: right;\">\n",
       "      <th></th>\n",
       "      <th>scaling_data</th>\n",
       "    </tr>\n",
       "  </thead>\n",
       "  <tbody>\n",
       "    <tr>\n",
       "      <th>0</th>\n",
       "      <td>-0.984161</td>\n",
       "    </tr>\n",
       "    <tr>\n",
       "      <th>1</th>\n",
       "      <td>-0.984161</td>\n",
       "    </tr>\n",
       "    <tr>\n",
       "      <th>2</th>\n",
       "      <td>-1.005954</td>\n",
       "    </tr>\n",
       "    <tr>\n",
       "      <th>3</th>\n",
       "      <td>-0.988519</td>\n",
       "    </tr>\n",
       "    <tr>\n",
       "      <th>4</th>\n",
       "      <td>-0.988519</td>\n",
       "    </tr>\n",
       "    <tr>\n",
       "      <th>...</th>\n",
       "      <td>...</td>\n",
       "    </tr>\n",
       "    <tr>\n",
       "      <th>1085</th>\n",
       "      <td>-1.019030</td>\n",
       "    </tr>\n",
       "    <tr>\n",
       "      <th>1086</th>\n",
       "      <td>-1.019030</td>\n",
       "    </tr>\n",
       "    <tr>\n",
       "      <th>1087</th>\n",
       "      <td>-1.019030</td>\n",
       "    </tr>\n",
       "    <tr>\n",
       "      <th>1088</th>\n",
       "      <td>-1.019030</td>\n",
       "    </tr>\n",
       "    <tr>\n",
       "      <th>1089</th>\n",
       "      <td>-1.019030</td>\n",
       "    </tr>\n",
       "  </tbody>\n",
       "</table>\n",
       "<p>1090 rows × 1 columns</p>\n",
       "</div>"
      ],
      "text/plain": [
       "      scaling_data\n",
       "0        -0.984161\n",
       "1        -0.984161\n",
       "2        -1.005954\n",
       "3        -0.988519\n",
       "4        -0.988519\n",
       "...            ...\n",
       "1085     -1.019030\n",
       "1086     -1.019030\n",
       "1087     -1.019030\n",
       "1088     -1.019030\n",
       "1089     -1.019030\n",
       "\n",
       "[1090 rows x 1 columns]"
      ]
     },
     "execution_count": 20,
     "metadata": {},
     "output_type": "execute_result"
    }
   ],
   "source": [
    "data_n = pd.DataFrame({\"scaling_data\" : data_n.ravel()})\n",
    "data_n"
   ]
  },
  {
   "cell_type": "code",
   "execution_count": 21,
   "id": "82eecb37",
   "metadata": {},
   "outputs": [
    {
     "name": "stdout",
     "output_type": "stream",
     "text": [
      "scaling_data   -5.214993e-17\n",
      "dtype: float64\n",
      "scaling_data    1.000918\n",
      "dtype: float64\n"
     ]
    }
   ],
   "source": [
    "print(data_n.mean())\n",
    "print(data_n.var())"
   ]
  },
  {
   "cell_type": "code",
   "execution_count": 22,
   "id": "6f604c31",
   "metadata": {},
   "outputs": [],
   "source": [
    "np.random.seed(100)\n",
    "data_array = []\n",
    "\n",
    "for i in range(1, 100):\n",
    "    s = np.random.randint(0, i * 10, 10)\n",
    "    data_array.extend(s)\n",
    "\n",
    "data_array.extend(np.zeros(100))\n",
    "\n",
    "data = pd.DataFrame({\"scaling_data\": data_array})"
   ]
  },
  {
   "cell_type": "code",
   "execution_count": 23,
   "id": "7e0c705e",
   "metadata": {},
   "outputs": [],
   "source": [
    "from sklearn.preprocessing import normalize"
   ]
  },
  {
   "cell_type": "code",
   "execution_count": null,
   "id": "da788cc4",
   "metadata": {},
   "outputs": [
    {
     "name": "stdout",
     "output_type": "stream",
     "text": [
      "0.9999999999999999\n"
     ]
    }
   ],
   "source": [
    "# 원점으로부터 1만큼 떨어져 있는 범위(유클리드 거리) 로 치환 (-1, 1) - 딥러닝에서 많이 사용\n",
    "data_l2_normalized = normalize([data[\"scaling_data\"]], norm=\"l2\")\n",
    "data_l2 = pd.DataFrame({\"scaling_data\": data_l2_normalized.ravel()})\n",
    "\n",
    "print(np.linalg.norm(data_l2_normalized, ord=2))"
   ]
  },
  {
   "cell_type": "code",
   "execution_count": null,
   "id": "91044a66",
   "metadata": {},
   "outputs": [],
   "source": []
  }
 ],
 "metadata": {
  "kernelspec": {
   "display_name": "multi02",
   "language": "python",
   "name": "python3"
  },
  "language_info": {
   "codemirror_mode": {
    "name": "ipython",
    "version": 3
   },
   "file_extension": ".py",
   "mimetype": "text/x-python",
   "name": "python",
   "nbconvert_exporter": "python",
   "pygments_lexer": "ipython3",
   "version": "3.14.0"
  }
 },
 "nbformat": 4,
 "nbformat_minor": 5
}
