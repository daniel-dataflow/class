{
 "cells": [
  {
   "cell_type": "code",
   "execution_count": null,
   "id": "bde5b7a4",
   "metadata": {},
   "outputs": [],
   "source": []
  },
  {
   "cell_type": "code",
   "execution_count": 1,
   "id": "8e2d7bdf",
   "metadata": {},
   "outputs": [],
   "source": [
    "import numpy as np\n",
    "import pandas as pd\n",
    "from scipy .stats import *"
   ]
  },
  {
   "cell_type": "code",
   "execution_count": 2,
   "id": "9f697fcf",
   "metadata": {},
   "outputs": [],
   "source": [
    "from IPython.core.interactiveshell import InteractiveShell\n",
    "InteractiveShell.ast_node_interactivity =\"all\""
   ]
  },
  {
   "cell_type": "code",
   "execution_count": 13,
   "id": "803cfbb0",
   "metadata": {},
   "outputs": [
    {
     "data": {
      "text/html": [
       "<div>\n",
       "<style scoped>\n",
       "    .dataframe tbody tr th:only-of-type {\n",
       "        vertical-align: middle;\n",
       "    }\n",
       "\n",
       "    .dataframe tbody tr th {\n",
       "        vertical-align: top;\n",
       "    }\n",
       "\n",
       "    .dataframe thead th {\n",
       "        text-align: right;\n",
       "    }\n",
       "</style>\n",
       "<table border=\"1\" class=\"dataframe\">\n",
       "  <thead>\n",
       "    <tr style=\"text-align: right;\">\n",
       "      <th></th>\n",
       "      <th>score</th>\n",
       "    </tr>\n",
       "  </thead>\n",
       "  <tbody>\n",
       "    <tr>\n",
       "      <th>0</th>\n",
       "      <td>76</td>\n",
       "    </tr>\n",
       "    <tr>\n",
       "      <th>1</th>\n",
       "      <td>55</td>\n",
       "    </tr>\n",
       "    <tr>\n",
       "      <th>2</th>\n",
       "      <td>80</td>\n",
       "    </tr>\n",
       "    <tr>\n",
       "      <th>3</th>\n",
       "      <td>80</td>\n",
       "    </tr>\n",
       "    <tr>\n",
       "      <th>4</th>\n",
       "      <td>74</td>\n",
       "    </tr>\n",
       "    <tr>\n",
       "      <th>...</th>\n",
       "      <td>...</td>\n",
       "    </tr>\n",
       "    <tr>\n",
       "      <th>395</th>\n",
       "      <td>77</td>\n",
       "    </tr>\n",
       "    <tr>\n",
       "      <th>396</th>\n",
       "      <td>60</td>\n",
       "    </tr>\n",
       "    <tr>\n",
       "      <th>397</th>\n",
       "      <td>83</td>\n",
       "    </tr>\n",
       "    <tr>\n",
       "      <th>398</th>\n",
       "      <td>80</td>\n",
       "    </tr>\n",
       "    <tr>\n",
       "      <th>399</th>\n",
       "      <td>85</td>\n",
       "    </tr>\n",
       "  </tbody>\n",
       "</table>\n",
       "<p>400 rows × 1 columns</p>\n",
       "</div>"
      ],
      "text/plain": [
       "     score\n",
       "0       76\n",
       "1       55\n",
       "2       80\n",
       "3       80\n",
       "4       74\n",
       "..     ...\n",
       "395     77\n",
       "396     60\n",
       "397     83\n",
       "398     80\n",
       "399     85\n",
       "\n",
       "[400 rows x 1 columns]"
      ]
     },
     "execution_count": 13,
     "metadata": {},
     "output_type": "execute_result"
    }
   ],
   "source": [
    "df = pd.read_csv(\"score.csv\")\n",
    "df"
   ]
  },
  {
   "cell_type": "code",
   "execution_count": 18,
   "id": "67882cc7",
   "metadata": {},
   "outputs": [
    {
     "data": {
      "text/plain": [
       "(400, 1)"
      ]
     },
     "execution_count": 18,
     "metadata": {},
     "output_type": "execute_result"
    }
   ],
   "source": [
    "df.shape"
   ]
  },
  {
   "cell_type": "code",
   "execution_count": 27,
   "id": "c0f2aafd",
   "metadata": {},
   "outputs": [
    {
     "data": {
      "text/plain": [
       "69.53"
      ]
     },
     "execution_count": 27,
     "metadata": {},
     "output_type": "execute_result"
    }
   ],
   "source": [
    "# 평균값\n",
    "sum(df[\"score\"]) / len(df[\"score\"])"
   ]
  },
  {
   "cell_type": "code",
   "execution_count": 19,
   "id": "2e5fb4f1",
   "metadata": {},
   "outputs": [
    {
     "data": {
      "text/plain": [
       "np.float64(66.07508147696365)"
      ]
     },
     "execution_count": 19,
     "metadata": {},
     "output_type": "execute_result"
    }
   ],
   "source": [
    "# 조화 평균\n",
    "hmean(df[\"score\"])"
   ]
  },
  {
   "cell_type": "code",
   "execution_count": 22,
   "id": "278c17a1",
   "metadata": {},
   "outputs": [
    {
     "data": {
      "text/plain": [
       "np.float64(69.0)"
      ]
     },
     "execution_count": 22,
     "metadata": {},
     "output_type": "execute_result"
    }
   ],
   "source": [
    "# 중위값\n",
    "sort_score = np.sort(df[\"score\"])\n",
    "\n",
    "n = len(sort_score)\n",
    "\n",
    "# 400개의 짝수이 때문에  불필요한 과정은 생략\n",
    "\n",
    "x1 = sort_score[(n // 2) - 1]\n",
    "x2 = sort_score[n // 2]\n",
    "median = (x1 + x2) / 2\n",
    "median"
   ]
  },
  {
   "cell_type": "code",
   "execution_count": 23,
   "id": "ac18d988",
   "metadata": {},
   "outputs": [
    {
     "data": {
      "text/plain": [
       "np.float64(69.0)"
      ]
     },
     "execution_count": 23,
     "metadata": {},
     "output_type": "execute_result"
    }
   ],
   "source": [
    "df[\"score\"].median()"
   ]
  },
  {
   "cell_type": "code",
   "execution_count": 25,
   "id": "a68f98d7",
   "metadata": {},
   "outputs": [
    {
     "data": {
      "text/plain": [
       "array([69.76666667])"
      ]
     },
     "execution_count": 25,
     "metadata": {},
     "output_type": "execute_result"
    }
   ],
   "source": [
    "# 절사 평균(가장 높은 수의 0.2% 와 가장 낮은 수의 0.2%를 제외)\n",
    "trim_mean(df, 0.2)"
   ]
  },
  {
   "cell_type": "code",
   "execution_count": 34,
   "id": "a850f67b",
   "metadata": {},
   "outputs": [
    {
     "data": {
      "text/plain": [
       "score\n",
       "68    16\n",
       "76    14\n",
       "63    14\n",
       "78    13\n",
       "67    13\n",
       "      ..\n",
       "31     1\n",
       "28     1\n",
       "23     1\n",
       "29     1\n",
       "53     1\n",
       "Name: count, Length: 64, dtype: int64"
      ]
     },
     "execution_count": 34,
     "metadata": {},
     "output_type": "execute_result"
    }
   ],
   "source": [
    "# 최빈값\n",
    "pd.Series(df[\"score\"]).value_counts()"
   ]
  },
  {
   "cell_type": "code",
   "execution_count": 32,
   "id": "4a6ff992",
   "metadata": {},
   "outputs": [
    {
     "data": {
      "text/plain": [
       "(np.int64(23), np.int64(100))"
      ]
     },
     "execution_count": 32,
     "metadata": {},
     "output_type": "execute_result"
    }
   ],
   "source": [
    "# 최소값, 최대값\n",
    "np.min(df), np.max(df)"
   ]
  },
  {
   "cell_type": "code",
   "execution_count": 35,
   "id": "4fbe1535",
   "metadata": {},
   "outputs": [
    {
     "data": {
      "text/plain": [
       "np.float64(60.0)"
      ]
     },
     "execution_count": 35,
     "metadata": {},
     "output_type": "execute_result"
    }
   ],
   "source": [
    "np.percentile(df, 25)"
   ]
  },
  {
   "cell_type": "code",
   "execution_count": 36,
   "id": "81f8cb6e",
   "metadata": {},
   "outputs": [
    {
     "data": {
      "text/plain": [
       "np.float64(69.0)"
      ]
     },
     "execution_count": 36,
     "metadata": {},
     "output_type": "execute_result"
    }
   ],
   "source": [
    "np.percentile(df, 50)"
   ]
  },
  {
   "cell_type": "code",
   "execution_count": 37,
   "id": "88d59b14",
   "metadata": {},
   "outputs": [
    {
     "data": {
      "text/plain": [
       "np.float64(80.0)"
      ]
     },
     "execution_count": 37,
     "metadata": {},
     "output_type": "execute_result"
    }
   ],
   "source": [
    "np.percentile(df, 75)"
   ]
  },
  {
   "cell_type": "code",
   "execution_count": 38,
   "id": "dd689aba",
   "metadata": {},
   "outputs": [
    {
     "data": {
      "text/plain": [
       "{'whiskers': [<matplotlib.lines.Line2D at 0x28a1dc440>,\n",
       "  <matplotlib.lines.Line2D at 0x28a1dc590>],\n",
       " 'caps': [<matplotlib.lines.Line2D at 0x28a1dc6e0>,\n",
       "  <matplotlib.lines.Line2D at 0x28a1dc830>],\n",
       " 'boxes': [<matplotlib.lines.Line2D at 0x28a1dc2f0>],\n",
       " 'medians': [<matplotlib.lines.Line2D at 0x28a1dc1a0>],\n",
       " 'fliers': [<matplotlib.lines.Line2D at 0x28a1dc980>],\n",
       " 'means': []}"
      ]
     },
     "execution_count": 38,
     "metadata": {},
     "output_type": "execute_result"
    },
    {
     "data": {
      "image/png": "[encoded data removed]",
      "text/plain": [
       "<Figure size 640x480 with 1 Axes>"
      ]
     },
     "metadata": {},
     "output_type": "display_data"
    }
   ],
   "source": [
    "import matplotlib.pyplot as plt\n",
    "plt.boxplot(df)"
   ]
  },
  {
   "cell_type": "code",
   "execution_count": 41,
   "id": "f0fddd66",
   "metadata": {},
   "outputs": [
    {
     "data": {
      "text/plain": [
       "DescribeResult(nobs=np.int64(400), minmax=(array([23]), array([100])), mean=array([69.53]), variance=array([207.18706767]), skewness=array([-0.19671437]), kurtosis=array([-0.23077385]))"
      ]
     },
     "execution_count": 41,
     "metadata": {},
     "output_type": "execute_result"
    }
   ],
   "source": [
    "# 표본데이터 기술통계량\n",
    "describe(df)"
   ]
  },
  {
   "cell_type": "code",
   "execution_count": 42,
   "id": "69ca8457",
   "metadata": {},
   "outputs": [
    {
     "data": {
      "text/plain": [
       "count    400.000000\n",
       "mean      69.530000\n",
       "std       14.393994\n",
       "min       23.000000\n",
       "25%       60.000000\n",
       "50%       69.000000\n",
       "75%       80.000000\n",
       "max      100.000000\n",
       "Name: score, dtype: float64"
      ]
     },
     "execution_count": 42,
     "metadata": {},
     "output_type": "execute_result"
    }
   ],
   "source": [
    "df[\"score\"].describe()"
   ]
  },
  {
   "cell_type": "code",
   "execution_count": null,
   "id": "c383e043",
   "metadata": {},
   "outputs": [],
   "source": [
    "# 모집단 기술 통계량"
   ]
  }
 ],
 "metadata": {
  "kernelspec": {
   "display_name": "multi02",
   "language": "python",
   "name": "python3"
  },
  "language_info": {
   "codemirror_mode": {
    "name": "ipython",
    "version": 3
   },
   "file_extension": ".py",
   "mimetype": "text/x-python",
   "name": "python",
   "nbconvert_exporter": "python",
   "pygments_lexer": "ipython3",
   "version": "3.14.0"
  }
 },
 "nbformat": 4,
 "nbformat_minor": 5
}
