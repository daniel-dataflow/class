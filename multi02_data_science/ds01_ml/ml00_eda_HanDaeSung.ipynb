{
 "cells": [
  {
   "cell_type": "code",
   "execution_count": 2,
   "id": "bde5b7a4",
   "metadata": {},
   "outputs": [
    {
     "name": "stdout",
     "output_type": "stream",
     "text": [
      "Collecting pandas\n",
      "  Downloading pandas-2.3.3-cp311-cp311-win_amd64.whl.metadata (19 kB)\n",
      "Requirement already satisfied: numpy>=1.23.2 in c:\\users\\daniel\\miniconda3\\envs\\multi02\\lib\\site-packages (from pandas) (2.3.3)\n",
      "Requirement already satisfied: python-dateutil>=2.8.2 in c:\\users\\daniel\\miniconda3\\envs\\multi02\\lib\\site-packages (from pandas) (2.9.0.post0)\n",
      "Collecting pytz>=2020.1 (from pandas)\n",
      "  Using cached pytz-2025.2-py2.py3-none-any.whl.metadata (22 kB)\n",
      "Collecting tzdata>=2022.7 (from pandas)\n",
      "  Using cached tzdata-2025.2-py2.py3-none-any.whl.metadata (1.4 kB)\n",
      "Requirement already satisfied: six>=1.5 in c:\\users\\daniel\\miniconda3\\envs\\multi02\\lib\\site-packages (from python-dateutil>=2.8.2->pandas) (1.17.0)\n",
      "Downloading pandas-2.3.3-cp311-cp311-win_amd64.whl (11.3 MB)\n",
      "   ---------------------------------------- 0.0/11.3 MB ? eta -:--:--\n",
      "   ---------------------------- ----------- 8.1/11.3 MB 42.1 MB/s eta 0:00:01\n",
      "   ---------------------------------------- 11.3/11.3 MB 35.5 MB/s  0:00:00\n",
      "Using cached pytz-2025.2-py2.py3-none-any.whl (509 kB)\n",
      "Using cached tzdata-2025.2-py2.py3-none-any.whl (347 kB)\n",
      "Installing collected packages: pytz, tzdata, pandas\n",
      "\n",
      "   ---------------------------------------- 0/3 [pytz]\n",
      "   ---------------------------------------- 0/3 [pytz]\n",
      "   ---------------------------------------- 0/3 [pytz]\n",
      "   ---------------------------------------- 0/3 [pytz]\n",
      "   ------------- -------------------------- 1/3 [tzdata]\n",
      "   ------------- -------------------------- 1/3 [tzdata]\n",
      "   ------------- -------------------------- 1/3 [tzdata]\n",
      "   ------------- -------------------------- 1/3 [tzdata]\n",
      "   ------------- -------------------------- 1/3 [tzdata]\n",
      "   -------------------------- ------------- 2/3 [pandas]\n",
      "   -------------------------- ------------- 2/3 [pandas]\n",
      "   -------------------------- ------------- 2/3 [pandas]\n",
      "   -------------------------- ------------- 2/3 [pandas]\n",
      "   -------------------------- ------------- 2/3 [pandas]\n",
      "   -------------------------- ------------- 2/3 [pandas]\n",
      "   -------------------------- ------------- 2/3 [pandas]\n",
      "   -------------------------- ------------- 2/3 [pandas]\n",
      "   -------------------------- ------------- 2/3 [pandas]\n",
      "   -------------------------- ------------- 2/3 [pandas]\n",
      "   -------------------------- ------------- 2/3 [pandas]\n",
      "   -------------------------- ------------- 2/3 [pandas]\n",
      "   -------------------------- ------------- 2/3 [pandas]\n",
      "   -------------------------- ------------- 2/3 [pandas]\n",
      "   -------------------------- ------------- 2/3 [pandas]\n",
      "   -------------------------- ------------- 2/3 [pandas]\n",
      "   -------------------------- ------------- 2/3 [pandas]\n",
      "   -------------------------- ------------- 2/3 [pandas]\n",
      "   -------------------------- ------------- 2/3 [pandas]\n",
      "   -------------------------- ------------- 2/3 [pandas]\n",
      "   -------------------------- ------------- 2/3 [pandas]\n",
      "   -------------------------- ------------- 2/3 [pandas]\n",
      "   -------------------------- ------------- 2/3 [pandas]\n",
      "   -------------------------- ------------- 2/3 [pandas]\n",
      "   -------------------------- ------------- 2/3 [pandas]\n",
      "   -------------------------- ------------- 2/3 [pandas]\n",
      "   -------------------------- ------------- 2/3 [pandas]\n",
      "   -------------------------- ------------- 2/3 [pandas]\n",
      "   -------------------------- ------------- 2/3 [pandas]\n",
      "   -------------------------- ------------- 2/3 [pandas]\n",
      "   -------------------------- ------------- 2/3 [pandas]\n",
      "   -------------------------- ------------- 2/3 [pandas]\n",
      "   -------------------------- ------------- 2/3 [pandas]\n",
      "   -------------------------- ------------- 2/3 [pandas]\n",
      "   -------------------------- ------------- 2/3 [pandas]\n",
      "   -------------------------- ------------- 2/3 [pandas]\n",
      "   -------------------------- ------------- 2/3 [pandas]\n",
      "   -------------------------- ------------- 2/3 [pandas]\n",
      "   -------------------------- ------------- 2/3 [pandas]\n",
      "   -------------------------- ------------- 2/3 [pandas]\n",
      "   -------------------------- ------------- 2/3 [pandas]\n",
      "   -------------------------- ------------- 2/3 [pandas]\n",
      "   -------------------------- ------------- 2/3 [pandas]\n",
      "   -------------------------- ------------- 2/3 [pandas]\n",
      "   -------------------------- ------------- 2/3 [pandas]\n",
      "   -------------------------- ------------- 2/3 [pandas]\n",
      "   -------------------------- ------------- 2/3 [pandas]\n",
      "   -------------------------- ------------- 2/3 [pandas]\n",
      "   -------------------------- ------------- 2/3 [pandas]\n",
      "   -------------------------- ------------- 2/3 [pandas]\n",
      "   -------------------------- ------------- 2/3 [pandas]\n",
      "   -------------------------- ------------- 2/3 [pandas]\n",
      "   -------------------------- ------------- 2/3 [pandas]\n",
      "   -------------------------- ------------- 2/3 [pandas]\n",
      "   -------------------------- ------------- 2/3 [pandas]\n",
      "   -------------------------- ------------- 2/3 [pandas]\n",
      "   -------------------------- ------------- 2/3 [pandas]\n",
      "   -------------------------- ------------- 2/3 [pandas]\n",
      "   -------------------------- ------------- 2/3 [pandas]\n",
      "   -------------------------- ------------- 2/3 [pandas]\n",
      "   -------------------------- ------------- 2/3 [pandas]\n",
      "   -------------------------- ------------- 2/3 [pandas]\n",
      "   -------------------------- ------------- 2/3 [pandas]\n",
      "   -------------------------- ------------- 2/3 [pandas]\n",
      "   -------------------------- ------------- 2/3 [pandas]\n",
      "   -------------------------- ------------- 2/3 [pandas]\n",
      "   -------------------------- ------------- 2/3 [pandas]\n",
      "   -------------------------- ------------- 2/3 [pandas]\n",
      "   -------------------------- ------------- 2/3 [pandas]\n",
      "   -------------------------- ------------- 2/3 [pandas]\n",
      "   -------------------------- ------------- 2/3 [pandas]\n",
      "   -------------------------- ------------- 2/3 [pandas]\n",
      "   -------------------------- ------------- 2/3 [pandas]\n",
      "   -------------------------- ------------- 2/3 [pandas]\n",
      "   -------------------------- ------------- 2/3 [pandas]\n",
      "   -------------------------- ------------- 2/3 [pandas]\n",
      "   -------------------------- ------------- 2/3 [pandas]\n",
      "   -------------------------- ------------- 2/3 [pandas]\n",
      "   -------------------------- ------------- 2/3 [pandas]\n",
      "   -------------------------- ------------- 2/3 [pandas]\n",
      "   -------------------------- ------------- 2/3 [pandas]\n",
      "   -------------------------- ------------- 2/3 [pandas]\n",
      "   -------------------------- ------------- 2/3 [pandas]\n",
      "   -------------------------- ------------- 2/3 [pandas]\n",
      "   -------------------------- ------------- 2/3 [pandas]\n",
      "   -------------------------- ------------- 2/3 [pandas]\n",
      "   -------------------------- ------------- 2/3 [pandas]\n",
      "   -------------------------- ------------- 2/3 [pandas]\n",
      "   -------------------------- ------------- 2/3 [pandas]\n",
      "   -------------------------- ------------- 2/3 [pandas]\n",
      "   -------------------------- ------------- 2/3 [pandas]\n",
      "   -------------------------- ------------- 2/3 [pandas]\n",
      "   -------------------------- ------------- 2/3 [pandas]\n",
      "   -------------------------- ------------- 2/3 [pandas]\n",
      "   -------------------------- ------------- 2/3 [pandas]\n",
      "   -------------------------- ------------- 2/3 [pandas]\n",
      "   -------------------------- ------------- 2/3 [pandas]\n",
      "   -------------------------- ------------- 2/3 [pandas]\n",
      "   -------------------------- ------------- 2/3 [pandas]\n",
      "   -------------------------- ------------- 2/3 [pandas]\n",
      "   ---------------------------------------- 3/3 [pandas]\n",
      "\n",
      "Successfully installed pandas-2.3.3 pytz-2025.2 tzdata-2025.2\n",
      "Note: you may need to restart the kernel to use updated packages.\n"
     ]
    }
   ],
   "source": [
    "%pip install pandas"
   ]
  },
  {
   "cell_type": "code",
   "execution_count": 34,
   "id": "a563108e",
   "metadata": {},
   "outputs": [
    {
     "name": "stdout",
     "output_type": "stream",
     "text": [
      "Collecting matplotlib\n",
      "  Downloading matplotlib-3.10.7-cp311-cp311-win_amd64.whl.metadata (11 kB)\n",
      "Collecting contourpy>=1.0.1 (from matplotlib)\n",
      "  Downloading contourpy-1.3.3-cp311-cp311-win_amd64.whl.metadata (5.5 kB)\n",
      "Collecting cycler>=0.10 (from matplotlib)\n",
      "  Using cached cycler-0.12.1-py3-none-any.whl.metadata (3.8 kB)\n",
      "Collecting fonttools>=4.22.0 (from matplotlib)\n",
      "  Downloading fonttools-4.60.1-cp311-cp311-win_amd64.whl.metadata (114 kB)\n",
      "Collecting kiwisolver>=1.3.1 (from matplotlib)\n",
      "  Downloading kiwisolver-1.4.9-cp311-cp311-win_amd64.whl.metadata (6.4 kB)\n",
      "Requirement already satisfied: numpy>=1.23 in c:\\users\\daniel\\miniconda3\\envs\\multi02\\lib\\site-packages (from matplotlib) (2.3.3)\n",
      "Requirement already satisfied: packaging>=20.0 in c:\\users\\daniel\\miniconda3\\envs\\multi02\\lib\\site-packages (from matplotlib) (25.0)\n",
      "Collecting pillow>=8 (from matplotlib)\n",
      "  Downloading pillow-11.3.0-cp311-cp311-win_amd64.whl.metadata (9.2 kB)\n",
      "Collecting pyparsing>=3 (from matplotlib)\n",
      "  Using cached pyparsing-3.2.5-py3-none-any.whl.metadata (5.0 kB)\n",
      "Requirement already satisfied: python-dateutil>=2.7 in c:\\users\\daniel\\miniconda3\\envs\\multi02\\lib\\site-packages (from matplotlib) (2.9.0.post0)\n",
      "Requirement already satisfied: six>=1.5 in c:\\users\\daniel\\miniconda3\\envs\\multi02\\lib\\site-packages (from python-dateutil>=2.7->matplotlib) (1.17.0)\n",
      "Downloading matplotlib-3.10.7-cp311-cp311-win_amd64.whl (8.1 MB)\n",
      "   ---------------------------------------- 0.0/8.1 MB ? eta -:--:--\n",
      "   ---------------------------- ----------- 5.8/8.1 MB 32.0 MB/s eta 0:00:01\n",
      "   -------------------------------------- - 7.9/8.1 MB 28.6 MB/s eta 0:00:01\n",
      "   ---------------------------------------- 8.1/8.1 MB 13.9 MB/s  0:00:00\n",
      "Downloading contourpy-1.3.3-cp311-cp311-win_amd64.whl (225 kB)\n",
      "Using cached cycler-0.12.1-py3-none-any.whl (8.3 kB)\n",
      "Downloading fonttools-4.60.1-cp311-cp311-win_amd64.whl (2.3 MB)\n",
      "   ---------------------------------------- 0.0/2.3 MB ? eta -:--:--\n",
      "   ---------------------------------------- 2.3/2.3 MB 12.8 MB/s  0:00:00\n",
      "Downloading kiwisolver-1.4.9-cp311-cp311-win_amd64.whl (73 kB)\n",
      "Downloading pillow-11.3.0-cp311-cp311-win_amd64.whl (7.0 MB)\n",
      "   ---------------------------------------- 0.0/7.0 MB ? eta -:--:--\n",
      "   ------ --------------------------------- 1.0/7.0 MB 5.6 MB/s eta 0:00:02\n",
      "   ---------------- ----------------------- 2.9/7.0 MB 6.7 MB/s eta 0:00:01\n",
      "   --------------------------- ------------ 4.7/7.0 MB 7.1 MB/s eta 0:00:01\n",
      "   ---------------------------------------- 7.0/7.0 MB 7.8 MB/s  0:00:00\n",
      "Using cached pyparsing-3.2.5-py3-none-any.whl (113 kB)\n",
      "Installing collected packages: pyparsing, pillow, kiwisolver, fonttools, cycler, contourpy, matplotlib\n",
      "\n",
      "   ---------------------------------------- 0/7 [pyparsing]\n",
      "   ---------------------------------------- 0/7 [pyparsing]\n",
      "   ---------------------------------------- 0/7 [pyparsing]\n",
      "   ----- ---------------------------------- 1/7 [pillow]\n",
      "   ----- ---------------------------------- 1/7 [pillow]\n",
      "   ----- ---------------------------------- 1/7 [pillow]\n",
      "   ----- ---------------------------------- 1/7 [pillow]\n",
      "   ----- ---------------------------------- 1/7 [pillow]\n",
      "   ----- ---------------------------------- 1/7 [pillow]\n",
      "   ----- ---------------------------------- 1/7 [pillow]\n",
      "   ----- ---------------------------------- 1/7 [pillow]\n",
      "   ----- ---------------------------------- 1/7 [pillow]\n",
      "   ----- ---------------------------------- 1/7 [pillow]\n",
      "   ----- ---------------------------------- 1/7 [pillow]\n",
      "   ----- ---------------------------------- 1/7 [pillow]\n",
      "   ----- ---------------------------------- 1/7 [pillow]\n",
      "   ----- ---------------------------------- 1/7 [pillow]\n",
      "   ----------------- ---------------------- 3/7 [fonttools]\n",
      "   ----------------- ---------------------- 3/7 [fonttools]\n",
      "   ----------------- ---------------------- 3/7 [fonttools]\n",
      "   ----------------- ---------------------- 3/7 [fonttools]\n",
      "   ----------------- ---------------------- 3/7 [fonttools]\n",
      "   ----------------- ---------------------- 3/7 [fonttools]\n",
      "   ----------------- ---------------------- 3/7 [fonttools]\n",
      "   ----------------- ---------------------- 3/7 [fonttools]\n",
      "   ----------------- ---------------------- 3/7 [fonttools]\n",
      "   ----------------- ---------------------- 3/7 [fonttools]\n",
      "   ----------------- ---------------------- 3/7 [fonttools]\n",
      "   ----------------- ---------------------- 3/7 [fonttools]\n",
      "   ----------------- ---------------------- 3/7 [fonttools]\n",
      "   ----------------- ---------------------- 3/7 [fonttools]\n",
      "   ----------------- ---------------------- 3/7 [fonttools]\n",
      "   ----------------- ---------------------- 3/7 [fonttools]\n",
      "   ----------------- ---------------------- 3/7 [fonttools]\n",
      "   ----------------- ---------------------- 3/7 [fonttools]\n",
      "   ----------------- ---------------------- 3/7 [fonttools]\n",
      "   ----------------- ---------------------- 3/7 [fonttools]\n",
      "   ----------------- ---------------------- 3/7 [fonttools]\n",
      "   ----------------- ---------------------- 3/7 [fonttools]\n",
      "   ----------------- ---------------------- 3/7 [fonttools]\n",
      "   ----------------- ---------------------- 3/7 [fonttools]\n",
      "   ----------------- ---------------------- 3/7 [fonttools]\n",
      "   ----------------- ---------------------- 3/7 [fonttools]\n",
      "   ----------------- ---------------------- 3/7 [fonttools]\n",
      "   ----------------- ---------------------- 3/7 [fonttools]\n",
      "   ----------------- ---------------------- 3/7 [fonttools]\n",
      "   ----------------- ---------------------- 3/7 [fonttools]\n",
      "   ----------------- ---------------------- 3/7 [fonttools]\n",
      "   ----------------- ---------------------- 3/7 [fonttools]\n",
      "   ----------------- ---------------------- 3/7 [fonttools]\n",
      "   ----------------- ---------------------- 3/7 [fonttools]\n",
      "   ----------------- ---------------------- 3/7 [fonttools]\n",
      "   ----------------- ---------------------- 3/7 [fonttools]\n",
      "   ----------------- ---------------------- 3/7 [fonttools]\n",
      "   ----------------- ---------------------- 3/7 [fonttools]\n",
      "   ----------------- ---------------------- 3/7 [fonttools]\n",
      "   ----------------- ---------------------- 3/7 [fonttools]\n",
      "   ----------------- ---------------------- 3/7 [fonttools]\n",
      "   ----------------- ---------------------- 3/7 [fonttools]\n",
      "   ----------------- ---------------------- 3/7 [fonttools]\n",
      "   ----------------- ---------------------- 3/7 [fonttools]\n",
      "   ----------------- ---------------------- 3/7 [fonttools]\n",
      "   ----------------- ---------------------- 3/7 [fonttools]\n",
      "   ----------------- ---------------------- 3/7 [fonttools]\n",
      "   ----------------- ---------------------- 3/7 [fonttools]\n",
      "   ----------------- ---------------------- 3/7 [fonttools]\n",
      "   ----------------- ---------------------- 3/7 [fonttools]\n",
      "   ----------------- ---------------------- 3/7 [fonttools]\n",
      "   ----------------- ---------------------- 3/7 [fonttools]\n",
      "   ----------------- ---------------------- 3/7 [fonttools]\n",
      "   ---------------------------- ----------- 5/7 [contourpy]\n",
      "   ---------------------------- ----------- 5/7 [contourpy]\n",
      "   ---------------------------- ----------- 5/7 [contourpy]\n",
      "   ---------------------------------- ----- 6/7 [matplotlib]\n",
      "   ---------------------------------- ----- 6/7 [matplotlib]\n",
      "   ---------------------------------- ----- 6/7 [matplotlib]\n",
      "   ---------------------------------- ----- 6/7 [matplotlib]\n",
      "   ---------------------------------- ----- 6/7 [matplotlib]\n",
      "   ---------------------------------- ----- 6/7 [matplotlib]\n",
      "   ---------------------------------- ----- 6/7 [matplotlib]\n",
      "   ---------------------------------- ----- 6/7 [matplotlib]\n",
      "   ---------------------------------- ----- 6/7 [matplotlib]\n",
      "   ---------------------------------- ----- 6/7 [matplotlib]\n",
      "   ---------------------------------- ----- 6/7 [matplotlib]\n",
      "   ---------------------------------- ----- 6/7 [matplotlib]\n",
      "   ---------------------------------- ----- 6/7 [matplotlib]\n",
      "   ---------------------------------- ----- 6/7 [matplotlib]\n",
      "   ---------------------------------- ----- 6/7 [matplotlib]\n",
      "   ---------------------------------- ----- 6/7 [matplotlib]\n",
      "   ---------------------------------- ----- 6/7 [matplotlib]\n",
      "   ---------------------------------- ----- 6/7 [matplotlib]\n",
      "   ---------------------------------- ----- 6/7 [matplotlib]\n",
      "   ---------------------------------- ----- 6/7 [matplotlib]\n",
      "   ---------------------------------- ----- 6/7 [matplotlib]\n",
      "   ---------------------------------- ----- 6/7 [matplotlib]\n",
      "   ---------------------------------- ----- 6/7 [matplotlib]\n",
      "   ---------------------------------- ----- 6/7 [matplotlib]\n",
      "   ---------------------------------- ----- 6/7 [matplotlib]\n",
      "   ---------------------------------- ----- 6/7 [matplotlib]\n",
      "   ---------------------------------- ----- 6/7 [matplotlib]\n",
      "   ---------------------------------- ----- 6/7 [matplotlib]\n",
      "   ---------------------------------- ----- 6/7 [matplotlib]\n",
      "   ---------------------------------- ----- 6/7 [matplotlib]\n",
      "   ---------------------------------- ----- 6/7 [matplotlib]\n",
      "   ---------------------------------- ----- 6/7 [matplotlib]\n",
      "   ---------------------------------- ----- 6/7 [matplotlib]\n",
      "   ---------------------------------- ----- 6/7 [matplotlib]\n",
      "   ---------------------------------- ----- 6/7 [matplotlib]\n",
      "   ---------------------------------- ----- 6/7 [matplotlib]\n",
      "   ---------------------------------- ----- 6/7 [matplotlib]\n",
      "   ---------------------------------- ----- 6/7 [matplotlib]\n",
      "   ---------------------------------- ----- 6/7 [matplotlib]\n",
      "   ---------------------------------- ----- 6/7 [matplotlib]\n",
      "   ---------------------------------- ----- 6/7 [matplotlib]\n",
      "   ---------------------------------- ----- 6/7 [matplotlib]\n",
      "   ---------------------------------- ----- 6/7 [matplotlib]\n",
      "   ---------------------------------- ----- 6/7 [matplotlib]\n",
      "   ---------------------------------- ----- 6/7 [matplotlib]\n",
      "   ---------------------------------- ----- 6/7 [matplotlib]\n",
      "   ---------------------------------- ----- 6/7 [matplotlib]\n",
      "   ---------------------------------- ----- 6/7 [matplotlib]\n",
      "   ---------------------------------- ----- 6/7 [matplotlib]\n",
      "   ---------------------------------- ----- 6/7 [matplotlib]\n",
      "   ---------------------------------- ----- 6/7 [matplotlib]\n",
      "   ---------------------------------- ----- 6/7 [matplotlib]\n",
      "   ---------------------------------- ----- 6/7 [matplotlib]\n",
      "   ---------------------------------- ----- 6/7 [matplotlib]\n",
      "   ---------------------------------- ----- 6/7 [matplotlib]\n",
      "   ---------------------------------- ----- 6/7 [matplotlib]\n",
      "   ---------------------------------- ----- 6/7 [matplotlib]\n",
      "   ---------------------------------- ----- 6/7 [matplotlib]\n",
      "   ---------------------------------- ----- 6/7 [matplotlib]\n",
      "   ---------------------------------- ----- 6/7 [matplotlib]\n",
      "   ---------------------------------- ----- 6/7 [matplotlib]\n",
      "   ---------------------------------- ----- 6/7 [matplotlib]\n",
      "   ---------------------------------- ----- 6/7 [matplotlib]\n",
      "   ---------------------------------- ----- 6/7 [matplotlib]\n",
      "   ---------------------------------- ----- 6/7 [matplotlib]\n",
      "   ---------------------------------- ----- 6/7 [matplotlib]\n",
      "   ---------------------------------- ----- 6/7 [matplotlib]\n",
      "   ---------------------------------- ----- 6/7 [matplotlib]\n",
      "   ---------------------------------- ----- 6/7 [matplotlib]\n",
      "   ---------------------------------------- 7/7 [matplotlib]\n",
      "\n",
      "Successfully installed contourpy-1.3.3 cycler-0.12.1 fonttools-4.60.1 kiwisolver-1.4.9 matplotlib-3.10.7 pillow-11.3.0 pyparsing-3.2.5\n",
      "Note: you may need to restart the kernel to use updated packages.\n"
     ]
    }
   ],
   "source": [
    "%pip install matplotlib"
   ]
  },
  {
   "cell_type": "code",
   "execution_count": 37,
   "id": "8e2d7bdf",
   "metadata": {},
   "outputs": [],
   "source": [
    "import numpy as np\n",
    "import pandas as pd\n",
    "from scipy .stats import *\n",
    "import matplotlib.pyplot as plt"
   ]
  },
  {
   "cell_type": "code",
   "execution_count": 4,
   "id": "9f697fcf",
   "metadata": {},
   "outputs": [],
   "source": [
    "from IPython.core.interactiveshell import InteractiveShell\n",
    "InteractiveShell.ast_node_interactivity = \"all\""
   ]
  },
  {
   "cell_type": "code",
   "execution_count": 5,
   "id": "803cfbb0",
   "metadata": {},
   "outputs": [
    {
     "data": {
      "text/html": [
       "<div>\n",
       "<style scoped>\n",
       "    .dataframe tbody tr th:only-of-type {\n",
       "        vertical-align: middle;\n",
       "    }\n",
       "\n",
       "    .dataframe tbody tr th {\n",
       "        vertical-align: top;\n",
       "    }\n",
       "\n",
       "    .dataframe thead th {\n",
       "        text-align: right;\n",
       "    }\n",
       "</style>\n",
       "<table border=\"1\" class=\"dataframe\">\n",
       "  <thead>\n",
       "    <tr style=\"text-align: right;\">\n",
       "      <th></th>\n",
       "      <th>score</th>\n",
       "    </tr>\n",
       "  </thead>\n",
       "  <tbody>\n",
       "    <tr>\n",
       "      <th>0</th>\n",
       "      <td>76</td>\n",
       "    </tr>\n",
       "    <tr>\n",
       "      <th>1</th>\n",
       "      <td>55</td>\n",
       "    </tr>\n",
       "    <tr>\n",
       "      <th>2</th>\n",
       "      <td>80</td>\n",
       "    </tr>\n",
       "    <tr>\n",
       "      <th>3</th>\n",
       "      <td>80</td>\n",
       "    </tr>\n",
       "    <tr>\n",
       "      <th>4</th>\n",
       "      <td>74</td>\n",
       "    </tr>\n",
       "    <tr>\n",
       "      <th>...</th>\n",
       "      <td>...</td>\n",
       "    </tr>\n",
       "    <tr>\n",
       "      <th>395</th>\n",
       "      <td>77</td>\n",
       "    </tr>\n",
       "    <tr>\n",
       "      <th>396</th>\n",
       "      <td>60</td>\n",
       "    </tr>\n",
       "    <tr>\n",
       "      <th>397</th>\n",
       "      <td>83</td>\n",
       "    </tr>\n",
       "    <tr>\n",
       "      <th>398</th>\n",
       "      <td>80</td>\n",
       "    </tr>\n",
       "    <tr>\n",
       "      <th>399</th>\n",
       "      <td>85</td>\n",
       "    </tr>\n",
       "  </tbody>\n",
       "</table>\n",
       "<p>400 rows × 1 columns</p>\n",
       "</div>"
      ],
      "text/plain": [
       "     score\n",
       "0       76\n",
       "1       55\n",
       "2       80\n",
       "3       80\n",
       "4       74\n",
       "..     ...\n",
       "395     77\n",
       "396     60\n",
       "397     83\n",
       "398     80\n",
       "399     85\n",
       "\n",
       "[400 rows x 1 columns]"
      ]
     },
     "execution_count": 5,
     "metadata": {},
     "output_type": "execute_result"
    }
   ],
   "source": [
    "df = pd.read_csv(\"score.csv\")\n",
    "df"
   ]
  },
  {
   "cell_type": "code",
   "execution_count": null,
   "id": "58a150ff",
   "metadata": {},
   "outputs": [
    {
     "data": {
      "text/plain": [
       "(400, 1)"
      ]
     },
     "execution_count": 6,
     "metadata": {},
     "output_type": "execute_result"
    }
   ],
   "source": [
    "# 열의 형태\n",
    "df.shape"
   ]
  },
  {
   "cell_type": "code",
   "execution_count": null,
   "id": "18f64e30",
   "metadata": {},
   "outputs": [
    {
     "data": {
      "text/plain": [
       "69.53"
      ]
     },
     "execution_count": 7,
     "metadata": {},
     "output_type": "execute_result"
    }
   ],
   "source": [
    "# 평균\n",
    "sum(df[\"score\"]) / len(df[\"score\"])"
   ]
  },
  {
   "cell_type": "code",
   "execution_count": 15,
   "id": "69cce832",
   "metadata": {},
   "outputs": [
    {
     "data": {
      "text/plain": [
       "np.float64(69.53)"
      ]
     },
     "execution_count": 15,
     "metadata": {},
     "output_type": "execute_result"
    }
   ],
   "source": [
    "# 평균 간단하게\n",
    "np.mean(df)"
   ]
  },
  {
   "cell_type": "code",
   "execution_count": null,
   "id": "6516e272",
   "metadata": {},
   "outputs": [
    {
     "data": {
      "text/plain": [
       "np.float64(66.07508147696365)"
      ]
     },
     "execution_count": 16,
     "metadata": {},
     "output_type": "execute_result"
    }
   ],
   "source": [
    "# 조화 평균\n",
    "data = np.array(df)\n",
    "len(data) / np.sum(1 / data)"
   ]
  },
  {
   "cell_type": "code",
   "execution_count": null,
   "id": "f062a37e",
   "metadata": {},
   "outputs": [
    {
     "data": {
      "text/plain": [
       "array([66.07508148])"
      ]
     },
     "execution_count": 8,
     "metadata": {},
     "output_type": "execute_result"
    }
   ],
   "source": [
    "# 조화 평균 간단하게\n",
    "hmean(df)"
   ]
  },
  {
   "cell_type": "code",
   "execution_count": null,
   "id": "7dc84174",
   "metadata": {},
   "outputs": [
    {
     "data": {
      "text/plain": [
       "np.float64(69.0)"
      ]
     },
     "execution_count": 11,
     "metadata": {},
     "output_type": "execute_result"
    }
   ],
   "source": [
    "# 중앙값 (중위값)\n",
    "sorted_scores = np.sort(df[\"score\"])\n",
    "n = len(sorted_scores)\n",
    "# 400개 짝수임으로\n",
    "if n % 2 == 0:\n",
    "    x1 = sorted_scores[n // 2 - 1]\n",
    "    x2 = sorted_scores[n // 2]\n",
    "\n",
    "    median = (x1 + x2) / 2 \n",
    "# 홀수의 경우도 알아야 하니깐    \n",
    "else:\n",
    "    median = sorted_scores[(n+1) // 2 - 1] \n",
    "median   "
   ]
  },
  {
   "cell_type": "code",
   "execution_count": 13,
   "id": "97f0555e",
   "metadata": {},
   "outputs": [
    {
     "data": {
      "text/plain": [
       "np.float64(69.0)"
      ]
     },
     "execution_count": 13,
     "metadata": {},
     "output_type": "execute_result"
    },
    {
     "data": {
      "text/plain": [
       "np.float64(69.0)"
      ]
     },
     "execution_count": 13,
     "metadata": {},
     "output_type": "execute_result"
    }
   ],
   "source": [
    "# 중앙값 간단하게 출력\n",
    "np.median(df[\"score\"])\n",
    "df[\"score\"].median()"
   ]
  },
  {
   "cell_type": "code",
   "execution_count": null,
   "id": "41cb1df3",
   "metadata": {},
   "outputs": [
    {
     "data": {
      "text/plain": [
       "(np.float64(24937725.216957606), np.float64(69.0))"
      ]
     },
     "execution_count": 17,
     "metadata": {},
     "output_type": "execute_result"
    }
   ],
   "source": [
    "# 이상치 추가 할 경우에 평균값과 중위값의 변화 체크\n",
    "df = np.append(df, 10**10)\n",
    "np.mean(df), np.median(df)"
   ]
  },
  {
   "cell_type": "code",
   "execution_count": 18,
   "id": "8b783d64",
   "metadata": {},
   "outputs": [
    {
     "data": {
      "text/plain": [
       "np.float64(69.81742738589212)"
      ]
     },
     "execution_count": 18,
     "metadata": {},
     "output_type": "execute_result"
    }
   ],
   "source": [
    "# 절사 평균 (가장 높은이와 낮은이의 0.2%를 제외한)\n",
    "trim_mean(df, 0.2)"
   ]
  },
  {
   "cell_type": "code",
   "execution_count": null,
   "id": "821d1c5b",
   "metadata": {},
   "outputs": [
    {
     "data": {
      "text/plain": [
       "68             16\n",
       "76             14\n",
       "63             14\n",
       "61             13\n",
       "78             13\n",
       "               ..\n",
       "40              1\n",
       "31              1\n",
       "29              1\n",
       "53              1\n",
       "10000000000     1\n",
       "Name: count, Length: 65, dtype: int64"
      ]
     },
     "execution_count": 19,
     "metadata": {},
     "output_type": "execute_result"
    }
   ],
   "source": [
    "# 최빈값(최대빈도수)\n",
    "pd.Series(df).value_counts()"
   ]
  },
  {
   "cell_type": "code",
   "execution_count": null,
   "id": "2aab080a",
   "metadata": {},
   "outputs": [
    {
     "data": {
      "text/plain": [
       "np.int64(68)"
      ]
     },
     "execution_count": 28,
     "metadata": {},
     "output_type": "execute_result"
    }
   ],
   "source": [
    "# 최빈값 : 68\n",
    "pd.Series(df).value_counts().index[0]"
   ]
  },
  {
   "cell_type": "code",
   "execution_count": 33,
   "id": "d641c69f",
   "metadata": {},
   "outputs": [
    {
     "data": {
      "text/plain": [
       "(np.int64(23), np.int64(10000000000))"
      ]
     },
     "execution_count": 33,
     "metadata": {},
     "output_type": "execute_result"
    },
    {
     "data": {
      "text/plain": [
       "(np.int64(23), np.int64(10000000000))"
      ]
     },
     "execution_count": 33,
     "metadata": {},
     "output_type": "execute_result"
    }
   ],
   "source": [
    "# 최소값, 최대값\n",
    "np.min(df), np.max(df)\n",
    "sorted(df)[0], sorted(df)[-1]"
   ]
  },
  {
   "cell_type": "code",
   "execution_count": 35,
   "id": "8e636865",
   "metadata": {},
   "outputs": [
    {
     "data": {
      "text/plain": [
       "np.float64(60.0)"
      ]
     },
     "execution_count": 35,
     "metadata": {},
     "output_type": "execute_result"
    },
    {
     "data": {
      "text/plain": [
       "np.float64(69.0)"
      ]
     },
     "execution_count": 35,
     "metadata": {},
     "output_type": "execute_result"
    },
    {
     "data": {
      "text/plain": [
       "np.float64(80.0)"
      ]
     },
     "execution_count": 35,
     "metadata": {},
     "output_type": "execute_result"
    }
   ],
   "source": [
    "# 백분위수\n",
    "# 제 1사분위수 (하사분위수 Q1)\n",
    "np.percentile(data, 25)\n",
    "# 제 2사분위수 (중위수 Q2)\n",
    "np.percentile(data, 50)\n",
    "# 제 3사분위수 (상사분위수 Q3)\n",
    "np.percentile(data, 75)"
   ]
  },
  {
   "cell_type": "code",
   "execution_count": 42,
   "id": "5f318657",
   "metadata": {},
   "outputs": [
    {
     "data": {
      "text/plain": [
       "{'whiskers': [<matplotlib.lines.Line2D at 0x1c5e915c490>,\n",
       "  <matplotlib.lines.Line2D at 0x1c5e915ba90>],\n",
       " 'caps': [<matplotlib.lines.Line2D at 0x1c5e9168450>,\n",
       "  <matplotlib.lines.Line2D at 0x1c5e9168d10>],\n",
       " 'boxes': [<matplotlib.lines.Line2D at 0x1c5e915aad0>],\n",
       " 'medians': [<matplotlib.lines.Line2D at 0x1c5e9169650>],\n",
       " 'fliers': [<matplotlib.lines.Line2D at 0x1c5e9169f10>],\n",
       " 'means': []}"
      ]
     },
     "execution_count": 42,
     "metadata": {},
     "output_type": "execute_result"
    },
    {
     "data": {
      "image/png": "[encoded data removed]",
      "text/plain": [
       "<Figure size 640x480 with 1 Axes>"
      ]
     },
     "metadata": {},
     "output_type": "display_data"
    }
   ],
   "source": [
    "# 그래프를 위한 이상치 제거\n",
    "df = df[:-1]\n",
    "# Boxplot\n",
    "plt.boxplot(df)"
   ]
  },
  {
   "cell_type": "code",
   "execution_count": 43,
   "id": "66e120de",
   "metadata": {},
   "outputs": [
    {
     "data": {
      "text/plain": [
       "DescribeResult(nobs=np.int64(399), minmax=(np.int64(23), np.int64(100)), mean=np.float64(69.49122807017544), variance=np.float64(207.10482235740102), skewness=np.float64(-0.19235908370881136), kurtosis=np.float64(-0.22707587062562018))"
      ]
     },
     "execution_count": 43,
     "metadata": {},
     "output_type": "execute_result"
    }
   ],
   "source": [
    "# 표본데이터 기술통계량\n",
    "describe(df)"
   ]
  },
  {
   "cell_type": "code",
   "execution_count": 47,
   "id": "52350edc",
   "metadata": {},
   "outputs": [
    {
     "data": {
      "text/plain": [
       "np.int64(77)"
      ]
     },
     "execution_count": 47,
     "metadata": {},
     "output_type": "execute_result"
    },
    {
     "data": {
      "text/plain": [
       "np.int64(77)"
      ]
     },
     "execution_count": 47,
     "metadata": {},
     "output_type": "execute_result"
    }
   ],
   "source": [
    "np.max(df) - np.min(df)\n",
    "np.ptp(data)"
   ]
  },
  {
   "cell_type": "code",
   "execution_count": 49,
   "id": "f8e78042",
   "metadata": {},
   "outputs": [
    {
     "data": {
      "text/plain": [
       "np.float64(19.5)"
      ]
     },
     "execution_count": 49,
     "metadata": {},
     "output_type": "execute_result"
    },
    {
     "data": {
      "text/plain": [
       "np.float64(19.5)"
      ]
     },
     "execution_count": 49,
     "metadata": {},
     "output_type": "execute_result"
    }
   ],
   "source": [
    "# Q3 ~ Q1\n",
    "np.quantile(df, 0.75) - np.quantile(df, 0.25)\n",
    "iqr(df)"
   ]
  },
  {
   "cell_type": "code",
   "execution_count": 50,
   "id": "d506384f",
   "metadata": {},
   "outputs": [
    {
     "data": {
      "text/plain": [
       "array([[  6.50877193],\n",
       "       [-14.49122807],\n",
       "       [ 10.50877193],\n",
       "       [ 10.50877193],\n",
       "       [  4.50877193],\n",
       "       [ -8.49122807],\n",
       "       [ 11.50877193],\n",
       "       [  6.50877193],\n",
       "       [-46.49122807],\n",
       "       [ 10.50877193],\n",
       "       [-28.49122807],\n",
       "       [ 10.50877193],\n",
       "       [ -1.49122807],\n",
       "       [ 18.50877193],\n",
       "       [ -0.49122807],\n",
       "       [-12.49122807],\n",
       "       [ -1.49122807],\n",
       "       [ 16.50877193],\n",
       "       [  0.50877193],\n",
       "       [ -1.49122807],\n",
       "       [ 11.50877193],\n",
       "       [  3.50877193],\n",
       "       [  0.50877193],\n",
       "       [ 20.50877193],\n",
       "       [ 23.50877193],\n",
       "       [  9.50877193],\n",
       "       [ -3.49122807],\n",
       "       [ 22.50877193],\n",
       "       [ 18.50877193],\n",
       "       [ 11.50877193],\n",
       "       [-17.49122807],\n",
       "       [  2.50877193],\n",
       "       [-10.49122807],\n",
       "       [ -1.49122807],\n",
       "       [  4.50877193],\n",
       "       [  2.50877193],\n",
       "       [ -6.49122807],\n",
       "       [ 19.50877193],\n",
       "       [-24.49122807],\n",
       "       [ 11.50877193],\n",
       "       [-27.49122807],\n",
       "       [  6.50877193],\n",
       "       [-12.49122807],\n",
       "       [ 13.50877193],\n",
       "       [  1.50877193],\n",
       "       [  4.50877193],\n",
       "       [-14.49122807],\n",
       "       [ -9.49122807],\n",
       "       [  3.50877193],\n",
       "       [  9.50877193],\n",
       "       [ 30.50877193],\n",
       "       [  3.50877193],\n",
       "       [ 15.50877193],\n",
       "       [-22.49122807],\n",
       "       [-19.49122807],\n",
       "       [ -4.49122807],\n",
       "       [-17.49122807],\n",
       "       [ 22.50877193],\n",
       "       [ -5.49122807],\n",
       "       [ 21.50877193],\n",
       "       [ 22.50877193],\n",
       "       [  1.50877193],\n",
       "       [  8.50877193],\n",
       "       [ -0.49122807],\n",
       "       [  8.50877193],\n",
       "       [  7.50877193],\n",
       "       [ -1.49122807],\n",
       "       [  8.50877193],\n",
       "       [ 26.50877193],\n",
       "       [ 11.50877193],\n",
       "       [  5.50877193],\n",
       "       [  2.50877193],\n",
       "       [-14.49122807],\n",
       "       [-14.49122807],\n",
       "       [  5.50877193],\n",
       "       [-20.49122807],\n",
       "       [-10.49122807],\n",
       "       [ 19.50877193],\n",
       "       [ 29.50877193],\n",
       "       [-24.49122807],\n",
       "       [ 24.50877193],\n",
       "       [ -2.49122807],\n",
       "       [  0.50877193],\n",
       "       [ -1.49122807],\n",
       "       [ 16.50877193],\n",
       "       [-23.49122807],\n",
       "       [  7.50877193],\n",
       "       [-13.49122807],\n",
       "       [  9.50877193],\n",
       "       [ 23.50877193],\n",
       "       [  0.50877193],\n",
       "       [  6.50877193],\n",
       "       [  6.50877193],\n",
       "       [-11.49122807],\n",
       "       [ 23.50877193],\n",
       "       [ 26.50877193],\n",
       "       [ 11.50877193],\n",
       "       [  1.50877193],\n",
       "       [ -6.49122807],\n",
       "       [ -8.49122807],\n",
       "       [ 26.50877193],\n",
       "       [ 21.50877193],\n",
       "       [ -0.49122807],\n",
       "       [-23.49122807],\n",
       "       [-41.49122807],\n",
       "       [-15.49122807],\n",
       "       [ -1.49122807],\n",
       "       [ 21.50877193],\n",
       "       [ -9.49122807],\n",
       "       [  8.50877193],\n",
       "       [ 20.50877193],\n",
       "       [  2.50877193],\n",
       "       [ -1.49122807],\n",
       "       [-19.49122807],\n",
       "       [-17.49122807],\n",
       "       [  6.50877193],\n",
       "       [ -2.49122807],\n",
       "       [  2.50877193],\n",
       "       [ -0.49122807],\n",
       "       [ 10.50877193],\n",
       "       [-11.49122807],\n",
       "       [ -4.49122807],\n",
       "       [ 28.50877193],\n",
       "       [-11.49122807],\n",
       "       [ -3.49122807],\n",
       "       [ -8.49122807],\n",
       "       [  7.50877193],\n",
       "       [ 15.50877193],\n",
       "       [ -6.49122807],\n",
       "       [ -5.49122807],\n",
       "       [ -3.49122807],\n",
       "       [  8.50877193],\n",
       "       [-10.49122807],\n",
       "       [ -5.49122807],\n",
       "       [-35.49122807],\n",
       "       [-20.49122807],\n",
       "       [ -1.49122807],\n",
       "       [ 13.50877193],\n",
       "       [  4.50877193],\n",
       "       [-15.49122807],\n",
       "       [-20.49122807],\n",
       "       [  3.50877193],\n",
       "       [-24.49122807],\n",
       "       [ 16.50877193],\n",
       "       [  1.50877193],\n",
       "       [-23.49122807],\n",
       "       [-13.49122807],\n",
       "       [-10.49122807],\n",
       "       [-11.49122807],\n",
       "       [-21.49122807],\n",
       "       [-12.49122807],\n",
       "       [ -9.49122807],\n",
       "       [-10.49122807],\n",
       "       [ 17.50877193],\n",
       "       [  2.50877193],\n",
       "       [-14.49122807],\n",
       "       [ -4.49122807],\n",
       "       [-12.49122807],\n",
       "       [ -4.49122807],\n",
       "       [ 13.50877193],\n",
       "       [  4.50877193],\n",
       "       [ 30.50877193],\n",
       "       [  6.50877193],\n",
       "       [-13.49122807],\n",
       "       [ 12.50877193],\n",
       "       [ 16.50877193],\n",
       "       [ 16.50877193],\n",
       "       [-15.49122807],\n",
       "       [ -1.49122807],\n",
       "       [ 17.50877193],\n",
       "       [-24.49122807],\n",
       "       [ -6.49122807],\n",
       "       [-20.49122807],\n",
       "       [-13.49122807],\n",
       "       [-14.49122807],\n",
       "       [ 19.50877193],\n",
       "       [ -3.49122807],\n",
       "       [-12.49122807],\n",
       "       [-15.49122807],\n",
       "       [  2.50877193],\n",
       "       [  0.50877193],\n",
       "       [ 20.50877193],\n",
       "       [  8.50877193],\n",
       "       [-20.49122807],\n",
       "       [ -8.49122807],\n",
       "       [ 16.50877193],\n",
       "       [ -8.49122807],\n",
       "       [ 26.50877193],\n",
       "       [-15.49122807],\n",
       "       [  9.50877193],\n",
       "       [-12.49122807],\n",
       "       [ -7.49122807],\n",
       "       [ 16.50877193],\n",
       "       [ -1.49122807],\n",
       "       [ 12.50877193],\n",
       "       [  7.50877193],\n",
       "       [ 11.50877193],\n",
       "       [-12.49122807],\n",
       "       [ -2.49122807],\n",
       "       [  6.50877193],\n",
       "       [-12.49122807],\n",
       "       [ 24.50877193],\n",
       "       [-11.49122807],\n",
       "       [ -4.49122807],\n",
       "       [-14.49122807],\n",
       "       [-31.49122807],\n",
       "       [ 27.50877193],\n",
       "       [ -2.49122807],\n",
       "       [ -6.49122807],\n",
       "       [ -2.49122807],\n",
       "       [ 21.50877193],\n",
       "       [-13.49122807],\n",
       "       [ 10.50877193],\n",
       "       [ -5.49122807],\n",
       "       [ -8.49122807],\n",
       "       [  9.50877193],\n",
       "       [ 15.50877193],\n",
       "       [ -7.49122807],\n",
       "       [-11.49122807],\n",
       "       [-17.49122807],\n",
       "       [ 17.50877193],\n",
       "       [ -8.49122807],\n",
       "       [-27.49122807],\n",
       "       [ 21.50877193],\n",
       "       [-20.49122807],\n",
       "       [ 12.50877193],\n",
       "       [  3.50877193],\n",
       "       [  4.50877193],\n",
       "       [ -8.49122807],\n",
       "       [  5.50877193],\n",
       "       [-24.49122807],\n",
       "       [  9.50877193],\n",
       "       [ 23.50877193],\n",
       "       [ 13.50877193],\n",
       "       [-29.49122807],\n",
       "       [-14.49122807],\n",
       "       [ -2.49122807],\n",
       "       [  7.50877193],\n",
       "       [ -1.49122807],\n",
       "       [ -6.49122807],\n",
       "       [  9.50877193],\n",
       "       [ 17.50877193],\n",
       "       [ -2.49122807],\n",
       "       [ 11.50877193],\n",
       "       [-38.49122807],\n",
       "       [-13.49122807],\n",
       "       [ -4.49122807],\n",
       "       [ -6.49122807],\n",
       "       [  5.50877193],\n",
       "       [ 15.50877193],\n",
       "       [  8.50877193],\n",
       "       [ -8.49122807],\n",
       "       [-22.49122807],\n",
       "       [  8.50877193],\n",
       "       [-27.49122807],\n",
       "       [ 10.50877193],\n",
       "       [ -2.49122807],\n",
       "       [-17.49122807],\n",
       "       [  4.50877193],\n",
       "       [  0.50877193],\n",
       "       [ -0.49122807],\n",
       "       [ -0.49122807],\n",
       "       [  6.50877193],\n",
       "       [ 14.50877193],\n",
       "       [  7.50877193],\n",
       "       [ 15.50877193],\n",
       "       [ -0.49122807],\n",
       "       [ 24.50877193],\n",
       "       [  9.50877193],\n",
       "       [ -7.49122807],\n",
       "       [-15.49122807],\n",
       "       [  3.50877193],\n",
       "       [-19.49122807],\n",
       "       [-14.49122807],\n",
       "       [  4.50877193],\n",
       "       [ -8.49122807],\n",
       "       [-13.49122807],\n",
       "       [ -0.49122807],\n",
       "       [  1.50877193],\n",
       "       [ -2.49122807],\n",
       "       [ -5.49122807],\n",
       "       [ 13.50877193],\n",
       "       [  5.50877193],\n",
       "       [ -2.49122807],\n",
       "       [ 30.50877193],\n",
       "       [  3.50877193],\n",
       "       [ 17.50877193],\n",
       "       [ -7.49122807],\n",
       "       [-19.49122807],\n",
       "       [-11.49122807],\n",
       "       [ -3.49122807],\n",
       "       [ -6.49122807],\n",
       "       [ 20.50877193],\n",
       "       [ -1.49122807],\n",
       "       [  7.50877193],\n",
       "       [ -0.49122807],\n",
       "       [ -6.49122807],\n",
       "       [  1.50877193],\n",
       "       [ 26.50877193],\n",
       "       [-11.49122807],\n",
       "       [ 12.50877193],\n",
       "       [-14.49122807],\n",
       "       [ -6.49122807],\n",
       "       [  0.50877193],\n",
       "       [  5.50877193],\n",
       "       [ 22.50877193],\n",
       "       [ -0.49122807],\n",
       "       [-12.49122807],\n",
       "       [ 10.50877193],\n",
       "       [ -4.49122807],\n",
       "       [  4.50877193],\n",
       "       [ -1.49122807],\n",
       "       [-28.49122807],\n",
       "       [  8.50877193],\n",
       "       [  9.50877193],\n",
       "       [ 14.50877193],\n",
       "       [ 27.50877193],\n",
       "       [-17.49122807],\n",
       "       [  8.50877193],\n",
       "       [  6.50877193],\n",
       "       [ -5.49122807],\n",
       "       [  6.50877193],\n",
       "       [  7.50877193],\n",
       "       [-17.49122807],\n",
       "       [  4.50877193],\n",
       "       [-13.49122807],\n",
       "       [ -9.49122807],\n",
       "       [-26.49122807],\n",
       "       [ -6.49122807],\n",
       "       [ -2.49122807],\n",
       "       [  8.50877193],\n",
       "       [  0.50877193],\n",
       "       [-22.49122807],\n",
       "       [ 13.50877193],\n",
       "       [ -1.49122807],\n",
       "       [  7.50877193],\n",
       "       [ 14.50877193],\n",
       "       [ 21.50877193],\n",
       "       [ 29.50877193],\n",
       "       [ -0.49122807],\n",
       "       [  5.50877193],\n",
       "       [-15.49122807],\n",
       "       [ 16.50877193],\n",
       "       [-17.49122807],\n",
       "       [-26.49122807],\n",
       "       [ 12.50877193],\n",
       "       [ -7.49122807],\n",
       "       [ 12.50877193],\n",
       "       [  6.50877193],\n",
       "       [-23.49122807],\n",
       "       [-40.49122807],\n",
       "       [-15.49122807],\n",
       "       [  0.50877193],\n",
       "       [-17.49122807],\n",
       "       [ -9.49122807],\n",
       "       [-21.49122807],\n",
       "       [  3.50877193],\n",
       "       [  1.50877193],\n",
       "       [ -6.49122807],\n",
       "       [ 21.50877193],\n",
       "       [ 22.50877193],\n",
       "       [  8.50877193],\n",
       "       [-26.49122807],\n",
       "       [-16.49122807],\n",
       "       [  6.50877193],\n",
       "       [ -8.49122807],\n",
       "       [ -6.49122807],\n",
       "       [ 13.50877193],\n",
       "       [  8.50877193],\n",
       "       [ 20.50877193],\n",
       "       [ -5.49122807],\n",
       "       [ 21.50877193],\n",
       "       [ -7.49122807],\n",
       "       [ 22.50877193],\n",
       "       [  2.50877193],\n",
       "       [-12.49122807],\n",
       "       [-23.49122807],\n",
       "       [ -4.49122807],\n",
       "       [ -3.49122807],\n",
       "       [ 13.50877193],\n",
       "       [ -1.49122807],\n",
       "       [ -5.49122807],\n",
       "       [ 16.50877193],\n",
       "       [ -2.49122807],\n",
       "       [ -8.49122807],\n",
       "       [  9.50877193],\n",
       "       [ -6.49122807],\n",
       "       [ 10.50877193],\n",
       "       [ -8.49122807],\n",
       "       [ -2.49122807],\n",
       "       [  2.50877193],\n",
       "       [ -5.49122807],\n",
       "       [  0.50877193],\n",
       "       [ 12.50877193],\n",
       "       [  6.50877193],\n",
       "       [  7.50877193],\n",
       "       [ -9.49122807],\n",
       "       [ 13.50877193],\n",
       "       [ 10.50877193],\n",
       "       [ 15.50877193]])"
      ]
     },
     "execution_count": 50,
     "metadata": {},
     "output_type": "execute_result"
    }
   ],
   "source": [
    "# 편차\n",
    "data - np.mean(df)"
   ]
  },
  {
   "cell_type": "code",
   "execution_count": 52,
   "id": "75724930",
   "metadata": {},
   "outputs": [
    {
     "data": {
      "text/plain": [
       "'%.5f'"
      ]
     },
     "execution_count": 52,
     "metadata": {},
     "output_type": "execute_result"
    },
    {
     "data": {
      "text/plain": [
       "0.00000"
      ]
     },
     "execution_count": 52,
     "metadata": {},
     "output_type": "execute_result"
    }
   ],
   "source": [
    "# 편차의 합 = 0\n",
    "%precision 5\n",
    "(df - np.mean(df)).sum()"
   ]
  },
  {
   "cell_type": "code",
   "execution_count": 53,
   "id": "ac9d7782",
   "metadata": {},
   "outputs": [
    {
     "data": {
      "text/plain": [
       "207.10482"
      ]
     },
     "execution_count": 53,
     "metadata": {},
     "output_type": "execute_result"
    },
    {
     "data": {
      "text/plain": [
       "206.58576"
      ]
     },
     "execution_count": 53,
     "metadata": {},
     "output_type": "execute_result"
    },
    {
     "data": {
      "text/plain": [
       "206.58576"
      ]
     },
     "execution_count": 53,
     "metadata": {},
     "output_type": "execute_result"
    },
    {
     "data": {
      "text/plain": [
       "206.58576"
      ]
     },
     "execution_count": 53,
     "metadata": {},
     "output_type": "execute_result"
    }
   ],
   "source": [
    "# 표본분산\n",
    "np.var(df, ddof=1)\n",
    "\n",
    "# 모분산\n",
    "np.var(df)\n",
    "np.array(df).var()\n",
    "pd.Series(df).var(ddof=0)"
   ]
  },
  {
   "cell_type": "code",
   "execution_count": 54,
   "id": "c664ee34",
   "metadata": {},
   "outputs": [
    {
     "data": {
      "text/plain": [
       "14.39114"
      ]
     },
     "execution_count": 54,
     "metadata": {},
     "output_type": "execute_result"
    },
    {
     "data": {
      "text/plain": [
       "14.37309"
      ]
     },
     "execution_count": 54,
     "metadata": {},
     "output_type": "execute_result"
    },
    {
     "data": {
      "text/plain": [
       "14.37309"
      ]
     },
     "execution_count": 54,
     "metadata": {},
     "output_type": "execute_result"
    },
    {
     "data": {
      "text/plain": [
       "14.37309"
      ]
     },
     "execution_count": 54,
     "metadata": {},
     "output_type": "execute_result"
    }
   ],
   "source": [
    "# 표준편차\n",
    "np.std(df, ddof=1)\n",
    "\n",
    "np.std(df)\n",
    "np.array(df).std()\n",
    "pd.Series(df).std(ddof=0)"
   ]
  },
  {
   "cell_type": "code",
   "execution_count": 57,
   "id": "84d6fd1d",
   "metadata": {},
   "outputs": [
    {
     "data": {
      "text/plain": [
       "<Axes: >"
      ]
     },
     "execution_count": 57,
     "metadata": {},
     "output_type": "execute_result"
    },
    {
     "data": {
      "image/png": "[encoded data removed]",
      "text/plain": [
       "<Figure size 640x480 with 1 Axes>"
      ]
     },
     "metadata": {},
     "output_type": "display_data"
    }
   ],
   "source": [
    "pd.Series(df).value_counts(sort=False).plot(kind=\"bar\")"
   ]
  },
  {
   "cell_type": "code",
   "execution_count": null,
   "id": "1cfcaa91",
   "metadata": {},
   "outputs": [
    {
     "data": {
      "text/plain": [
       "-0.19236"
      ]
     },
     "execution_count": 58,
     "metadata": {},
     "output_type": "execute_result"
    }
   ],
   "source": [
    "# 정규분포 기준의 차이값\n",
    "skew(df)"
   ]
  },
  {
   "cell_type": "code",
   "execution_count": 59,
   "id": "02125d42",
   "metadata": {},
   "outputs": [
    {
     "data": {
      "text/plain": [
       "-0.22708"
      ]
     },
     "execution_count": 59,
     "metadata": {},
     "output_type": "execute_result"
    }
   ],
   "source": [
    "# 첨도\n",
    "kurtosis(df)"
   ]
  },
  {
   "cell_type": "code",
   "execution_count": 60,
   "id": "5bfafec0",
   "metadata": {},
   "outputs": [
    {
     "data": {
      "text/plain": [
       "array([  0,   0,   3,   3,  30,  63, 102,  98,  61,  39])"
      ]
     },
     "execution_count": 60,
     "metadata": {},
     "output_type": "execute_result"
    }
   ],
   "source": [
    "freq, _ = np.histogram(df, bins=10, range=(0, 100))\n",
    "freq"
   ]
  },
  {
   "cell_type": "code",
   "execution_count": 61,
   "id": "d35ab98f",
   "metadata": {},
   "outputs": [
    {
     "data": {
      "text/html": [
       "<div>\n",
       "<style scoped>\n",
       "    .dataframe tbody tr th:only-of-type {\n",
       "        vertical-align: middle;\n",
       "    }\n",
       "\n",
       "    .dataframe tbody tr th {\n",
       "        vertical-align: top;\n",
       "    }\n",
       "\n",
       "    .dataframe thead th {\n",
       "        text-align: right;\n",
       "    }\n",
       "</style>\n",
       "<table border=\"1\" class=\"dataframe\">\n",
       "  <thead>\n",
       "    <tr style=\"text-align: right;\">\n",
       "      <th></th>\n",
       "      <th>frequency</th>\n",
       "    </tr>\n",
       "  </thead>\n",
       "  <tbody>\n",
       "    <tr>\n",
       "      <th>0 ~ 10</th>\n",
       "      <td>0</td>\n",
       "    </tr>\n",
       "    <tr>\n",
       "      <th>10 ~ 20</th>\n",
       "      <td>0</td>\n",
       "    </tr>\n",
       "    <tr>\n",
       "      <th>20 ~ 30</th>\n",
       "      <td>3</td>\n",
       "    </tr>\n",
       "    <tr>\n",
       "      <th>30 ~ 40</th>\n",
       "      <td>3</td>\n",
       "    </tr>\n",
       "    <tr>\n",
       "      <th>40 ~ 50</th>\n",
       "      <td>30</td>\n",
       "    </tr>\n",
       "    <tr>\n",
       "      <th>50 ~ 60</th>\n",
       "      <td>63</td>\n",
       "    </tr>\n",
       "    <tr>\n",
       "      <th>60 ~ 70</th>\n",
       "      <td>102</td>\n",
       "    </tr>\n",
       "    <tr>\n",
       "      <th>70 ~ 80</th>\n",
       "      <td>98</td>\n",
       "    </tr>\n",
       "    <tr>\n",
       "      <th>80 ~ 90</th>\n",
       "      <td>61</td>\n",
       "    </tr>\n",
       "    <tr>\n",
       "      <th>90 ~ 100</th>\n",
       "      <td>39</td>\n",
       "    </tr>\n",
       "  </tbody>\n",
       "</table>\n",
       "</div>"
      ],
      "text/plain": [
       "          frequency\n",
       "0 ~ 10            0\n",
       "10 ~ 20           0\n",
       "20 ~ 30           3\n",
       "30 ~ 40           3\n",
       "40 ~ 50          30\n",
       "50 ~ 60          63\n",
       "60 ~ 70         102\n",
       "70 ~ 80          98\n",
       "80 ~ 90          61\n",
       "90 ~ 100         39"
      ]
     },
     "execution_count": 61,
     "metadata": {},
     "output_type": "execute_result"
    }
   ],
   "source": [
    "freq_class = [f\"{i} ~ {i  + 10}\" for i in range(0, 100, 10)]\n",
    "freq_dist_df = pd.DataFrame({\"frequency\" : freq}, index=freq_class)\n",
    "freq_dist_df"
   ]
  },
  {
   "cell_type": "code",
   "execution_count": 62,
   "id": "e6e1cf98",
   "metadata": {},
   "outputs": [
    {
     "data": {
      "text/plain": [
       "array([0.     , 0.     , 0.00752, 0.00752, 0.07519, 0.15789, 0.25564,\n",
       "       0.24561, 0.15288, 0.09774])"
      ]
     },
     "execution_count": 62,
     "metadata": {},
     "output_type": "execute_result"
    }
   ],
   "source": [
    "# 상대 도수\n",
    "rel_freq = freq / freq.sum()\n",
    "rel_freq"
   ]
  },
  {
   "cell_type": "code",
   "execution_count": 63,
   "id": "95307dc4",
   "metadata": {},
   "outputs": [
    {
     "data": {
      "text/plain": [
       "array([0.     , 0.     , 0.00752, 0.01504, 0.09023, 0.24812, 0.50376,\n",
       "       0.74937, 0.90226, 1.     ])"
      ]
     },
     "execution_count": 63,
     "metadata": {},
     "output_type": "execute_result"
    }
   ],
   "source": [
    "# 누적 상대 도수\n",
    "cum_rel_freq = np.cumsum(rel_freq)\n",
    "cum_rel_freq"
   ]
  },
  {
   "cell_type": "code",
   "execution_count": 65,
   "id": "5f2b0b56",
   "metadata": {},
   "outputs": [
    {
     "data": {
      "text/plain": [
       "(array([ 0.,  0.,  0.,  0.,  0.,  1.,  0.,  3.,  1.,  1.,  9., 13., 12.,\n",
       "        28., 31., 39., 36., 44., 34., 47., 34., 22., 18., 13., 13.]),\n",
       " array([  0.,   4.,   8.,  12.,  16.,  20.,  24.,  28.,  32.,  36.,  40.,\n",
       "         44.,  48.,  52.,  56.,  60.,  64.,  68.,  72.,  76.,  80.,  84.,\n",
       "         88.,  92.,  96., 100.]),\n",
       " <BarContainer object of 25 artists>)"
      ]
     },
     "execution_count": 65,
     "metadata": {},
     "output_type": "execute_result"
    },
    {
     "data": {
      "image/png": "[encoded data removed]",
      "text/plain": [
       "<Figure size 640x480 with 1 Axes>"
      ]
     },
     "metadata": {},
     "output_type": "display_data"
    }
   ],
   "source": [
    "plt.hist(df, bins=25, range=(0, 100))"
   ]
  },
  {
   "cell_type": "code",
   "execution_count": 66,
   "id": "df6ecda5",
   "metadata": {},
   "outputs": [
    {
     "data": {
      "text/plain": [
       "(array([  0.,   0.,   3.,   3.,  30.,  63., 102.,  98.,  61.,  39.]),\n",
       " array([  0.,  10.,  20.,  30.,  40.,  50.,  60.,  70.,  80.,  90., 100.]),\n",
       " <BarContainer object of 10 artists>)"
      ]
     },
     "execution_count": 66,
     "metadata": {},
     "output_type": "execute_result"
    },
    {
     "data": {
      "image/png": "[encoded data removed]",
      "text/plain": [
       "<Figure size 640x480 with 1 Axes>"
      ]
     },
     "metadata": {},
     "output_type": "display_data"
    }
   ],
   "source": [
    "plt.hist(df, bins=10, range=(0, 100))"
   ]
  },
  {
   "cell_type": "code",
   "execution_count": 68,
   "id": "027d61e2",
   "metadata": {},
   "outputs": [
    {
     "data": {
      "text/plain": [
       "(array([ 0.,  0.,  0.,  0.,  0.,  0.,  0.,  0.,  0.,  0.,  0.,  1.,  0.,\n",
       "         0.,  2.,  1.,  0.,  1.,  0.,  1.,  3.,  6.,  5.,  8.,  8.,  4.,\n",
       "        10., 18., 18., 13., 19., 20., 17., 19., 27., 17., 17., 17., 24.,\n",
       "        23., 18., 16.,  8., 14.,  5., 13., 10.,  3.,  7.,  6.]),\n",
       " array([  0.,   2.,   4.,   6.,   8.,  10.,  12.,  14.,  16.,  18.,  20.,\n",
       "         22.,  24.,  26.,  28.,  30.,  32.,  34.,  36.,  38.,  40.,  42.,\n",
       "         44.,  46.,  48.,  50.,  52.,  54.,  56.,  58.,  60.,  62.,  64.,\n",
       "         66.,  68.,  70.,  72.,  74.,  76.,  78.,  80.,  82.,  84.,  86.,\n",
       "         88.,  90.,  92.,  94.,  96.,  98., 100.]),\n",
       " <BarContainer object of 50 artists>)"
      ]
     },
     "execution_count": 68,
     "metadata": {},
     "output_type": "execute_result"
    },
    {
     "data": {
      "image/png": "[encoded data removed]",
      "text/plain": [
       "<Figure size 640x480 with 1 Axes>"
      ]
     },
     "metadata": {},
     "output_type": "display_data"
    }
   ],
   "source": [
    "plt.hist(df, bins=50, range=(0, 100))"
   ]
  },
  {
   "cell_type": "code",
   "execution_count": 69,
   "id": "c8175213",
   "metadata": {},
   "outputs": [
    {
     "data": {
      "text/plain": [
       "{'whiskers': [<matplotlib.lines.Line2D at 0x1c5ea58a950>,\n",
       "  <matplotlib.lines.Line2D at 0x1c5ea58a010>],\n",
       " 'caps': [<matplotlib.lines.Line2D at 0x1c5ea589490>,\n",
       "  <matplotlib.lines.Line2D at 0x1c5ea588ad0>],\n",
       " 'boxes': [<matplotlib.lines.Line2D at 0x1c5ea58b150>],\n",
       " 'medians': [<matplotlib.lines.Line2D at 0x1c5ea57b290>],\n",
       " 'fliers': [<matplotlib.lines.Line2D at 0x1c5ea5799d0>],\n",
       " 'means': []}"
      ]
     },
     "execution_count": 69,
     "metadata": {},
     "output_type": "execute_result"
    },
    {
     "data": {
      "image/png": "[encoded data removed]",
      "text/plain": [
       "<Figure size 640x480 with 1 Axes>"
      ]
     },
     "metadata": {},
     "output_type": "display_data"
    }
   ],
   "source": [
    "plt.boxplot(df, label=[\"score\"])"
   ]
  },
  {
   "cell_type": "code",
   "execution_count": null,
   "id": "8af05d46",
   "metadata": {},
   "outputs": [],
   "source": []
  }
 ],
 "metadata": {
  "kernelspec": {
   "display_name": "multi02",
   "language": "python",
   "name": "python3"
  },
  "language_info": {
   "codemirror_mode": {
    "name": "ipython",
    "version": 3
   },
   "file_extension": ".py",
   "mimetype": "text/x-python",
   "name": "python",
   "nbconvert_exporter": "python",
   "pygments_lexer": "ipython3",
   "version": "3.11.13"
  }
 },
 "nbformat": 4,
 "nbformat_minor": 5
}
